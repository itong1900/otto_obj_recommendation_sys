{
 "cells": [
  {
   "cell_type": "code",
   "execution_count": 1,
   "metadata": {},
   "outputs": [],
   "source": [
    "import numpy as np\n",
    "import pandas as pd"
   ]
  },
  {
   "cell_type": "code",
   "execution_count": 24,
   "metadata": {},
   "outputs": [],
   "source": [
    "cart_sub = pd.read_csv(\"../../latest_sub_high583/best_so_far/cart_zuihouyiji_V2.csv\")"
   ]
  },
  {
   "cell_type": "code",
   "execution_count": 25,
   "metadata": {},
   "outputs": [],
   "source": [
    "order_sub = pd.read_csv(\"../../latest_sub_high583/best_so_far/order_zuihouyiji.csv\")"
   ]
  },
  {
   "cell_type": "code",
   "execution_count": 26,
   "metadata": {},
   "outputs": [],
   "source": [
    "clicks_sub = pd.read_csv(\"../../latest_sub_high583/best_so_far/clicks_answer_mon_morning.csv\")"
   ]
  },
  {
   "cell_type": "markdown",
   "metadata": {},
   "source": []
  },
  {
   "cell_type": "code",
   "execution_count": 27,
   "metadata": {},
   "outputs": [
    {
     "data": {
      "text/html": [
       "<div>\n",
       "<style scoped>\n",
       "    .dataframe tbody tr th:only-of-type {\n",
       "        vertical-align: middle;\n",
       "    }\n",
       "\n",
       "    .dataframe tbody tr th {\n",
       "        vertical-align: top;\n",
       "    }\n",
       "\n",
       "    .dataframe thead th {\n",
       "        text-align: right;\n",
       "    }\n",
       "</style>\n",
       "<table border=\"1\" class=\"dataframe\">\n",
       "  <thead>\n",
       "    <tr style=\"text-align: right;\">\n",
       "      <th></th>\n",
       "      <th>session_type</th>\n",
       "      <th>labels</th>\n",
       "    </tr>\n",
       "  </thead>\n",
       "  <tbody>\n",
       "    <tr>\n",
       "      <th>0</th>\n",
       "      <td>12899779_clicks</td>\n",
       "      <td>59625 469285 737445 1660529 1253524 1340695 94...</td>\n",
       "    </tr>\n",
       "    <tr>\n",
       "      <th>1</th>\n",
       "      <td>12899780_clicks</td>\n",
       "      <td>1142000 736515 973453 582732 487136 1502122 88...</td>\n",
       "    </tr>\n",
       "    <tr>\n",
       "      <th>2</th>\n",
       "      <td>12899781_clicks</td>\n",
       "      <td>199008 918667 194067 57315 811084 3542 950718 ...</td>\n",
       "    </tr>\n",
       "    <tr>\n",
       "      <th>3</th>\n",
       "      <td>12899782_clicks</td>\n",
       "      <td>834354 889671 740494 987399 595994 779477 4760...</td>\n",
       "    </tr>\n",
       "    <tr>\n",
       "      <th>4</th>\n",
       "      <td>12899783_clicks</td>\n",
       "      <td>1817895 300127 607638 1754419 1216820 1729553 ...</td>\n",
       "    </tr>\n",
       "    <tr>\n",
       "      <th>...</th>\n",
       "      <td>...</td>\n",
       "      <td>...</td>\n",
       "    </tr>\n",
       "    <tr>\n",
       "      <th>5015404</th>\n",
       "      <td>14571577_orders</td>\n",
       "      <td>1141710 86916 367734 1276792 1666114 631085 13...</td>\n",
       "    </tr>\n",
       "    <tr>\n",
       "      <th>5015405</th>\n",
       "      <td>14571578_orders</td>\n",
       "      <td>519105 977826 815460 1811714 822641 735459 167...</td>\n",
       "    </tr>\n",
       "    <tr>\n",
       "      <th>5015406</th>\n",
       "      <td>14571579_orders</td>\n",
       "      <td>739876 1209992 1550479 1750859 785544 770418 7...</td>\n",
       "    </tr>\n",
       "    <tr>\n",
       "      <th>5015407</th>\n",
       "      <td>14571580_orders</td>\n",
       "      <td>202353 1314576 433425 679257 925638 888228 168...</td>\n",
       "    </tr>\n",
       "    <tr>\n",
       "      <th>5015408</th>\n",
       "      <td>14571581_orders</td>\n",
       "      <td>1100210 1684953 462056 1158237 1401429 622489 ...</td>\n",
       "    </tr>\n",
       "  </tbody>\n",
       "</table>\n",
       "<p>5015409 rows × 2 columns</p>\n",
       "</div>"
      ],
      "text/plain": [
       "            session_type                                             labels\n",
       "0        12899779_clicks  59625 469285 737445 1660529 1253524 1340695 94...\n",
       "1        12899780_clicks  1142000 736515 973453 582732 487136 1502122 88...\n",
       "2        12899781_clicks  199008 918667 194067 57315 811084 3542 950718 ...\n",
       "3        12899782_clicks  834354 889671 740494 987399 595994 779477 4760...\n",
       "4        12899783_clicks  1817895 300127 607638 1754419 1216820 1729553 ...\n",
       "...                  ...                                                ...\n",
       "5015404  14571577_orders  1141710 86916 367734 1276792 1666114 631085 13...\n",
       "5015405  14571578_orders  519105 977826 815460 1811714 822641 735459 167...\n",
       "5015406  14571579_orders  739876 1209992 1550479 1750859 785544 770418 7...\n",
       "5015407  14571580_orders  202353 1314576 433425 679257 925638 888228 168...\n",
       "5015408  14571581_orders  1100210 1684953 462056 1158237 1401429 622489 ...\n",
       "\n",
       "[5015409 rows x 2 columns]"
      ]
     },
     "execution_count": 27,
     "metadata": {},
     "output_type": "execute_result"
    }
   ],
   "source": [
    "final_sub = pd.concat([clicks_sub, cart_sub, order_sub]).reset_index(drop=True)\n",
    "final_sub"
   ]
  },
  {
   "cell_type": "code",
   "execution_count": 28,
   "metadata": {},
   "outputs": [],
   "source": [
    "final_sub.to_csv('../../latest_sub_high583/best_so_far/zuihouyiji_V3.csv', index = False)"
   ]
  },
  {
   "cell_type": "code",
   "execution_count": null,
   "metadata": {},
   "outputs": [],
   "source": []
  }
 ],
 "metadata": {
  "kernelspec": {
   "display_name": "base",
   "language": "python",
   "name": "python3"
  },
  "language_info": {
   "codemirror_mode": {
    "name": "ipython",
    "version": 3
   },
   "file_extension": ".py",
   "mimetype": "text/x-python",
   "name": "python",
   "nbconvert_exporter": "python",
   "pygments_lexer": "ipython3",
   "version": "3.8.3"
  },
  "orig_nbformat": 4,
  "vscode": {
   "interpreter": {
    "hash": "ff58dbd0ec383761c792d0b6d4f0a9690d9c9b1bec648659fb440990235d5b98"
   }
  }
 },
 "nbformat": 4,
 "nbformat_minor": 2
}
