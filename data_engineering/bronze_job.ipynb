{
 "cells": [
  {
   "cell_type": "code",
   "execution_count": 3,
   "metadata": {},
   "outputs": [
    {
     "name": "stdout",
     "output_type": "stream",
     "text": [
      "Collecting pyspark\n",
      "  Downloading pyspark-3.3.1.tar.gz (281.4 MB)\n",
      "\u001b[K     |████████████████████████████████| 281.4 MB 43.3 MB/s eta 0:00:01\n",
      "\u001b[?25hCollecting py4j==0.10.9.5\n",
      "  Downloading py4j-0.10.9.5-py2.py3-none-any.whl (199 kB)\n",
      "\u001b[K     |████████████████████████████████| 199 kB 39.9 MB/s eta 0:00:01\n",
      "\u001b[?25hBuilding wheels for collected packages: pyspark\n",
      "  Building wheel for pyspark (setup.py) ... \u001b[?25ldone\n",
      "\u001b[?25h  Created wheel for pyspark: filename=pyspark-3.3.1-py2.py3-none-any.whl size=281845515 sha256=6fc5aaddb091ceecd84f5c798d3f1bf06e2e1ce75d9ae8a1d9f9a44bb764a2d0\n",
      "  Stored in directory: /Users/itong1900/Library/Caches/pip/wheels/43/dc/11/ec201cd671da62fa9c5cc77078235e40722170ceba231d7598\n",
      "Successfully built pyspark\n",
      "Installing collected packages: py4j, pyspark\n",
      "Successfully installed py4j-0.10.9.5 pyspark-3.3.1\n"
     ]
    }
   ],
   "source": [
    "!pip install pyspark"
   ]
  },
  {
   "cell_type": "code",
   "execution_count": 4,
   "metadata": {},
   "outputs": [],
   "source": [
    "import pyspark\n",
    "from pyspark import SparkContext, SparkConf\n",
    "from pyspark.sql import SparkSession\n",
    "from pyspark.sql.functions import *\n",
    "from pyspark.sql.window import *"
   ]
  },
  {
   "cell_type": "code",
   "execution_count": 5,
   "metadata": {},
   "outputs": [
    {
     "name": "stdout",
     "output_type": "stream",
     "text": [
      "CPU times: user 14.5 ms, sys: 18.5 ms, total: 33 ms\n",
      "Wall time: 6.69 s\n"
     ]
    }
   ],
   "source": [
    "%%time\n",
    "spark = SparkSession.builder.appName(\"ottoDB\").getOrCreate()"
   ]
  },
  {
   "cell_type": "code",
   "execution_count": 60,
   "metadata": {},
   "outputs": [
    {
     "name": "stdout",
     "output_type": "stream",
     "text": [
      "CPU times: user 4.03 ms, sys: 4.56 ms, total: 8.59 ms\n",
      "Wall time: 19.1 s\n"
     ]
    }
   ],
   "source": [
    "%%time\n",
    "trainDf = spark.read.json(\"../../train.jsonl\",lineSep='\\n')\n",
    "testDf = spark.read.json(\"../../test.jsonl\",lineSep='\\n')"
   ]
  },
  {
   "cell_type": "code",
   "execution_count": 10,
   "metadata": {},
   "outputs": [
    {
     "name": "stdout",
     "output_type": "stream",
     "text": [
      "root\n",
      " |-- events: array (nullable = true)\n",
      " |    |-- element: struct (containsNull = true)\n",
      " |    |    |-- aid: long (nullable = true)\n",
      " |    |    |-- ts: long (nullable = true)\n",
      " |    |    |-- type: string (nullable = true)\n",
      " |-- session: long (nullable = true)\n",
      "\n"
     ]
    }
   ],
   "source": [
    "trainDf.printSchema()"
   ]
  },
  {
   "cell_type": "code",
   "execution_count": 41,
   "metadata": {},
   "outputs": [],
   "source": [
    "def convert_type_num(arr):\n",
    "    return [0 if i == \"clicks\" else (1 if i == \"carts\" else 2) for i in arr]\n",
    "convert_type_num_udf = udf(lambda row: convert_type_num(row))"
   ]
  },
  {
   "cell_type": "code",
   "execution_count": 61,
   "metadata": {},
   "outputs": [],
   "source": [
    "testDf_transformed = testDf.withColumn(\"total_action\", size(col(\"events\")))\\\n",
    "                          .withColumn(\"aids\", col(\"events.aid\"))\\\n",
    "                          .withColumn(\"ts\", col(\"events.ts\"))\\\n",
    "                          .withColumn(\"type\", convert_type_num_udf(col(\"events.type\")))\\\n",
    "                          .select(\"session\", \"total_action\", \"aids\", \"ts\", \"type\")  \n",
    "\n",
    "trainDf_transformed = trainDf.withColumn(\"total_action\", size(col(\"events\")))\\\n",
    "                          .withColumn(\"aids\", col(\"events.aid\"))\\\n",
    "                          .withColumn(\"ts\", col(\"events.ts\"))\\\n",
    "                          .withColumn(\"type\", convert_type_num_udf(col(\"events.type\")))\\\n",
    "                          .select(\"session\", \"total_action\", \"aids\", \"ts\", \"type\")  "
   ]
  },
  {
   "cell_type": "code",
   "execution_count": 62,
   "metadata": {},
   "outputs": [
    {
     "name": "stdout",
     "output_type": "stream",
     "text": [
      "+-------+------------+--------------------+--------------------+--------------------+\n",
      "|session|total_action|                aids|                  ts|                type|\n",
      "+-------+------------+--------------------+--------------------+--------------------+\n",
      "|      0|         276|[1517085, 1563459...|[1659304800025, 1...|[0, 0, 0, 0, 0, 0...|\n",
      "|      1|          32|[424964, 1492293,...|[1659304800025, 1...|[1, 0, 1, 0, 1, 0...|\n",
      "|      2|          33|[763743, 137492, ...|[1659304800038, 1...|[0, 0, 0, 0, 0, 0...|\n",
      "|      3|         226|[1425967, 1425967...|[1659304800095, 1...|[1, 0, 0, 0, 1, 0...|\n",
      "|      4|          19|[613619, 298827, ...|[1659304800119, 1...|[0, 0, 2, 0, 0, 0...|\n",
      "+-------+------------+--------------------+--------------------+--------------------+\n",
      "only showing top 5 rows\n",
      "\n"
     ]
    }
   ],
   "source": [
    "trainDf_transformed.show(5)"
   ]
  },
  {
   "cell_type": "code",
   "execution_count": 63,
   "metadata": {},
   "outputs": [
    {
     "name": "stdout",
     "output_type": "stream",
     "text": [
      "CPU times: user 1.42 ms, sys: 1.28 ms, total: 2.7 ms\n",
      "Wall time: 8.62 s\n"
     ]
    },
    {
     "data": {
      "text/plain": [
       "12899779"
      ]
     },
     "execution_count": 63,
     "metadata": {},
     "output_type": "execute_result"
    }
   ],
   "source": [
    "%%time\n",
    "trainDf_transformed.count()"
   ]
  },
  {
   "cell_type": "code",
   "execution_count": 64,
   "metadata": {},
   "outputs": [
    {
     "name": "stdout",
     "output_type": "stream",
     "text": [
      "CPU times: user 609 µs, sys: 985 µs, total: 1.59 ms\n",
      "Wall time: 704 ms\n"
     ]
    },
    {
     "data": {
      "text/plain": [
       "1671803"
      ]
     },
     "execution_count": 64,
     "metadata": {},
     "output_type": "execute_result"
    }
   ],
   "source": [
    "%%time\n",
    "testDf_transformed.count()"
   ]
  },
  {
   "cell_type": "code",
   "execution_count": null,
   "metadata": {},
   "outputs": [],
   "source": [
    "trainDf_transformed.coalesce(1).write.format(\"parquet\").save(\"../../data/train.parquet\")"
   ]
  },
  {
   "cell_type": "code",
   "execution_count": 66,
   "metadata": {},
   "outputs": [],
   "source": [
    "testDf_transformed.coalesce(1).write.format(\"parquet\").save(\"../../data/test.parquet\")"
   ]
  },
  {
   "cell_type": "code",
   "execution_count": null,
   "metadata": {},
   "outputs": [],
   "source": []
  },
  {
   "cell_type": "markdown",
   "metadata": {},
   "source": []
  }
 ],
 "metadata": {
  "kernelspec": {
   "display_name": "base",
   "language": "python",
   "name": "python3"
  },
  "language_info": {
   "codemirror_mode": {
    "name": "ipython",
    "version": 3
   },
   "file_extension": ".py",
   "mimetype": "text/x-python",
   "name": "python",
   "nbconvert_exporter": "python",
   "pygments_lexer": "ipython3",
   "version": "3.8.3"
  },
  "orig_nbformat": 4,
  "vscode": {
   "interpreter": {
    "hash": "ff58dbd0ec383761c792d0b6d4f0a9690d9c9b1bec648659fb440990235d5b98"
   }
  }
 },
 "nbformat": 4,
 "nbformat_minor": 2
}
