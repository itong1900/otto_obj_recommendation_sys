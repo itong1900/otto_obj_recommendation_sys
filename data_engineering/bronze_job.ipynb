{
 "cells": [
  {
   "cell_type": "code",
   "execution_count": 3,
   "metadata": {},
   "outputs": [
    {
     "name": "stdout",
     "output_type": "stream",
     "text": [
      "Collecting pyspark\n",
      "  Downloading pyspark-3.3.1.tar.gz (281.4 MB)\n",
      "\u001b[K     |████████████████████████████████| 281.4 MB 43.3 MB/s eta 0:00:01\n",
      "\u001b[?25hCollecting py4j==0.10.9.5\n",
      "  Downloading py4j-0.10.9.5-py2.py3-none-any.whl (199 kB)\n",
      "\u001b[K     |████████████████████████████████| 199 kB 39.9 MB/s eta 0:00:01\n",
      "\u001b[?25hBuilding wheels for collected packages: pyspark\n",
      "  Building wheel for pyspark (setup.py) ... \u001b[?25ldone\n",
      "\u001b[?25h  Created wheel for pyspark: filename=pyspark-3.3.1-py2.py3-none-any.whl size=281845515 sha256=6fc5aaddb091ceecd84f5c798d3f1bf06e2e1ce75d9ae8a1d9f9a44bb764a2d0\n",
      "  Stored in directory: /Users/itong1900/Library/Caches/pip/wheels/43/dc/11/ec201cd671da62fa9c5cc77078235e40722170ceba231d7598\n",
      "Successfully built pyspark\n",
      "Installing collected packages: py4j, pyspark\n",
      "Successfully installed py4j-0.10.9.5 pyspark-3.3.1\n"
     ]
    }
   ],
   "source": [
    "!pip install pyspark"
   ]
  },
  {
   "cell_type": "code",
   "execution_count": 1,
   "metadata": {},
   "outputs": [],
   "source": [
    "import pyspark\n",
    "from pyspark import SparkContext, SparkConf\n",
    "from pyspark.sql import SparkSession\n",
    "from pyspark.sql.functions import *\n",
    "from pyspark.sql.window import *\n",
    "from pyspark.sql.types import ArrayType, FloatType"
   ]
  },
  {
   "cell_type": "code",
   "execution_count": 2,
   "metadata": {},
   "outputs": [
    {
     "name": "stdout",
     "output_type": "stream",
     "text": [
      "CPU times: user 13.9 ms, sys: 16.1 ms, total: 30 ms\n",
      "Wall time: 4.91 s\n"
     ]
    }
   ],
   "source": [
    "%%time\n",
    "spark = SparkSession.builder.appName(\"ottoDB\").getOrCreate()"
   ]
  },
  {
   "cell_type": "code",
   "execution_count": 8,
   "metadata": {},
   "outputs": [
    {
     "data": {
      "text/plain": [
       "'/Users/itong1900/otto_kaggle/otto_obj_recommendation_sys/data_engineering'"
      ]
     },
     "execution_count": 8,
     "metadata": {},
     "output_type": "execute_result"
    }
   ],
   "source": [
    "# import os\n",
    "# path = \"~/otto_kaggle/otto_obj_recommendation_sys/data_engineering/\"\n",
    "# os.getcwd()\n",
    "# #os.chdir(path)"
   ]
  },
  {
   "cell_type": "code",
   "execution_count": 3,
   "metadata": {},
   "outputs": [
    {
     "name": "stdout",
     "output_type": "stream",
     "text": [
      "CPU times: user 6.27 ms, sys: 4.35 ms, total: 10.6 ms\n",
      "Wall time: 29.2 s\n"
     ]
    }
   ],
   "source": [
    "%%time\n",
    "trainDf = spark.read.json(\"../../train.jsonl\",lineSep='\\n')\n",
    "testDf = spark.read.json(\"../../test.jsonl\",lineSep='\\n')"
   ]
  },
  {
   "cell_type": "code",
   "execution_count": 54,
   "metadata": {},
   "outputs": [
    {
     "name": "stdout",
     "output_type": "stream",
     "text": [
      "root\n",
      " |-- events: array (nullable = true)\n",
      " |    |-- element: struct (containsNull = true)\n",
      " |    |    |-- aid: long (nullable = true)\n",
      " |    |    |-- ts: long (nullable = true)\n",
      " |    |    |-- type: string (nullable = true)\n",
      " |-- session: long (nullable = true)\n",
      "\n"
     ]
    }
   ],
   "source": [
    "trainDf.printSchema()"
   ]
  },
  {
   "cell_type": "code",
   "execution_count": 4,
   "metadata": {},
   "outputs": [],
   "source": [
    "## some utils\n",
    "def convert_type_num(arr):\n",
    "    return [0 if i == \"clicks\" else (1 if i == \"carts\" else 2) for i in arr]\n",
    "convert_type_num_udf = udf(lambda row: convert_type_num(row))\n",
    "\n",
    "def convert_ts_second_num(arr):\n",
    "    return [i/1000 for i in arr]\n",
    "convert_ts_seconds_udf = udf(lambda row:  convert_ts_second_num(row), ArrayType(FloatType()))"
   ]
  },
  {
   "cell_type": "code",
   "execution_count": 5,
   "metadata": {},
   "outputs": [],
   "source": [
    "trainDf_transformed = trainDf.withColumn(\"total_action\", size(col(\"events\")))\\\n",
    "                             .withColumn(\"aids\", col(\"events.aid\"))\\\n",
    "                             .withColumn(\"ts_seconds\", convert_ts_seconds_udf(col(\"events.ts\")) )\\\n",
    "                             .withColumn(\"action_types\", convert_type_num_udf(col(\"events.type\")))\\\n",
    "                             .withColumn(\"session_start_time\", col(\"ts_seconds\").getItem(0))\\\n",
    "                             .withColumn(\"session_end_time\",element_at(col('ts_seconds'), -1))\\\n",
    "                             .select(\"session\", \"total_action\", \"session_start_time\", \"session_end_time\", \"aids\", \"ts_seconds\", \"action_types\")\n",
    "                             \n",
    "\n",
    "testDf_transformed = testDf.withColumn(\"total_action\", size(col(\"events\")))\\\n",
    "                          .withColumn(\"aids\", col(\"events.aid\"))\\\n",
    "                          .withColumn(\"ts_seconds\", convert_ts_seconds_udf(col(\"events.ts\")) )\\\n",
    "                          .withColumn(\"action_types\", convert_type_num_udf(col(\"events.type\")))\\\n",
    "                          .withColumn(\"session_start_time\", col(\"ts_seconds\").getItem(0))\\\n",
    "                          .withColumn(\"session_end_time\",element_at(col('ts_seconds'), -1))\\\n",
    "                          .select(\"session\", \"total_action\", \"session_start_time\", \"session_end_time\", \"aids\", \"ts_seconds\", \"action_types\")"
   ]
  },
  {
   "cell_type": "code",
   "execution_count": 54,
   "metadata": {},
   "outputs": [
    {
     "data": {
      "text/plain": [
       "array([list([1517085, 1563459, 1309446, 16246, 1781822, 1152674, 1649869, 461689, 305831, 461689, 362233, 1649869, 1649869, 984597, 1649869, 803544, 1110941, 1190046, 1760685, 631008, 461689, 1190046, 1650637, 313546, 1650637, 979517, 351157, 1062149, 1157384, 1841388, 1469630, 305831, 1110548, 1110548, 305831, 1650114, 1604396, 1009750, 1800933, 495779, 394655, 495779, 789245, 789245, 366890, 361317, 1700164, 1755597, 789245, 784978, 1171505, 784978, 1700164, 784978, 1521766, 1725503, 528847, 1816325, 984597, 1072782, 173702, 1072782, 1407538, 1629651, 1768568, 1318324, 1840418, 1813509, 1813509, 667924, 1226444, 709550, 709417, 1225559, 1048044, 1052813, 1225559, 240346, 1582117, 1707783, 1624436, 1157411, 358305, 1202970, 832192, 1498443, 723931, 1436439, 1693461, 1206554, 1110741, 346352, 1802050, 154930, 964169, 964169, 823637, 964169, 1411683, 964169, 1167722, 964169, 1619737, 964169, 1840615, 512756, 946219, 1090479, 1164387, 1308544, 719622, 1750538, 1443747, 1750538, 337364, 1653945, 1222638, 1622987, 608383, 1460239, 1436439, 321397, 828625, 1624436, 1157411, 1537907, 1070142, 959208, 275288, 1318324, 1072782, 1072782, 173702, 1428075, 892659, 1127565, 1072782, 97836, 384343, 218130, 294248, 166547, 504365, 102416, 30373, 724999, 1110548, 10268, 219925, 1140855, 915702, 480578, 1145803, 480578, 516456, 536842, 1446430, 581169, 976007, 667322, 1801525, 1767945, 1342014, 1813509, 1785321, 1813509, 1840615, 1689148, 1840615, 72748, 1049280, 1436439, 6851, 1433235, 7563, 1766089, 7563, 570955, 1766089, 570955, 974651, 974651, 974651, 974651, 280978, 1521766, 661144, 1760145, 1639229, 1624436, 738987, 1436439, 102416, 190818, 1157411, 138431, 543308, 1760145, 543308, 275288, 275288, 1760145, 974651, 974651, 1760145, 570955, 661144, 362233, 362233, 1760145, 275288, 974651, 543308, 624343, 543308, 723612, 543308, 543308, 543308, 442293, 442293, 442293, 442293, 171073, 851778, 976134, 856506, 1549618, 419161, 543308, 1549618, 760277, 1549618, 702179, 1549618, 1587393, 76358, 1549618, 1199474, 1199474, 1386923, 1055124, 859697, 1055124, 1386923, 1199474, 543308, 961113, 883849, 701766, 924751, 168206, 924751, 219033, 171982, 1319939, 1349536, 334392, 1349536, 1349536, 165096, 315914, 315914, 1680276, 1818905, 334392, 1048797, 1048797, 543308, 341626, 219925, 843110, 938007, 1228848, 1740927, 161938])],\n",
       "      dtype=object)"
      ]
     },
     "execution_count": 54,
     "metadata": {},
     "output_type": "execute_result"
    }
   ],
   "source": [
    "import numpy as np\n",
    "\n",
    "np.array(trainDf_transformed.select(\"aids\").limit(20).collect())[0]"
   ]
  },
  {
   "cell_type": "code",
   "execution_count": 60,
   "metadata": {},
   "outputs": [
    {
     "ename": "ConnectionRefusedError",
     "evalue": "[Errno 61] Connection refused",
     "output_type": "error",
     "traceback": [
      "\u001b[0;31m---------------------------------------------------------------------------\u001b[0m",
      "\u001b[0;31mConnectionRefusedError\u001b[0m                    Traceback (most recent call last)",
      "\u001b[0;32m<timed exec>\u001b[0m in \u001b[0;36m<module>\u001b[0;34m\u001b[0m\n",
      "\u001b[0;32m~/opt/anaconda3/lib/python3.8/site-packages/pyspark/sql/dataframe.py\u001b[0m in \u001b[0;36mlimit\u001b[0;34m(self, num)\u001b[0m\n\u001b[1;32m    853\u001b[0m         \u001b[0;34m[\u001b[0m\u001b[0;34m]\u001b[0m\u001b[0;34m\u001b[0m\u001b[0;34m\u001b[0m\u001b[0m\n\u001b[1;32m    854\u001b[0m         \"\"\"\n\u001b[0;32m--> 855\u001b[0;31m         \u001b[0mjdf\u001b[0m \u001b[0;34m=\u001b[0m \u001b[0mself\u001b[0m\u001b[0;34m.\u001b[0m\u001b[0m_jdf\u001b[0m\u001b[0;34m.\u001b[0m\u001b[0mlimit\u001b[0m\u001b[0;34m(\u001b[0m\u001b[0mnum\u001b[0m\u001b[0;34m)\u001b[0m\u001b[0;34m\u001b[0m\u001b[0;34m\u001b[0m\u001b[0m\n\u001b[0m\u001b[1;32m    856\u001b[0m         \u001b[0;32mreturn\u001b[0m \u001b[0mDataFrame\u001b[0m\u001b[0;34m(\u001b[0m\u001b[0mjdf\u001b[0m\u001b[0;34m,\u001b[0m \u001b[0mself\u001b[0m\u001b[0;34m.\u001b[0m\u001b[0msparkSession\u001b[0m\u001b[0;34m)\u001b[0m\u001b[0;34m\u001b[0m\u001b[0;34m\u001b[0m\u001b[0m\n\u001b[1;32m    857\u001b[0m \u001b[0;34m\u001b[0m\u001b[0m\n",
      "\u001b[0;32m~/opt/anaconda3/lib/python3.8/site-packages/py4j/java_gateway.py\u001b[0m in \u001b[0;36m__call__\u001b[0;34m(self, *args)\u001b[0m\n\u001b[1;32m   1318\u001b[0m             \u001b[0mproto\u001b[0m\u001b[0;34m.\u001b[0m\u001b[0mEND_COMMAND_PART\u001b[0m\u001b[0;34m\u001b[0m\u001b[0;34m\u001b[0m\u001b[0m\n\u001b[1;32m   1319\u001b[0m \u001b[0;34m\u001b[0m\u001b[0m\n\u001b[0;32m-> 1320\u001b[0;31m         \u001b[0manswer\u001b[0m \u001b[0;34m=\u001b[0m \u001b[0mself\u001b[0m\u001b[0;34m.\u001b[0m\u001b[0mgateway_client\u001b[0m\u001b[0;34m.\u001b[0m\u001b[0msend_command\u001b[0m\u001b[0;34m(\u001b[0m\u001b[0mcommand\u001b[0m\u001b[0;34m)\u001b[0m\u001b[0;34m\u001b[0m\u001b[0;34m\u001b[0m\u001b[0m\n\u001b[0m\u001b[1;32m   1321\u001b[0m         return_value = get_return_value(\n\u001b[1;32m   1322\u001b[0m             answer, self.gateway_client, self.target_id, self.name)\n",
      "\u001b[0;32m~/opt/anaconda3/lib/python3.8/site-packages/py4j/java_gateway.py\u001b[0m in \u001b[0;36msend_command\u001b[0;34m(self, command, retry, binary)\u001b[0m\n\u001b[1;32m   1034\u001b[0m          \u001b[0;32mif\u001b[0m\u001b[0;31m \u001b[0m\u001b[0;31m`\u001b[0m\u001b[0mbinary\u001b[0m\u001b[0;31m`\u001b[0m \u001b[0;32mis\u001b[0m\u001b[0;31m \u001b[0m\u001b[0;31m`\u001b[0m\u001b[0;32mTrue\u001b[0m\u001b[0;31m`\u001b[0m\u001b[0;34m.\u001b[0m\u001b[0;34m\u001b[0m\u001b[0;34m\u001b[0m\u001b[0m\n\u001b[1;32m   1035\u001b[0m         \"\"\"\n\u001b[0;32m-> 1036\u001b[0;31m         \u001b[0mconnection\u001b[0m \u001b[0;34m=\u001b[0m \u001b[0mself\u001b[0m\u001b[0;34m.\u001b[0m\u001b[0m_get_connection\u001b[0m\u001b[0;34m(\u001b[0m\u001b[0;34m)\u001b[0m\u001b[0;34m\u001b[0m\u001b[0;34m\u001b[0m\u001b[0m\n\u001b[0m\u001b[1;32m   1037\u001b[0m         \u001b[0;32mtry\u001b[0m\u001b[0;34m:\u001b[0m\u001b[0;34m\u001b[0m\u001b[0;34m\u001b[0m\u001b[0m\n\u001b[1;32m   1038\u001b[0m             \u001b[0mresponse\u001b[0m \u001b[0;34m=\u001b[0m \u001b[0mconnection\u001b[0m\u001b[0;34m.\u001b[0m\u001b[0msend_command\u001b[0m\u001b[0;34m(\u001b[0m\u001b[0mcommand\u001b[0m\u001b[0;34m)\u001b[0m\u001b[0;34m\u001b[0m\u001b[0;34m\u001b[0m\u001b[0m\n",
      "\u001b[0;32m~/opt/anaconda3/lib/python3.8/site-packages/py4j/clientserver.py\u001b[0m in \u001b[0;36m_get_connection\u001b[0;34m(self)\u001b[0m\n\u001b[1;32m    282\u001b[0m \u001b[0;34m\u001b[0m\u001b[0m\n\u001b[1;32m    283\u001b[0m         \u001b[0;32mif\u001b[0m \u001b[0mconnection\u001b[0m \u001b[0;32mis\u001b[0m \u001b[0;32mNone\u001b[0m \u001b[0;32mor\u001b[0m \u001b[0mconnection\u001b[0m\u001b[0;34m.\u001b[0m\u001b[0msocket\u001b[0m \u001b[0;32mis\u001b[0m \u001b[0;32mNone\u001b[0m\u001b[0;34m:\u001b[0m\u001b[0;34m\u001b[0m\u001b[0;34m\u001b[0m\u001b[0m\n\u001b[0;32m--> 284\u001b[0;31m             \u001b[0mconnection\u001b[0m \u001b[0;34m=\u001b[0m \u001b[0mself\u001b[0m\u001b[0;34m.\u001b[0m\u001b[0m_create_new_connection\u001b[0m\u001b[0;34m(\u001b[0m\u001b[0;34m)\u001b[0m\u001b[0;34m\u001b[0m\u001b[0;34m\u001b[0m\u001b[0m\n\u001b[0m\u001b[1;32m    285\u001b[0m         \u001b[0;32mreturn\u001b[0m \u001b[0mconnection\u001b[0m\u001b[0;34m\u001b[0m\u001b[0;34m\u001b[0m\u001b[0m\n\u001b[1;32m    286\u001b[0m \u001b[0;34m\u001b[0m\u001b[0m\n",
      "\u001b[0;32m~/opt/anaconda3/lib/python3.8/site-packages/py4j/clientserver.py\u001b[0m in \u001b[0;36m_create_new_connection\u001b[0;34m(self)\u001b[0m\n\u001b[1;32m    289\u001b[0m             \u001b[0mself\u001b[0m\u001b[0;34m.\u001b[0m\u001b[0mjava_parameters\u001b[0m\u001b[0;34m,\u001b[0m \u001b[0mself\u001b[0m\u001b[0;34m.\u001b[0m\u001b[0mpython_parameters\u001b[0m\u001b[0;34m,\u001b[0m\u001b[0;34m\u001b[0m\u001b[0;34m\u001b[0m\u001b[0m\n\u001b[1;32m    290\u001b[0m             self.gateway_property, self)\n\u001b[0;32m--> 291\u001b[0;31m         \u001b[0mconnection\u001b[0m\u001b[0;34m.\u001b[0m\u001b[0mconnect_to_java_server\u001b[0m\u001b[0;34m(\u001b[0m\u001b[0;34m)\u001b[0m\u001b[0;34m\u001b[0m\u001b[0;34m\u001b[0m\u001b[0m\n\u001b[0m\u001b[1;32m    292\u001b[0m         \u001b[0mself\u001b[0m\u001b[0;34m.\u001b[0m\u001b[0mset_thread_connection\u001b[0m\u001b[0;34m(\u001b[0m\u001b[0mconnection\u001b[0m\u001b[0;34m)\u001b[0m\u001b[0;34m\u001b[0m\u001b[0;34m\u001b[0m\u001b[0m\n\u001b[1;32m    293\u001b[0m         \u001b[0;32mreturn\u001b[0m \u001b[0mconnection\u001b[0m\u001b[0;34m\u001b[0m\u001b[0;34m\u001b[0m\u001b[0m\n",
      "\u001b[0;32m~/opt/anaconda3/lib/python3.8/site-packages/py4j/clientserver.py\u001b[0m in \u001b[0;36mconnect_to_java_server\u001b[0;34m(self)\u001b[0m\n\u001b[1;32m    436\u001b[0m                 self.socket = self.ssl_context.wrap_socket(\n\u001b[1;32m    437\u001b[0m                     self.socket, server_hostname=self.java_address)\n\u001b[0;32m--> 438\u001b[0;31m             \u001b[0mself\u001b[0m\u001b[0;34m.\u001b[0m\u001b[0msocket\u001b[0m\u001b[0;34m.\u001b[0m\u001b[0mconnect\u001b[0m\u001b[0;34m(\u001b[0m\u001b[0;34m(\u001b[0m\u001b[0mself\u001b[0m\u001b[0;34m.\u001b[0m\u001b[0mjava_address\u001b[0m\u001b[0;34m,\u001b[0m \u001b[0mself\u001b[0m\u001b[0;34m.\u001b[0m\u001b[0mjava_port\u001b[0m\u001b[0;34m)\u001b[0m\u001b[0;34m)\u001b[0m\u001b[0;34m\u001b[0m\u001b[0;34m\u001b[0m\u001b[0m\n\u001b[0m\u001b[1;32m    439\u001b[0m             \u001b[0mself\u001b[0m\u001b[0;34m.\u001b[0m\u001b[0mstream\u001b[0m \u001b[0;34m=\u001b[0m \u001b[0mself\u001b[0m\u001b[0;34m.\u001b[0m\u001b[0msocket\u001b[0m\u001b[0;34m.\u001b[0m\u001b[0mmakefile\u001b[0m\u001b[0;34m(\u001b[0m\u001b[0;34m\"rb\"\u001b[0m\u001b[0;34m)\u001b[0m\u001b[0;34m\u001b[0m\u001b[0;34m\u001b[0m\u001b[0m\n\u001b[1;32m    440\u001b[0m             \u001b[0mself\u001b[0m\u001b[0;34m.\u001b[0m\u001b[0mis_connected\u001b[0m \u001b[0;34m=\u001b[0m \u001b[0;32mTrue\u001b[0m\u001b[0;34m\u001b[0m\u001b[0;34m\u001b[0m\u001b[0m\n",
      "\u001b[0;31mConnectionRefusedError\u001b[0m: [Errno 61] Connection refused"
     ]
    }
   ],
   "source": [
    "%%time\n",
    "aid_list = list(trainDf_transformed.limit(2).select(\"aids\").rdd.flatMap(lambda x: x).collect())\n"
   ]
  },
  {
   "cell_type": "code",
   "execution_count": 49,
   "metadata": {},
   "outputs": [
    {
     "data": {
      "text/plain": [
       "Row(aids=[1517085, 1563459, 1309446, 16246, 1781822, 1152674, 1649869, 461689, 305831, 461689, 362233, 1649869, 1649869, 984597, 1649869, 803544, 1110941, 1190046, 1760685, 631008, 461689, 1190046, 1650637, 313546, 1650637, 979517, 351157, 1062149, 1157384, 1841388, 1469630, 305831, 1110548, 1110548, 305831, 1650114, 1604396, 1009750, 1800933, 495779, 394655, 495779, 789245, 789245, 366890, 361317, 1700164, 1755597, 789245, 784978, 1171505, 784978, 1700164, 784978, 1521766, 1725503, 528847, 1816325, 984597, 1072782, 173702, 1072782, 1407538, 1629651, 1768568, 1318324, 1840418, 1813509, 1813509, 667924, 1226444, 709550, 709417, 1225559, 1048044, 1052813, 1225559, 240346, 1582117, 1707783, 1624436, 1157411, 358305, 1202970, 832192, 1498443, 723931, 1436439, 1693461, 1206554, 1110741, 346352, 1802050, 154930, 964169, 964169, 823637, 964169, 1411683, 964169, 1167722, 964169, 1619737, 964169, 1840615, 512756, 946219, 1090479, 1164387, 1308544, 719622, 1750538, 1443747, 1750538, 337364, 1653945, 1222638, 1622987, 608383, 1460239, 1436439, 321397, 828625, 1624436, 1157411, 1537907, 1070142, 959208, 275288, 1318324, 1072782, 1072782, 173702, 1428075, 892659, 1127565, 1072782, 97836, 384343, 218130, 294248, 166547, 504365, 102416, 30373, 724999, 1110548, 10268, 219925, 1140855, 915702, 480578, 1145803, 480578, 516456, 536842, 1446430, 581169, 976007, 667322, 1801525, 1767945, 1342014, 1813509, 1785321, 1813509, 1840615, 1689148, 1840615, 72748, 1049280, 1436439, 6851, 1433235, 7563, 1766089, 7563, 570955, 1766089, 570955, 974651, 974651, 974651, 974651, 280978, 1521766, 661144, 1760145, 1639229, 1624436, 738987, 1436439, 102416, 190818, 1157411, 138431, 543308, 1760145, 543308, 275288, 275288, 1760145, 974651, 974651, 1760145, 570955, 661144, 362233, 362233, 1760145, 275288, 974651, 543308, 624343, 543308, 723612, 543308, 543308, 543308, 442293, 442293, 442293, 442293, 171073, 851778, 976134, 856506, 1549618, 419161, 543308, 1549618, 760277, 1549618, 702179, 1549618, 1587393, 76358, 1549618, 1199474, 1199474, 1386923, 1055124, 859697, 1055124, 1386923, 1199474, 543308, 961113, 883849, 701766, 924751, 168206, 924751, 219033, 171982, 1319939, 1349536, 334392, 1349536, 1349536, 165096, 315914, 315914, 1680276, 1818905, 334392, 1048797, 1048797, 543308, 341626, 219925, 843110, 938007, 1228848, 1740927, 161938])"
      ]
     },
     "execution_count": 49,
     "metadata": {},
     "output_type": "execute_result"
    }
   ],
   "source": [
    "[row for row in trainDf_transformed.select(\"aids\").limit(20).collect()][0]"
   ]
  },
  {
   "cell_type": "code",
   "execution_count": 60,
   "metadata": {},
   "outputs": [
    {
     "name": "stdout",
     "output_type": "stream",
     "text": [
      "+-------+------------+------------------+----------------+--------------------+--------------------+--------------------+\n",
      "|session|total_action|session_start_time|session_end_time|                aids|          ts_seconds|        action_types|\n",
      "+-------+------------+------------------+----------------+--------------------+--------------------+--------------------+\n",
      "|      0|         276|      1.65930483E9|    1.66168499E9|[1517085, 1563459...|[1.65930483E9, 1....|[0, 0, 0, 0, 0, 0...|\n",
      "|      1|          32|      1.65930483E9|    1.66171482E9|[424964, 1492293,...|[1.65930483E9, 1....|[1, 0, 1, 0, 1, 0...|\n",
      "|      2|          33|      1.65930483E9|    1.66171418E9|[763743, 137492, ...|[1.65930483E9, 1....|[0, 0, 0, 0, 0, 0...|\n",
      "|      3|         226|      1.65930483E9|    1.66110963E9|[1425967, 1425967...|[1.65930483E9, 1....|[1, 0, 0, 0, 1, 0...|\n",
      "|      4|          19|      1.65930483E9|    1.66158669E9|[613619, 298827, ...|[1.65930483E9, 1....|[0, 0, 2, 0, 0, 0...|\n",
      "+-------+------------+------------------+----------------+--------------------+--------------------+--------------------+\n",
      "only showing top 5 rows\n",
      "\n"
     ]
    }
   ],
   "source": [
    "trainDf_transformed.show(5)"
   ]
  },
  {
   "cell_type": "code",
   "execution_count": 14,
   "metadata": {},
   "outputs": [
    {
     "name": "stdout",
     "output_type": "stream",
     "text": [
      "+-------+------------+--------------------+--------------------+--------------------+\n",
      "|session|total_action|                aids|                  ts|                type|\n",
      "+-------+------------+--------------------+--------------------+--------------------+\n",
      "|      0|         276|[1517085, 1563459...|[1659304800025, 1...|[0, 0, 0, 0, 0, 0...|\n",
      "|      1|          32|[424964, 1492293,...|[1659304800025, 1...|[1, 0, 1, 0, 1, 0...|\n",
      "|      2|          33|[763743, 137492, ...|[1659304800038, 1...|[0, 0, 0, 0, 0, 0...|\n",
      "|      3|         226|[1425967, 1425967...|[1659304800095, 1...|[1, 0, 0, 0, 1, 0...|\n",
      "|      4|          19|[613619, 298827, ...|[1659304800119, 1...|[0, 0, 2, 0, 0, 0...|\n",
      "+-------+------------+--------------------+--------------------+--------------------+\n",
      "only showing top 5 rows\n",
      "\n"
     ]
    }
   ],
   "source": [
    "trainDf_transformed.show(5)"
   ]
  },
  {
   "cell_type": "code",
   "execution_count": 67,
   "metadata": {},
   "outputs": [
    {
     "name": "stdout",
     "output_type": "stream",
     "text": [
      "CPU times: user 1.54 ms, sys: 1.99 ms, total: 3.53 ms\n",
      "Wall time: 9.82 s\n"
     ]
    },
    {
     "data": {
      "text/plain": [
       "12899779"
      ]
     },
     "execution_count": 67,
     "metadata": {},
     "output_type": "execute_result"
    }
   ],
   "source": [
    "%%time\n",
    "trainDf_transformed.count()"
   ]
  },
  {
   "cell_type": "code",
   "execution_count": 64,
   "metadata": {},
   "outputs": [
    {
     "name": "stdout",
     "output_type": "stream",
     "text": [
      "CPU times: user 609 µs, sys: 985 µs, total: 1.59 ms\n",
      "Wall time: 704 ms\n"
     ]
    },
    {
     "data": {
      "text/plain": [
       "1671803"
      ]
     },
     "execution_count": 64,
     "metadata": {},
     "output_type": "execute_result"
    }
   ],
   "source": [
    "%%time\n",
    "testDf_transformed.count()"
   ]
  },
  {
   "cell_type": "code",
   "execution_count": 68,
   "metadata": {},
   "outputs": [],
   "source": [
    "trainDf_transformed.write.parquet(\"../../data/train.parquet\")"
   ]
  },
  {
   "cell_type": "code",
   "execution_count": 66,
   "metadata": {},
   "outputs": [],
   "source": [
    "testDf_transformed.coalesce(1).write.format(\"parquet\").save(\"../../data/test.parquet\")"
   ]
  },
  {
   "cell_type": "code",
   "execution_count": null,
   "metadata": {},
   "outputs": [],
   "source": []
  },
  {
   "cell_type": "markdown",
   "metadata": {},
   "source": []
  }
 ],
 "metadata": {
  "kernelspec": {
   "display_name": "base",
   "language": "python",
   "name": "python3"
  },
  "language_info": {
   "codemirror_mode": {
    "name": "ipython",
    "version": 3
   },
   "file_extension": ".py",
   "mimetype": "text/x-python",
   "name": "python",
   "nbconvert_exporter": "python",
   "pygments_lexer": "ipython3",
   "version": "3.8.3"
  },
  "orig_nbformat": 4,
  "vscode": {
   "interpreter": {
    "hash": "ff58dbd0ec383761c792d0b6d4f0a9690d9c9b1bec648659fb440990235d5b98"
   }
  }
 },
 "nbformat": 4,
 "nbformat_minor": 2
}
