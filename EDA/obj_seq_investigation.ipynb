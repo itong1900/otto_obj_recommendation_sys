{
 "cells": [
  {
   "cell_type": "code",
   "execution_count": 1,
   "metadata": {},
   "outputs": [],
   "source": [
    "import warnings\n",
    "warnings.filterwarnings('ignore')\n",
    "import pathlib\n",
    "import numpy as np\n",
    "import pandas as pd\n",
    "import matplotlib.pyplot as plt\n",
    "import seaborn as sns"
   ]
  },
  {
   "cell_type": "code",
   "execution_count": 4,
   "metadata": {},
   "outputs": [
    {
     "name": "stdout",
     "output_type": "stream",
     "text": [
      "Training Shape: (216716096, 4) - Memory Usage: 3513.50 MB\n",
      "CPU times: user 6.56 ms, sys: 1.39 s, total: 1.39 s\n",
      "Wall time: 2.12 s\n"
     ]
    }
   ],
   "source": [
    "%%time\n",
    "#competition_dataset_directory = pathlib.Path('../../allData/pickleFiles/')\n",
    "pickled_dataset_directory = pathlib.Path('../../allData/pickleFiles')\n",
    "\n",
    "df_train = pd.read_pickle(pickled_dataset_directory / 'train.pkl')\n",
    "#df_test = pd.read_pickle(pickled_dataset_directory / 'test.pkl')\n",
    "\n",
    "print(f'Training Shape: {df_train.shape} - Memory Usage: {df_train.memory_usage().sum() / 1024 ** 2:.2f} MB')\n",
    "#print(f'Test Shape: {df_test.shape} - Memory Usage: {df_test.memory_usage().sum() / 1024 ** 2:.2f} MB')"
   ]
  },
  {
   "cell_type": "code",
   "execution_count": 6,
   "metadata": {},
   "outputs": [],
   "source": [
    "def get_labels(aids, event_types):\n",
    "    \n",
    "    \"\"\"\n",
    "    Create ground-truth labels from given session aids and event types\n",
    "    \n",
    "    Parameters\n",
    "    ----------\n",
    "    aids: pandas.Series of shape (n_events)\n",
    "        Session aids\n",
    "\n",
    "    event_types: pandas.Series of shape (n_events)\n",
    "        Session event types\n",
    "        \n",
    "    Returns\n",
    "    -------\n",
    "    labels: list of shape (n_events)\n",
    "        Ground-truth labels\n",
    "    \"\"\"\n",
    "    \n",
    "    previous_click = None\n",
    "    previous_carts = set()\n",
    "    previous_orders = set()\n",
    "    labels = []\n",
    "\n",
    "    for aid, event_type in zip(reversed(aids.values), reversed(event_types.values)):\n",
    "        \n",
    "        label = {}\n",
    "        \n",
    "        if event_type == 0:\n",
    "            previous_click = aid\n",
    "        elif event_type == 1:\n",
    "            previous_carts.add(aid)\n",
    "        elif event_type == 2:\n",
    "            previous_orders.add(aid)\n",
    "            \n",
    "        label[0] = previous_click \n",
    "        label[1] = previous_carts.copy() if len(previous_carts) > 0 else np.nan\n",
    "        label[2] = previous_orders.copy() if len(previous_orders) > 0 else np.nan\n",
    "        labels.append(label)\n",
    "        \n",
    "    labels = labels[:-1][::-1]\n",
    "    labels.append({0: np.nan, 1: np.nan, 2: np.nan})\n",
    "    \n",
    "    return labels\n"
   ]
  },
  {
   "cell_type": "code",
   "execution_count": 7,
   "metadata": {},
   "outputs": [
    {
     "name": "stdout",
     "output_type": "stream",
     "text": [
      "   session      aid                      ts  type  \\\n",
      "0        0  1517085 2022-07-31 22:00:00.025     0   \n",
      "1        0  1563459 2022-07-31 22:01:44.511     0   \n",
      "2        0  1309446 2022-08-01 15:23:59.426     0   \n",
      "3        0    16246 2022-08-01 15:28:39.997     0   \n",
      "4        0  1781822 2022-08-01 15:31:11.344     0   \n",
      "5        0  1152674 2022-08-01 15:31:25.796     0   \n",
      "6        0  1649869 2022-08-01 16:04:53.840     1   \n",
      "7        0   461689 2022-08-01 16:04:58.050     1   \n",
      "8        0   305831 2022-08-01 16:07:07.105     2   \n",
      "9        0   461689 2022-08-01 16:07:07.105     2   \n",
      "\n",
      "                                                                                                                                                                  label  \n",
      "0  {0: 1563459, 1: {1521766, 315914, 543308, 1649869, 1760145, 1549618, 1199474, 280978, 442293, 275288, 461689, 974651, 789245}, 2: {461689, 1199474, 543308, 305831}}  \n",
      "1  {0: 1309446, 1: {1521766, 315914, 543308, 1649869, 1760145, 1549618, 1199474, 280978, 442293, 275288, 461689, 974651, 789245}, 2: {461689, 1199474, 543308, 305831}}  \n",
      "2    {0: 16246, 1: {1521766, 315914, 543308, 1649869, 1760145, 1549618, 1199474, 280978, 442293, 275288, 461689, 974651, 789245}, 2: {461689, 1199474, 543308, 305831}}  \n",
      "3  {0: 1781822, 1: {1521766, 315914, 543308, 1649869, 1760145, 1549618, 1199474, 280978, 442293, 275288, 461689, 974651, 789245}, 2: {461689, 1199474, 543308, 305831}}  \n",
      "4  {0: 1152674, 1: {1521766, 315914, 543308, 1649869, 1760145, 1549618, 1199474, 280978, 442293, 275288, 461689, 974651, 789245}, 2: {461689, 1199474, 543308, 305831}}  \n",
      "5   {0: 362233, 1: {1521766, 315914, 543308, 1649869, 1760145, 1549618, 1199474, 280978, 442293, 275288, 461689, 974651, 789245}, 2: {461689, 1199474, 543308, 305831}}  \n",
      "6            {0: 362233, 1: {1521766, 315914, 543308, 1760145, 1549618, 1199474, 280978, 442293, 275288, 461689, 974651, 789245}, 2: {461689, 1199474, 543308, 305831}}  \n",
      "7                    {0: 362233, 1: {1521766, 315914, 543308, 1760145, 1549618, 1199474, 280978, 442293, 275288, 974651, 789245}, 2: {461689, 1199474, 543308, 305831}}  \n",
      "8                            {0: 362233, 1: {1521766, 315914, 543308, 1760145, 1549618, 1199474, 280978, 442293, 275288, 974651, 789245}, 2: {461689, 1199474, 543308}}  \n",
      "9                                    {0: 362233, 1: {1521766, 315914, 543308, 1760145, 1549618, 1199474, 280978, 442293, 275288, 974651, 789245}, 2: {1199474, 543308}}  \n"
     ]
    }
   ],
   "source": [
    "df_session747 = df_train.loc[df_train['session'] == 0, :]\n",
    "session747_labels = get_labels(aids=df_session747['aid'], event_types=df_session747['type'])\n",
    "df_session747.loc[:, 'label'] = session747_labels\n",
    "df_session747\n",
    "with pd.option_context(#'display.max_rows', None,\n",
    "                       'display.max_colwidth', None\n",
    "                       ):\n",
    "    print(df_session747.head(10))"
   ]
  },
  {
   "cell_type": "code",
   "execution_count": null,
   "metadata": {},
   "outputs": [],
   "source": []
  }
 ],
 "metadata": {
  "kernelspec": {
   "display_name": "base",
   "language": "python",
   "name": "python3"
  },
  "language_info": {
   "codemirror_mode": {
    "name": "ipython",
    "version": 3
   },
   "file_extension": ".py",
   "mimetype": "text/x-python",
   "name": "python",
   "nbconvert_exporter": "python",
   "pygments_lexer": "ipython3",
   "version": "3.8.3"
  },
  "orig_nbformat": 4,
  "vscode": {
   "interpreter": {
    "hash": "ff58dbd0ec383761c792d0b6d4f0a9690d9c9b1bec648659fb440990235d5b98"
   }
  }
 },
 "nbformat": 4,
 "nbformat_minor": 2
}
