{
 "cells": [
  {
   "attachments": {},
   "cell_type": "markdown",
   "metadata": {},
   "source": [
    "## Investigate the recall/coverage metrics in different scenarios"
   ]
  },
  {
   "cell_type": "code",
   "execution_count": 3,
   "metadata": {},
   "outputs": [],
   "source": [
    "import pyspark\n",
    "from pyspark import SparkContext, SparkConf\n",
    "from pyspark.sql import SparkSession\n",
    "from pyspark.sql.functions import *\n",
    "from pyspark.sql.window import *\n",
    "from pyspark.sql.types import ArrayType, FloatType, LongType, IntegerType\n",
    "\n",
    "import numpy as np\n",
    "import pandas as pd\n",
    "import os\n",
    "import gc\n",
    "#import shutil"
   ]
  },
  {
   "cell_type": "code",
   "execution_count": 4,
   "metadata": {},
   "outputs": [
    {
     "name": "stdout",
     "output_type": "stream",
     "text": [
      "CPU times: user 14.4 ms, sys: 17.8 ms, total: 32.2 ms\n",
      "Wall time: 4.85 s\n"
     ]
    }
   ],
   "source": [
    "%%time\n",
    "spark = SparkSession.builder.appName(\"coverage_investigation\").getOrCreate()"
   ]
  },
  {
   "cell_type": "code",
   "execution_count": 6,
   "metadata": {},
   "outputs": [
    {
     "name": "stdout",
     "output_type": "stream",
     "text": [
      "root\n",
      " |-- session: long (nullable = true)\n",
      " |-- clicks_answer: long (nullable = true)\n",
      " |-- carts_answer: array (nullable = true)\n",
      " |    |-- element: long (containsNull = true)\n",
      " |-- orders_answer: array (nullable = true)\n",
      " |    |-- element: long (containsNull = true)\n",
      "\n",
      "CPU times: user 3.32 ms, sys: 1.48 ms, total: 4.8 ms\n",
      "Wall time: 1.63 s\n"
     ]
    }
   ],
   "source": [
    "%%time\n",
    "groundTruthLabelsDf = spark.read.json(\"../../allData/validationData/out_7day_test/test_labels.jsonl\",lineSep='\\n')\\\n",
    "                         .withColumn(\"clicks_answer\", col(\"labels.clicks\"))\\\n",
    "                         .withColumn(\"carts_answer\", col(\"labels.carts\"))\\\n",
    "                         .withColumn(\"orders_answer\", col(\"labels.orders\"))\\\n",
    "                         .drop(\"labels\")\n",
    "groundTruthLabelsDf.printSchema()"
   ]
  },
  {
   "cell_type": "code",
   "execution_count": 41,
   "metadata": {},
   "outputs": [
    {
     "data": {
      "text/plain": [
       "150179"
      ]
     },
     "execution_count": 41,
     "metadata": {},
     "output_type": "execute_result"
    }
   ],
   "source": [
    "groundTruthLabelsDf.count()"
   ]
  },
  {
   "cell_type": "code",
   "execution_count": 10,
   "metadata": {},
   "outputs": [
    {
     "name": "stdout",
     "output_type": "stream",
     "text": [
      "root\n",
      " |-- session: string (nullable = true)\n",
      " |-- clicks_predict: array (nullable = true)\n",
      " |    |-- element: long (containsNull = true)\n",
      " |-- carts_predict: array (nullable = true)\n",
      " |    |-- element: long (containsNull = true)\n",
      " |-- orders_predict: array (nullable = true)\n",
      " |    |-- element: long (containsNull = true)\n",
      "\n",
      "CPU times: user 7.23 ms, sys: 2.28 ms, total: 9.51 ms\n",
      "Wall time: 601 ms\n"
     ]
    }
   ],
   "source": [
    "%%time\n",
    "rawPredictionsDf = spark.read.csv(\"../../allData/validationData/submission_cartInfWeight_425.csv\", header=True)\\\n",
    "                        .withColumn(\"session\", split(col(\"session_type\"), '_').getItem(0))\\\n",
    "                        .withColumn(\"action\", split(col(\"session_type\"), \"_\").getItem(1))\\\n",
    "                        .drop(\"session_type\")\n",
    "\n",
    "clicksPredictionDf = rawPredictionsDf.filter(col(\"action\") == \"clicks\")\\\n",
    "                                     .drop(\"action\")\\\n",
    "                                     .withColumnRenamed(\"labels\", \"clicks_predict\")\\\n",
    "                                     .withColumn(\"clicks_predict\", split(col(\"clicks_predict\"), ' ').cast(\"array<long>\"))\\\n",
    "                                    \n",
    "cartsPredictionDf = rawPredictionsDf.filter(col(\"action\") == \"carts\")\\\n",
    "                                    .drop(\"action\")\\\n",
    "                                    .withColumnRenamed(\"labels\", \"carts_predict\")\\\n",
    "                                    .withColumn(\"carts_predict\", split(col(\"carts_predict\"), ' ').cast(\"array<long>\"))\n",
    "\n",
    "ordersPredictionDf = rawPredictionsDf.filter(col(\"action\") == \"orders\")\\\n",
    "                                     .drop(\"action\")\\\n",
    "                                     .withColumnRenamed(\"labels\", \"orders_predict\")\\\n",
    "                                     .withColumn(\"orders_predict\", split(col(\"orders_predict\"), ' ').cast(\"array<long>\"))\n",
    "\n",
    "combinePredictionDf = clicksPredictionDf.join(cartsPredictionDf, \"session\")\\\n",
    "                                        .join(ordersPredictionDf, \"session\")\n",
    "\n",
    "combinePredictionDf.printSchema()"
   ]
  },
  {
   "cell_type": "code",
   "execution_count": 91,
   "metadata": {},
   "outputs": [
    {
     "name": "stdout",
     "output_type": "stream",
     "text": [
      "root\n",
      " |-- session: long (nullable = true)\n",
      " |-- events: struct (nullable = true)\n",
      " |    |-- aid: long (nullable = true)\n",
      " |    |-- ts: long (nullable = true)\n",
      " |    |-- type: string (nullable = true)\n",
      "\n",
      "CPU times: user 9.27 ms, sys: 5.98 ms, total: 15.2 ms\n",
      "Wall time: 3.43 s\n"
     ]
    }
   ],
   "source": [
    "%%time\n",
    "inputDataDf = spark.read.json(\"../../allData/validationData/out_7day_test/test_sessions.jsonl\", lineSep='\\n')\\\n",
    "                        .select(\"session\", explode(\"events\").alias(\"events\"))\n",
    "\n",
    "clicksInputDf = inputDataDf.filter(col(\"events.type\") == \"clicks\")\\\n",
    "                           .withColumn(\"aid\", col(\"events.aid\"))\\\n",
    "                           .groupBy(\"session\")\\\n",
    "                           .agg(collect_list(\"aid\").alias(\"clicks_input\"))\n",
    "\n",
    "cartsInputDf = inputDataDf.filter(col(\"events.type\") == \"carts\")\\\n",
    "                           .withColumn(\"aid\", col(\"events.aid\"))\\\n",
    "                           .groupBy(\"session\")\\\n",
    "                           .agg(collect_list(\"aid\").alias(\"carts_input\"))\n",
    "\n",
    "ordersInputDf = inputDataDf.filter(col(\"events.type\") == \"orders\")\\\n",
    "                           .withColumn(\"aid\", col(\"events.aid\"))\\\n",
    "                           .groupBy(\"session\")\\\n",
    "                           .agg(collect_list(\"aid\").alias(\"orders_input\"))\n",
    "\n",
    "inputCombinedDf = clicksInputDf.join(cartsInputDf, \"session\", \"outer\")\\\n",
    "                               .join(ordersInputDf, \"session\", \"outer\")\n",
    "\n",
    "inputDataDf.printSchema()"
   ]
  },
  {
   "cell_type": "code",
   "execution_count": 92,
   "metadata": {},
   "outputs": [
    {
     "name": "stdout",
     "output_type": "stream",
     "text": [
      "CPU times: user 1.89 ms, sys: 2.95 ms, total: 4.84 ms\n",
      "Wall time: 163 ms\n"
     ]
    }
   ],
   "source": [
    "%%time\n",
    "validationDf = groundTruthLabelsDf.join(combinePredictionDf, \"session\", \"left\")\\\n",
    "                                  .join(inputCombinedDf, \"session\", \"left\")"
   ]
  },
  {
   "cell_type": "code",
   "execution_count": 13,
   "metadata": {},
   "outputs": [
    {
     "name": "stdout",
     "output_type": "stream",
     "text": [
      "root\n",
      " |-- session: long (nullable = true)\n",
      " |-- clicks_answer: long (nullable = true)\n",
      " |-- carts_answer: array (nullable = true)\n",
      " |    |-- element: long (containsNull = true)\n",
      " |-- orders_answer: array (nullable = true)\n",
      " |    |-- element: long (containsNull = true)\n",
      " |-- clicks_predict: array (nullable = true)\n",
      " |    |-- element: long (containsNull = true)\n",
      " |-- carts_predict: array (nullable = true)\n",
      " |    |-- element: long (containsNull = true)\n",
      " |-- orders_predict: array (nullable = true)\n",
      " |    |-- element: long (containsNull = true)\n",
      " |-- clicks_input: array (nullable = true)\n",
      " |    |-- element: long (containsNull = false)\n",
      " |-- carts_input: array (nullable = true)\n",
      " |    |-- element: long (containsNull = false)\n",
      " |-- orders_input: array (nullable = true)\n",
      " |    |-- element: long (containsNull = false)\n",
      "\n"
     ]
    }
   ],
   "source": [
    "validationDf.printSchema()"
   ]
  },
  {
   "cell_type": "code",
   "execution_count": 52,
   "metadata": {},
   "outputs": [
    {
     "data": {
      "text/plain": [
       "1783737"
      ]
     },
     "execution_count": 52,
     "metadata": {},
     "output_type": "execute_result"
    }
   ],
   "source": [
    "validationDf.count()"
   ]
  },
  {
   "attachments": {},
   "cell_type": "markdown",
   "metadata": {},
   "source": [
    "## Attach meta data and analysis column to validation DF"
   ]
  },
  {
   "cell_type": "code",
   "execution_count": 156,
   "metadata": {},
   "outputs": [],
   "source": [
    "#from pyspark.sql.types import IntegerType,BooleanType,DateType,StringType"
   ]
  },
  {
   "cell_type": "code",
   "execution_count": 14,
   "metadata": {},
   "outputs": [],
   "source": [
    "validationDf = validationDf.withColumn(\"input_len\", size(col(\"clicks_input\")) + size(col(\"carts_input\")) + size(col(\"orders_input\")))\\\n",
    "                           .withColumn(\"correct_click_pred\", array_contains(col(\"clicks_predict\"), col(\"clicks_answer\")))\\\n",
    "                           .withColumn(\"correct_cart_pred\", size(array_intersect(col(\"carts_predict\"), col(\"carts_answer\"))))\\\n",
    "                           .withColumn(\"cart_recall_score\", col(\"correct_cart_pred\")/least(size(col(\"carts_answer\")), lit(20)))\\\n",
    "                           .withColumn(\"correct_order_pred\", size(array_intersect(col(\"orders_predict\"), col(\"orders_answer\"))))\\\n",
    "                           .withColumn(\"order_recall_score\", col(\"correct_order_pred\")/least(size(col(\"orders_answer\")), lit(20)))\\\n",
    "                           .select(col(\"session\"),\n",
    "                                   col(\"clicks_input\"),\n",
    "                                   col(\"clicks_predict\"),\n",
    "                                   col(\"clicks_answer\"),\n",
    "                                   col(\"correct_click_pred\"),\n",
    "                                   col(\"carts_input\"),\n",
    "                                   col(\"carts_predict\"),\n",
    "                                   col(\"carts_answer\"),\n",
    "                                   col(\"correct_cart_pred\"),\n",
    "                                   col(\"cart_recall_score\"),\n",
    "                                   col(\"orders_input\"),\n",
    "                                   col(\"orders_predict\"),\n",
    "                                   col(\"orders_answer\"),\n",
    "                                   col(\"correct_order_pred\"),\n",
    "                                   col(\"order_recall_score\"),\n",
    "                                   col(\"input_len\"))\n",
    "\n"
   ]
  },
  {
   "cell_type": "code",
   "execution_count": 48,
   "metadata": {},
   "outputs": [
    {
     "data": {
      "text/plain": [
       "1783737"
      ]
     },
     "execution_count": 48,
     "metadata": {},
     "output_type": "execute_result"
    }
   ],
   "source": [
    "validationDf.count()"
   ]
  },
  {
   "cell_type": "code",
   "execution_count": 54,
   "metadata": {},
   "outputs": [
    {
     "name": "stdout",
     "output_type": "stream",
     "text": [
      "root\n",
      " |-- session: long (nullable = true)\n",
      " |-- clicks_input: array (nullable = true)\n",
      " |    |-- element: long (containsNull = false)\n",
      " |-- clicks_predict: array (nullable = true)\n",
      " |    |-- element: long (containsNull = true)\n",
      " |-- clicks_answer: long (nullable = true)\n",
      " |-- correct_click_pred: boolean (nullable = true)\n",
      " |-- carts_input: array (nullable = true)\n",
      " |    |-- element: long (containsNull = false)\n",
      " |-- carts_predict: array (nullable = true)\n",
      " |    |-- element: long (containsNull = true)\n",
      " |-- carts_answer: array (nullable = true)\n",
      " |    |-- element: long (containsNull = true)\n",
      " |-- correct_cart_pred: integer (nullable = false)\n",
      " |-- cart_recall_score: double (nullable = true)\n",
      " |-- orders_input: array (nullable = true)\n",
      " |    |-- element: long (containsNull = false)\n",
      " |-- orders_predict: array (nullable = true)\n",
      " |    |-- element: long (containsNull = true)\n",
      " |-- orders_answer: array (nullable = true)\n",
      " |    |-- element: long (containsNull = true)\n",
      " |-- correct_order_pred: integer (nullable = false)\n",
      " |-- order_recall_score: double (nullable = true)\n",
      " |-- input_len: integer (nullable = false)\n",
      "\n"
     ]
    }
   ],
   "source": [
    "validationDf.printSchema()"
   ]
  },
  {
   "attachments": {},
   "cell_type": "markdown",
   "metadata": {},
   "source": [
    "## Analysis"
   ]
  },
  {
   "attachments": {},
   "cell_type": "markdown",
   "metadata": {},
   "source": [
    "#### Sanity Checks"
   ]
  },
  {
   "cell_type": "code",
   "execution_count": 57,
   "metadata": {},
   "outputs": [
    {
     "name": "stdout",
     "output_type": "stream",
     "text": [
      "CPU times: user 14 ms, sys: 10.9 ms, total: 24.9 ms\n",
      "Wall time: 46.8 s\n"
     ]
    },
    {
     "data": {
      "text/plain": [
       "6433"
      ]
     },
     "execution_count": 57,
     "metadata": {},
     "output_type": "execute_result"
    }
   ],
   "source": [
    "%%time\n",
    "## if input_length >= 20, sim matrics are not used, and all predictions should come input, with different action weights for clicks/orders  or carts predictions. \n",
    "# Expect 0 output if no the inference logic was implemented correctly\n",
    "temp1 = validationDf.filter(col(\"input_len\") >= 20).select(col(\"session\") ,col(\"input_len\"), col(\"clicks_predict\"), col(\"carts_predict\"), col(\"orders_predict\"))\\\n",
    "                    .withColumn(\"temp_clicks_pred_size\", size(col(\"clicks_predict\")))\\\n",
    "                    .withColumn(\"temp_carts_pred_size\", size(col(\"carts_predict\")))\\\n",
    "                    .withColumn(\"temp_orders_pred_size\", size(col(\"orders_predict\")))\\\n",
    "                    .filter((col(\"temp_clicks_pred_size\") != 20) | (col(\"temp_carts_pred_size\") != 20) | (col(\"temp_orders_pred_size\") != 20))#.count()\n",
    "\n",
    "temp1.count()"
   ]
  },
  {
   "cell_type": "code",
   "execution_count": 165,
   "metadata": {},
   "outputs": [
    {
     "name": "stdout",
     "output_type": "stream",
     "text": [
      "+--------+---------+--------------------+--------------------+--------------------+---------------------+--------------------+---------------------+\n",
      "| session|input_len|      clicks_predict|       carts_predict|      orders_predict|temp_clicks_pred_size|temp_carts_pred_size|temp_orders_pred_size|\n",
      "+--------+---------+--------------------+--------------------+--------------------+---------------------+--------------------+---------------------+\n",
      "|11098756|       21|[425693, 1363434,...|[425693, 866492, ...|[425693, 1363434,...|                   11|                  11|                   11|\n",
      "|11098904|       38|[728938, 1351827,...|[1351827, 728938,...|[728938, 1351827,...|                   16|                  16|                   16|\n",
      "|11099298|       61|[1320573, 1239758...|[1320573, 1239758...|[1320573, 1239758...|                   17|                  17|                   17|\n",
      "|11099842|       23|[1186098, 1198275...|[1186098, 1198275...|[1186098, 1198275...|                   10|                  10|                   10|\n",
      "|11101038|       37|[1411545, 1194189...|[1676702, 1411545...|[1411545, 1194189...|                   17|                  17|                   17|\n",
      "+--------+---------+--------------------+--------------------+--------------------+---------------------+--------------------+---------------------+\n",
      "only showing top 5 rows\n",
      "\n"
     ]
    }
   ],
   "source": [
    "temp1.show(5)"
   ]
  },
  {
   "cell_type": "code",
   "execution_count": 169,
   "metadata": {},
   "outputs": [
    {
     "name": "stdout",
     "output_type": "stream",
     "text": [
      "+--------+----------------------------------------------------------------------------------+\n",
      "|session |clicks_input                                                                      |\n",
      "+--------+----------------------------------------------------------------------------------+\n",
      "|11098756|[425693, 36607, 425693, 425693, 866492, 1285074, 425693, 1748482, 1811301, 372866]|\n",
      "+--------+----------------------------------------------------------------------------------+\n",
      "\n"
     ]
    }
   ],
   "source": [
    "## found over 6k sessions have such issues, didn't suppplement the predictions when there's duplicates\n",
    "validationDf.filter(col(\"session\") == 11098756).select(col(\"session\"), col(\"clicks_input\")).show(1, False)"
   ]
  },
  {
   "attachments": {},
   "cell_type": "markdown",
   "metadata": {},
   "source": [
    "### Coverage test"
   ]
  },
  {
   "cell_type": "code",
   "execution_count": 60,
   "metadata": {},
   "outputs": [
    {
     "name": "stdout",
     "output_type": "stream",
     "text": [
      "+---------+-----------+-------------------------+\n",
      "|numerator|denominator|carts_recall_sanity_check|\n",
      "+---------+-----------+-------------------------+\n",
      "|   233447|     566105|       0.4123740295528215|\n",
      "+---------+-----------+-------------------------+\n",
      "\n"
     ]
    }
   ],
   "source": [
    "## First replicate the metric, from the evalute.py. We know this submission will have the following score \n",
    "# {'clicks': 0.5260534141019858, 'carts': 0.4123740295528215, 'orders': 0.6506006657982342, 'total': 0.5666779497549854}\n",
    "# N = 35793 in this test set, => number of session\n",
    "\n",
    "temp_2 = validationDf.filter(~col(\"carts_answer\").isNull())\\\n",
    "                     .select(col(\"session\"), col(\"correct_cart_pred\") ,col(\"carts_answer\"), col(\"carts_predict\"))\\\n",
    "                     .withColumn(\"denominator_factor\", least(lit(20), size(col(\"carts_answer\"))))\\\n",
    "                     .agg(sum(\"correct_cart_pred\").alias(\"numerator\"),\n",
    "                          sum(\"denominator_factor\").alias(\"denominator\"))\\\n",
    "                     .withColumn(\"carts_recall_sanity_check\", col(\"numerator\")/col(\"denominator\"))\n",
    "temp_2.show()"
   ]
  },
  {
   "cell_type": "code",
   "execution_count": 61,
   "metadata": {},
   "outputs": [
    {
     "name": "stdout",
     "output_type": "stream",
     "text": [
      "+---------+-----------+--------------------------+\n",
      "|numerator|denominator|orders_recall_sanity_check|\n",
      "+---------+-----------+--------------------------+\n",
      "|   202275|     310905|        0.6506006657982342|\n",
      "+---------+-----------+--------------------------+\n",
      "\n"
     ]
    }
   ],
   "source": [
    "temp_3 = validationDf.filter(~col(\"orders_answer\").isNull())\\\n",
    "                     .select(col(\"session\"), col(\"correct_order_pred\") ,col(\"orders_answer\"), col(\"orders_predict\"))\\\n",
    "                     .withColumn(\"denominator_factor\", least(lit(20), size(col(\"orders_answer\"))))\\\n",
    "                     .agg(sum(\"correct_order_pred\").alias(\"numerator\"),\n",
    "                          sum(\"denominator_factor\").alias(\"denominator\"))\\\n",
    "                     .withColumn(\"orders_recall_sanity_check\", col(\"numerator\")/col(\"denominator\"))\n",
    "temp_3.show()"
   ]
  },
  {
   "cell_type": "code",
   "execution_count": 64,
   "metadata": {},
   "outputs": [
    {
     "name": "stdout",
     "output_type": "stream",
     "text": [
      "+---------+-----------+--------------------------+\n",
      "|numerator|denominator|clicks_recall_sanity_check|\n",
      "+---------+-----------+--------------------------+\n",
      "|   914264|    1737968|        0.5260534141019858|\n",
      "+---------+-----------+--------------------------+\n",
      "\n"
     ]
    }
   ],
   "source": [
    "temp_4 = validationDf.filter(~col(\"clicks_answer\").isNull())\\\n",
    "                     .select(col(\"session\"), col(\"correct_click_pred\") ,col(\"clicks_answer\"), col(\"clicks_predict\"))\\\n",
    "                     .withColumn(\"denominator_factor\", lit(1))\\\n",
    "                     .agg(sum(col(\"correct_click_pred\").cast(IntegerType())).alias(\"numerator\"),\n",
    "                          sum(\"denominator_factor\").alias(\"denominator\"))\\\n",
    "                     .withColumn(\"clicks_recall_sanity_check\", col(\"numerator\")/col(\"denominator\"))\n",
    "temp_4.show()"
   ]
  },
  {
   "attachments": {},
   "cell_type": "markdown",
   "metadata": {},
   "source": [
    "Good, that's exactly match the recall computed by the offical code. It's now safe to do the analysis and define more metrics."
   ]
  },
  {
   "attachments": {},
   "cell_type": "markdown",
   "metadata": {},
   "source": [
    "#### Clicks.\n",
    "1. Is long session doing better or short session doing better? \n",
    "2. How many sessions are their for each? "
   ]
  },
  {
   "cell_type": "code",
   "execution_count": 64,
   "metadata": {},
   "outputs": [
    {
     "name": "stdout",
     "output_type": "stream",
     "text": [
      "+-----------------------+---------+-----------+--------------+------------------+\n",
      "|session_type_for_clicks|numerator|denominator|category_count|     clicks_recall|\n",
      "+-----------------------+---------+-----------+--------------+------------------+\n",
      "|                 leq_10|   906737|    1722937|       1722937|0.5262740309134925|\n",
      "|                 geq_20|     4032|       8627|          8627|0.4673698852440014|\n",
      "|                  10_20|     3495|       6404|          6404|0.5457526545908807|\n",
      "+-----------------------+---------+-----------+--------------+------------------+\n",
      "\n"
     ]
    }
   ],
   "source": [
    "temp = validationDf.filter(~col(\"clicks_answer\").isNull())\\\n",
    "                    .withColumn(\"denominator_factor\", lit(1))\\\n",
    "                    .withColumn(\"session_type_for_clicks\", \n",
    "                        (when(col(\"input_len\") >= 20, \"geq_20\")\n",
    "                            .when(col(\"input_len\") <= 10, \"leq_10\")\n",
    "                            .otherwise(\"10_20\")))\\\n",
    "                    .groupBy(\"session_type_for_clicks\")\\\n",
    "                    .agg(sum(col(\"correct_click_pred\").cast(IntegerType())).alias(\"numerator\"),\n",
    "                        sum(\"denominator_factor\").alias(\"denominator\"),\n",
    "                        count(\"*\").alias(\"category_count\"))\\\n",
    "                    .withColumn(\"clicks_recall\", col(\"numerator\")/col(\"denominator\"))\n",
    "temp.show()"
   ]
  },
  {
   "attachments": {},
   "cell_type": "markdown",
   "metadata": {},
   "source": [
    "#### Carts.\n",
    "1. Is long session doing better or short session doing better? \n",
    "2. How many sessions are their for each? "
   ]
  },
  {
   "cell_type": "code",
   "execution_count": 61,
   "metadata": {},
   "outputs": [
    {
     "name": "stdout",
     "output_type": "stream",
     "text": [
      "+----------------------+---------+-----------+--------------+-------------------+\n",
      "|session_type_for_carts|numerator|denominator|category_count|       carts_recall|\n",
      "+----------------------+---------+-----------+--------------+-------------------+\n",
      "|                leq_10|   227840|     547143|        293988| 0.4164176458439567|\n",
      "|                geq_20|     3663|      13769|          4518|0.26603239160432857|\n",
      "|                 10_20|     1944|       5193|          2551|0.37435008665511266|\n",
      "+----------------------+---------+-----------+--------------+-------------------+\n",
      "\n"
     ]
    }
   ],
   "source": [
    "temp = validationDf.filter(~col(\"carts_answer\").isNull())\\\n",
    "                    .withColumn(\"denominator_factor\", least(lit(20), size(col(\"carts_answer\"))))\\\n",
    "                    .withColumn(\"session_type_for_carts\", \n",
    "                    (when(col(\"input_len\") >= 20, \"geq_20\")\n",
    "                        .when(col(\"input_len\") <= 10, \"leq_10\")\n",
    "                        .otherwise(\"10_20\")))\\\n",
    "                    .groupBy(\"session_type_for_carts\")\\\n",
    "                    .agg(sum(col(\"correct_cart_pred\")).alias(\"numerator\"),\n",
    "                        sum(\"denominator_factor\").alias(\"denominator\"),\n",
    "                        count(\"*\").alias(\"category_count\"))\\\n",
    "                    .withColumn(\"carts_recall\", col(\"numerator\")/col(\"denominator\"))\n",
    "temp.show()"
   ]
  },
  {
   "attachments": {},
   "cell_type": "markdown",
   "metadata": {},
   "source": [
    "#### Orders.\n",
    "1. Is long session doing better or short session doing better? \n",
    "2. How many sessions are their for each? "
   ]
  },
  {
   "cell_type": "code",
   "execution_count": 62,
   "metadata": {},
   "outputs": [
    {
     "name": "stdout",
     "output_type": "stream",
     "text": [
      "+-----------------------+---------+-----------+--------------+------------------+\n",
      "|session_type_for_orders|numerator|denominator|category_count|     orders_recall|\n",
      "+-----------------------+---------+-----------+--------------+------------------+\n",
      "|                 leq_10|   182607|     284356|        140048|0.6421774114138615|\n",
      "|                 geq_20|    13664|      18573|          5964|0.7356915953265493|\n",
      "|                  10_20|     6004|       7976|          4167|0.7527582748244734|\n",
      "+-----------------------+---------+-----------+--------------+------------------+\n",
      "\n"
     ]
    }
   ],
   "source": [
    "temp = validationDf.filter(~col(\"orders_answer\").isNull())\\\n",
    "                    .withColumn(\"denominator_factor\", least(lit(20), size(col(\"orders_answer\"))))\\\n",
    "                    .withColumn(\"session_type_for_orders\", \n",
    "                    (when(col(\"input_len\") >= 20, \"geq_20\")\n",
    "                        .when(col(\"input_len\") <= 10, \"leq_10\")\n",
    "                        .otherwise(\"10_20\")))\\\n",
    "                    .groupBy(\"session_type_for_orders\")\\\n",
    "                    .agg(sum(col(\"correct_order_pred\")).alias(\"numerator\"),\n",
    "                        sum(\"denominator_factor\").alias(\"denominator\"),\n",
    "                        count(\"*\").alias(\"category_count\"))\\\n",
    "                    .withColumn(\"orders_recall\", col(\"numerator\")/col(\"denominator\"))\n",
    "temp.show()"
   ]
  },
  {
   "attachments": {},
   "cell_type": "markdown",
   "metadata": {},
   "source": [
    "#### 0.578 version, fill all the rows with 20 slots -- fill up the 6344 that's not total filled with 20 aids.\n",
    "So that the public score went from 0.577 - 0.578\n",
    "\n",
    "More detail breakdowns:  \n",
    "##### clicks:    \n",
    ".577 version    \n",
    "|leq_10|   906737|    1722937|       1722937|0.5262740309134925|  \n",
    "|geq_20|     4032|       8627|          8627|0.4673698852440014|               \n",
    "|10_20 |     3495|       6404|          6404|0.5457526545908807|  \n",
    "\n",
    "                        ----->  \n",
    ".578 version  \n",
    "|leq_10|   907500|    1722937|       1722937|  0.52671687937516|  \n",
    "|geq_20|     4143|       8627|          8627|0.4802364669062246|  \n",
    "|10_20 |     3492|       6404|          6404|0.5452841973766396|  \n",
    "\n",
    "##### carts:    \n",
    ".577 version    \n",
    "|                leq_10|   227840|     547143|        293988| 0.4164176458439567|  \n",
    "|                geq_20|     3663|      13769|          4518|0.26603239160432857|  \n",
    "|                 10_20|     1944|       5193|          2551|0.37435008665511266|    \n",
    "\n",
    "                        ----->  \n",
    ".578 version  \n",
    "|                leq_10|   228768|     547143|        293988| 0.418113728952029|  \n",
    "|                geq_20|     3794|      13769|          4518|0.2755465175394001|  \n",
    "|                 10_20|     1945|       5193|          2551|0.3745426535721163|   \n",
    "\n",
    "##### orders:    \n",
    ".577 version    \n",
    "|                 leq_10|   182607|     284356|        140048|0.6421774114138615|  \n",
    "|                 geq_20|    13664|      18573|          5964|0.7356915953265493|  \n",
    "|                  10_20|     6004|       7976|          4167|0.7527582748244734|      \n",
    "\n",
    "                        ----->  \n",
    ".578 version  \n",
    "|                 leq_10|   182799|     284356|        140048|0.6428526213619548|  \n",
    "|                 geq_20|    13706|      18573|          5964|0.7379529424433318|  \n",
    "|                  10_20|     6000|       7976|          4167|0.7522567703109327|  "
   ]
  },
  {
   "cell_type": "code",
   "execution_count": 94,
   "metadata": {},
   "outputs": [
    {
     "name": "stdout",
     "output_type": "stream",
     "text": [
      "CPU times: user 14.3 ms, sys: 6.5 ms, total: 20.8 ms\n",
      "Wall time: 2.87 s\n"
     ]
    }
   ],
   "source": [
    "%%time\n",
    "# load the data and transform\n",
    "predictions578Df = spark.read.csv(\"../../allData/validationData/submission_publicScore_578.csv\", header=True)\\\n",
    "                        .withColumn(\"session\", split(col(\"session_type\"), '_').getItem(0))\\\n",
    "                        .withColumn(\"action\", split(col(\"session_type\"), \"_\").getItem(1))\\\n",
    "                        .drop(\"session_type\")\n",
    "\n",
    "clicksPredictionDf = predictions578Df.filter(col(\"action\") == \"clicks\")\\\n",
    "                                     .drop(\"action\")\\\n",
    "                                     .withColumnRenamed(\"labels\", \"clicks_predict\")\\\n",
    "                                     .withColumn(\"clicks_predict\", split(col(\"clicks_predict\"), ' ').cast(\"array<long>\"))\\\n",
    "                                    \n",
    "cartsPredictionDf = predictions578Df.filter(col(\"action\") == \"carts\")\\\n",
    "                                    .drop(\"action\")\\\n",
    "                                    .withColumnRenamed(\"labels\", \"carts_predict\")\\\n",
    "                                    .withColumn(\"carts_predict\", split(col(\"carts_predict\"), ' ').cast(\"array<long>\"))\n",
    "\n",
    "ordersPredictionDf = predictions578Df.filter(col(\"action\") == \"orders\")\\\n",
    "                                     .drop(\"action\")\\\n",
    "                                     .withColumnRenamed(\"labels\", \"orders_predict\")\\\n",
    "                                     .withColumn(\"orders_predict\", split(col(\"orders_predict\"), ' ').cast(\"array<long>\"))\n",
    "\n",
    "predCombined578Df = clicksPredictionDf.join(cartsPredictionDf, \"session\")\\\n",
    "                                        .join(ordersPredictionDf, \"session\")\n",
    "\n",
    "validation578Df = groundTruthLabelsDf.join(predCombined578Df, \"session\", \"left\")\\\n",
    "                                     .join(inputCombinedDf, \"session\", \"left\")\\\n",
    "                                     .withColumn(\"input_len\", size(col(\"clicks_input\")) + size(col(\"carts_input\")) + size(col(\"orders_input\")))\\\n",
    "                                     .withColumn(\"correct_click_pred\", array_contains(col(\"clicks_predict\"), col(\"clicks_answer\")))\\\n",
    "                                     .withColumn(\"correct_cart_pred\", size(array_intersect(col(\"carts_predict\"), col(\"carts_answer\"))))\\\n",
    "                                     .withColumn(\"cart_recall_score\", col(\"correct_cart_pred\")/least(size(col(\"carts_answer\")), lit(20)))\\\n",
    "                                     .withColumn(\"correct_order_pred\", size(array_intersect(col(\"orders_predict\"), col(\"orders_answer\"))))\\\n",
    "                                     .withColumn(\"order_recall_score\", col(\"correct_order_pred\")/least(size(col(\"orders_answer\")), lit(20)))\\\n",
    "                                     .select(col(\"session\"),\n",
    "                                             col(\"clicks_input\"),\n",
    "                                             col(\"clicks_predict\"),\n",
    "                                             col(\"clicks_answer\"),\n",
    "                                             col(\"correct_click_pred\"),\n",
    "                                             col(\"carts_input\"),\n",
    "                                             col(\"carts_predict\"),\n",
    "                                             col(\"carts_answer\"),\n",
    "                                             col(\"correct_cart_pred\"),\n",
    "                                             col(\"cart_recall_score\"),\n",
    "                                             col(\"orders_input\"),\n",
    "                                             col(\"orders_predict\"),\n",
    "                                             col(\"orders_answer\"),\n",
    "                                             col(\"correct_order_pred\"),\n",
    "                                             col(\"order_recall_score\"),\n",
    "                                             col(\"input_len\"))\n",
    "\n",
    "# validation578Df.printSchema()"
   ]
  },
  {
   "attachments": {},
   "cell_type": "markdown",
   "metadata": {},
   "source": [
    "#### Recall in the 578 version"
   ]
  },
  {
   "cell_type": "code",
   "execution_count": 66,
   "metadata": {},
   "outputs": [
    {
     "name": "stdout",
     "output_type": "stream",
     "text": [
      "+-----------------------+---------+-----------+--------------+------------------+\n",
      "|session_type_for_clicks|numerator|denominator|category_count|     clicks_recall|\n",
      "+-----------------------+---------+-----------+--------------+------------------+\n",
      "|                 leq_10|   907500|    1722937|       1722937|  0.52671687937516|\n",
      "|                 geq_20|     4143|       8627|          8627|0.4802364669062246|\n",
      "|                  10_20|     3492|       6404|          6404|0.5452841973766396|\n",
      "+-----------------------+---------+-----------+--------------+------------------+\n",
      "\n"
     ]
    }
   ],
   "source": [
    "temp = validation578Df.filter(~col(\"clicks_answer\").isNull())\\\n",
    "                    .withColumn(\"denominator_factor\", lit(1))\\\n",
    "                    .withColumn(\"session_type_for_clicks\", \n",
    "                        (when(col(\"input_len\") >= 20, \"geq_20\")\n",
    "                            .when(col(\"input_len\") <= 10, \"leq_10\")\n",
    "                            .otherwise(\"10_20\")))\\\n",
    "                    .groupBy(\"session_type_for_clicks\")\\\n",
    "                    .agg(sum(col(\"correct_click_pred\").cast(IntegerType())).alias(\"numerator\"),\n",
    "                        sum(\"denominator_factor\").alias(\"denominator\"),\n",
    "                        count(\"*\").alias(\"category_count\"))\\\n",
    "                    .withColumn(\"clicks_recall\", col(\"numerator\")/col(\"denominator\"))\n",
    "temp.show()"
   ]
  },
  {
   "cell_type": "code",
   "execution_count": 65,
   "metadata": {},
   "outputs": [
    {
     "name": "stdout",
     "output_type": "stream",
     "text": [
      "+----------------------+---------+-----------+--------------+------------------+\n",
      "|session_type_for_carts|numerator|denominator|category_count|      carts_recall|\n",
      "+----------------------+---------+-----------+--------------+------------------+\n",
      "|                leq_10|   228768|     547143|        293988| 0.418113728952029|\n",
      "|                geq_20|     3794|      13769|          4518|0.2755465175394001|\n",
      "|                 10_20|     1945|       5193|          2551|0.3745426535721163|\n",
      "+----------------------+---------+-----------+--------------+------------------+\n",
      "\n"
     ]
    }
   ],
   "source": [
    "temp = validation578Df.filter(~col(\"carts_answer\").isNull())\\\n",
    "                    .withColumn(\"denominator_factor\", least(lit(20), size(col(\"carts_answer\"))))\\\n",
    "                    .withColumn(\"session_type_for_carts\", \n",
    "                    (when(col(\"input_len\") >= 20, \"geq_20\")\n",
    "                        .when(col(\"input_len\") <= 10, \"leq_10\")\n",
    "                        .otherwise(\"10_20\")))\\\n",
    "                    .groupBy(\"session_type_for_carts\")\\\n",
    "                    .agg(sum(col(\"correct_cart_pred\")).alias(\"numerator\"),\n",
    "                        sum(\"denominator_factor\").alias(\"denominator\"),\n",
    "                        count(\"*\").alias(\"category_count\"))\\\n",
    "                    .withColumn(\"carts_recall\", col(\"numerator\")/col(\"denominator\"))\n",
    "temp.show()"
   ]
  },
  {
   "cell_type": "code",
   "execution_count": 67,
   "metadata": {},
   "outputs": [
    {
     "name": "stdout",
     "output_type": "stream",
     "text": [
      "+-----------------------+---------+-----------+--------------+------------------+\n",
      "|session_type_for_orders|numerator|denominator|category_count|     orders_recall|\n",
      "+-----------------------+---------+-----------+--------------+------------------+\n",
      "|                 leq_10|   182799|     284356|        140048|0.6428526213619548|\n",
      "|                 geq_20|    13706|      18573|          5964|0.7379529424433318|\n",
      "|                  10_20|     6000|       7976|          4167|0.7522567703109327|\n",
      "+-----------------------+---------+-----------+--------------+------------------+\n",
      "\n"
     ]
    }
   ],
   "source": [
    "temp = validation578Df.filter(~col(\"orders_answer\").isNull())\\\n",
    "                    .withColumn(\"denominator_factor\", least(lit(20), size(col(\"orders_answer\"))))\\\n",
    "                    .withColumn(\"session_type_for_orders\", \n",
    "                    (when(col(\"input_len\") >= 20, \"geq_20\")\n",
    "                        .when(col(\"input_len\") <= 10, \"leq_10\")\n",
    "                        .otherwise(\"10_20\")))\\\n",
    "                    .groupBy(\"session_type_for_orders\")\\\n",
    "                    .agg(sum(col(\"correct_order_pred\")).alias(\"numerator\"),\n",
    "                        sum(\"denominator_factor\").alias(\"denominator\"),\n",
    "                        count(\"*\").alias(\"category_count\"))\\\n",
    "                    .withColumn(\"orders_recall\", col(\"numerator\")/col(\"denominator\"))\n",
    "temp.show()"
   ]
  },
  {
   "cell_type": "code",
   "execution_count": 35,
   "metadata": {},
   "outputs": [],
   "source": [
    "# ### Sanity check\n",
    "# temp = validation578Df.filter(~col(\"carts_answer\").isNull())\\\n",
    "#                    .withColumn(\"session_type_for_carts\", \n",
    "#                             (when(col(\"input_len\") >= 20, \"geq_20\")\n",
    "#                              .when(col(\"input_len\") <= 10, \"leq_10\")\n",
    "#                              .otherwise(\"10_20\")))\\\n",
    "#                    .groupBy(\"session_type_for_carts\")\\\n",
    "#                    .agg(count(\"*\").alias(\"category_count\"))\n",
    "\n",
    "# temp.show() "
   ]
  },
  {
   "attachments": {},
   "cell_type": "markdown",
   "metadata": {},
   "source": [
    "#### 40 recommendations for each row results"
   ]
  },
  {
   "cell_type": "code",
   "execution_count": 136,
   "metadata": {},
   "outputs": [],
   "source": [
    "## If the 40 recommendation can be added, how much improvement it can bring. \n",
    "# load the data and transform\n",
    "predictions40ItemsDf = spark.read.csv(\"../../allData/validationData/score_578_validation_40_items.csv\", header=True)\\\n",
    "                        .withColumn(\"session\", split(col(\"session_type\"), '_').getItem(0))\\\n",
    "                        .withColumn(\"action\", split(col(\"session_type\"), \"_\").getItem(1))\\\n",
    "                        .drop(\"session_type\")\n",
    "\n",
    "clicksPredictionDf = predictions40ItemsDf.filter(col(\"action\") == \"clicks\")\\\n",
    "                                     .drop(\"action\")\\\n",
    "                                     .withColumnRenamed(\"labels\", \"clicks_predict\")\\\n",
    "                                     .withColumn(\"clicks_predict\", split(col(\"clicks_predict\"), ' ').cast(\"array<long>\"))\\\n",
    "                                    \n",
    "cartsPredictionDf = predictions40ItemsDf.filter(col(\"action\") == \"carts\")\\\n",
    "                                    .drop(\"action\")\\\n",
    "                                    .withColumnRenamed(\"labels\", \"carts_predict\")\\\n",
    "                                    .withColumn(\"carts_predict\", split(col(\"carts_predict\"), ' ').cast(\"array<long>\"))\n",
    "\n",
    "ordersPredictionDf = predictions578Df.filter(col(\"action\") == \"orders\")\\\n",
    "                                     .drop(\"action\")\\\n",
    "                                     .withColumnRenamed(\"labels\", \"orders_predict\")\\\n",
    "                                     .withColumn(\"orders_predict\", split(col(\"orders_predict\"), ' ').cast(\"array<long>\"))\n",
    "\n",
    "predCombined40ItemsDf = clicksPredictionDf.join(cartsPredictionDf, \"session\")\\\n",
    "                                        .join(ordersPredictionDf, \"session\")\n",
    "\n",
    "## Minor edits to ensure recall of each row won't exceed 1\n",
    "validation40ItemsDf = groundTruthLabelsDf.join(predCombined40ItemsDf, \"session\", \"left\")\\\n",
    "                                     .join(inputCombinedDf, \"session\", \"left\")\\\n",
    "                                     .withColumn(\"input_len\", size(col(\"clicks_input\")) + size(col(\"carts_input\")) + size(col(\"orders_input\")))\\\n",
    "                                     .withColumn(\"correct_click_pred\", array_contains(col(\"clicks_predict\"), col(\"clicks_answer\")))\\\n",
    "                                     .withColumn(\"correct_cart_pred\", least(size(array_intersect(col(\"carts_predict\"), col(\"carts_answer\"))), lit(20)))\\\n",
    "                                     .withColumn(\"cart_recall_score\", col(\"correct_cart_pred\")/least(size(col(\"carts_answer\")), lit(20)))\\\n",
    "                                     .withColumn(\"correct_order_pred\", least(size(array_intersect(col(\"orders_predict\"), col(\"orders_answer\"))), lit(20)))\\\n",
    "                                     .withColumn(\"order_recall_score\", col(\"correct_order_pred\")/least(size(col(\"orders_answer\")), lit(20)))\\\n",
    "                                     .select(col(\"session\"),\n",
    "                                             col(\"clicks_input\"),\n",
    "                                             col(\"clicks_predict\"),\n",
    "                                             col(\"clicks_answer\"),\n",
    "                                             col(\"correct_click_pred\"),\n",
    "                                             col(\"carts_input\"),\n",
    "                                             col(\"carts_predict\"),\n",
    "                                             col(\"carts_answer\"),\n",
    "                                             col(\"correct_cart_pred\"),\n",
    "                                             col(\"cart_recall_score\"),\n",
    "                                             col(\"orders_input\"),\n",
    "                                             col(\"orders_predict\"),\n",
    "                                             col(\"orders_answer\"),\n",
    "                                             col(\"correct_order_pred\"),\n",
    "                                             col(\"order_recall_score\"),\n",
    "                                             col(\"input_len\"))\n",
    "\n",
    "# validation40ItemsDf.printSchema()"
   ]
  },
  {
   "cell_type": "code",
   "execution_count": 68,
   "metadata": {},
   "outputs": [
    {
     "name": "stdout",
     "output_type": "stream",
     "text": [
      "+-----------------------+---------+-----------+--------------+------------------+\n",
      "|session_type_for_clicks|numerator|denominator|category_count|     clicks_recall|\n",
      "+-----------------------+---------+-----------+--------------+------------------+\n",
      "|                 leq_10|  1008632|    1722937|       1722937|0.5854143244935828|\n",
      "|                 geq_20|     4520|       8627|          8627|0.5239364784977396|\n",
      "|                  10_20|     3735|       6404|          6404|0.5832292317301686|\n",
      "+-----------------------+---------+-----------+--------------+------------------+\n",
      "\n"
     ]
    }
   ],
   "source": [
    "temp = validation40ItemsDf.filter(~col(\"clicks_answer\").isNull())\\\n",
    "                    .withColumn(\"denominator_factor\", lit(1))\\\n",
    "                    .withColumn(\"session_type_for_clicks\", \n",
    "                        (when(col(\"input_len\") >= 20, \"geq_20\")\n",
    "                            .when(col(\"input_len\") <= 10, \"leq_10\")\n",
    "                            .otherwise(\"10_20\")))\\\n",
    "                    .groupBy(\"session_type_for_clicks\")\\\n",
    "                    .agg(sum(col(\"correct_click_pred\").cast(IntegerType())).alias(\"numerator\"),\n",
    "                        sum(\"denominator_factor\").alias(\"denominator\"),\n",
    "                        count(\"*\").alias(\"category_count\"))\\\n",
    "                    .withColumn(\"clicks_recall\", col(\"numerator\")/col(\"denominator\"))\n",
    "temp.show()"
   ]
  },
  {
   "cell_type": "code",
   "execution_count": 57,
   "metadata": {},
   "outputs": [
    {
     "name": "stdout",
     "output_type": "stream",
     "text": [
      "+----------------------+---------+-----------+-------------------+\n",
      "|session_type_for_carts|numerator|denominator|       carts_recall|\n",
      "+----------------------+---------+-----------+-------------------+\n",
      "|                leq_10|   251697|     547143|0.46002050652206095|\n",
      "|                geq_20|     4450|      13769| 0.3231897741302927|\n",
      "|                 10_20|     2141|       5193| 0.4122857693048334|\n",
      "+----------------------+---------+-----------+-------------------+\n",
      "\n"
     ]
    }
   ],
   "source": [
    "temp = validation40ItemsDf.filter(~col(\"carts_answer\").isNull())\\\n",
    "                          .withColumn(\"denominator_factor\", least(lit(20), size(col(\"carts_answer\"))))\\\n",
    "                          .withColumn(\"session_type_for_carts\", \n",
    "                            (when(col(\"input_len\") >= 20, \"geq_20\")\n",
    "                             .when(col(\"input_len\") <= 10, \"leq_10\")\n",
    "                             .otherwise(\"10_20\")))\\\n",
    "                          .groupBy(\"session_type_for_carts\")\\\n",
    "                          .agg(sum(col(\"correct_cart_pred\")).alias(\"numerator\"),\n",
    "                               sum(\"denominator_factor\").alias(\"denominator\"))\\\n",
    "                          .withColumn(\"carts_recall\", col(\"numerator\")/col(\"denominator\"))\n",
    "temp.show()"
   ]
  },
  {
   "cell_type": "code",
   "execution_count": 69,
   "metadata": {},
   "outputs": [
    {
     "name": "stdout",
     "output_type": "stream",
     "text": [
      "+-----------------------+---------+-----------+--------------+------------------+\n",
      "|session_type_for_orders|numerator|denominator|category_count|     orders_recall|\n",
      "+-----------------------+---------+-----------+--------------+------------------+\n",
      "|                 leq_10|   182799|     284356|        140048|0.6428526213619548|\n",
      "|                 geq_20|    13706|      18573|          5964|0.7379529424433318|\n",
      "|                  10_20|     6000|       7976|          4167|0.7522567703109327|\n",
      "+-----------------------+---------+-----------+--------------+------------------+\n",
      "\n"
     ]
    }
   ],
   "source": [
    "temp = validation40ItemsDf.filter(~col(\"orders_answer\").isNull())\\\n",
    "                    .withColumn(\"denominator_factor\", least(lit(20), size(col(\"orders_answer\"))))\\\n",
    "                    .withColumn(\"session_type_for_orders\", \n",
    "                    (when(col(\"input_len\") >= 20, \"geq_20\")\n",
    "                        .when(col(\"input_len\") <= 10, \"leq_10\")\n",
    "                        .otherwise(\"10_20\")))\\\n",
    "                    .groupBy(\"session_type_for_orders\")\\\n",
    "                    .agg(sum(col(\"correct_order_pred\")).alias(\"numerator\"),\n",
    "                        sum(\"denominator_factor\").alias(\"denominator\"),\n",
    "                        count(\"*\").alias(\"category_count\"))\\\n",
    "                    .withColumn(\"orders_recall\", col(\"numerator\")/col(\"denominator\"))\n",
    "temp.show()"
   ]
  },
  {
   "attachments": {},
   "cell_type": "markdown",
   "metadata": {},
   "source": [
    "### Originally interacted items V.S. sim matrix recommended items, which items do better? "
   ]
  },
  {
   "attachments": {},
   "cell_type": "markdown",
   "metadata": {},
   "source": [
    "##### Clicks"
   ]
  },
  {
   "cell_type": "code",
   "execution_count": 74,
   "metadata": {},
   "outputs": [
    {
     "name": "stdout",
     "output_type": "stream",
     "text": [
      "+--------+------------+--------------------+-------------+------------------+\n",
      "| session|clicks_input|      clicks_predict|clicks_answer|correct_click_pred|\n",
      "+--------+------------+--------------------+-------------+------------------+\n",
      "|11470443|        null|[1838655, 1779217...|      1441681|              true|\n",
      "|11663123|        null|[1536731, 198944,...|      1536731|              true|\n",
      "|11663126|        null|[1470635, 1432026...|       419937|             false|\n",
      "|11282265|        null|[672538, 873957, ...|       672538|              true|\n",
      "|11470442|        null|[751283, 327860, ...|       751283|              true|\n",
      "+--------+------------+--------------------+-------------+------------------+\n",
      "only showing top 5 rows\n",
      "\n"
     ]
    }
   ],
   "source": [
    "temp = validation578Df.select(col(\"session\"), col(\"clicks_input\"), col(\"clicks_predict\"), col(\"clicks_answer\"), col(\"correct_click_pred\"))#.show(5)"
   ]
  },
  {
   "cell_type": "code",
   "execution_count": 116,
   "metadata": {},
   "outputs": [
    {
     "name": "stdout",
     "output_type": "stream",
     "text": [
      "+------------------------+------------------+------+\n",
      "|answers_in_prev_interact|correct_click_pred|   cnt|\n",
      "+------------------------+------------------+------+\n",
      "|                    true|             false|   891|\n",
      "|                    true|              true|558812|\n",
      "|                   false|             false|821942|\n",
      "|                   false|              true|356323|\n",
      "+------------------------+------------------+------+\n",
      "\n"
     ]
    }
   ],
   "source": [
    "temp = validation578Df\\\n",
    "        .withColumn(\"clicks_input\", when(col(\"clicks_input\").isNull(), array()).otherwise(col(\"clicks_input\")))\\\n",
    "        .withColumn(\"carts_input\", when(col(\"carts_input\").isNull(), array()).otherwise(col(\"carts_input\")))\\\n",
    "        .withColumn(\"orders_input\", when(col(\"orders_input\").isNull(), array()).otherwise(col(\"orders_input\")))\\\n",
    "        .filter(~col(\"clicks_answer\").isNull())\\\n",
    "        .withColumn(\"all_interacted_items\", \n",
    "                        array_union(\n",
    "                                array_union(col(\"clicks_input\"), col(\"carts_input\")), \n",
    "                                col(\"orders_input\")\n",
    "                                )\n",
    "                    )\\\n",
    "        .withColumn(\"answers_in_prev_interact\", array_contains(col(\"all_interacted_items\"), col(\"clicks_answer\") ))\\\n",
    "        .groupBy(\"answers_in_prev_interact\", \"correct_click_pred\")\\\n",
    "        .agg(count(\"*\").alias(\"cnt\"))\n",
    "\n",
    "temp.show(5)"
   ]
  },
  {
   "attachments": {},
   "cell_type": "markdown",
   "metadata": {},
   "source": [
    "##### Carts\n",
    "Questions trying to answer in this query\n",
    "1. In three clicks_answer_size bucket (1-3, 4-9, >=10), which range the overall_recall is better?\n",
    "2. In three clicks_answer_size bucket (1-3, 4-9, >=10), does interaction_from_prev contribute more or the Co-visition Matrix contributes more?"
   ]
  },
  {
   "cell_type": "code",
   "execution_count": 129,
   "metadata": {},
   "outputs": [
    {
     "name": "stdout",
     "output_type": "stream",
     "text": [
      "+-----------+---------------------+--------------------+------+\n",
      "|answer_size|overall_recall_bucket|       pred_res_type|   cnt|\n",
      "+-----------+---------------------+--------------------+------+\n",
      "|        1_3|            0.21_0.79|prev_interact_better|  4376|\n",
      "|        1_3|            0.21_0.79|sim_matrix_rec_be...| 29355|\n",
      "|        1_3|            0.21_0.79|             similar|   825|\n",
      "|        1_3|              geq_0.8|prev_interact_better| 19746|\n",
      "|        1_3|              geq_0.8|sim_matrix_rec_be...|122193|\n",
      "|        1_3|              geq_0.8|             similar|  2388|\n",
      "|        1_3|              leq_0.2|             similar| 90512|\n",
      "|        4_9|            0.21_0.79|prev_interact_better|   404|\n",
      "|        4_9|            0.21_0.79|sim_matrix_rec_be...|  5840|\n",
      "|        4_9|            0.21_0.79|             similar|   653|\n",
      "|        4_9|              geq_0.8|prev_interact_better|    20|\n",
      "|        4_9|              geq_0.8|sim_matrix_rec_be...|   333|\n",
      "|        4_9|              geq_0.8|             similar|    22|\n",
      "|        4_9|              leq_0.2|             similar| 10521|\n",
      "|     geq_10|            0.21_0.79|prev_interact_better|  1149|\n",
      "|     geq_10|            0.21_0.79|sim_matrix_rec_be...|  2556|\n",
      "|     geq_10|            0.21_0.79|             similar|  1145|\n",
      "|     geq_10|              geq_0.8|prev_interact_better|   179|\n",
      "|     geq_10|              geq_0.8|sim_matrix_rec_be...|   220|\n",
      "|     geq_10|              geq_0.8|             similar|    76|\n",
      "|     geq_10|              leq_0.2|             similar|  8544|\n",
      "+-----------+---------------------+--------------------+------+\n",
      "\n"
     ]
    }
   ],
   "source": [
    "temp = validation578Df\\\n",
    "        .withColumn(\"clicks_input\", when(col(\"clicks_input\").isNull(), array()).otherwise(col(\"clicks_input\")))\\\n",
    "        .withColumn(\"carts_input\", when(col(\"carts_input\").isNull(), array()).otherwise(col(\"carts_input\")))\\\n",
    "        .withColumn(\"orders_input\", when(col(\"orders_input\").isNull(), array()).otherwise(col(\"orders_input\")))\\\n",
    "        .filter(~col(\"carts_answer\").isNull())\\\n",
    "        .withColumn(\"all_interacted_items\", \n",
    "                        array_union(\n",
    "                                array_union(col(\"clicks_input\"), col(\"carts_input\")), \n",
    "                                col(\"orders_input\")\n",
    "                                )\n",
    "                    )\\\n",
    "        .withColumn(\"answers_in_prev_interact\", array_intersect(col(\"carts_input\"), col(\"carts_answer\")))\\\n",
    "        .withColumn(\"answers_not_in_prev_interact\", array_except(col(\"carts_answer\"), col(\"carts_input\")))\\\n",
    "        .withColumn(\"total_answer_size\", size(col(\"carts_answer\")))\\\n",
    "        .withColumn(\"recall\", col(\"correct_cart_pred\")/col(\"total_answer_size\"))\\\n",
    "        .withColumn(\"correct_pred_from_prev_interact\", size(array_intersect(col(\"carts_answer\") ,array_intersect(col(\"carts_input\"), col(\"carts_predict\")))) )\\\n",
    "        .withColumn(\"correct_pred_from_prev_interact_succ_rate\", col(\"correct_pred_from_prev_interact\")/col(\"total_answer_size\") )\\\n",
    "        .withColumn(\"correct_pred_from_sim_matrix\", size(array_intersect(col(\"carts_answer\"), array_except(col(\"carts_predict\"), col(\"carts_input\"))))  )\\\n",
    "        .withColumn(\"correct_pred_from_sim_matrix_succ_rate\", col(\"correct_pred_from_sim_matrix\")/col(\"total_answer_size\") )\\\n",
    "        .withColumn(\"answer_size\", \n",
    "                (when(col(\"total_answer_size\") <=3 , \"1_3\")\n",
    "                        .when(col(\"input_len\") >= 10, \"geq_10\")\n",
    "                        .otherwise(\"4_9\")))\\\n",
    "        .withColumn(\"overall_recall_bucket\",\n",
    "                (when(col(\"recall\") <= 0.2 , \"leq_0.2\")\n",
    "                        .when(col(\"recall\") >= 0.8, \"geq_0.8\")\n",
    "                        .otherwise(\"0.21_0.79\")))\\\n",
    "        .withColumn(\"pred_res_type\",\n",
    "                (when(col(\"correct_pred_from_prev_interact_succ_rate\") > col(\"correct_pred_from_sim_matrix_succ_rate\") + 0.2 , \"prev_interact_better\")\n",
    "                        .when(abs(col(\"correct_pred_from_prev_interact_succ_rate\") - col(\"correct_pred_from_sim_matrix_succ_rate\")) <= 0.2, \"similar\")\n",
    "                        .otherwise(\"sim_matrix_rec_better\")) )\\\n",
    "        .groupBy(\"answer_size\", \"overall_recall_bucket\", \"pred_res_type\")\\\n",
    "        .agg(count(\"*\").alias(\"cnt\"))\\\n",
    "        .orderBy(\"answer_size\", \"overall_recall_bucket\", \"pred_res_type\")\n",
    "        \n",
    "        \n",
    "        # .select(\"session\", \"answers_in_prev_interact\", \"answers_not_in_prev_interact\",  \"total_answer_size\", \"correct_cart_pred\", \"recall\")\n",
    "        \n",
    "        # .groupBy(\"answers_in_prev_interact\", \"correct_cart_pred\")\\\n",
    "        # .agg(count(\"*\").alias(\"cnt\"))\n",
    "                # .withColumn(\"pred_from_prev_interact\", array_intersect(col(\"carts_input\"), col(\"carts_predict\")))\\\n",
    "        # .withColumn(\"pred_from_sim_matrix\", array_except(col(\"carts_predict\"), col(\"carts_input\")))\\\n",
    "\n",
    "temp.show(30)"
   ]
  },
  {
   "cell_type": "code",
   "execution_count": null,
   "metadata": {},
   "outputs": [],
   "source": []
  },
  {
   "attachments": {},
   "cell_type": "markdown",
   "metadata": {},
   "source": [
    "#### Orders"
   ]
  },
  {
   "cell_type": "code",
   "execution_count": 130,
   "metadata": {},
   "outputs": [
    {
     "name": "stdout",
     "output_type": "stream",
     "text": [
      "+-----------+---------------------+--------------------+-----+\n",
      "|answer_size|overall_recall_bucket|       pred_res_type|  cnt|\n",
      "+-----------+---------------------+--------------------+-----+\n",
      "|        1_3|            0.21_0.79|prev_interact_better|  212|\n",
      "|        1_3|            0.21_0.79|sim_matrix_rec_be...|17569|\n",
      "|        1_3|            0.21_0.79|             similar|   69|\n",
      "|        1_3|              geq_0.8|prev_interact_better| 2312|\n",
      "|        1_3|              geq_0.8|sim_matrix_rec_be...|87863|\n",
      "|        1_3|              geq_0.8|             similar|  383|\n",
      "|        1_3|              leq_0.2|             similar|21632|\n",
      "|        4_9|            0.21_0.79|prev_interact_better|    6|\n",
      "|        4_9|            0.21_0.79|sim_matrix_rec_be...| 4659|\n",
      "|        4_9|            0.21_0.79|             similar|   21|\n",
      "|        4_9|              geq_0.8|prev_interact_better|    1|\n",
      "|        4_9|              geq_0.8|sim_matrix_rec_be...|  680|\n",
      "|        4_9|              leq_0.2|             similar| 2601|\n",
      "|     geq_10|            0.21_0.79|prev_interact_better|   57|\n",
      "|     geq_10|            0.21_0.79|sim_matrix_rec_be...| 6013|\n",
      "|     geq_10|            0.21_0.79|             similar|   90|\n",
      "|     geq_10|              geq_0.8|prev_interact_better|   61|\n",
      "|     geq_10|              geq_0.8|sim_matrix_rec_be...| 4868|\n",
      "|     geq_10|              geq_0.8|             similar|   89|\n",
      "|     geq_10|              leq_0.2|             similar|  993|\n",
      "+-----------+---------------------+--------------------+-----+\n",
      "\n"
     ]
    }
   ],
   "source": [
    "temp = validation578Df\\\n",
    "        .withColumn(\"clicks_input\", when(col(\"clicks_input\").isNull(), array()).otherwise(col(\"clicks_input\")))\\\n",
    "        .withColumn(\"carts_input\", when(col(\"carts_input\").isNull(), array()).otherwise(col(\"carts_input\")))\\\n",
    "        .withColumn(\"orders_input\", when(col(\"orders_input\").isNull(), array()).otherwise(col(\"orders_input\")))\\\n",
    "        .filter(~col(\"orders_answer\").isNull())\\\n",
    "        .withColumn(\"all_interacted_items\", \n",
    "                        array_union(\n",
    "                                array_union(col(\"clicks_input\"), col(\"carts_input\")), \n",
    "                                col(\"orders_input\")\n",
    "                                )\n",
    "                    )\\\n",
    "        .withColumn(\"answers_in_prev_interact\", array_intersect(col(\"orders_input\"), col(\"orders_answer\")))\\\n",
    "        .withColumn(\"answers_not_in_prev_interact\", array_except(col(\"orders_answer\"), col(\"orders_input\")))\\\n",
    "        .withColumn(\"total_answer_size\", size(col(\"orders_answer\")))\\\n",
    "        .withColumn(\"recall\", col(\"correct_order_pred\")/col(\"total_answer_size\"))\\\n",
    "        .withColumn(\"correct_pred_from_prev_interact\", size(array_intersect(col(\"orders_answer\") ,array_intersect(col(\"orders_input\"), col(\"orders_predict\")))) )\\\n",
    "        .withColumn(\"correct_pred_from_prev_interact_succ_rate\", col(\"correct_pred_from_prev_interact\")/col(\"total_answer_size\") )\\\n",
    "        .withColumn(\"correct_pred_from_sim_matrix\", size(array_intersect(col(\"orders_answer\"), array_except(col(\"orders_predict\"), col(\"orders_input\"))))  )\\\n",
    "        .withColumn(\"correct_pred_from_sim_matrix_succ_rate\", col(\"correct_pred_from_sim_matrix\")/col(\"total_answer_size\") )\\\n",
    "        .withColumn(\"answer_size\", \n",
    "                (when(col(\"total_answer_size\") <=3 , \"1_3\")\n",
    "                        .when(col(\"input_len\") >= 10, \"geq_10\")\n",
    "                        .otherwise(\"4_9\")))\\\n",
    "        .withColumn(\"overall_recall_bucket\",\n",
    "                (when(col(\"recall\") <= 0.2 , \"leq_0.2\")\n",
    "                        .when(col(\"recall\") >= 0.8, \"geq_0.8\")\n",
    "                        .otherwise(\"0.21_0.79\")))\\\n",
    "        .withColumn(\"pred_res_type\",\n",
    "                (when(col(\"correct_pred_from_prev_interact_succ_rate\") > col(\"correct_pred_from_sim_matrix_succ_rate\") + 0.2 , \"prev_interact_better\")\n",
    "                        .when(abs(col(\"correct_pred_from_prev_interact_succ_rate\") - col(\"correct_pred_from_sim_matrix_succ_rate\")) <= 0.2, \"similar\")\n",
    "                        .otherwise(\"sim_matrix_rec_better\")) )\\\n",
    "        .groupBy(\"answer_size\", \"overall_recall_bucket\", \"pred_res_type\")\\\n",
    "        .agg(count(\"*\").alias(\"cnt\"))\\\n",
    "        .orderBy(\"answer_size\", \"overall_recall_bucket\", \"pred_res_type\")\n",
    "        \n",
    "\n",
    "temp.show(30)"
   ]
  },
  {
   "attachments": {},
   "cell_type": "markdown",
   "metadata": {},
   "source": [
    "#### Determine how much rec give from prev_interact vs sim_matrix_rec"
   ]
  },
  {
   "cell_type": "code",
   "execution_count": 134,
   "metadata": {},
   "outputs": [
    {
     "name": "stdout",
     "output_type": "stream",
     "text": [
      "+--------------+----------------------------+\n",
      "|input_len_type|avg_pure_prevInter_succ_rate|\n",
      "+--------------+----------------------------+\n",
      "|          6-10|          0.3963618288581714|\n",
      "|         11-20|           0.365603329094195|\n",
      "|         21-30|          0.3538776127344577|\n",
      "|      50_large|         0.35639868521360824|\n",
      "|           1-5|         0.45303221710280045|\n",
      "|         31_50|          0.3498187440199119|\n",
      "+--------------+----------------------------+\n",
      "\n"
     ]
    }
   ],
   "source": [
    "## For carts\n",
    "temp = validation578Df\\\n",
    "        .withColumn(\"clicks_input\", when(col(\"clicks_input\").isNull(), array()).otherwise(col(\"clicks_input\")))\\\n",
    "        .withColumn(\"carts_input\", when(col(\"carts_input\").isNull(), array()).otherwise(col(\"carts_input\")))\\\n",
    "        .withColumn(\"orders_input\", when(col(\"orders_input\").isNull(), array()).otherwise(col(\"orders_input\")))\\\n",
    "        .filter(~col(\"carts_answer\").isNull())\\\n",
    "        .withColumn(\"all_interacted_items\", \n",
    "                        array_union(\n",
    "                                array_union(col(\"clicks_input\"), col(\"carts_input\")), \n",
    "                                col(\"orders_input\")\n",
    "                                )\n",
    "                    )\\\n",
    "        .withColumn(\"input_len_type\", \n",
    "                        (when(col(\"input_len\") <= 5 , \"1-5\")\n",
    "                                .when(col(\"input_len\").between(6, 10), \"6-10\")\n",
    "                                .when(col(\"input_len\").between(11, 20), \"11-20\")\n",
    "                                .when(col(\"input_len\").between(21, 30), \"21-30\")\n",
    "                                .when(col(\"input_len\").between(31, 50), \"31_50\")\n",
    "                                .otherwise(\"50_large\")) )\\\n",
    "        .withColumn(\"pure_prevInteract_cart_succ_rate\", size(array_intersect(col(\"all_interacted_items\"), col(\"carts_answer\"))) / size(col(\"carts_answer\")) )\\\n",
    "        .groupBy(\"input_len_type\")\\\n",
    "        .agg(mean(\"pure_prevInteract_cart_succ_rate\").alias(\"avg_pure_prevInter_succ_rate\"))\n",
    "\n",
    "temp.show()"
   ]
  },
  {
   "cell_type": "code",
   "execution_count": 135,
   "metadata": {},
   "outputs": [
    {
     "name": "stdout",
     "output_type": "stream",
     "text": [
      "+--------------+--------------------+\n",
      "|input_len_type|avg_simRec_succ_rate|\n",
      "+--------------+--------------------+\n",
      "|          6-10| 0.10433520006736925|\n",
      "|         11-20| 0.06709680497824613|\n",
      "|         21-30|0.029840824888779864|\n",
      "|      50_large|0.002012041485995...|\n",
      "|           1-5| 0.15574205753260884|\n",
      "|         31_50|0.010363273598533338|\n",
      "+--------------+--------------------+\n",
      "\n"
     ]
    }
   ],
   "source": [
    "## For carts\n",
    "temp = validation578Df\\\n",
    "        .withColumn(\"clicks_input\", when(col(\"clicks_input\").isNull(), array()).otherwise(col(\"clicks_input\")))\\\n",
    "        .withColumn(\"carts_input\", when(col(\"carts_input\").isNull(), array()).otherwise(col(\"carts_input\")))\\\n",
    "        .withColumn(\"orders_input\", when(col(\"orders_input\").isNull(), array()).otherwise(col(\"orders_input\")))\\\n",
    "        .filter(~col(\"carts_answer\").isNull())\\\n",
    "        .withColumn(\"all_interacted_items\", \n",
    "                        array_union(\n",
    "                                array_union(col(\"clicks_input\"), col(\"carts_input\")), \n",
    "                                col(\"orders_input\")\n",
    "                                )\n",
    "                    )\\\n",
    "        .withColumn(\"input_len_type\", \n",
    "                        (when(col(\"input_len\") <= 5 , \"1-5\")\n",
    "                                .when(col(\"input_len\").between(6, 10), \"6-10\")\n",
    "                                .when(col(\"input_len\").between(11, 20), \"11-20\")\n",
    "                                .when(col(\"input_len\").between(21, 30), \"21-30\")\n",
    "                                .when(col(\"input_len\").between(31, 50), \"31_50\")\n",
    "                                .otherwise(\"50_large\")) )\\\n",
    "        .withColumn(\"pure_simRec_cart_succ_rate\", \n",
    "                    size( array_intersect(array_except(col(\"carts_predict\"), col(\"all_interacted_items\")), col(\"carts_answer\")) )   / size(col(\"carts_answer\")) )\\\n",
    "        .groupBy(\"input_len_type\")\\\n",
    "        .agg(mean(\"pure_simRec_cart_succ_rate\").alias(\"avg_simRec_succ_rate\"))\n",
    "\n",
    "temp.show()"
   ]
  },
  {
   "cell_type": "code",
   "execution_count": 137,
   "metadata": {},
   "outputs": [
    {
     "name": "stdout",
     "output_type": "stream",
     "text": [
      "+--------------+--------------------+\n",
      "|input_len_type|avg_simRec_succ_rate|\n",
      "+--------------+--------------------+\n",
      "|          6-10| 0.14912531314058414|\n",
      "|         11-20|  0.1165172027467736|\n",
      "|         21-30| 0.08255463153220802|\n",
      "|      50_large| 0.01829028538629268|\n",
      "|           1-5|  0.1925705442456854|\n",
      "|         31_50|0.053005850087686705|\n",
      "+--------------+--------------------+\n",
      "\n"
     ]
    }
   ],
   "source": [
    "## Since prev_interact are always prioritized, let's see if we expand the rec size can help, \n",
    "temp = validation40ItemsDf\\\n",
    "        .withColumn(\"clicks_input\", when(col(\"clicks_input\").isNull(), array()).otherwise(col(\"clicks_input\")))\\\n",
    "        .withColumn(\"carts_input\", when(col(\"carts_input\").isNull(), array()).otherwise(col(\"carts_input\")))\\\n",
    "        .withColumn(\"orders_input\", when(col(\"orders_input\").isNull(), array()).otherwise(col(\"orders_input\")))\\\n",
    "        .filter(~col(\"carts_answer\").isNull())\\\n",
    "        .withColumn(\"all_interacted_items\", \n",
    "                        array_union(\n",
    "                                array_union(col(\"clicks_input\"), col(\"carts_input\")), \n",
    "                                col(\"orders_input\")\n",
    "                                )\n",
    "                    )\\\n",
    "        .withColumn(\"input_len_type\", \n",
    "                        (when(col(\"input_len\") <= 5 , \"1-5\")\n",
    "                                .when(col(\"input_len\").between(6, 10), \"6-10\")\n",
    "                                .when(col(\"input_len\").between(11, 20), \"11-20\")\n",
    "                                .when(col(\"input_len\").between(21, 30), \"21-30\")\n",
    "                                .when(col(\"input_len\").between(31, 50), \"31_50\")\n",
    "                                .otherwise(\"50_large\")) )\\\n",
    "        .withColumn(\"pure_simRec_cart_succ_rate\", \n",
    "                    size( array_intersect(array_except(col(\"carts_predict\"), col(\"all_interacted_items\")), col(\"carts_answer\")) )   / size(col(\"carts_answer\")) )\\\n",
    "        .groupBy(\"input_len_type\")\\\n",
    "        .agg(mean(\"pure_simRec_cart_succ_rate\").alias(\"avg_simRec_succ_rate\"))\n",
    "\n",
    "temp.show()"
   ]
  },
  {
   "cell_type": "code",
   "execution_count": 133,
   "metadata": {},
   "outputs": [
    {
     "name": "stdout",
     "output_type": "stream",
     "text": [
      "+--------------+----------------------------+\n",
      "|input_len_type|avg_pure_prevInter_succ_rate|\n",
      "+--------------+----------------------------+\n",
      "|          6-10|          0.7120922048294532|\n",
      "|         11-20|          0.7235904922387947|\n",
      "|         21-30|          0.7315703236083836|\n",
      "|      50_large|          0.7564674503884453|\n",
      "|           1-5|          0.6211215084093366|\n",
      "|         31_50|          0.7488131392091713|\n",
      "+--------------+----------------------------+\n",
      "\n"
     ]
    }
   ],
   "source": [
    "## For orders\n",
    "temp = validation578Df\\\n",
    "        .withColumn(\"clicks_input\", when(col(\"clicks_input\").isNull(), array()).otherwise(col(\"clicks_input\")))\\\n",
    "        .withColumn(\"carts_input\", when(col(\"carts_input\").isNull(), array()).otherwise(col(\"carts_input\")))\\\n",
    "        .withColumn(\"orders_input\", when(col(\"orders_input\").isNull(), array()).otherwise(col(\"orders_input\")))\\\n",
    "        .filter(~col(\"orders_answer\").isNull())\\\n",
    "        .withColumn(\"all_interacted_items\", \n",
    "                        array_union(\n",
    "                                array_union(col(\"clicks_input\"), col(\"carts_input\")), \n",
    "                                col(\"orders_input\")\n",
    "                                )\n",
    "                    )\\\n",
    "        .withColumn(\"input_len_type\", \n",
    "                        (when(col(\"input_len\") <= 5 , \"1-5\")\n",
    "                                .when(col(\"input_len\").between(6, 10), \"6-10\")\n",
    "                                .when(col(\"input_len\").between(11, 20), \"11-20\")\n",
    "                                .when(col(\"input_len\").between(21, 30), \"21-30\")\n",
    "                                .when(col(\"input_len\").between(31, 50), \"31_50\")\n",
    "                                .otherwise(\"50_large\")) )\\\n",
    "        .withColumn(\"pure_prevInteract_order_succ_rate\", size(array_intersect(col(\"all_interacted_items\"), col(\"orders_answer\"))) / size(col(\"orders_answer\")) )\\\n",
    "        .groupBy(\"input_len_type\")\\\n",
    "        .agg(mean(\"pure_prevInteract_order_succ_rate\").alias(\"avg_pure_prevInter_succ_rate\"))\n",
    "\n",
    "temp.show()"
   ]
  },
  {
   "cell_type": "code",
   "execution_count": null,
   "metadata": {},
   "outputs": [],
   "source": []
  },
  {
   "cell_type": "code",
   "execution_count": null,
   "metadata": {},
   "outputs": [],
   "source": []
  },
  {
   "cell_type": "code",
   "execution_count": 131,
   "metadata": {},
   "outputs": [
    {
     "data": {
      "text/plain": [
       "418"
      ]
     },
     "execution_count": 131,
     "metadata": {},
     "output_type": "execute_result"
    }
   ],
   "source": [
    "gc.collect()"
   ]
  },
  {
   "cell_type": "code",
   "execution_count": null,
   "metadata": {},
   "outputs": [],
   "source": []
  }
 ],
 "metadata": {
  "kernelspec": {
   "display_name": "base",
   "language": "python",
   "name": "python3"
  },
  "language_info": {
   "codemirror_mode": {
    "name": "ipython",
    "version": 3
   },
   "file_extension": ".py",
   "mimetype": "text/x-python",
   "name": "python",
   "nbconvert_exporter": "python",
   "pygments_lexer": "ipython3",
   "version": "3.8.3 (default, Jul  2 2020, 11:26:31) \n[Clang 10.0.0 ]"
  },
  "orig_nbformat": 4,
  "vscode": {
   "interpreter": {
    "hash": "ff58dbd0ec383761c792d0b6d4f0a9690d9c9b1bec648659fb440990235d5b98"
   }
  }
 },
 "nbformat": 4,
 "nbformat_minor": 2
}
