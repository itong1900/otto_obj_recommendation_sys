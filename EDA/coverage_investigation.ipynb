{
 "cells": [
  {
   "cell_type": "code",
   "execution_count": null,
   "metadata": {},
   "outputs": [],
   "source": []
  },
  {
   "cell_type": "code",
   "execution_count": 70,
   "metadata": {},
   "outputs": [],
   "source": [
    "# %%time\n",
    "# test_labels = pd.read_json(\"../../allData/validationData/out_7day_test/test_labels.jsonl\", lines=True)\n",
    "# test_labels.iloc[0][\"labels\"]\n",
    "# predictions = pd.read_csv(\"../../allData/validationData/submission_cartInfWeight_425.csv\")\n",
    "# inputMetaData = pd.read_json(\"../../allData/validationData/out_7day_test/test_sessions.jsonl\", lines=True)"
   ]
  },
  {
   "cell_type": "code",
   "execution_count": 2,
   "metadata": {},
   "outputs": [],
   "source": [
    "import pyspark\n",
    "from pyspark import SparkContext, SparkConf\n",
    "from pyspark.sql import SparkSession\n",
    "from pyspark.sql.functions import *\n",
    "from pyspark.sql.window import *\n",
    "from pyspark.sql.types import ArrayType, FloatType, LongType, IntegerType\n",
    "import numpy as np\n",
    "import pandas as pd\n",
    "import os\n",
    "#import shutil"
   ]
  },
  {
   "cell_type": "code",
   "execution_count": 4,
   "metadata": {},
   "outputs": [
    {
     "name": "stdout",
     "output_type": "stream",
     "text": [
      "CPU times: user 13 ms, sys: 17.8 ms, total: 30.8 ms\n",
      "Wall time: 4.77 s\n"
     ]
    }
   ],
   "source": [
    "%%time\n",
    "spark = SparkSession.builder.appName(\"coverage_investigation\").getOrCreate()"
   ]
  },
  {
   "cell_type": "code",
   "execution_count": 38,
   "metadata": {},
   "outputs": [
    {
     "name": "stdout",
     "output_type": "stream",
     "text": [
      "root\n",
      " |-- session: long (nullable = true)\n",
      " |-- clicks_answer: long (nullable = true)\n",
      " |-- carts_answer: array (nullable = true)\n",
      " |    |-- element: long (containsNull = true)\n",
      " |-- orders_answer: array (nullable = true)\n",
      " |    |-- element: long (containsNull = true)\n",
      "\n",
      "CPU times: user 2.9 ms, sys: 2.83 ms, total: 5.72 ms\n",
      "Wall time: 2.13 s\n"
     ]
    }
   ],
   "source": [
    "%%time\n",
    "groundTruthLabelsDf = spark.read.json(\"../../allData/validationData/out_7day_test/test_labels.jsonl\",lineSep='\\n')\\\n",
    "                         .withColumn(\"clicks_answer\", col(\"labels.clicks\"))\\\n",
    "                         .withColumn(\"carts_answer\", col(\"labels.carts\"))\\\n",
    "                         .withColumn(\"orders_answer\", col(\"labels.orders\"))\\\n",
    "                         .drop(\"labels\")\n",
    "groundTruthLabelsDf.printSchema()"
   ]
  },
  {
   "cell_type": "code",
   "execution_count": 41,
   "metadata": {},
   "outputs": [
    {
     "data": {
      "text/plain": [
       "150179"
      ]
     },
     "execution_count": 41,
     "metadata": {},
     "output_type": "execute_result"
    }
   ],
   "source": [
    "groundTruthLabelsDf.count()"
   ]
  },
  {
   "cell_type": "code",
   "execution_count": 7,
   "metadata": {},
   "outputs": [
    {
     "name": "stdout",
     "output_type": "stream",
     "text": [
      "root\n",
      " |-- session: string (nullable = true)\n",
      " |-- clicks_predict: array (nullable = true)\n",
      " |    |-- element: long (containsNull = true)\n",
      " |-- carts_predict: array (nullable = true)\n",
      " |    |-- element: long (containsNull = true)\n",
      " |-- orders_predict: array (nullable = true)\n",
      " |    |-- element: long (containsNull = true)\n",
      "\n",
      "CPU times: user 8.36 ms, sys: 2.95 ms, total: 11.3 ms\n",
      "Wall time: 1.03 s\n"
     ]
    }
   ],
   "source": [
    "%%time\n",
    "rawPredictionsDf = spark.read.csv(\"../../allData/validationData/submission_cartInfWeight_425.csv\", header=True)\\\n",
    "                        .withColumn(\"session\", split(col(\"session_type\"), '_').getItem(0))\\\n",
    "                        .withColumn(\"action\", split(col(\"session_type\"), \"_\").getItem(1))\\\n",
    "                        .drop(\"session_type\")\n",
    "\n",
    "clicksPredictionDf = rawPredictionsDf.filter(col(\"action\") == \"clicks\")\\\n",
    "                                     .drop(\"action\")\\\n",
    "                                     .withColumnRenamed(\"labels\", \"clicks_predict\")\\\n",
    "                                     .withColumn(\"clicks_predict\", split(col(\"clicks_predict\"), ' ').cast(\"array<long>\"))\\\n",
    "                                    \n",
    "cartsPredictionDf = rawPredictionsDf.filter(col(\"action\") == \"carts\")\\\n",
    "                                    .drop(\"action\")\\\n",
    "                                    .withColumnRenamed(\"labels\", \"carts_predict\")\\\n",
    "                                    .withColumn(\"carts_predict\", split(col(\"carts_predict\"), ' ').cast(\"array<long>\"))\n",
    "\n",
    "ordersPredictionDf = rawPredictionsDf.filter(col(\"action\") == \"orders\")\\\n",
    "                                     .drop(\"action\")\\\n",
    "                                     .withColumnRenamed(\"labels\", \"orders_predict\")\\\n",
    "                                     .withColumn(\"orders_predict\", split(col(\"orders_predict\"), ' ').cast(\"array<long>\"))\n",
    "\n",
    "combinePredictionDf = clicksPredictionDf.join(cartsPredictionDf, \"session\")\\\n",
    "                                        .join(ordersPredictionDf, \"session\")\n",
    "\n",
    "combinePredictionDf.printSchema()"
   ]
  },
  {
   "cell_type": "code",
   "execution_count": 36,
   "metadata": {},
   "outputs": [
    {
     "name": "stdout",
     "output_type": "stream",
     "text": [
      "root\n",
      " |-- session: long (nullable = true)\n",
      " |-- events: struct (nullable = true)\n",
      " |    |-- aid: long (nullable = true)\n",
      " |    |-- ts: long (nullable = true)\n",
      " |    |-- type: string (nullable = true)\n",
      "\n",
      "CPU times: user 7.96 ms, sys: 6.32 ms, total: 14.3 ms\n",
      "Wall time: 2.32 s\n"
     ]
    }
   ],
   "source": [
    "%%time\n",
    "inputDataDf = spark.read.json(\"../../allData/validationData/out_7day_test/test_sessions.jsonl\", lineSep='\\n')\\\n",
    "                        .select(\"session\", explode(\"events\").alias(\"events\"))\n",
    "\n",
    "clicksInputDf = inputDataDf.filter(col(\"events.type\") == \"clicks\")\\\n",
    "                           .withColumn(\"aid\", col(\"events.aid\"))\\\n",
    "                           .groupBy(\"session\")\\\n",
    "                           .agg(collect_list(\"aid\").alias(\"clicks_input\"))\n",
    "\n",
    "cartsInputDf = inputDataDf.filter(col(\"events.type\") == \"carts\")\\\n",
    "                           .withColumn(\"aid\", col(\"events.aid\"))\\\n",
    "                           .groupBy(\"session\")\\\n",
    "                           .agg(collect_list(\"aid\").alias(\"carts_input\"))\n",
    "\n",
    "ordersInputDf = inputDataDf.filter(col(\"events.type\") == \"orders\")\\\n",
    "                           .withColumn(\"aid\", col(\"events.aid\"))\\\n",
    "                           .groupBy(\"session\")\\\n",
    "                           .agg(collect_list(\"aid\").alias(\"orders_input\"))\n",
    "\n",
    "inputCombinedDf = clicksInputDf.join(cartsInputDf, \"session\")\\\n",
    "                               .join(ordersInputDf, \"session\")\n",
    "\n",
    "inputDataDf.printSchema()"
   ]
  },
  {
   "cell_type": "code",
   "execution_count": 50,
   "metadata": {},
   "outputs": [
    {
     "name": "stdout",
     "output_type": "stream",
     "text": [
      "CPU times: user 2.23 ms, sys: 2.27 ms, total: 4.51 ms\n",
      "Wall time: 261 ms\n"
     ]
    }
   ],
   "source": [
    "%%time\n",
    "validationDf = groundTruthLabelsDf.join(combinePredictionDf, \"session\", \"left\")\\\n",
    "                                  .join(inputCombinedDf, \"session\", \"left\")"
   ]
  },
  {
   "cell_type": "code",
   "execution_count": 51,
   "metadata": {},
   "outputs": [
    {
     "name": "stdout",
     "output_type": "stream",
     "text": [
      "root\n",
      " |-- session: long (nullable = true)\n",
      " |-- clicks_answer: long (nullable = true)\n",
      " |-- carts_answer: array (nullable = true)\n",
      " |    |-- element: long (containsNull = true)\n",
      " |-- orders_answer: array (nullable = true)\n",
      " |    |-- element: long (containsNull = true)\n",
      " |-- clicks_predict: array (nullable = true)\n",
      " |    |-- element: long (containsNull = true)\n",
      " |-- carts_predict: array (nullable = true)\n",
      " |    |-- element: long (containsNull = true)\n",
      " |-- orders_predict: array (nullable = true)\n",
      " |    |-- element: long (containsNull = true)\n",
      " |-- clicks_input: array (nullable = true)\n",
      " |    |-- element: long (containsNull = false)\n",
      " |-- carts_input: array (nullable = true)\n",
      " |    |-- element: long (containsNull = false)\n",
      " |-- orders_input: array (nullable = true)\n",
      " |    |-- element: long (containsNull = false)\n",
      "\n"
     ]
    }
   ],
   "source": [
    "validationDf.printSchema()"
   ]
  },
  {
   "cell_type": "code",
   "execution_count": 52,
   "metadata": {},
   "outputs": [
    {
     "data": {
      "text/plain": [
       "1783737"
      ]
     },
     "execution_count": 52,
     "metadata": {},
     "output_type": "execute_result"
    }
   ],
   "source": [
    "validationDf.count()"
   ]
  },
  {
   "attachments": {},
   "cell_type": "markdown",
   "metadata": {},
   "source": [
    "## Attach meta data and analysis column to validation DF"
   ]
  },
  {
   "cell_type": "code",
   "execution_count": 156,
   "metadata": {},
   "outputs": [],
   "source": [
    "#from pyspark.sql.types import IntegerType,BooleanType,DateType,StringType"
   ]
  },
  {
   "cell_type": "code",
   "execution_count": 53,
   "metadata": {},
   "outputs": [],
   "source": [
    "validationDf = validationDf.withColumn(\"input_len\", size(col(\"clicks_input\")) + size(col(\"carts_input\")) + size(col(\"orders_input\")))\\\n",
    "                           .withColumn(\"correct_click_pred\", array_contains(col(\"clicks_predict\"), col(\"clicks_answer\")))\\\n",
    "                           .withColumn(\"correct_cart_pred\", size(array_intersect(col(\"carts_predict\"), col(\"carts_answer\"))))\\\n",
    "                           .withColumn(\"cart_recall_score\", col(\"correct_cart_pred\")/least(size(col(\"carts_answer\")), lit(20)))\\\n",
    "                           .withColumn(\"correct_order_pred\", size(array_intersect(col(\"orders_predict\"), col(\"orders_answer\"))))\\\n",
    "                           .withColumn(\"order_recall_score\", col(\"correct_order_pred\")/least(size(col(\"orders_answer\")), lit(20)))\\\n",
    "                           .select(col(\"session\"),\n",
    "                                   col(\"clicks_input\"),\n",
    "                                   col(\"clicks_predict\"),\n",
    "                                   col(\"clicks_answer\"),\n",
    "                                   col(\"correct_click_pred\"),\n",
    "                                   col(\"carts_input\"),\n",
    "                                   col(\"carts_predict\"),\n",
    "                                   col(\"carts_answer\"),\n",
    "                                   col(\"correct_cart_pred\"),\n",
    "                                   col(\"cart_recall_score\"),\n",
    "                                   col(\"orders_input\"),\n",
    "                                   col(\"orders_predict\"),\n",
    "                                   col(\"orders_answer\"),\n",
    "                                   col(\"correct_order_pred\"),\n",
    "                                   col(\"order_recall_score\"),\n",
    "                                   col(\"input_len\"))\n",
    "\n"
   ]
  },
  {
   "cell_type": "code",
   "execution_count": 48,
   "metadata": {},
   "outputs": [
    {
     "data": {
      "text/plain": [
       "1783737"
      ]
     },
     "execution_count": 48,
     "metadata": {},
     "output_type": "execute_result"
    }
   ],
   "source": [
    "validationDf.count()"
   ]
  },
  {
   "cell_type": "code",
   "execution_count": 54,
   "metadata": {},
   "outputs": [
    {
     "name": "stdout",
     "output_type": "stream",
     "text": [
      "root\n",
      " |-- session: long (nullable = true)\n",
      " |-- clicks_input: array (nullable = true)\n",
      " |    |-- element: long (containsNull = false)\n",
      " |-- clicks_predict: array (nullable = true)\n",
      " |    |-- element: long (containsNull = true)\n",
      " |-- clicks_answer: long (nullable = true)\n",
      " |-- correct_click_pred: boolean (nullable = true)\n",
      " |-- carts_input: array (nullable = true)\n",
      " |    |-- element: long (containsNull = false)\n",
      " |-- carts_predict: array (nullable = true)\n",
      " |    |-- element: long (containsNull = true)\n",
      " |-- carts_answer: array (nullable = true)\n",
      " |    |-- element: long (containsNull = true)\n",
      " |-- correct_cart_pred: integer (nullable = false)\n",
      " |-- cart_recall_score: double (nullable = true)\n",
      " |-- orders_input: array (nullable = true)\n",
      " |    |-- element: long (containsNull = false)\n",
      " |-- orders_predict: array (nullable = true)\n",
      " |    |-- element: long (containsNull = true)\n",
      " |-- orders_answer: array (nullable = true)\n",
      " |    |-- element: long (containsNull = true)\n",
      " |-- correct_order_pred: integer (nullable = false)\n",
      " |-- order_recall_score: double (nullable = true)\n",
      " |-- input_len: integer (nullable = false)\n",
      "\n"
     ]
    }
   ],
   "source": [
    "validationDf.printSchema()"
   ]
  },
  {
   "attachments": {},
   "cell_type": "markdown",
   "metadata": {},
   "source": [
    "## Analysis"
   ]
  },
  {
   "attachments": {},
   "cell_type": "markdown",
   "metadata": {},
   "source": [
    "#### Sanity Checks"
   ]
  },
  {
   "cell_type": "code",
   "execution_count": 57,
   "metadata": {},
   "outputs": [
    {
     "name": "stdout",
     "output_type": "stream",
     "text": [
      "CPU times: user 14 ms, sys: 10.9 ms, total: 24.9 ms\n",
      "Wall time: 46.8 s\n"
     ]
    },
    {
     "data": {
      "text/plain": [
       "6433"
      ]
     },
     "execution_count": 57,
     "metadata": {},
     "output_type": "execute_result"
    }
   ],
   "source": [
    "%%time\n",
    "## if input_length >= 20, sim matrics are not used, and all predictions should come input, with different action weights for clicks/orders  or carts predictions. \n",
    "# Expect 0 output if no the inference logic was implemented correctly\n",
    "temp1 = validationDf.filter(col(\"input_len\") >= 20).select(col(\"session\") ,col(\"input_len\"), col(\"clicks_predict\"), col(\"carts_predict\"), col(\"orders_predict\"))\\\n",
    "                    .withColumn(\"temp_clicks_pred_size\", size(col(\"clicks_predict\")))\\\n",
    "                    .withColumn(\"temp_carts_pred_size\", size(col(\"carts_predict\")))\\\n",
    "                    .withColumn(\"temp_orders_pred_size\", size(col(\"orders_predict\")))\\\n",
    "                    .filter((col(\"temp_clicks_pred_size\") != 20) | (col(\"temp_carts_pred_size\") != 20) | (col(\"temp_orders_pred_size\") != 20))#.count()\n",
    "\n",
    "temp1.count()"
   ]
  },
  {
   "cell_type": "code",
   "execution_count": 165,
   "metadata": {},
   "outputs": [
    {
     "name": "stdout",
     "output_type": "stream",
     "text": [
      "+--------+---------+--------------------+--------------------+--------------------+---------------------+--------------------+---------------------+\n",
      "| session|input_len|      clicks_predict|       carts_predict|      orders_predict|temp_clicks_pred_size|temp_carts_pred_size|temp_orders_pred_size|\n",
      "+--------+---------+--------------------+--------------------+--------------------+---------------------+--------------------+---------------------+\n",
      "|11098756|       21|[425693, 1363434,...|[425693, 866492, ...|[425693, 1363434,...|                   11|                  11|                   11|\n",
      "|11098904|       38|[728938, 1351827,...|[1351827, 728938,...|[728938, 1351827,...|                   16|                  16|                   16|\n",
      "|11099298|       61|[1320573, 1239758...|[1320573, 1239758...|[1320573, 1239758...|                   17|                  17|                   17|\n",
      "|11099842|       23|[1186098, 1198275...|[1186098, 1198275...|[1186098, 1198275...|                   10|                  10|                   10|\n",
      "|11101038|       37|[1411545, 1194189...|[1676702, 1411545...|[1411545, 1194189...|                   17|                  17|                   17|\n",
      "+--------+---------+--------------------+--------------------+--------------------+---------------------+--------------------+---------------------+\n",
      "only showing top 5 rows\n",
      "\n"
     ]
    }
   ],
   "source": [
    "temp1.show(5)"
   ]
  },
  {
   "cell_type": "code",
   "execution_count": 169,
   "metadata": {},
   "outputs": [
    {
     "name": "stdout",
     "output_type": "stream",
     "text": [
      "+--------+----------------------------------------------------------------------------------+\n",
      "|session |clicks_input                                                                      |\n",
      "+--------+----------------------------------------------------------------------------------+\n",
      "|11098756|[425693, 36607, 425693, 425693, 866492, 1285074, 425693, 1748482, 1811301, 372866]|\n",
      "+--------+----------------------------------------------------------------------------------+\n",
      "\n"
     ]
    }
   ],
   "source": [
    "## found over 6k sessions have such issues, didn't suppplement the predictions when there's duplicates\n",
    "validationDf.filter(col(\"session\") == 11098756).select(col(\"session\"), col(\"clicks_input\")).show(1, False)"
   ]
  },
  {
   "attachments": {},
   "cell_type": "markdown",
   "metadata": {},
   "source": [
    "### Coverage test"
   ]
  },
  {
   "cell_type": "code",
   "execution_count": 60,
   "metadata": {},
   "outputs": [
    {
     "name": "stdout",
     "output_type": "stream",
     "text": [
      "+---------+-----------+-------------------------+\n",
      "|numerator|denominator|carts_recall_sanity_check|\n",
      "+---------+-----------+-------------------------+\n",
      "|   233447|     566105|       0.4123740295528215|\n",
      "+---------+-----------+-------------------------+\n",
      "\n"
     ]
    }
   ],
   "source": [
    "## First replicate the metric, from the evalute.py. We know this submission will have the following score \n",
    "# {'clicks': 0.5260534141019858, 'carts': 0.4123740295528215, 'orders': 0.6506006657982342, 'total': 0.5666779497549854}\n",
    "# N = 35793 in this test set, => number of session\n",
    "\n",
    "temp_2 = validationDf.filter(~col(\"carts_answer\").isNull())\\\n",
    "                     .select(col(\"session\"), col(\"correct_cart_pred\") ,col(\"carts_answer\"), col(\"carts_predict\"))\\\n",
    "                     .withColumn(\"denominator_factor\", least(lit(20), size(col(\"carts_answer\"))))\\\n",
    "                     .agg(sum(\"correct_cart_pred\").alias(\"numerator\"),\n",
    "                          sum(\"denominator_factor\").alias(\"denominator\"))\\\n",
    "                     .withColumn(\"carts_recall_sanity_check\", col(\"numerator\")/col(\"denominator\"))\n",
    "temp_2.show()"
   ]
  },
  {
   "cell_type": "code",
   "execution_count": 61,
   "metadata": {},
   "outputs": [
    {
     "name": "stdout",
     "output_type": "stream",
     "text": [
      "+---------+-----------+--------------------------+\n",
      "|numerator|denominator|orders_recall_sanity_check|\n",
      "+---------+-----------+--------------------------+\n",
      "|   202275|     310905|        0.6506006657982342|\n",
      "+---------+-----------+--------------------------+\n",
      "\n"
     ]
    }
   ],
   "source": [
    "temp_3 = validationDf.filter(~col(\"orders_answer\").isNull())\\\n",
    "                     .select(col(\"session\"), col(\"correct_order_pred\") ,col(\"orders_answer\"), col(\"orders_predict\"))\\\n",
    "                     .withColumn(\"denominator_factor\", least(lit(20), size(col(\"orders_answer\"))))\\\n",
    "                     .agg(sum(\"correct_order_pred\").alias(\"numerator\"),\n",
    "                          sum(\"denominator_factor\").alias(\"denominator\"))\\\n",
    "                     .withColumn(\"orders_recall_sanity_check\", col(\"numerator\")/col(\"denominator\"))\n",
    "temp_3.show()"
   ]
  },
  {
   "cell_type": "code",
   "execution_count": 64,
   "metadata": {},
   "outputs": [
    {
     "name": "stdout",
     "output_type": "stream",
     "text": [
      "+---------+-----------+--------------------------+\n",
      "|numerator|denominator|clicks_recall_sanity_check|\n",
      "+---------+-----------+--------------------------+\n",
      "|   914264|    1737968|        0.5260534141019858|\n",
      "+---------+-----------+--------------------------+\n",
      "\n"
     ]
    }
   ],
   "source": [
    "temp_4 = validationDf.filter(~col(\"clicks_answer\").isNull())\\\n",
    "                     .select(col(\"session\"), col(\"correct_click_pred\") ,col(\"clicks_answer\"), col(\"clicks_predict\"))\\\n",
    "                     .withColumn(\"denominator_factor\", lit(1))\\\n",
    "                     .agg(sum(col(\"correct_click_pred\").cast(IntegerType())).alias(\"numerator\"),\n",
    "                          sum(\"denominator_factor\").alias(\"denominator\"))\\\n",
    "                     .withColumn(\"clicks_recall_sanity_check\", col(\"numerator\")/col(\"denominator\"))\n",
    "temp_4.show()"
   ]
  },
  {
   "attachments": {},
   "cell_type": "markdown",
   "metadata": {},
   "source": [
    "Good, that's exactly match the recall computed by the offical code. It's now safe to do the analysis and define more metrics."
   ]
  },
  {
   "attachments": {},
   "cell_type": "markdown",
   "metadata": {},
   "source": [
    "#### Clicks.\n",
    "1. Is long session doing better or short session doing better? \n",
    "2. How many sessions are their for each? "
   ]
  },
  {
   "cell_type": "code",
   "execution_count": 66,
   "metadata": {},
   "outputs": [
    {
     "name": "stdout",
     "output_type": "stream",
     "text": [
      "+---------+-----------+--------------------------+\n",
      "|numerator|denominator|clicks_recall_longSessions|\n",
      "+---------+-----------+--------------------------+\n",
      "|     4032|       8627|        0.4673698852440014|\n",
      "+---------+-----------+--------------------------+\n",
      "\n"
     ]
    }
   ],
   "source": [
    "temp = validationDf.filter(~col(\"clicks_answer\").isNull())\\\n",
    "                   .filter(col(\"input_len\") >= 20)\\\n",
    "                   .withColumn(\"denominator_factor\", lit(1))\\\n",
    "                   .agg(sum(col(\"correct_click_pred\").cast(IntegerType())).alias(\"numerator\"),\n",
    "                        sum(\"denominator_factor\").alias(\"denominator\"))\\\n",
    "                   .withColumn(\"clicks_recall_longSessions\", col(\"numerator\")/col(\"denominator\"))\n",
    "temp.show()"
   ]
  },
  {
   "cell_type": "code",
   "execution_count": 68,
   "metadata": {},
   "outputs": [
    {
     "name": "stdout",
     "output_type": "stream",
     "text": [
      "+---------+-----------+----------------------------+\n",
      "|numerator|denominator|clicks_recall_mediumSessions|\n",
      "+---------+-----------+----------------------------+\n",
      "|     3495|       6404|          0.5457526545908807|\n",
      "+---------+-----------+----------------------------+\n",
      "\n"
     ]
    }
   ],
   "source": [
    "temp = validationDf.filter(~col(\"clicks_answer\").isNull())\\\n",
    "                   .filter((col(\"input_len\") < 20) & (col(\"input_len\") > 10))\\\n",
    "                   .withColumn(\"denominator_factor\", lit(1))\\\n",
    "                   .agg(sum(col(\"correct_click_pred\").cast(IntegerType())).alias(\"numerator\"),\n",
    "                        sum(\"denominator_factor\").alias(\"denominator\"))\\\n",
    "                   .withColumn(\"clicks_recall_mediumSessions\", col(\"numerator\")/col(\"denominator\"))\n",
    "temp.show()"
   ]
  },
  {
   "cell_type": "code",
   "execution_count": 72,
   "metadata": {},
   "outputs": [
    {
     "name": "stdout",
     "output_type": "stream",
     "text": [
      "+---------+-----------+---------------------------+\n",
      "|numerator|denominator|clicks_recall_shortSessions|\n",
      "+---------+-----------+---------------------------+\n",
      "|   906737|    1722937|         0.5262740309134925|\n",
      "+---------+-----------+---------------------------+\n",
      "\n"
     ]
    }
   ],
   "source": [
    "temp = validationDf.filter(~col(\"clicks_answer\").isNull())\\\n",
    "                   .filter((col(\"input_len\") <= 10))\\\n",
    "                   .withColumn(\"denominator_factor\", lit(1))\\\n",
    "                   .agg(sum(col(\"correct_click_pred\").cast(IntegerType())).alias(\"numerator\"),\n",
    "                        sum(\"denominator_factor\").alias(\"denominator\"))\\\n",
    "                   .withColumn(\"clicks_recall_shortSessions\", col(\"numerator\")/col(\"denominator\"))\n",
    "temp.show()"
   ]
  },
  {
   "cell_type": "code",
   "execution_count": 73,
   "metadata": {},
   "outputs": [
    {
     "name": "stdout",
     "output_type": "stream",
     "text": [
      "+-----------------------+--------------+\n",
      "|session_type_for_clicks|category_count|\n",
      "+-----------------------+--------------+\n",
      "|                 leq_10|       1722937|\n",
      "|                 geq_20|          8627|\n",
      "|                  10_20|          6404|\n",
      "+-----------------------+--------------+\n",
      "\n"
     ]
    }
   ],
   "source": [
    "temp = validationDf.filter(~col(\"clicks_answer\").isNull())\\\n",
    "                   .withColumn(\"session_type_for_clicks\", \n",
    "                            (when(col(\"input_len\") >= 20, \"geq_20\")\n",
    "                             .when(col(\"input_len\") <= 10, \"leq_10\")\n",
    "                             .otherwise(\"10_20\")))\\\n",
    "                   .groupBy(\"session_type_for_clicks\")\\\n",
    "                   .agg(count(\"*\").alias(\"category_count\"))\n",
    "\n",
    "temp.show()                "
   ]
  },
  {
   "cell_type": "code",
   "execution_count": null,
   "metadata": {},
   "outputs": [],
   "source": [
    "## If the 40 recommendation can be added, how much improvement it can bring. "
   ]
  },
  {
   "cell_type": "code",
   "execution_count": 70,
   "metadata": {},
   "outputs": [
    {
     "data": {
      "text/plain": [
       "1112"
      ]
     },
     "execution_count": 70,
     "metadata": {},
     "output_type": "execute_result"
    }
   ],
   "source": [
    "import gc\n",
    "gc.collect()"
   ]
  },
  {
   "cell_type": "code",
   "execution_count": null,
   "metadata": {},
   "outputs": [],
   "source": []
  }
 ],
 "metadata": {
  "kernelspec": {
   "display_name": "base",
   "language": "python",
   "name": "python3"
  },
  "language_info": {
   "codemirror_mode": {
    "name": "ipython",
    "version": 3
   },
   "file_extension": ".py",
   "mimetype": "text/x-python",
   "name": "python",
   "nbconvert_exporter": "python",
   "pygments_lexer": "ipython3",
   "version": "3.8.3"
  },
  "orig_nbformat": 4,
  "vscode": {
   "interpreter": {
    "hash": "ff58dbd0ec383761c792d0b6d4f0a9690d9c9b1bec648659fb440990235d5b98"
   }
  }
 },
 "nbformat": 4,
 "nbformat_minor": 2
}
