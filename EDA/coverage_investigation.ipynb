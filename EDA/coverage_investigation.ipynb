{
 "cells": [
  {
   "attachments": {},
   "cell_type": "markdown",
   "metadata": {},
   "source": [
    "## Investigate the recall/coverage metrics in different scenarios"
   ]
  },
  {
   "cell_type": "code",
   "execution_count": 3,
   "metadata": {},
   "outputs": [],
   "source": [
    "import pyspark\n",
    "from pyspark import SparkContext, SparkConf\n",
    "from pyspark.sql import SparkSession\n",
    "from pyspark.sql.functions import *\n",
    "from pyspark.sql.window import *\n",
    "from pyspark.sql.types import ArrayType, FloatType, LongType, IntegerType\n",
    "\n",
    "import numpy as np\n",
    "import pandas as pd\n",
    "import os\n",
    "import gc\n",
    "#import shutil"
   ]
  },
  {
   "cell_type": "code",
   "execution_count": 4,
   "metadata": {},
   "outputs": [
    {
     "name": "stdout",
     "output_type": "stream",
     "text": [
      "CPU times: user 14.4 ms, sys: 17.8 ms, total: 32.2 ms\n",
      "Wall time: 4.85 s\n"
     ]
    }
   ],
   "source": [
    "%%time\n",
    "spark = SparkSession.builder.appName(\"coverage_investigation\").getOrCreate()"
   ]
  },
  {
   "cell_type": "code",
   "execution_count": 6,
   "metadata": {},
   "outputs": [
    {
     "name": "stdout",
     "output_type": "stream",
     "text": [
      "root\n",
      " |-- session: long (nullable = true)\n",
      " |-- clicks_answer: long (nullable = true)\n",
      " |-- carts_answer: array (nullable = true)\n",
      " |    |-- element: long (containsNull = true)\n",
      " |-- orders_answer: array (nullable = true)\n",
      " |    |-- element: long (containsNull = true)\n",
      "\n",
      "CPU times: user 3.32 ms, sys: 1.48 ms, total: 4.8 ms\n",
      "Wall time: 1.63 s\n"
     ]
    }
   ],
   "source": [
    "%%time\n",
    "groundTruthLabelsDf = spark.read.json(\"../../allData/validationData/out_7day_test/test_labels.jsonl\",lineSep='\\n')\\\n",
    "                         .withColumn(\"clicks_answer\", col(\"labels.clicks\"))\\\n",
    "                         .withColumn(\"carts_answer\", col(\"labels.carts\"))\\\n",
    "                         .withColumn(\"orders_answer\", col(\"labels.orders\"))\\\n",
    "                         .drop(\"labels\")\n",
    "groundTruthLabelsDf.printSchema()"
   ]
  },
  {
   "cell_type": "code",
   "execution_count": 41,
   "metadata": {},
   "outputs": [
    {
     "data": {
      "text/plain": [
       "150179"
      ]
     },
     "execution_count": 41,
     "metadata": {},
     "output_type": "execute_result"
    }
   ],
   "source": [
    "groundTruthLabelsDf.count()"
   ]
  },
  {
   "cell_type": "code",
   "execution_count": 10,
   "metadata": {},
   "outputs": [
    {
     "name": "stdout",
     "output_type": "stream",
     "text": [
      "root\n",
      " |-- session: string (nullable = true)\n",
      " |-- clicks_predict: array (nullable = true)\n",
      " |    |-- element: long (containsNull = true)\n",
      " |-- carts_predict: array (nullable = true)\n",
      " |    |-- element: long (containsNull = true)\n",
      " |-- orders_predict: array (nullable = true)\n",
      " |    |-- element: long (containsNull = true)\n",
      "\n",
      "CPU times: user 7.23 ms, sys: 2.28 ms, total: 9.51 ms\n",
      "Wall time: 601 ms\n"
     ]
    }
   ],
   "source": [
    "%%time\n",
    "rawPredictionsDf = spark.read.csv(\"../../allData/validationData/submission_cartInfWeight_425.csv\", header=True)\\\n",
    "                        .withColumn(\"session\", split(col(\"session_type\"), '_').getItem(0))\\\n",
    "                        .withColumn(\"action\", split(col(\"session_type\"), \"_\").getItem(1))\\\n",
    "                        .drop(\"session_type\")\n",
    "\n",
    "clicksPredictionDf = rawPredictionsDf.filter(col(\"action\") == \"clicks\")\\\n",
    "                                     .drop(\"action\")\\\n",
    "                                     .withColumnRenamed(\"labels\", \"clicks_predict\")\\\n",
    "                                     .withColumn(\"clicks_predict\", split(col(\"clicks_predict\"), ' ').cast(\"array<long>\"))\\\n",
    "                                    \n",
    "cartsPredictionDf = rawPredictionsDf.filter(col(\"action\") == \"carts\")\\\n",
    "                                    .drop(\"action\")\\\n",
    "                                    .withColumnRenamed(\"labels\", \"carts_predict\")\\\n",
    "                                    .withColumn(\"carts_predict\", split(col(\"carts_predict\"), ' ').cast(\"array<long>\"))\n",
    "\n",
    "ordersPredictionDf = rawPredictionsDf.filter(col(\"action\") == \"orders\")\\\n",
    "                                     .drop(\"action\")\\\n",
    "                                     .withColumnRenamed(\"labels\", \"orders_predict\")\\\n",
    "                                     .withColumn(\"orders_predict\", split(col(\"orders_predict\"), ' ').cast(\"array<long>\"))\n",
    "\n",
    "combinePredictionDf = clicksPredictionDf.join(cartsPredictionDf, \"session\")\\\n",
    "                                        .join(ordersPredictionDf, \"session\")\n",
    "\n",
    "combinePredictionDf.printSchema()"
   ]
  },
  {
   "cell_type": "code",
   "execution_count": 9,
   "metadata": {},
   "outputs": [
    {
     "name": "stdout",
     "output_type": "stream",
     "text": [
      "root\n",
      " |-- session: long (nullable = true)\n",
      " |-- events: struct (nullable = true)\n",
      " |    |-- aid: long (nullable = true)\n",
      " |    |-- ts: long (nullable = true)\n",
      " |    |-- type: string (nullable = true)\n",
      "\n",
      "CPU times: user 9.99 ms, sys: 4.08 ms, total: 14.1 ms\n",
      "Wall time: 2.23 s\n"
     ]
    }
   ],
   "source": [
    "%%time\n",
    "inputDataDf = spark.read.json(\"../../allData/validationData/out_7day_test/test_sessions.jsonl\", lineSep='\\n')\\\n",
    "                        .select(\"session\", explode(\"events\").alias(\"events\"))\n",
    "\n",
    "clicksInputDf = inputDataDf.filter(col(\"events.type\") == \"clicks\")\\\n",
    "                           .withColumn(\"aid\", col(\"events.aid\"))\\\n",
    "                           .groupBy(\"session\")\\\n",
    "                           .agg(collect_list(\"aid\").alias(\"clicks_input\"))\n",
    "\n",
    "cartsInputDf = inputDataDf.filter(col(\"events.type\") == \"carts\")\\\n",
    "                           .withColumn(\"aid\", col(\"events.aid\"))\\\n",
    "                           .groupBy(\"session\")\\\n",
    "                           .agg(collect_list(\"aid\").alias(\"carts_input\"))\n",
    "\n",
    "ordersInputDf = inputDataDf.filter(col(\"events.type\") == \"orders\")\\\n",
    "                           .withColumn(\"aid\", col(\"events.aid\"))\\\n",
    "                           .groupBy(\"session\")\\\n",
    "                           .agg(collect_list(\"aid\").alias(\"orders_input\"))\n",
    "\n",
    "inputCombinedDf = clicksInputDf.join(cartsInputDf, \"session\")\\\n",
    "                               .join(ordersInputDf, \"session\")\n",
    "\n",
    "inputDataDf.printSchema()"
   ]
  },
  {
   "cell_type": "code",
   "execution_count": 12,
   "metadata": {},
   "outputs": [
    {
     "name": "stdout",
     "output_type": "stream",
     "text": [
      "CPU times: user 1.32 ms, sys: 896 µs, total: 2.22 ms\n",
      "Wall time: 64.2 ms\n"
     ]
    }
   ],
   "source": [
    "%%time\n",
    "validationDf = groundTruthLabelsDf.join(combinePredictionDf, \"session\", \"left\")\\\n",
    "                                  .join(inputCombinedDf, \"session\", \"left\")"
   ]
  },
  {
   "cell_type": "code",
   "execution_count": 13,
   "metadata": {},
   "outputs": [
    {
     "name": "stdout",
     "output_type": "stream",
     "text": [
      "root\n",
      " |-- session: long (nullable = true)\n",
      " |-- clicks_answer: long (nullable = true)\n",
      " |-- carts_answer: array (nullable = true)\n",
      " |    |-- element: long (containsNull = true)\n",
      " |-- orders_answer: array (nullable = true)\n",
      " |    |-- element: long (containsNull = true)\n",
      " |-- clicks_predict: array (nullable = true)\n",
      " |    |-- element: long (containsNull = true)\n",
      " |-- carts_predict: array (nullable = true)\n",
      " |    |-- element: long (containsNull = true)\n",
      " |-- orders_predict: array (nullable = true)\n",
      " |    |-- element: long (containsNull = true)\n",
      " |-- clicks_input: array (nullable = true)\n",
      " |    |-- element: long (containsNull = false)\n",
      " |-- carts_input: array (nullable = true)\n",
      " |    |-- element: long (containsNull = false)\n",
      " |-- orders_input: array (nullable = true)\n",
      " |    |-- element: long (containsNull = false)\n",
      "\n"
     ]
    }
   ],
   "source": [
    "validationDf.printSchema()"
   ]
  },
  {
   "cell_type": "code",
   "execution_count": 52,
   "metadata": {},
   "outputs": [
    {
     "data": {
      "text/plain": [
       "1783737"
      ]
     },
     "execution_count": 52,
     "metadata": {},
     "output_type": "execute_result"
    }
   ],
   "source": [
    "validationDf.count()"
   ]
  },
  {
   "attachments": {},
   "cell_type": "markdown",
   "metadata": {},
   "source": [
    "## Attach meta data and analysis column to validation DF"
   ]
  },
  {
   "cell_type": "code",
   "execution_count": 156,
   "metadata": {},
   "outputs": [],
   "source": [
    "#from pyspark.sql.types import IntegerType,BooleanType,DateType,StringType"
   ]
  },
  {
   "cell_type": "code",
   "execution_count": 14,
   "metadata": {},
   "outputs": [],
   "source": [
    "validationDf = validationDf.withColumn(\"input_len\", size(col(\"clicks_input\")) + size(col(\"carts_input\")) + size(col(\"orders_input\")))\\\n",
    "                           .withColumn(\"correct_click_pred\", array_contains(col(\"clicks_predict\"), col(\"clicks_answer\")))\\\n",
    "                           .withColumn(\"correct_cart_pred\", size(array_intersect(col(\"carts_predict\"), col(\"carts_answer\"))))\\\n",
    "                           .withColumn(\"cart_recall_score\", col(\"correct_cart_pred\")/least(size(col(\"carts_answer\")), lit(20)))\\\n",
    "                           .withColumn(\"correct_order_pred\", size(array_intersect(col(\"orders_predict\"), col(\"orders_answer\"))))\\\n",
    "                           .withColumn(\"order_recall_score\", col(\"correct_order_pred\")/least(size(col(\"orders_answer\")), lit(20)))\\\n",
    "                           .select(col(\"session\"),\n",
    "                                   col(\"clicks_input\"),\n",
    "                                   col(\"clicks_predict\"),\n",
    "                                   col(\"clicks_answer\"),\n",
    "                                   col(\"correct_click_pred\"),\n",
    "                                   col(\"carts_input\"),\n",
    "                                   col(\"carts_predict\"),\n",
    "                                   col(\"carts_answer\"),\n",
    "                                   col(\"correct_cart_pred\"),\n",
    "                                   col(\"cart_recall_score\"),\n",
    "                                   col(\"orders_input\"),\n",
    "                                   col(\"orders_predict\"),\n",
    "                                   col(\"orders_answer\"),\n",
    "                                   col(\"correct_order_pred\"),\n",
    "                                   col(\"order_recall_score\"),\n",
    "                                   col(\"input_len\"))\n",
    "\n"
   ]
  },
  {
   "cell_type": "code",
   "execution_count": 48,
   "metadata": {},
   "outputs": [
    {
     "data": {
      "text/plain": [
       "1783737"
      ]
     },
     "execution_count": 48,
     "metadata": {},
     "output_type": "execute_result"
    }
   ],
   "source": [
    "validationDf.count()"
   ]
  },
  {
   "cell_type": "code",
   "execution_count": 54,
   "metadata": {},
   "outputs": [
    {
     "name": "stdout",
     "output_type": "stream",
     "text": [
      "root\n",
      " |-- session: long (nullable = true)\n",
      " |-- clicks_input: array (nullable = true)\n",
      " |    |-- element: long (containsNull = false)\n",
      " |-- clicks_predict: array (nullable = true)\n",
      " |    |-- element: long (containsNull = true)\n",
      " |-- clicks_answer: long (nullable = true)\n",
      " |-- correct_click_pred: boolean (nullable = true)\n",
      " |-- carts_input: array (nullable = true)\n",
      " |    |-- element: long (containsNull = false)\n",
      " |-- carts_predict: array (nullable = true)\n",
      " |    |-- element: long (containsNull = true)\n",
      " |-- carts_answer: array (nullable = true)\n",
      " |    |-- element: long (containsNull = true)\n",
      " |-- correct_cart_pred: integer (nullable = false)\n",
      " |-- cart_recall_score: double (nullable = true)\n",
      " |-- orders_input: array (nullable = true)\n",
      " |    |-- element: long (containsNull = false)\n",
      " |-- orders_predict: array (nullable = true)\n",
      " |    |-- element: long (containsNull = true)\n",
      " |-- orders_answer: array (nullable = true)\n",
      " |    |-- element: long (containsNull = true)\n",
      " |-- correct_order_pred: integer (nullable = false)\n",
      " |-- order_recall_score: double (nullable = true)\n",
      " |-- input_len: integer (nullable = false)\n",
      "\n"
     ]
    }
   ],
   "source": [
    "validationDf.printSchema()"
   ]
  },
  {
   "attachments": {},
   "cell_type": "markdown",
   "metadata": {},
   "source": [
    "## Analysis"
   ]
  },
  {
   "attachments": {},
   "cell_type": "markdown",
   "metadata": {},
   "source": [
    "#### Sanity Checks"
   ]
  },
  {
   "cell_type": "code",
   "execution_count": 57,
   "metadata": {},
   "outputs": [
    {
     "name": "stdout",
     "output_type": "stream",
     "text": [
      "CPU times: user 14 ms, sys: 10.9 ms, total: 24.9 ms\n",
      "Wall time: 46.8 s\n"
     ]
    },
    {
     "data": {
      "text/plain": [
       "6433"
      ]
     },
     "execution_count": 57,
     "metadata": {},
     "output_type": "execute_result"
    }
   ],
   "source": [
    "%%time\n",
    "## if input_length >= 20, sim matrics are not used, and all predictions should come input, with different action weights for clicks/orders  or carts predictions. \n",
    "# Expect 0 output if no the inference logic was implemented correctly\n",
    "temp1 = validationDf.filter(col(\"input_len\") >= 20).select(col(\"session\") ,col(\"input_len\"), col(\"clicks_predict\"), col(\"carts_predict\"), col(\"orders_predict\"))\\\n",
    "                    .withColumn(\"temp_clicks_pred_size\", size(col(\"clicks_predict\")))\\\n",
    "                    .withColumn(\"temp_carts_pred_size\", size(col(\"carts_predict\")))\\\n",
    "                    .withColumn(\"temp_orders_pred_size\", size(col(\"orders_predict\")))\\\n",
    "                    .filter((col(\"temp_clicks_pred_size\") != 20) | (col(\"temp_carts_pred_size\") != 20) | (col(\"temp_orders_pred_size\") != 20))#.count()\n",
    "\n",
    "temp1.count()"
   ]
  },
  {
   "cell_type": "code",
   "execution_count": 165,
   "metadata": {},
   "outputs": [
    {
     "name": "stdout",
     "output_type": "stream",
     "text": [
      "+--------+---------+--------------------+--------------------+--------------------+---------------------+--------------------+---------------------+\n",
      "| session|input_len|      clicks_predict|       carts_predict|      orders_predict|temp_clicks_pred_size|temp_carts_pred_size|temp_orders_pred_size|\n",
      "+--------+---------+--------------------+--------------------+--------------------+---------------------+--------------------+---------------------+\n",
      "|11098756|       21|[425693, 1363434,...|[425693, 866492, ...|[425693, 1363434,...|                   11|                  11|                   11|\n",
      "|11098904|       38|[728938, 1351827,...|[1351827, 728938,...|[728938, 1351827,...|                   16|                  16|                   16|\n",
      "|11099298|       61|[1320573, 1239758...|[1320573, 1239758...|[1320573, 1239758...|                   17|                  17|                   17|\n",
      "|11099842|       23|[1186098, 1198275...|[1186098, 1198275...|[1186098, 1198275...|                   10|                  10|                   10|\n",
      "|11101038|       37|[1411545, 1194189...|[1676702, 1411545...|[1411545, 1194189...|                   17|                  17|                   17|\n",
      "+--------+---------+--------------------+--------------------+--------------------+---------------------+--------------------+---------------------+\n",
      "only showing top 5 rows\n",
      "\n"
     ]
    }
   ],
   "source": [
    "temp1.show(5)"
   ]
  },
  {
   "cell_type": "code",
   "execution_count": 169,
   "metadata": {},
   "outputs": [
    {
     "name": "stdout",
     "output_type": "stream",
     "text": [
      "+--------+----------------------------------------------------------------------------------+\n",
      "|session |clicks_input                                                                      |\n",
      "+--------+----------------------------------------------------------------------------------+\n",
      "|11098756|[425693, 36607, 425693, 425693, 866492, 1285074, 425693, 1748482, 1811301, 372866]|\n",
      "+--------+----------------------------------------------------------------------------------+\n",
      "\n"
     ]
    }
   ],
   "source": [
    "## found over 6k sessions have such issues, didn't suppplement the predictions when there's duplicates\n",
    "validationDf.filter(col(\"session\") == 11098756).select(col(\"session\"), col(\"clicks_input\")).show(1, False)"
   ]
  },
  {
   "attachments": {},
   "cell_type": "markdown",
   "metadata": {},
   "source": [
    "### Coverage test"
   ]
  },
  {
   "cell_type": "code",
   "execution_count": 60,
   "metadata": {},
   "outputs": [
    {
     "name": "stdout",
     "output_type": "stream",
     "text": [
      "+---------+-----------+-------------------------+\n",
      "|numerator|denominator|carts_recall_sanity_check|\n",
      "+---------+-----------+-------------------------+\n",
      "|   233447|     566105|       0.4123740295528215|\n",
      "+---------+-----------+-------------------------+\n",
      "\n"
     ]
    }
   ],
   "source": [
    "## First replicate the metric, from the evalute.py. We know this submission will have the following score \n",
    "# {'clicks': 0.5260534141019858, 'carts': 0.4123740295528215, 'orders': 0.6506006657982342, 'total': 0.5666779497549854}\n",
    "# N = 35793 in this test set, => number of session\n",
    "\n",
    "temp_2 = validationDf.filter(~col(\"carts_answer\").isNull())\\\n",
    "                     .select(col(\"session\"), col(\"correct_cart_pred\") ,col(\"carts_answer\"), col(\"carts_predict\"))\\\n",
    "                     .withColumn(\"denominator_factor\", least(lit(20), size(col(\"carts_answer\"))))\\\n",
    "                     .agg(sum(\"correct_cart_pred\").alias(\"numerator\"),\n",
    "                          sum(\"denominator_factor\").alias(\"denominator\"))\\\n",
    "                     .withColumn(\"carts_recall_sanity_check\", col(\"numerator\")/col(\"denominator\"))\n",
    "temp_2.show()"
   ]
  },
  {
   "cell_type": "code",
   "execution_count": 61,
   "metadata": {},
   "outputs": [
    {
     "name": "stdout",
     "output_type": "stream",
     "text": [
      "+---------+-----------+--------------------------+\n",
      "|numerator|denominator|orders_recall_sanity_check|\n",
      "+---------+-----------+--------------------------+\n",
      "|   202275|     310905|        0.6506006657982342|\n",
      "+---------+-----------+--------------------------+\n",
      "\n"
     ]
    }
   ],
   "source": [
    "temp_3 = validationDf.filter(~col(\"orders_answer\").isNull())\\\n",
    "                     .select(col(\"session\"), col(\"correct_order_pred\") ,col(\"orders_answer\"), col(\"orders_predict\"))\\\n",
    "                     .withColumn(\"denominator_factor\", least(lit(20), size(col(\"orders_answer\"))))\\\n",
    "                     .agg(sum(\"correct_order_pred\").alias(\"numerator\"),\n",
    "                          sum(\"denominator_factor\").alias(\"denominator\"))\\\n",
    "                     .withColumn(\"orders_recall_sanity_check\", col(\"numerator\")/col(\"denominator\"))\n",
    "temp_3.show()"
   ]
  },
  {
   "cell_type": "code",
   "execution_count": 64,
   "metadata": {},
   "outputs": [
    {
     "name": "stdout",
     "output_type": "stream",
     "text": [
      "+---------+-----------+--------------------------+\n",
      "|numerator|denominator|clicks_recall_sanity_check|\n",
      "+---------+-----------+--------------------------+\n",
      "|   914264|    1737968|        0.5260534141019858|\n",
      "+---------+-----------+--------------------------+\n",
      "\n"
     ]
    }
   ],
   "source": [
    "temp_4 = validationDf.filter(~col(\"clicks_answer\").isNull())\\\n",
    "                     .select(col(\"session\"), col(\"correct_click_pred\") ,col(\"clicks_answer\"), col(\"clicks_predict\"))\\\n",
    "                     .withColumn(\"denominator_factor\", lit(1))\\\n",
    "                     .agg(sum(col(\"correct_click_pred\").cast(IntegerType())).alias(\"numerator\"),\n",
    "                          sum(\"denominator_factor\").alias(\"denominator\"))\\\n",
    "                     .withColumn(\"clicks_recall_sanity_check\", col(\"numerator\")/col(\"denominator\"))\n",
    "temp_4.show()"
   ]
  },
  {
   "attachments": {},
   "cell_type": "markdown",
   "metadata": {},
   "source": [
    "Good, that's exactly match the recall computed by the offical code. It's now safe to do the analysis and define more metrics."
   ]
  },
  {
   "attachments": {},
   "cell_type": "markdown",
   "metadata": {},
   "source": [
    "#### Clicks.\n",
    "1. Is long session doing better or short session doing better? \n",
    "2. How many sessions are their for each? "
   ]
  },
  {
   "cell_type": "code",
   "execution_count": 64,
   "metadata": {},
   "outputs": [
    {
     "name": "stdout",
     "output_type": "stream",
     "text": [
      "+-----------------------+---------+-----------+--------------+------------------+\n",
      "|session_type_for_clicks|numerator|denominator|category_count|     clicks_recall|\n",
      "+-----------------------+---------+-----------+--------------+------------------+\n",
      "|                 leq_10|   906737|    1722937|       1722937|0.5262740309134925|\n",
      "|                 geq_20|     4032|       8627|          8627|0.4673698852440014|\n",
      "|                  10_20|     3495|       6404|          6404|0.5457526545908807|\n",
      "+-----------------------+---------+-----------+--------------+------------------+\n",
      "\n"
     ]
    }
   ],
   "source": [
    "temp = validationDf.filter(~col(\"clicks_answer\").isNull())\\\n",
    "                    .withColumn(\"denominator_factor\", lit(1))\\\n",
    "                    .withColumn(\"session_type_for_clicks\", \n",
    "                        (when(col(\"input_len\") >= 20, \"geq_20\")\n",
    "                            .when(col(\"input_len\") <= 10, \"leq_10\")\n",
    "                            .otherwise(\"10_20\")))\\\n",
    "                    .groupBy(\"session_type_for_clicks\")\\\n",
    "                    .agg(sum(col(\"correct_click_pred\").cast(IntegerType())).alias(\"numerator\"),\n",
    "                        sum(\"denominator_factor\").alias(\"denominator\"),\n",
    "                        count(\"*\").alias(\"category_count\"))\\\n",
    "                    .withColumn(\"clicks_recall\", col(\"numerator\")/col(\"denominator\"))\n",
    "temp.show()"
   ]
  },
  {
   "attachments": {},
   "cell_type": "markdown",
   "metadata": {},
   "source": [
    "#### Carts.\n",
    "1. Is long session doing better or short session doing better? \n",
    "2. How many sessions are their for each? "
   ]
  },
  {
   "cell_type": "code",
   "execution_count": 61,
   "metadata": {},
   "outputs": [
    {
     "name": "stdout",
     "output_type": "stream",
     "text": [
      "+----------------------+---------+-----------+--------------+-------------------+\n",
      "|session_type_for_carts|numerator|denominator|category_count|       carts_recall|\n",
      "+----------------------+---------+-----------+--------------+-------------------+\n",
      "|                leq_10|   227840|     547143|        293988| 0.4164176458439567|\n",
      "|                geq_20|     3663|      13769|          4518|0.26603239160432857|\n",
      "|                 10_20|     1944|       5193|          2551|0.37435008665511266|\n",
      "+----------------------+---------+-----------+--------------+-------------------+\n",
      "\n"
     ]
    }
   ],
   "source": [
    "temp = validationDf.filter(~col(\"carts_answer\").isNull())\\\n",
    "                    .withColumn(\"denominator_factor\", least(lit(20), size(col(\"carts_answer\"))))\\\n",
    "                    .withColumn(\"session_type_for_carts\", \n",
    "                    (when(col(\"input_len\") >= 20, \"geq_20\")\n",
    "                        .when(col(\"input_len\") <= 10, \"leq_10\")\n",
    "                        .otherwise(\"10_20\")))\\\n",
    "                    .groupBy(\"session_type_for_carts\")\\\n",
    "                    .agg(sum(col(\"correct_cart_pred\")).alias(\"numerator\"),\n",
    "                        sum(\"denominator_factor\").alias(\"denominator\"),\n",
    "                        count(\"*\").alias(\"category_count\"))\\\n",
    "                    .withColumn(\"carts_recall\", col(\"numerator\")/col(\"denominator\"))\n",
    "temp.show()"
   ]
  },
  {
   "attachments": {},
   "cell_type": "markdown",
   "metadata": {},
   "source": [
    "#### Orders.\n",
    "1. Is long session doing better or short session doing better? \n",
    "2. How many sessions are their for each? "
   ]
  },
  {
   "cell_type": "code",
   "execution_count": 62,
   "metadata": {},
   "outputs": [
    {
     "name": "stdout",
     "output_type": "stream",
     "text": [
      "+-----------------------+---------+-----------+--------------+------------------+\n",
      "|session_type_for_orders|numerator|denominator|category_count|     orders_recall|\n",
      "+-----------------------+---------+-----------+--------------+------------------+\n",
      "|                 leq_10|   182607|     284356|        140048|0.6421774114138615|\n",
      "|                 geq_20|    13664|      18573|          5964|0.7356915953265493|\n",
      "|                  10_20|     6004|       7976|          4167|0.7527582748244734|\n",
      "+-----------------------+---------+-----------+--------------+------------------+\n",
      "\n"
     ]
    }
   ],
   "source": [
    "temp = validationDf.filter(~col(\"orders_answer\").isNull())\\\n",
    "                    .withColumn(\"denominator_factor\", least(lit(20), size(col(\"orders_answer\"))))\\\n",
    "                    .withColumn(\"session_type_for_orders\", \n",
    "                    (when(col(\"input_len\") >= 20, \"geq_20\")\n",
    "                        .when(col(\"input_len\") <= 10, \"leq_10\")\n",
    "                        .otherwise(\"10_20\")))\\\n",
    "                    .groupBy(\"session_type_for_orders\")\\\n",
    "                    .agg(sum(col(\"correct_order_pred\")).alias(\"numerator\"),\n",
    "                        sum(\"denominator_factor\").alias(\"denominator\"),\n",
    "                        count(\"*\").alias(\"category_count\"))\\\n",
    "                    .withColumn(\"orders_recall\", col(\"numerator\")/col(\"denominator\"))\n",
    "temp.show()"
   ]
  },
  {
   "attachments": {},
   "cell_type": "markdown",
   "metadata": {},
   "source": [
    "#### What improvements did filling up all possible 20 slots bring \n",
    "So that the public score went from 0.577 - 0.578"
   ]
  },
  {
   "cell_type": "code",
   "execution_count": 30,
   "metadata": {},
   "outputs": [
    {
     "name": "stdout",
     "output_type": "stream",
     "text": [
      "root\n",
      " |-- session: long (nullable = true)\n",
      " |-- clicks_input: array (nullable = true)\n",
      " |    |-- element: long (containsNull = false)\n",
      " |-- clicks_predict: array (nullable = true)\n",
      " |    |-- element: long (containsNull = true)\n",
      " |-- clicks_answer: long (nullable = true)\n",
      " |-- correct_click_pred: boolean (nullable = true)\n",
      " |-- carts_input: array (nullable = true)\n",
      " |    |-- element: long (containsNull = false)\n",
      " |-- carts_predict: array (nullable = true)\n",
      " |    |-- element: long (containsNull = true)\n",
      " |-- carts_answer: array (nullable = true)\n",
      " |    |-- element: long (containsNull = true)\n",
      " |-- correct_cart_pred: integer (nullable = false)\n",
      " |-- cart_recall_score: double (nullable = true)\n",
      " |-- orders_input: array (nullable = true)\n",
      " |    |-- element: long (containsNull = false)\n",
      " |-- orders_predict: array (nullable = true)\n",
      " |    |-- element: long (containsNull = true)\n",
      " |-- orders_answer: array (nullable = true)\n",
      " |    |-- element: long (containsNull = true)\n",
      " |-- correct_order_pred: integer (nullable = false)\n",
      " |-- order_recall_score: double (nullable = true)\n",
      " |-- input_len: integer (nullable = false)\n",
      "\n",
      "CPU times: user 12.2 ms, sys: 5.35 ms, total: 17.6 ms\n",
      "Wall time: 1.85 s\n"
     ]
    }
   ],
   "source": [
    "%%time\n",
    "# load the data and transform\n",
    "predictions578Df = spark.read.csv(\"../../allData/validationData/submission_publicScore_578.csv\", header=True)\\\n",
    "                        .withColumn(\"session\", split(col(\"session_type\"), '_').getItem(0))\\\n",
    "                        .withColumn(\"action\", split(col(\"session_type\"), \"_\").getItem(1))\\\n",
    "                        .drop(\"session_type\")\n",
    "\n",
    "clicksPredictionDf = predictions578Df.filter(col(\"action\") == \"clicks\")\\\n",
    "                                     .drop(\"action\")\\\n",
    "                                     .withColumnRenamed(\"labels\", \"clicks_predict\")\\\n",
    "                                     .withColumn(\"clicks_predict\", split(col(\"clicks_predict\"), ' ').cast(\"array<long>\"))\\\n",
    "                                    \n",
    "cartsPredictionDf = predictions578Df.filter(col(\"action\") == \"carts\")\\\n",
    "                                    .drop(\"action\")\\\n",
    "                                    .withColumnRenamed(\"labels\", \"carts_predict\")\\\n",
    "                                    .withColumn(\"carts_predict\", split(col(\"carts_predict\"), ' ').cast(\"array<long>\"))\n",
    "\n",
    "ordersPredictionDf = predictions578Df.filter(col(\"action\") == \"orders\")\\\n",
    "                                     .drop(\"action\")\\\n",
    "                                     .withColumnRenamed(\"labels\", \"orders_predict\")\\\n",
    "                                     .withColumn(\"orders_predict\", split(col(\"orders_predict\"), ' ').cast(\"array<long>\"))\n",
    "\n",
    "predCombined578Df = clicksPredictionDf.join(cartsPredictionDf, \"session\")\\\n",
    "                                        .join(ordersPredictionDf, \"session\")\n",
    "\n",
    "validation578Df = groundTruthLabelsDf.join(predCombined578Df, \"session\", \"left\")\\\n",
    "                                     .join(inputCombinedDf, \"session\", \"left\")\\\n",
    "                                     .withColumn(\"input_len\", size(col(\"clicks_input\")) + size(col(\"carts_input\")) + size(col(\"orders_input\")))\\\n",
    "                                     .withColumn(\"correct_click_pred\", array_contains(col(\"clicks_predict\"), col(\"clicks_answer\")))\\\n",
    "                                     .withColumn(\"correct_cart_pred\", size(array_intersect(col(\"carts_predict\"), col(\"carts_answer\"))))\\\n",
    "                                     .withColumn(\"cart_recall_score\", col(\"correct_cart_pred\")/least(size(col(\"carts_answer\")), lit(20)))\\\n",
    "                                     .withColumn(\"correct_order_pred\", size(array_intersect(col(\"orders_predict\"), col(\"orders_answer\"))))\\\n",
    "                                     .withColumn(\"order_recall_score\", col(\"correct_order_pred\")/least(size(col(\"orders_answer\")), lit(20)))\\\n",
    "                                     .select(col(\"session\"),\n",
    "                                             col(\"clicks_input\"),\n",
    "                                             col(\"clicks_predict\"),\n",
    "                                             col(\"clicks_answer\"),\n",
    "                                             col(\"correct_click_pred\"),\n",
    "                                             col(\"carts_input\"),\n",
    "                                             col(\"carts_predict\"),\n",
    "                                             col(\"carts_answer\"),\n",
    "                                             col(\"correct_cart_pred\"),\n",
    "                                             col(\"cart_recall_score\"),\n",
    "                                             col(\"orders_input\"),\n",
    "                                             col(\"orders_predict\"),\n",
    "                                             col(\"orders_answer\"),\n",
    "                                             col(\"correct_order_pred\"),\n",
    "                                             col(\"order_recall_score\"),\n",
    "                                             col(\"input_len\"))\n",
    "\n",
    "validation578Df.printSchema()"
   ]
  },
  {
   "attachments": {},
   "cell_type": "markdown",
   "metadata": {},
   "source": [
    "#### Recall in the 578 version"
   ]
  },
  {
   "cell_type": "code",
   "execution_count": 66,
   "metadata": {},
   "outputs": [
    {
     "name": "stdout",
     "output_type": "stream",
     "text": [
      "+-----------------------+---------+-----------+--------------+------------------+\n",
      "|session_type_for_clicks|numerator|denominator|category_count|     clicks_recall|\n",
      "+-----------------------+---------+-----------+--------------+------------------+\n",
      "|                 leq_10|   907500|    1722937|       1722937|  0.52671687937516|\n",
      "|                 geq_20|     4143|       8627|          8627|0.4802364669062246|\n",
      "|                  10_20|     3492|       6404|          6404|0.5452841973766396|\n",
      "+-----------------------+---------+-----------+--------------+------------------+\n",
      "\n"
     ]
    }
   ],
   "source": [
    "temp = validation578Df.filter(~col(\"clicks_answer\").isNull())\\\n",
    "                    .withColumn(\"denominator_factor\", lit(1))\\\n",
    "                    .withColumn(\"session_type_for_clicks\", \n",
    "                        (when(col(\"input_len\") >= 20, \"geq_20\")\n",
    "                            .when(col(\"input_len\") <= 10, \"leq_10\")\n",
    "                            .otherwise(\"10_20\")))\\\n",
    "                    .groupBy(\"session_type_for_clicks\")\\\n",
    "                    .agg(sum(col(\"correct_click_pred\").cast(IntegerType())).alias(\"numerator\"),\n",
    "                        sum(\"denominator_factor\").alias(\"denominator\"),\n",
    "                        count(\"*\").alias(\"category_count\"))\\\n",
    "                    .withColumn(\"clicks_recall\", col(\"numerator\")/col(\"denominator\"))\n",
    "temp.show()"
   ]
  },
  {
   "cell_type": "code",
   "execution_count": 65,
   "metadata": {},
   "outputs": [
    {
     "name": "stdout",
     "output_type": "stream",
     "text": [
      "+----------------------+---------+-----------+--------------+------------------+\n",
      "|session_type_for_carts|numerator|denominator|category_count|      carts_recall|\n",
      "+----------------------+---------+-----------+--------------+------------------+\n",
      "|                leq_10|   228768|     547143|        293988| 0.418113728952029|\n",
      "|                geq_20|     3794|      13769|          4518|0.2755465175394001|\n",
      "|                 10_20|     1945|       5193|          2551|0.3745426535721163|\n",
      "+----------------------+---------+-----------+--------------+------------------+\n",
      "\n"
     ]
    }
   ],
   "source": [
    "temp = validation578Df.filter(~col(\"carts_answer\").isNull())\\\n",
    "                    .withColumn(\"denominator_factor\", least(lit(20), size(col(\"carts_answer\"))))\\\n",
    "                    .withColumn(\"session_type_for_carts\", \n",
    "                    (when(col(\"input_len\") >= 20, \"geq_20\")\n",
    "                        .when(col(\"input_len\") <= 10, \"leq_10\")\n",
    "                        .otherwise(\"10_20\")))\\\n",
    "                    .groupBy(\"session_type_for_carts\")\\\n",
    "                    .agg(sum(col(\"correct_cart_pred\")).alias(\"numerator\"),\n",
    "                        sum(\"denominator_factor\").alias(\"denominator\"),\n",
    "                        count(\"*\").alias(\"category_count\"))\\\n",
    "                    .withColumn(\"carts_recall\", col(\"numerator\")/col(\"denominator\"))\n",
    "temp.show()"
   ]
  },
  {
   "cell_type": "code",
   "execution_count": 67,
   "metadata": {},
   "outputs": [
    {
     "name": "stdout",
     "output_type": "stream",
     "text": [
      "+-----------------------+---------+-----------+--------------+------------------+\n",
      "|session_type_for_orders|numerator|denominator|category_count|     orders_recall|\n",
      "+-----------------------+---------+-----------+--------------+------------------+\n",
      "|                 leq_10|   182799|     284356|        140048|0.6428526213619548|\n",
      "|                 geq_20|    13706|      18573|          5964|0.7379529424433318|\n",
      "|                  10_20|     6000|       7976|          4167|0.7522567703109327|\n",
      "+-----------------------+---------+-----------+--------------+------------------+\n",
      "\n"
     ]
    }
   ],
   "source": [
    "temp = validation578Df.filter(~col(\"orders_answer\").isNull())\\\n",
    "                    .withColumn(\"denominator_factor\", least(lit(20), size(col(\"orders_answer\"))))\\\n",
    "                    .withColumn(\"session_type_for_orders\", \n",
    "                    (when(col(\"input_len\") >= 20, \"geq_20\")\n",
    "                        .when(col(\"input_len\") <= 10, \"leq_10\")\n",
    "                        .otherwise(\"10_20\")))\\\n",
    "                    .groupBy(\"session_type_for_orders\")\\\n",
    "                    .agg(sum(col(\"correct_order_pred\")).alias(\"numerator\"),\n",
    "                        sum(\"denominator_factor\").alias(\"denominator\"),\n",
    "                        count(\"*\").alias(\"category_count\"))\\\n",
    "                    .withColumn(\"orders_recall\", col(\"numerator\")/col(\"denominator\"))\n",
    "temp.show()"
   ]
  },
  {
   "cell_type": "code",
   "execution_count": 35,
   "metadata": {},
   "outputs": [],
   "source": [
    "# ### Sanity check\n",
    "# temp = validation578Df.filter(~col(\"carts_answer\").isNull())\\\n",
    "#                    .withColumn(\"session_type_for_carts\", \n",
    "#                             (when(col(\"input_len\") >= 20, \"geq_20\")\n",
    "#                              .when(col(\"input_len\") <= 10, \"leq_10\")\n",
    "#                              .otherwise(\"10_20\")))\\\n",
    "#                    .groupBy(\"session_type_for_carts\")\\\n",
    "#                    .agg(count(\"*\").alias(\"category_count\"))\n",
    "\n",
    "# temp.show() "
   ]
  },
  {
   "attachments": {},
   "cell_type": "markdown",
   "metadata": {},
   "source": [
    "#### Check how much 40 recommendations can improve the recall"
   ]
  },
  {
   "cell_type": "code",
   "execution_count": 53,
   "metadata": {},
   "outputs": [
    {
     "name": "stdout",
     "output_type": "stream",
     "text": [
      "root\n",
      " |-- session: long (nullable = true)\n",
      " |-- clicks_input: array (nullable = true)\n",
      " |    |-- element: long (containsNull = false)\n",
      " |-- clicks_predict: array (nullable = true)\n",
      " |    |-- element: long (containsNull = true)\n",
      " |-- clicks_answer: long (nullable = true)\n",
      " |-- correct_click_pred: boolean (nullable = true)\n",
      " |-- carts_input: array (nullable = true)\n",
      " |    |-- element: long (containsNull = false)\n",
      " |-- carts_predict: array (nullable = true)\n",
      " |    |-- element: long (containsNull = true)\n",
      " |-- carts_answer: array (nullable = true)\n",
      " |    |-- element: long (containsNull = true)\n",
      " |-- correct_cart_pred: integer (nullable = false)\n",
      " |-- cart_recall_score: double (nullable = true)\n",
      " |-- orders_input: array (nullable = true)\n",
      " |    |-- element: long (containsNull = false)\n",
      " |-- orders_predict: array (nullable = true)\n",
      " |    |-- element: long (containsNull = true)\n",
      " |-- orders_answer: array (nullable = true)\n",
      " |    |-- element: long (containsNull = true)\n",
      " |-- correct_order_pred: integer (nullable = false)\n",
      " |-- order_recall_score: double (nullable = true)\n",
      " |-- input_len: integer (nullable = false)\n",
      "\n"
     ]
    }
   ],
   "source": [
    "## If the 40 recommendation can be added, how much improvement it can bring. \n",
    "# load the data and transform\n",
    "predictions40ItemsDf = spark.read.csv(\"../../allData/validationData/score_578_validation_40_items.csv\", header=True)\\\n",
    "                        .withColumn(\"session\", split(col(\"session_type\"), '_').getItem(0))\\\n",
    "                        .withColumn(\"action\", split(col(\"session_type\"), \"_\").getItem(1))\\\n",
    "                        .drop(\"session_type\")\n",
    "\n",
    "clicksPredictionDf = predictions40ItemsDf.filter(col(\"action\") == \"clicks\")\\\n",
    "                                     .drop(\"action\")\\\n",
    "                                     .withColumnRenamed(\"labels\", \"clicks_predict\")\\\n",
    "                                     .withColumn(\"clicks_predict\", split(col(\"clicks_predict\"), ' ').cast(\"array<long>\"))\\\n",
    "                                    \n",
    "cartsPredictionDf = predictions40ItemsDf.filter(col(\"action\") == \"carts\")\\\n",
    "                                    .drop(\"action\")\\\n",
    "                                    .withColumnRenamed(\"labels\", \"carts_predict\")\\\n",
    "                                    .withColumn(\"carts_predict\", split(col(\"carts_predict\"), ' ').cast(\"array<long>\"))\n",
    "\n",
    "ordersPredictionDf = predictions578Df.filter(col(\"action\") == \"orders\")\\\n",
    "                                     .drop(\"action\")\\\n",
    "                                     .withColumnRenamed(\"labels\", \"orders_predict\")\\\n",
    "                                     .withColumn(\"orders_predict\", split(col(\"orders_predict\"), ' ').cast(\"array<long>\"))\n",
    "\n",
    "predCombined40ItemsDf = clicksPredictionDf.join(cartsPredictionDf, \"session\")\\\n",
    "                                        .join(ordersPredictionDf, \"session\")\n",
    "\n",
    "## Minor edits to ensure recall of each row won't exceed 1\n",
    "validation40ItemsDf = groundTruthLabelsDf.join(predCombined40ItemsDf, \"session\", \"left\")\\\n",
    "                                     .join(inputCombinedDf, \"session\", \"left\")\\\n",
    "                                     .withColumn(\"input_len\", size(col(\"clicks_input\")) + size(col(\"carts_input\")) + size(col(\"orders_input\")))\\\n",
    "                                     .withColumn(\"correct_click_pred\", array_contains(col(\"clicks_predict\"), col(\"clicks_answer\")))\\\n",
    "                                     .withColumn(\"correct_cart_pred\", least(size(array_intersect(col(\"carts_predict\"), col(\"carts_answer\"))), lit(20)))\\\n",
    "                                     .withColumn(\"cart_recall_score\", col(\"correct_cart_pred\")/least(size(col(\"carts_answer\")), lit(20)))\\\n",
    "                                     .withColumn(\"correct_order_pred\", least(size(array_intersect(col(\"orders_predict\"), col(\"orders_answer\"))), lit(20)))\\\n",
    "                                     .withColumn(\"order_recall_score\", col(\"correct_order_pred\")/least(size(col(\"orders_answer\")), lit(20)))\\\n",
    "                                     .select(col(\"session\"),\n",
    "                                             col(\"clicks_input\"),\n",
    "                                             col(\"clicks_predict\"),\n",
    "                                             col(\"clicks_answer\"),\n",
    "                                             col(\"correct_click_pred\"),\n",
    "                                             col(\"carts_input\"),\n",
    "                                             col(\"carts_predict\"),\n",
    "                                             col(\"carts_answer\"),\n",
    "                                             col(\"correct_cart_pred\"),\n",
    "                                             col(\"cart_recall_score\"),\n",
    "                                             col(\"orders_input\"),\n",
    "                                             col(\"orders_predict\"),\n",
    "                                             col(\"orders_answer\"),\n",
    "                                             col(\"correct_order_pred\"),\n",
    "                                             col(\"order_recall_score\"),\n",
    "                                             col(\"input_len\"))\n",
    "\n",
    "validation40ItemsDf.printSchema()"
   ]
  },
  {
   "cell_type": "code",
   "execution_count": 68,
   "metadata": {},
   "outputs": [
    {
     "name": "stdout",
     "output_type": "stream",
     "text": [
      "+-----------------------+---------+-----------+--------------+------------------+\n",
      "|session_type_for_clicks|numerator|denominator|category_count|     clicks_recall|\n",
      "+-----------------------+---------+-----------+--------------+------------------+\n",
      "|                 leq_10|  1008632|    1722937|       1722937|0.5854143244935828|\n",
      "|                 geq_20|     4520|       8627|          8627|0.5239364784977396|\n",
      "|                  10_20|     3735|       6404|          6404|0.5832292317301686|\n",
      "+-----------------------+---------+-----------+--------------+------------------+\n",
      "\n"
     ]
    }
   ],
   "source": [
    "temp = validation40ItemsDf.filter(~col(\"clicks_answer\").isNull())\\\n",
    "                    .withColumn(\"denominator_factor\", lit(1))\\\n",
    "                    .withColumn(\"session_type_for_clicks\", \n",
    "                        (when(col(\"input_len\") >= 20, \"geq_20\")\n",
    "                            .when(col(\"input_len\") <= 10, \"leq_10\")\n",
    "                            .otherwise(\"10_20\")))\\\n",
    "                    .groupBy(\"session_type_for_clicks\")\\\n",
    "                    .agg(sum(col(\"correct_click_pred\").cast(IntegerType())).alias(\"numerator\"),\n",
    "                        sum(\"denominator_factor\").alias(\"denominator\"),\n",
    "                        count(\"*\").alias(\"category_count\"))\\\n",
    "                    .withColumn(\"clicks_recall\", col(\"numerator\")/col(\"denominator\"))\n",
    "temp.show()"
   ]
  },
  {
   "cell_type": "code",
   "execution_count": 57,
   "metadata": {},
   "outputs": [
    {
     "name": "stdout",
     "output_type": "stream",
     "text": [
      "+----------------------+---------+-----------+-------------------+\n",
      "|session_type_for_carts|numerator|denominator|       carts_recall|\n",
      "+----------------------+---------+-----------+-------------------+\n",
      "|                leq_10|   251697|     547143|0.46002050652206095|\n",
      "|                geq_20|     4450|      13769| 0.3231897741302927|\n",
      "|                 10_20|     2141|       5193| 0.4122857693048334|\n",
      "+----------------------+---------+-----------+-------------------+\n",
      "\n"
     ]
    }
   ],
   "source": [
    "temp = validation40ItemsDf.filter(~col(\"carts_answer\").isNull())\\\n",
    "                          .withColumn(\"denominator_factor\", least(lit(20), size(col(\"carts_answer\"))))\\\n",
    "                          .withColumn(\"session_type_for_carts\", \n",
    "                            (when(col(\"input_len\") >= 20, \"geq_20\")\n",
    "                             .when(col(\"input_len\") <= 10, \"leq_10\")\n",
    "                             .otherwise(\"10_20\")))\\\n",
    "                          .groupBy(\"session_type_for_carts\")\\\n",
    "                          .agg(sum(col(\"correct_cart_pred\")).alias(\"numerator\"),\n",
    "                               sum(\"denominator_factor\").alias(\"denominator\"))\\\n",
    "                          .withColumn(\"carts_recall\", col(\"numerator\")/col(\"denominator\"))\n",
    "temp.show()"
   ]
  },
  {
   "cell_type": "code",
   "execution_count": 69,
   "metadata": {},
   "outputs": [
    {
     "name": "stdout",
     "output_type": "stream",
     "text": [
      "+-----------------------+---------+-----------+--------------+------------------+\n",
      "|session_type_for_orders|numerator|denominator|category_count|     orders_recall|\n",
      "+-----------------------+---------+-----------+--------------+------------------+\n",
      "|                 leq_10|   182799|     284356|        140048|0.6428526213619548|\n",
      "|                 geq_20|    13706|      18573|          5964|0.7379529424433318|\n",
      "|                  10_20|     6000|       7976|          4167|0.7522567703109327|\n",
      "+-----------------------+---------+-----------+--------------+------------------+\n",
      "\n"
     ]
    }
   ],
   "source": [
    "temp = validation40ItemsDf.filter(~col(\"orders_answer\").isNull())\\\n",
    "                    .withColumn(\"denominator_factor\", least(lit(20), size(col(\"orders_answer\"))))\\\n",
    "                    .withColumn(\"session_type_for_orders\", \n",
    "                    (when(col(\"input_len\") >= 20, \"geq_20\")\n",
    "                        .when(col(\"input_len\") <= 10, \"leq_10\")\n",
    "                        .otherwise(\"10_20\")))\\\n",
    "                    .groupBy(\"session_type_for_orders\")\\\n",
    "                    .agg(sum(col(\"correct_order_pred\")).alias(\"numerator\"),\n",
    "                        sum(\"denominator_factor\").alias(\"denominator\"),\n",
    "                        count(\"*\").alias(\"category_count\"))\\\n",
    "                    .withColumn(\"orders_recall\", col(\"numerator\")/col(\"denominator\"))\n",
    "temp.show()"
   ]
  },
  {
   "cell_type": "code",
   "execution_count": null,
   "metadata": {},
   "outputs": [],
   "source": []
  },
  {
   "cell_type": "code",
   "execution_count": null,
   "metadata": {},
   "outputs": [],
   "source": []
  },
  {
   "cell_type": "code",
   "execution_count": 70,
   "metadata": {},
   "outputs": [
    {
     "data": {
      "text/plain": [
       "444"
      ]
     },
     "execution_count": 70,
     "metadata": {},
     "output_type": "execute_result"
    }
   ],
   "source": [
    "gc.collect()"
   ]
  },
  {
   "cell_type": "code",
   "execution_count": null,
   "metadata": {},
   "outputs": [],
   "source": []
  }
 ],
 "metadata": {
  "kernelspec": {
   "display_name": "base",
   "language": "python",
   "name": "python3"
  },
  "language_info": {
   "codemirror_mode": {
    "name": "ipython",
    "version": 3
   },
   "file_extension": ".py",
   "mimetype": "text/x-python",
   "name": "python",
   "nbconvert_exporter": "python",
   "pygments_lexer": "ipython3",
   "version": "3.8.3"
  },
  "orig_nbformat": 4,
  "vscode": {
   "interpreter": {
    "hash": "ff58dbd0ec383761c792d0b6d4f0a9690d9c9b1bec648659fb440990235d5b98"
   }
  }
 },
 "nbformat": 4,
 "nbformat_minor": 2
}
