{
 "cells": [
  {
   "cell_type": "code",
   "execution_count": null,
   "metadata": {},
   "outputs": [],
   "source": []
  },
  {
   "cell_type": "code",
   "execution_count": 70,
   "metadata": {},
   "outputs": [],
   "source": [
    "# %%time\n",
    "# test_labels = pd.read_json(\"../../allData/validationData/out_7day_test/test_labels.jsonl\", lines=True)\n",
    "# test_labels.iloc[0][\"labels\"]\n",
    "# predictions = pd.read_csv(\"../../allData/validationData/submission_cartInfWeight_425.csv\")\n",
    "# inputMetaData = pd.read_json(\"../../allData/validationData/out_7day_test/test_sessions.jsonl\", lines=True)"
   ]
  },
  {
   "cell_type": "code",
   "execution_count": 1,
   "metadata": {},
   "outputs": [],
   "source": [
    "import pyspark\n",
    "from pyspark import SparkContext, SparkConf\n",
    "from pyspark.sql import SparkSession\n",
    "from pyspark.sql.functions import *\n",
    "from pyspark.sql.window import *\n",
    "from pyspark.sql.types import ArrayType, FloatType, LongType, IntegerType\n",
    "import numpy as np\n",
    "import pandas as pd\n",
    "import os\n",
    "#import shutil"
   ]
  },
  {
   "cell_type": "code",
   "execution_count": 2,
   "metadata": {},
   "outputs": [
    {
     "name": "stdout",
     "output_type": "stream",
     "text": [
      "CPU times: user 16 ms, sys: 24 ms, total: 40 ms\n",
      "Wall time: 5.45 s\n"
     ]
    }
   ],
   "source": [
    "%%time\n",
    "spark = SparkSession.builder.appName(\"coverage_investigation\").getOrCreate()"
   ]
  },
  {
   "cell_type": "code",
   "execution_count": 107,
   "metadata": {},
   "outputs": [
    {
     "name": "stdout",
     "output_type": "stream",
     "text": [
      "root\n",
      " |-- session: long (nullable = true)\n",
      " |-- clicks_answer: long (nullable = true)\n",
      " |-- carts_answer: array (nullable = true)\n",
      " |    |-- element: long (containsNull = true)\n",
      " |-- orders_answer: array (nullable = true)\n",
      " |    |-- element: long (containsNull = true)\n",
      "\n",
      "CPU times: user 3.91 ms, sys: 3.5 ms, total: 7.41 ms\n",
      "Wall time: 3.01 s\n"
     ]
    }
   ],
   "source": [
    "%%time\n",
    "groundTruthLabelsDf = spark.read.json(\"../../allData/validationData/out_7day_test/test_labels.jsonl\",lineSep='\\n')\\\n",
    "                         .withColumn(\"clicks_answer\", col(\"labels.clicks\"))\\\n",
    "                         .withColumn(\"carts_answer\", col(\"labels.carts\"))\\\n",
    "                         .withColumn(\"orders_answer\", col(\"labels.orders\"))\\\n",
    "                         .drop(\"labels\")\n",
    "groundTruthLabelsDf.printSchema()"
   ]
  },
  {
   "cell_type": "code",
   "execution_count": 152,
   "metadata": {},
   "outputs": [
    {
     "name": "stdout",
     "output_type": "stream",
     "text": [
      "root\n",
      " |-- session: string (nullable = true)\n",
      " |-- clicks_predict: array (nullable = true)\n",
      " |    |-- element: long (containsNull = true)\n",
      " |-- carts_predict: array (nullable = true)\n",
      " |    |-- element: long (containsNull = true)\n",
      " |-- orders_predict: array (nullable = true)\n",
      " |    |-- element: long (containsNull = true)\n",
      "\n",
      "CPU times: user 7.23 ms, sys: 3.57 ms, total: 10.8 ms\n",
      "Wall time: 669 ms\n"
     ]
    }
   ],
   "source": [
    "%%time\n",
    "rawPredictionsDf = spark.read.csv(\"../../allData/validationData/submission_cartInfWeight_425.csv\", header=True)\\\n",
    "                        .withColumn(\"session\", split(col(\"session_type\"), '_').getItem(0))\\\n",
    "                        .withColumn(\"action\", split(col(\"session_type\"), \"_\").getItem(1))\\\n",
    "                        .drop(\"session_type\")\n",
    "\n",
    "clicksPredictionDf = rawPredictionsDf.filter(col(\"action\") == \"clicks\")\\\n",
    "                                     .drop(\"action\")\\\n",
    "                                     .withColumnRenamed(\"labels\", \"clicks_predict\")\\\n",
    "                                     .withColumn(\"clicks_predict\", split(col(\"clicks_predict\"), ' ').cast(\"array<long>\"))\\\n",
    "                                    \n",
    "cartsPredictionDf = rawPredictionsDf.filter(col(\"action\") == \"carts\")\\\n",
    "                                    .drop(\"action\")\\\n",
    "                                    .withColumnRenamed(\"labels\", \"carts_predict\")\\\n",
    "                                    .withColumn(\"carts_predict\", split(col(\"carts_predict\"), ' ').cast(\"array<long>\"))\n",
    "\n",
    "ordersPredictionDf = rawPredictionsDf.filter(col(\"action\") == \"orders\")\\\n",
    "                                     .drop(\"action\")\\\n",
    "                                     .withColumnRenamed(\"labels\", \"orders_predict\")\\\n",
    "                                     .withColumn(\"orders_predict\", split(col(\"orders_predict\"), ' ').cast(\"array<long>\"))\n",
    "\n",
    "combinePredictionDf = clicksPredictionDf.join(cartsPredictionDf, \"session\")\\\n",
    "                                        .join(ordersPredictionDf, \"session\")\n",
    "\n",
    "combinePredictionDf.printSchema()"
   ]
  },
  {
   "cell_type": "code",
   "execution_count": 64,
   "metadata": {},
   "outputs": [
    {
     "name": "stdout",
     "output_type": "stream",
     "text": [
      "CPU times: user 8.95 ms, sys: 3.32 ms, total: 12.3 ms\n",
      "Wall time: 2.51 s\n"
     ]
    }
   ],
   "source": [
    "%%time\n",
    "inputDataDf = spark.read.json(\"../../allData/validationData/out_7day_test/test_sessions.jsonl\", lineSep='\\n')\\\n",
    "                        .select(\"session\", explode(\"events\").alias(\"events\"))\n",
    "\n",
    "clicksInputDf = inputDataDf.filter(col(\"events.type\") == \"clicks\")\\\n",
    "                           .withColumn(\"aid\", col(\"events.aid\"))\\\n",
    "                           .groupBy(\"session\")\\\n",
    "                           .agg(collect_list(\"aid\").alias(\"clicks_input\"))\n",
    "\n",
    "cartsInputDf = inputDataDf.filter(col(\"events.type\") == \"carts\")\\\n",
    "                           .withColumn(\"aid\", col(\"events.aid\"))\\\n",
    "                           .groupBy(\"session\")\\\n",
    "                           .agg(collect_list(\"aid\").alias(\"carts_input\"))\n",
    "\n",
    "ordersInputDf = inputDataDf.filter(col(\"events.type\") == \"orders\")\\\n",
    "                           .withColumn(\"aid\", col(\"events.aid\"))\\\n",
    "                           .groupBy(\"session\")\\\n",
    "                           .agg(collect_list(\"aid\").alias(\"orders_input\"))\n",
    "\n",
    "inputCombinedDf = clicksInputDf.join(cartsInputDf, \"session\")\\\n",
    "                               .join(ordersInputDf, \"session\")\n",
    "\n",
    "inputDataDf.printSchema()"
   ]
  },
  {
   "cell_type": "code",
   "execution_count": 154,
   "metadata": {},
   "outputs": [
    {
     "name": "stdout",
     "output_type": "stream",
     "text": [
      "CPU times: user 1.42 ms, sys: 923 µs, total: 2.35 ms\n",
      "Wall time: 100 ms\n"
     ]
    }
   ],
   "source": [
    "%%time\n",
    "validationDf = inputCombinedDf.join(combinePredictionDf, \"session\")\\\n",
    "                              .join(groundTruthLabelsDf, \"session\")"
   ]
  },
  {
   "cell_type": "code",
   "execution_count": 112,
   "metadata": {},
   "outputs": [
    {
     "name": "stdout",
     "output_type": "stream",
     "text": [
      "root\n",
      " |-- session: long (nullable = true)\n",
      " |-- clicks_input: array (nullable = false)\n",
      " |    |-- element: long (containsNull = false)\n",
      " |-- carts_input: array (nullable = false)\n",
      " |    |-- element: long (containsNull = false)\n",
      " |-- orders_input: array (nullable = false)\n",
      " |    |-- element: long (containsNull = false)\n",
      " |-- clicks_predict: array (nullable = true)\n",
      " |    |-- element: long (containsNull = true)\n",
      " |-- carts_predict: array (nullable = true)\n",
      " |    |-- element: long (containsNull = true)\n",
      " |-- orders_predict: array (nullable = true)\n",
      " |    |-- element: long (containsNull = true)\n",
      " |-- clicks_answer: long (nullable = true)\n",
      " |-- carts_answer: array (nullable = true)\n",
      " |    |-- element: long (containsNull = true)\n",
      " |-- orders_answer: array (nullable = true)\n",
      " |    |-- element: long (containsNull = true)\n",
      "\n"
     ]
    }
   ],
   "source": [
    "validationDf.printSchema()"
   ]
  },
  {
   "attachments": {},
   "cell_type": "markdown",
   "metadata": {},
   "source": [
    "## Attach meta data and analysis column to validation DF"
   ]
  },
  {
   "cell_type": "code",
   "execution_count": 156,
   "metadata": {},
   "outputs": [],
   "source": [
    "#from pyspark.sql.types import IntegerType,BooleanType,DateType,StringType"
   ]
  },
  {
   "cell_type": "code",
   "execution_count": 155,
   "metadata": {},
   "outputs": [],
   "source": [
    "validationDf = validationDf.withColumn(\"input_len\", size(col(\"clicks_input\")) + size(col(\"carts_input\")) + size(col(\"orders_input\")))\\\n",
    "                           .withColumn(\"correct_click_pred\", array_contains(col(\"clicks_predict\"), col(\"clicks_answer\")))\\\n",
    "                           .withColumn(\"correct_cart_pred\", size(array_intersect(col(\"carts_predict\"), col(\"carts_answer\"))))\\\n",
    "                           .withColumn(\"cart_recall_score\", col(\"correct_cart_pred\")/least(size(col(\"carts_answer\")), lit(20)))\\\n",
    "                           .withColumn(\"correct_order_pred\", size(array_intersect(col(\"orders_predict\"), col(\"orders_answer\"))))\\\n",
    "                           .withColumn(\"order_recall_score\", col(\"correct_order_pred\")/least(size(col(\"orders_answer\")), lit(20)))\\\n",
    "                           .select(col(\"session\"),\n",
    "                                   col(\"clicks_input\"),\n",
    "                                   col(\"clicks_predict\"),\n",
    "                                   col(\"clicks_answer\"),\n",
    "                                   col(\"correct_click_pred\"),\n",
    "                                   col(\"carts_input\"),\n",
    "                                   col(\"carts_predict\"),\n",
    "                                   col(\"carts_answer\"),\n",
    "                                   col(\"correct_cart_pred\"),\n",
    "                                   col(\"cart_recall_score\"),\n",
    "                                   col(\"orders_input\"),\n",
    "                                   col(\"orders_predict\"),\n",
    "                                   col(\"orders_answer\"),\n",
    "                                   col(\"correct_order_pred\"),\n",
    "                                   col(\"order_recall_score\"),\n",
    "                                   col(\"input_len\"))\n",
    "\n"
   ]
  },
  {
   "cell_type": "code",
   "execution_count": 171,
   "metadata": {},
   "outputs": [
    {
     "data": {
      "text/plain": [
       "35793"
      ]
     },
     "execution_count": 171,
     "metadata": {},
     "output_type": "execute_result"
    }
   ],
   "source": [
    "validationDf.count()"
   ]
  },
  {
   "cell_type": "code",
   "execution_count": 157,
   "metadata": {},
   "outputs": [
    {
     "name": "stdout",
     "output_type": "stream",
     "text": [
      "root\n",
      " |-- session: long (nullable = true)\n",
      " |-- clicks_input: array (nullable = false)\n",
      " |    |-- element: long (containsNull = false)\n",
      " |-- clicks_predict: array (nullable = true)\n",
      " |    |-- element: long (containsNull = true)\n",
      " |-- clicks_answer: long (nullable = true)\n",
      " |-- correct_click_pred: boolean (nullable = true)\n",
      " |-- carts_input: array (nullable = false)\n",
      " |    |-- element: long (containsNull = false)\n",
      " |-- carts_predict: array (nullable = true)\n",
      " |    |-- element: long (containsNull = true)\n",
      " |-- carts_answer: array (nullable = true)\n",
      " |    |-- element: long (containsNull = true)\n",
      " |-- correct_cart_pred: integer (nullable = false)\n",
      " |-- cart_recall_score: double (nullable = true)\n",
      " |-- orders_input: array (nullable = false)\n",
      " |    |-- element: long (containsNull = false)\n",
      " |-- orders_predict: array (nullable = true)\n",
      " |    |-- element: long (containsNull = true)\n",
      " |-- orders_answer: array (nullable = true)\n",
      " |    |-- element: long (containsNull = true)\n",
      " |-- correct_order_pred: integer (nullable = false)\n",
      " |-- order_recall_score: double (nullable = true)\n",
      " |-- input_len: integer (nullable = false)\n",
      "\n"
     ]
    }
   ],
   "source": [
    "validationDf.printSchema()"
   ]
  },
  {
   "attachments": {},
   "cell_type": "markdown",
   "metadata": {},
   "source": [
    "## Analysis"
   ]
  },
  {
   "attachments": {},
   "cell_type": "markdown",
   "metadata": {},
   "source": [
    "#### Sanity Checks"
   ]
  },
  {
   "cell_type": "code",
   "execution_count": 164,
   "metadata": {},
   "outputs": [
    {
     "data": {
      "text/plain": [
       "6433"
      ]
     },
     "execution_count": 164,
     "metadata": {},
     "output_type": "execute_result"
    }
   ],
   "source": [
    "## if input_length >= 20, sim matrics are not used, and all predictions should come input, with different action weights for clicks/orders  or carts predictions. \n",
    "# Expect 0 output if no the inference logic was implemented correctly\n",
    "temp1 = validationDf.filter(col(\"input_len\") >= 20).select(col(\"session\") ,col(\"input_len\"), col(\"clicks_predict\"), col(\"carts_predict\"), col(\"orders_predict\"))\\\n",
    "                    .withColumn(\"temp_clicks_pred_size\", size(col(\"clicks_predict\")))\\\n",
    "                    .withColumn(\"temp_carts_pred_size\", size(col(\"carts_predict\")))\\\n",
    "                    .withColumn(\"temp_orders_pred_size\", size(col(\"orders_predict\")))\\\n",
    "                    .filter((col(\"temp_clicks_pred_size\") != 20) | (col(\"temp_carts_pred_size\") != 20) | (col(\"temp_orders_pred_size\") != 20))#.count()\n",
    "\n",
    "temp1.count()"
   ]
  },
  {
   "cell_type": "code",
   "execution_count": 165,
   "metadata": {},
   "outputs": [
    {
     "name": "stdout",
     "output_type": "stream",
     "text": [
      "+--------+---------+--------------------+--------------------+--------------------+---------------------+--------------------+---------------------+\n",
      "| session|input_len|      clicks_predict|       carts_predict|      orders_predict|temp_clicks_pred_size|temp_carts_pred_size|temp_orders_pred_size|\n",
      "+--------+---------+--------------------+--------------------+--------------------+---------------------+--------------------+---------------------+\n",
      "|11098756|       21|[425693, 1363434,...|[425693, 866492, ...|[425693, 1363434,...|                   11|                  11|                   11|\n",
      "|11098904|       38|[728938, 1351827,...|[1351827, 728938,...|[728938, 1351827,...|                   16|                  16|                   16|\n",
      "|11099298|       61|[1320573, 1239758...|[1320573, 1239758...|[1320573, 1239758...|                   17|                  17|                   17|\n",
      "|11099842|       23|[1186098, 1198275...|[1186098, 1198275...|[1186098, 1198275...|                   10|                  10|                   10|\n",
      "|11101038|       37|[1411545, 1194189...|[1676702, 1411545...|[1411545, 1194189...|                   17|                  17|                   17|\n",
      "+--------+---------+--------------------+--------------------+--------------------+---------------------+--------------------+---------------------+\n",
      "only showing top 5 rows\n",
      "\n"
     ]
    }
   ],
   "source": [
    "temp1.show(5)"
   ]
  },
  {
   "cell_type": "code",
   "execution_count": 169,
   "metadata": {},
   "outputs": [
    {
     "name": "stdout",
     "output_type": "stream",
     "text": [
      "+--------+----------------------------------------------------------------------------------+\n",
      "|session |clicks_input                                                                      |\n",
      "+--------+----------------------------------------------------------------------------------+\n",
      "|11098756|[425693, 36607, 425693, 425693, 866492, 1285074, 425693, 1748482, 1811301, 372866]|\n",
      "+--------+----------------------------------------------------------------------------------+\n",
      "\n"
     ]
    }
   ],
   "source": [
    "## found over 6k sessions have such issues, didn't suppplement the predictions when there's duplicates\n",
    "validationDf.filter(col(\"session\") == 11098756).select(col(\"session\"), col(\"clicks_input\")).show(1, False)"
   ]
  },
  {
   "attachments": {},
   "cell_type": "markdown",
   "metadata": {},
   "source": [
    "### Coverage test"
   ]
  },
  {
   "cell_type": "code",
   "execution_count": 180,
   "metadata": {},
   "outputs": [
    {
     "name": "stdout",
     "output_type": "stream",
     "text": [
      "+--------+---------+-------------------+\n",
      "| session|input_len|  cart_recall_score|\n",
      "+--------+---------+-------------------+\n",
      "|11098538|       29| 0.6666666666666666|\n",
      "|11098706|      100|                1.0|\n",
      "|11098756|       21|                0.0|\n",
      "|11098904|       38|                1.0|\n",
      "|11099298|       61|                1.0|\n",
      "|11099842|       23|0.16666666666666666|\n",
      "|11100502|       17|                1.0|\n",
      "|11100516|       12|                0.0|\n",
      "|11100985|      152|                0.0|\n",
      "|11101038|       37|                1.0|\n",
      "+--------+---------+-------------------+\n",
      "only showing top 10 rows\n",
      "\n"
     ]
    }
   ],
   "source": [
    "validationDf.select(col(\"session\"), col(\"input_len\"), col(\"cart_recall_score\")).show(10)"
   ]
  },
  {
   "cell_type": "code",
   "execution_count": 177,
   "metadata": {},
   "outputs": [
    {
     "name": "stdout",
     "output_type": "stream",
     "text": [
      "+-------+------------+--------------+-------------+------------------+-----------+-------------+------------+-----------------+-----------------+------------+--------------+-------------+------------------+------------------+---------+\n",
      "|session|clicks_input|clicks_predict|clicks_answer|correct_click_pred|carts_input|carts_predict|carts_answer|correct_cart_pred|cart_recall_score|orders_input|orders_predict|orders_answer|correct_order_pred|order_recall_score|input_len|\n",
      "+-------+------------+--------------+-------------+------------------+-----------+-------------+------------+-----------------+-----------------+------------+--------------+-------------+------------------+------------------+---------+\n",
      "+-------+------------+--------------+-------------+------------------+-----------+-------------+------------+-----------------+-----------------+------------+--------------+-------------+------------------+------------------+---------+\n",
      "\n"
     ]
    }
   ],
   "source": [
    "validationDf.filter((col(\"input_len\") >= 20) & (col(\"cart_recall_score\").isNull())).show(5)"
   ]
  },
  {
   "cell_type": "code",
   "execution_count": 174,
   "metadata": {},
   "outputs": [
    {
     "name": "stdout",
     "output_type": "stream",
     "text": [
      "+--------+------------------+------------------+------------------+\n",
      "| session|correct_click_pred| cart_recall_score|order_recall_score|\n",
      "+--------+------------------+------------------+------------------+\n",
      "|11098538|              true|0.6666666666666666|0.6666666666666666|\n",
      "|11098706|              null|               1.0|0.3333333333333333|\n",
      "|11098756|             false|               0.0|               0.0|\n",
      "|11098904|             false|               1.0|               1.0|\n",
      "|11099298|              true|               1.0|               1.0|\n",
      "+--------+------------------+------------------+------------------+\n",
      "only showing top 5 rows\n",
      "\n"
     ]
    }
   ],
   "source": [
    "## See if the long session are doing better, or short session are doing better\n",
    "validationDf.filter(col(\"input_len\") >= 20).select(col(\"session\"), col(\"correct_click_pred\"), col(\"cart_recall_score\"), col(\"order_recall_score\")).show(5)"
   ]
  },
  {
   "cell_type": "code",
   "execution_count": null,
   "metadata": {},
   "outputs": [],
   "source": [
    "## If the 40 recommendation can be added, how much improvement it can bring. "
   ]
  },
  {
   "cell_type": "code",
   "execution_count": null,
   "metadata": {},
   "outputs": [],
   "source": []
  },
  {
   "cell_type": "code",
   "execution_count": null,
   "metadata": {},
   "outputs": [],
   "source": []
  },
  {
   "cell_type": "code",
   "execution_count": null,
   "metadata": {},
   "outputs": [],
   "source": []
  },
  {
   "cell_type": "code",
   "execution_count": 170,
   "metadata": {},
   "outputs": [
    {
     "name": "stdout",
     "output_type": "stream",
     "text": [
      "+--------+------------------------------------------------------------------+\n",
      "|session |carts_input                                                       |\n",
      "+--------+------------------------------------------------------------------+\n",
      "|11098756|[36607, 425693, 425693, 866492, 1673267, 1124407, 216438, 1363434]|\n",
      "+--------+------------------------------------------------------------------+\n",
      "\n"
     ]
    }
   ],
   "source": [
    "validationDf.filter(col(\"session\") == 11098756).select(col(\"session\"), col(\"carts_input\")).show(1, False)"
   ]
  },
  {
   "cell_type": "code",
   "execution_count": null,
   "metadata": {},
   "outputs": [],
   "source": []
  },
  {
   "cell_type": "code",
   "execution_count": 128,
   "metadata": {},
   "outputs": [
    {
     "name": "stdout",
     "output_type": "stream",
     "text": [
      "+--------+--------------------+-------------+------------+-----------------+---------+\n",
      "| session|         carts_input|carts_predict|carts_answer|cart_recall_score|input_len|\n",
      "+--------+--------------------+-------------+------------+-----------------+---------+\n",
      "|12175688|[1413049, 1413049...|    [1413049]|   [1413049]|              1.0|       24|\n",
      "+--------+--------------------+-------------+------------+-----------------+---------+\n",
      "\n"
     ]
    }
   ],
   "source": [
    "validationDf.filter(col(\"correct_cart_pred\") > 0)\\\n",
    "    .select(col(\"session\"), col(\"carts_input\"), col(\"carts_predict\"), col(\"carts_answer\"), col(\"cart_recall_score\"), col(\"input_len\")).show(5)"
   ]
  },
  {
   "cell_type": "code",
   "execution_count": 126,
   "metadata": {},
   "outputs": [
    {
     "name": "stdout",
     "output_type": "stream",
     "text": [
      "+-------+-----------+-------------+------------+-----------------+---------+\n",
      "|session|carts_input|carts_predict|carts_answer|cart_recall_score|input_len|\n",
      "+-------+-----------+-------------+------------+-----------------+---------+\n",
      "+-------+-----------+-------------+------------+-----------------+---------+\n",
      "\n"
     ]
    }
   ],
   "source": [
    "validationDf.filter(col(\"cart_recall_score\") > 0).filter(col(\"cart_recall_score\") < 1.0)\\\n",
    "    .select(col(\"session\"), col(\"carts_input\"), col(\"carts_predict\"), col(\"carts_answer\"), col(\"cart_recall_score\"), col(\"input_len\")).show(10)"
   ]
  },
  {
   "cell_type": "code",
   "execution_count": 104,
   "metadata": {},
   "outputs": [
    {
     "name": "stdout",
     "output_type": "stream",
     "text": [
      "+--------+--------------------+--------------+-------------+---------+\n",
      "| session|        clicks_input|clicks_predict|clicks_answer|input_len|\n",
      "+--------+--------------------+--------------+-------------+---------+\n",
      "|12696625|  [1607039, 1607039]|     [1607039]|      1607039|        4|\n",
      "|12651068|           [1622839]|     [1622839]|      1622839|        3|\n",
      "|11761124|[75157, 75157, 75...|       [75157]|        75157|        5|\n",
      "|11957262|[1203876, 1203876...|     [1203876]|      1203876|       26|\n",
      "|11518168|[305432, 305432, ...|      [305432]|       305432|        7|\n",
      "|11722669|    [932841, 932841]|      [932841]|       932841|        4|\n",
      "|11954274|[876493, 876493, ...|      [876493]|       876493|       20|\n",
      "|12175688|[1413049, 1413049...|     [1413049]|      1413049|       24|\n",
      "|12274080|[147987, 147987, ...|      [147987]|       147987|        6|\n",
      "|11936595|            [240969]|      [240969]|       240969|        3|\n",
      "+--------+--------------------+--------------+-------------+---------+\n",
      "\n"
     ]
    }
   ],
   "source": [
    "validationDf.filter(col(\"correct_click_pred\")).select(col(\"session\"), col(\"clicks_input\"), col(\"clicks_predict\"), col(\"clicks_answer\"), col(\"input_len\")).show(10)"
   ]
  },
  {
   "cell_type": "code",
   "execution_count": null,
   "metadata": {},
   "outputs": [],
   "source": []
  }
 ],
 "metadata": {
  "kernelspec": {
   "display_name": "base",
   "language": "python",
   "name": "python3"
  },
  "language_info": {
   "codemirror_mode": {
    "name": "ipython",
    "version": 3
   },
   "file_extension": ".py",
   "mimetype": "text/x-python",
   "name": "python",
   "nbconvert_exporter": "python",
   "pygments_lexer": "ipython3",
   "version": "3.8.3"
  },
  "orig_nbformat": 4,
  "vscode": {
   "interpreter": {
    "hash": "ff58dbd0ec383761c792d0b6d4f0a9690d9c9b1bec648659fb440990235d5b98"
   }
  }
 },
 "nbformat": 4,
 "nbformat_minor": 2
}
