{
 "cells": [
  {
   "cell_type": "code",
   "execution_count": 1,
   "metadata": {},
   "outputs": [],
   "source": [
    "import os\n",
    "import gc\n",
    "import heapq\n",
    "import pickle\n",
    "import numba as nb\n",
    "import numpy as np\n",
    "import pandas as pd\n",
    "from tqdm.auto import tqdm\n"
   ]
  },
  {
   "cell_type": "code",
   "execution_count": 5,
   "metadata": {},
   "outputs": [
    {
     "name": "stdout",
     "output_type": "stream",
     "text": [
      "CPU times: user 16.3 s, sys: 4.49 s, total: 20.7 s\n",
      "Wall time: 21.9 s\n"
     ]
    }
   ],
   "source": [
    "%%time\n",
    "df = pd.read_csv(\"../../otto_data/train.csv\")\n",
    "df_test = pd.read_csv(\"../../otto_data/test.csv\")\n",
    "df = pd.concat([df, df_test]).reset_index(drop = True)\n",
    "npz = np.load(\"../../otto_data/train.npz\")\n",
    "npz_test = np.load(\"../../otto_data/test.npz\")\n",
    "aids = np.concatenate([npz['aids'], npz_test['aids']])\n",
    "ts = np.concatenate([npz['ts'], npz_test['ts']])\n",
    "ops = np.concatenate([npz['ops'], npz_test['ops']])\n",
    "\n",
    "df[\"idx\"] = np.cumsum(df.length) - df.length\n",
    "df[\"end_time\"] = df.start_time + ts[df.idx + df.length - 1]"
   ]
  },
  {
   "cell_type": "code",
   "execution_count": 10,
   "metadata": {},
   "outputs": [],
   "source": [
    "parallel = 1024"
   ]
  },
  {
   "cell_type": "code",
   "execution_count": 6,
   "metadata": {},
   "outputs": [
    {
     "data": {
      "text/html": [
       "<div>\n",
       "<style scoped>\n",
       "    .dataframe tbody tr th:only-of-type {\n",
       "        vertical-align: middle;\n",
       "    }\n",
       "\n",
       "    .dataframe tbody tr th {\n",
       "        vertical-align: top;\n",
       "    }\n",
       "\n",
       "    .dataframe thead th {\n",
       "        text-align: right;\n",
       "    }\n",
       "</style>\n",
       "<table border=\"1\" class=\"dataframe\">\n",
       "  <thead>\n",
       "    <tr style=\"text-align: right;\">\n",
       "      <th></th>\n",
       "      <th>session</th>\n",
       "      <th>start_time</th>\n",
       "      <th>length</th>\n",
       "      <th>idx</th>\n",
       "      <th>end_time</th>\n",
       "    </tr>\n",
       "  </thead>\n",
       "  <tbody>\n",
       "    <tr>\n",
       "      <th>0</th>\n",
       "      <td>0</td>\n",
       "      <td>1659304800</td>\n",
       "      <td>276</td>\n",
       "      <td>0</td>\n",
       "      <td>1661684983</td>\n",
       "    </tr>\n",
       "    <tr>\n",
       "      <th>1</th>\n",
       "      <td>1</td>\n",
       "      <td>1659304800</td>\n",
       "      <td>32</td>\n",
       "      <td>276</td>\n",
       "      <td>1661714854</td>\n",
       "    </tr>\n",
       "    <tr>\n",
       "      <th>2</th>\n",
       "      <td>2</td>\n",
       "      <td>1659304800</td>\n",
       "      <td>33</td>\n",
       "      <td>308</td>\n",
       "      <td>1661714215</td>\n",
       "    </tr>\n",
       "    <tr>\n",
       "      <th>3</th>\n",
       "      <td>3</td>\n",
       "      <td>1659304800</td>\n",
       "      <td>226</td>\n",
       "      <td>341</td>\n",
       "      <td>1661109666</td>\n",
       "    </tr>\n",
       "    <tr>\n",
       "      <th>4</th>\n",
       "      <td>4</td>\n",
       "      <td>1659304800</td>\n",
       "      <td>19</td>\n",
       "      <td>567</td>\n",
       "      <td>1661586681</td>\n",
       "    </tr>\n",
       "    <tr>\n",
       "      <th>...</th>\n",
       "      <td>...</td>\n",
       "      <td>...</td>\n",
       "      <td>...</td>\n",
       "      <td>...</td>\n",
       "      <td>...</td>\n",
       "    </tr>\n",
       "    <tr>\n",
       "      <th>14571577</th>\n",
       "      <td>14571577</td>\n",
       "      <td>1662328774</td>\n",
       "      <td>1</td>\n",
       "      <td>223644214</td>\n",
       "      <td>1662328774</td>\n",
       "    </tr>\n",
       "    <tr>\n",
       "      <th>14571578</th>\n",
       "      <td>14571578</td>\n",
       "      <td>1662328775</td>\n",
       "      <td>1</td>\n",
       "      <td>223644215</td>\n",
       "      <td>1662328775</td>\n",
       "    </tr>\n",
       "    <tr>\n",
       "      <th>14571579</th>\n",
       "      <td>14571579</td>\n",
       "      <td>1662328775</td>\n",
       "      <td>1</td>\n",
       "      <td>223644216</td>\n",
       "      <td>1662328775</td>\n",
       "    </tr>\n",
       "    <tr>\n",
       "      <th>14571580</th>\n",
       "      <td>14571580</td>\n",
       "      <td>1662328781</td>\n",
       "      <td>1</td>\n",
       "      <td>223644217</td>\n",
       "      <td>1662328781</td>\n",
       "    </tr>\n",
       "    <tr>\n",
       "      <th>14571581</th>\n",
       "      <td>14571581</td>\n",
       "      <td>1662328791</td>\n",
       "      <td>1</td>\n",
       "      <td>223644218</td>\n",
       "      <td>1662328791</td>\n",
       "    </tr>\n",
       "  </tbody>\n",
       "</table>\n",
       "<p>14571582 rows × 5 columns</p>\n",
       "</div>"
      ],
      "text/plain": [
       "           session  start_time  length        idx    end_time\n",
       "0                0  1659304800     276          0  1661684983\n",
       "1                1  1659304800      32        276  1661714854\n",
       "2                2  1659304800      33        308  1661714215\n",
       "3                3  1659304800     226        341  1661109666\n",
       "4                4  1659304800      19        567  1661586681\n",
       "...            ...         ...     ...        ...         ...\n",
       "14571577  14571577  1662328774       1  223644214  1662328774\n",
       "14571578  14571578  1662328775       1  223644215  1662328775\n",
       "14571579  14571579  1662328775       1  223644216  1662328775\n",
       "14571580  14571580  1662328781       1  223644217  1662328781\n",
       "14571581  14571581  1662328791       1  223644218  1662328791\n",
       "\n",
       "[14571582 rows x 5 columns]"
      ]
     },
     "execution_count": 6,
     "metadata": {},
     "output_type": "execute_result"
    }
   ],
   "source": [
    "df"
   ]
  },
  {
   "cell_type": "code",
   "execution_count": 7,
   "metadata": {},
   "outputs": [
    {
     "data": {
      "text/plain": [
       "array([1517085, 1563459, 1309446, ...,  739876,  202353, 1100210])"
      ]
     },
     "execution_count": 7,
     "metadata": {},
     "output_type": "execute_result"
    }
   ],
   "source": [
    "aids"
   ]
  },
  {
   "cell_type": "code",
   "execution_count": 8,
   "metadata": {},
   "outputs": [],
   "source": [
    "@nb.jit(nopython=True)\n",
    "def getSimScoresSingleRow(pairs_this_row, start_time, start_idx, length, aids, ts, ops, mode):\n",
    "    max_idx = start_idx + length\n",
    "    min_idx = max(max_idx - 30, start_idx)  \n",
    "    for i in range(min_idx, max_idx):\n",
    "        for j in range(i+1, max_idx):\n",
    "            if ts[j] - ts[i] > 24 * 60 * 60: continue\n",
    "            if aids[i] == aids[j]: continue\n",
    "            if mode == \"naive\":\n",
    "                pairs_this_row[(aids[i], aids[j])] = 1\n",
    "                pairs_this_row[(aids[j], aids[i])] = 1\n",
    "            elif mode == \"iuf\":\n",
    "                pass\n",
    "\n",
    "@nb.jit(nopython=True, parallel=True, cache=True)\n",
    "def getSimScoreBatch(aids, ts, ops, rows, fullSimMatrix, mode=\"naive\"):\n",
    "    nrows = len(rows)\n",
    "    pairs_this_batch = [{(0, 0): 0.0 for _ in range(0)} for _ in range(nrows)]\n",
    "    ## get the sim scores of each batch in seperate sub dict in pairs_this_batch\n",
    "    for row_i in nb.prange(nrows):  ## run each row of the batch in parallel\n",
    "        _, start_idx, length, start_time = rows[row_i]\n",
    "        getSimScoresSingleRow(pairs_this_batch[row_i], start_time, start_idx, length, aids, ts, ops, mode)\n",
    "    ## merge pairs_this_batch into one big sim matrix for the batch.\n",
    "    for row_i in range(nrows):\n",
    "        for (aid1, aid2), score in pairs_this_batch[row_i].items():\n",
    "            if aid1 not in fullSimMatrix: \n",
    "                fullSimMatrix[aid1] = {0: 0.0 for _ in range(0)}\n",
    "            if aid2 not in fullSimMatrix[aid1]:\n",
    "                fullSimMatrix[aid1][aid2] = 0.0\n",
    "            fullSimMatrix[aid1][aid2] += score\n",
    "    \n",
    "\n",
    "@nb.jit(nopython = True, cache = True)\n",
    "def heap_topk(cnt, overwrite, cap):\n",
    "    q = [(0.0, 0, 0) for _ in range(0)]\n",
    "    for i, (k, n) in enumerate(cnt.items()):\n",
    "        if overwrite == 1:\n",
    "            heapq.heappush(q, (n, i, k))\n",
    "        else:\n",
    "            heapq.heappush(q, (n, -i, k))\n",
    "        if len(q) > cap:\n",
    "            heapq.heappop(q)\n",
    "    return [heapq.heappop(q)[2] for _ in range(len(q))][::-1]\n",
    "   \n",
    "# save top-k aid2 for each aid1's cnt\n",
    "@nb.jit(nopython = True, cache = True)\n",
    "def get_topk(cnts, topk, k):\n",
    "    for aid1, cnt in cnts.items():\n",
    "        topk[aid1] = np.array(heap_topk(cnt, 1, k))"
   ]
  },
  {
   "cell_type": "code",
   "execution_count": 14,
   "metadata": {},
   "outputs": [
    {
     "name": "stderr",
     "output_type": "stream",
     "text": [
      "  0%|          | 0/1 [00:00<?, ?it/s]\n"
     ]
    },
    {
     "ename": "UnsupportedError",
     "evalue": "Failed in nopython mode pipeline (step: inline calls to locally defined closures)\n\u001b[1mUse of unsupported opcode (MAP_ADD) found\n\u001b[1m\nFile \"<ipython-input-8-3a43a958dd06>\", line 27:\u001b[0m\n\u001b[1mdef getSimScoreBatch(aids, ts, ops, rows, fullSimMatrix, mode=\"naive\"):\n    <source elided>\n            if aid1 not in fullSimMatrix: \n\u001b[1m                fullSimMatrix[aid1] = {0: 0.0 for _ in range(0)}\n\u001b[0m                \u001b[1m^\u001b[0m\u001b[0m\n\u001b[0m",
     "output_type": "error",
     "traceback": [
      "\u001b[0;31m---------------------------------------------------------------------------\u001b[0m",
      "\u001b[0;31mUnsupportedError\u001b[0m                          Traceback (most recent call last)",
      "\u001b[0;32m<timed exec>\u001b[0m in \u001b[0;36m<module>\u001b[0;34m\u001b[0m\n",
      "\u001b[0;32m~/opt/anaconda3/lib/python3.8/site-packages/numba/core/dispatcher.py\u001b[0m in \u001b[0;36m_compile_for_args\u001b[0;34m(self, *args, **kws)\u001b[0m\n\u001b[1;32m    416\u001b[0m         \u001b[0;32mexcept\u001b[0m \u001b[0merrors\u001b[0m\u001b[0;34m.\u001b[0m\u001b[0mUnsupportedError\u001b[0m \u001b[0;32mas\u001b[0m \u001b[0me\u001b[0m\u001b[0;34m:\u001b[0m\u001b[0;34m\u001b[0m\u001b[0;34m\u001b[0m\u001b[0m\n\u001b[1;32m    417\u001b[0m             \u001b[0;31m# Something unsupported is present in the user code, add help info\u001b[0m\u001b[0;34m\u001b[0m\u001b[0;34m\u001b[0m\u001b[0;34m\u001b[0m\u001b[0m\n\u001b[0;32m--> 418\u001b[0;31m             \u001b[0merror_rewrite\u001b[0m\u001b[0;34m(\u001b[0m\u001b[0me\u001b[0m\u001b[0;34m,\u001b[0m \u001b[0;34m'unsupported_error'\u001b[0m\u001b[0;34m)\u001b[0m\u001b[0;34m\u001b[0m\u001b[0;34m\u001b[0m\u001b[0m\n\u001b[0m\u001b[1;32m    419\u001b[0m         except (errors.NotDefinedError, errors.RedefinedError,\n\u001b[1;32m    420\u001b[0m                 errors.VerificationError) as e:\n",
      "\u001b[0;32m~/opt/anaconda3/lib/python3.8/site-packages/numba/core/dispatcher.py\u001b[0m in \u001b[0;36merror_rewrite\u001b[0;34m(e, issue_type)\u001b[0m\n\u001b[1;32m    356\u001b[0m                 \u001b[0;32mraise\u001b[0m \u001b[0me\u001b[0m\u001b[0;34m\u001b[0m\u001b[0;34m\u001b[0m\u001b[0m\n\u001b[1;32m    357\u001b[0m             \u001b[0;32melse\u001b[0m\u001b[0;34m:\u001b[0m\u001b[0;34m\u001b[0m\u001b[0;34m\u001b[0m\u001b[0m\n\u001b[0;32m--> 358\u001b[0;31m                 \u001b[0mreraise\u001b[0m\u001b[0;34m(\u001b[0m\u001b[0mtype\u001b[0m\u001b[0;34m(\u001b[0m\u001b[0me\u001b[0m\u001b[0;34m)\u001b[0m\u001b[0;34m,\u001b[0m \u001b[0me\u001b[0m\u001b[0;34m,\u001b[0m \u001b[0;32mNone\u001b[0m\u001b[0;34m)\u001b[0m\u001b[0;34m\u001b[0m\u001b[0;34m\u001b[0m\u001b[0m\n\u001b[0m\u001b[1;32m    359\u001b[0m \u001b[0;34m\u001b[0m\u001b[0m\n\u001b[1;32m    360\u001b[0m         \u001b[0margtypes\u001b[0m \u001b[0;34m=\u001b[0m \u001b[0;34m[\u001b[0m\u001b[0;34m]\u001b[0m\u001b[0;34m\u001b[0m\u001b[0;34m\u001b[0m\u001b[0m\n",
      "\u001b[0;32m~/opt/anaconda3/lib/python3.8/site-packages/numba/core/utils.py\u001b[0m in \u001b[0;36mreraise\u001b[0;34m(tp, value, tb)\u001b[0m\n\u001b[1;32m     78\u001b[0m         \u001b[0mvalue\u001b[0m \u001b[0;34m=\u001b[0m \u001b[0mtp\u001b[0m\u001b[0;34m(\u001b[0m\u001b[0;34m)\u001b[0m\u001b[0;34m\u001b[0m\u001b[0;34m\u001b[0m\u001b[0m\n\u001b[1;32m     79\u001b[0m     \u001b[0;32mif\u001b[0m \u001b[0mvalue\u001b[0m\u001b[0;34m.\u001b[0m\u001b[0m__traceback__\u001b[0m \u001b[0;32mis\u001b[0m \u001b[0;32mnot\u001b[0m \u001b[0mtb\u001b[0m\u001b[0;34m:\u001b[0m\u001b[0;34m\u001b[0m\u001b[0;34m\u001b[0m\u001b[0m\n\u001b[0;32m---> 80\u001b[0;31m         \u001b[0;32mraise\u001b[0m \u001b[0mvalue\u001b[0m\u001b[0;34m.\u001b[0m\u001b[0mwith_traceback\u001b[0m\u001b[0;34m(\u001b[0m\u001b[0mtb\u001b[0m\u001b[0;34m)\u001b[0m\u001b[0;34m\u001b[0m\u001b[0;34m\u001b[0m\u001b[0m\n\u001b[0m\u001b[1;32m     81\u001b[0m     \u001b[0;32mraise\u001b[0m \u001b[0mvalue\u001b[0m\u001b[0;34m\u001b[0m\u001b[0;34m\u001b[0m\u001b[0m\n\u001b[1;32m     82\u001b[0m \u001b[0;34m\u001b[0m\u001b[0m\n",
      "\u001b[0;31mUnsupportedError\u001b[0m: Failed in nopython mode pipeline (step: inline calls to locally defined closures)\n\u001b[1mUse of unsupported opcode (MAP_ADD) found\n\u001b[1m\nFile \"<ipython-input-8-3a43a958dd06>\", line 27:\u001b[0m\n\u001b[1mdef getSimScoreBatch(aids, ts, ops, rows, fullSimMatrix, mode=\"naive\"):\n    <source elided>\n            if aid1 not in fullSimMatrix: \n\u001b[1m                fullSimMatrix[aid1] = {0: 0.0 for _ in range(0)}\n\u001b[0m                \u001b[1m^\u001b[0m\u001b[0m\n\u001b[0m"
     ]
    }
   ],
   "source": [
    "%%time\n",
    "topks = {}\n",
    "\n",
    "## the nested dict to store full sim matrix, {itemX: {itemY: score, itemZ: score, ...}}\n",
    "fullSimMatrix = nb.typed.Dict.empty(\n",
    "        key_type = nb.types.int64,\n",
    "        value_type = nb.typeof(nb.typed.Dict.empty(key_type = nb.types.int64, value_type = nb.types.float64)))\n",
    "max_idx = len(df)\n",
    "for idx in tqdm(range(0, max_idx, parallel)):\n",
    "    rows_batch = df.iloc[idx: min(idx + parallel, max_idx)][[\"session\", \"idx\", \"length\", \"start_time\"]].values\n",
    "    getSimScoreBatch(aids, ts, ops, rows_batch, fullSimMatrix)\n",
    "    \n",
    " # get topk from counter\n",
    "topk = nb.typed.Dict.empty(\n",
    "        key_type = nb.types.int64,\n",
    "        value_type = nb.types.int64[:])\n",
    "        \n",
    "get_topk(fullSimMatrix, topk, 20)"
   ]
  },
  {
   "cell_type": "code",
   "execution_count": null,
   "metadata": {},
   "outputs": [],
   "source": []
  }
 ],
 "metadata": {
  "kernelspec": {
   "display_name": "base",
   "language": "python",
   "name": "python3"
  },
  "language_info": {
   "codemirror_mode": {
    "name": "ipython",
    "version": 3
   },
   "file_extension": ".py",
   "mimetype": "text/x-python",
   "name": "python",
   "nbconvert_exporter": "python",
   "pygments_lexer": "ipython3",
   "version": "3.8.3"
  },
  "orig_nbformat": 4,
  "vscode": {
   "interpreter": {
    "hash": "ff58dbd0ec383761c792d0b6d4f0a9690d9c9b1bec648659fb440990235d5b98"
   }
  }
 },
 "nbformat": 4,
 "nbformat_minor": 2
}
