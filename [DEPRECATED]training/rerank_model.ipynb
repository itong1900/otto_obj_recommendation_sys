{
 "cells": [
  {
   "cell_type": "code",
   "execution_count": 1,
   "metadata": {},
   "outputs": [],
   "source": [
    "# import pyspark\n",
    "# from pyspark import SparkContext, SparkConf\n",
    "# from pyspark.sql import SparkSession\n",
    "# from pyspark.sql.functions import *\n",
    "# from pyspark.sql.window import *\n",
    "# from pyspark.sql.types import ArrayType, FloatType, LongType, IntegerType\n",
    "\n",
    "# from pyspark.sql.window import Window\n",
    "# from pyspark.sql.functions import row_number\n",
    "\n",
    "import numpy as np\n",
    "import pandas as pd\n",
    "import os\n",
    "import gc"
   ]
  },
  {
   "cell_type": "code",
   "execution_count": 2,
   "metadata": {},
   "outputs": [
    {
     "data": {
      "text/plain": [
       "0"
      ]
     },
     "execution_count": 2,
     "metadata": {},
     "output_type": "execute_result"
    }
   ],
   "source": [
    "## get all valid sessions with orders actions\n",
    "## there are 150179 / 1783737 sessions have orders actions, 301057 / 1783737 have carts, 1737968 / 1783737 have clicks\n",
    "valid_order_sessions = pd.read_json(\"../../allData/validationData/out_7day_test/test_labels.jsonl\", lines=True)\n",
    "valid_order_sessions['aids'] = valid_order_sessions[\"labels\"].apply(lambda x: x.get(\"orders\"))\n",
    "valid_order_sessions = valid_order_sessions.loc[valid_order_sessions.aids.notnull()]\n",
    "valid_order_sessions = valid_order_sessions.drop(\"labels\", axis = 1)\n",
    "valid_order_sessions = valid_order_sessions.drop(\"aids\", axis = 1)\n",
    "gc.collect()\n",
    "\n",
    "## inner join order_features and valid_order_sessions, get all features of valid session rec features\n",
    "## 13601844 recommendations are valid. \n",
    "order_features_raw = pd.read_parquet(\"../../allData/features/orders_features_100_per_session.parquet\")\n",
    "order_features_valid_session = pd.merge(order_features_raw, valid_order_sessions, on=\"session\")\n",
    "\n",
    "del valid_order_sessions, order_features_raw\n",
    "gc.collect()"
   ]
  },
  {
   "cell_type": "code",
   "execution_count": 15,
   "metadata": {},
   "outputs": [
    {
     "data": {
      "text/plain": [
       "0"
      ]
     },
     "execution_count": 15,
     "metadata": {},
     "output_type": "execute_result"
    }
   ],
   "source": [
    "## Exploding the 150179 sessions with orders actions, there are 311649 unique order activities. \n",
    "orders_labels = pd.read_json(\"../../allData/validationData/out_7day_test/test_labels.jsonl\", lines=True)\n",
    "orders_labels['aids'] = orders_labels[\"labels\"].apply(lambda x: x.get(\"orders\"))\n",
    "orders_labels = orders_labels[orders_labels.aids.notnull()]\n",
    "orders_labels = orders_labels.drop(\"labels\", axis = 1)\n",
    "# orders_labels[\"gt_type\"] = 2\n",
    "orders_labels = orders_labels.set_index(['session']).apply(pd.Series.explode).reset_index()\n",
    "orders_labels[\"gt\"] = 1\n",
    "gc.collect()"
   ]
  },
  {
   "cell_type": "code",
   "execution_count": 22,
   "metadata": {},
   "outputs": [],
   "source": [
    "## Joining all features with labels, 218522 / 311659 were recalled by querying top 100 in the CF systems. \n",
    "# 218522 / 311659 =>  0.7011573546728957 translate the max possible we can get in order sector. \n",
    "orders_full_df = pd.merge(order_features_valid_session, orders_labels, on=[\"session\", \"aids\"], how='left')"
   ]
  },
  {
   "cell_type": "code",
   "execution_count": 24,
   "metadata": {},
   "outputs": [
    {
     "data": {
      "text/html": [
       "<div>\n",
       "<style scoped>\n",
       "    .dataframe tbody tr th:only-of-type {\n",
       "        vertical-align: middle;\n",
       "    }\n",
       "\n",
       "    .dataframe tbody tr th {\n",
       "        vertical-align: top;\n",
       "    }\n",
       "\n",
       "    .dataframe thead th {\n",
       "        text-align: right;\n",
       "    }\n",
       "</style>\n",
       "<table border=\"1\" class=\"dataframe\">\n",
       "  <thead>\n",
       "    <tr style=\"text-align: right;\">\n",
       "      <th></th>\n",
       "      <th>session</th>\n",
       "      <th>aids</th>\n",
       "      <th>prev_int</th>\n",
       "      <th>seq_w</th>\n",
       "      <th>time_w</th>\n",
       "      <th>ops_total</th>\n",
       "      <th>session_len</th>\n",
       "      <th>session_unique_aid</th>\n",
       "      <th>rank_score</th>\n",
       "      <th>gt</th>\n",
       "    </tr>\n",
       "  </thead>\n",
       "  <tbody>\n",
       "    <tr>\n",
       "      <th>0</th>\n",
       "      <td>11098528</td>\n",
       "      <td>11830</td>\n",
       "      <td>True</td>\n",
       "      <td>0.231144</td>\n",
       "      <td>3.0</td>\n",
       "      <td>0</td>\n",
       "      <td>1</td>\n",
       "      <td>1</td>\n",
       "      <td>13.868665</td>\n",
       "      <td>1.0</td>\n",
       "    </tr>\n",
       "    <tr>\n",
       "      <th>1</th>\n",
       "      <td>11098528</td>\n",
       "      <td>1732105</td>\n",
       "      <td>False</td>\n",
       "      <td>0.231144</td>\n",
       "      <td>3.0</td>\n",
       "      <td>0</td>\n",
       "      <td>1</td>\n",
       "      <td>1</td>\n",
       "      <td>1.386866</td>\n",
       "      <td>NaN</td>\n",
       "    </tr>\n",
       "  </tbody>\n",
       "</table>\n",
       "</div>"
      ],
      "text/plain": [
       "    session     aids  prev_int     seq_w  time_w  ops_total  session_len  \\\n",
       "0  11098528    11830      True  0.231144     3.0          0            1   \n",
       "1  11098528  1732105     False  0.231144     3.0          0            1   \n",
       "\n",
       "   session_unique_aid  rank_score   gt  \n",
       "0                   1   13.868665  1.0  \n",
       "1                   1    1.386866  NaN  "
      ]
     },
     "execution_count": 24,
     "metadata": {},
     "output_type": "execute_result"
    }
   ],
   "source": [
    "## output this file for LightGBM ranker to learn \n",
    "orders_full_df.head(2)"
   ]
  },
  {
   "cell_type": "code",
   "execution_count": 25,
   "metadata": {},
   "outputs": [],
   "source": [
    "orders_full_df.to_parquet(\"../../allData/features/ready_GBM_orders_100_features_V2.parquet\")"
   ]
  },
  {
   "cell_type": "code",
   "execution_count": null,
   "metadata": {},
   "outputs": [],
   "source": []
  },
  {
   "cell_type": "code",
   "execution_count": null,
   "metadata": {},
   "outputs": [],
   "source": []
  }
 ],
 "metadata": {
  "kernelspec": {
   "display_name": "base",
   "language": "python",
   "name": "python3"
  },
  "language_info": {
   "codemirror_mode": {
    "name": "ipython",
    "version": 3
   },
   "file_extension": ".py",
   "mimetype": "text/x-python",
   "name": "python",
   "nbconvert_exporter": "python",
   "pygments_lexer": "ipython3",
   "version": "3.8.3 (default, Jul  2 2020, 11:26:31) \n[Clang 10.0.0 ]"
  },
  "orig_nbformat": 4,
  "vscode": {
   "interpreter": {
    "hash": "ff58dbd0ec383761c792d0b6d4f0a9690d9c9b1bec648659fb440990235d5b98"
   }
  }
 },
 "nbformat": 4,
 "nbformat_minor": 2
}
