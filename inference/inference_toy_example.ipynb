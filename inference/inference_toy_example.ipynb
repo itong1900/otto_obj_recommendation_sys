{
 "cells": [
  {
   "attachments": {},
   "cell_type": "markdown",
   "metadata": {},
   "source": [
    "## Toy Function for inference pipelines"
   ]
  },
  {
   "cell_type": "code",
   "execution_count": 1,
   "metadata": {},
   "outputs": [],
   "source": [
    "import os\n",
    "import gc\n",
    "import heapq\n",
    "import pickle\n",
    "import numba as nb\n",
    "import numpy as np\n",
    "import pandas as pd\n",
    "from tqdm.auto import tqdm"
   ]
  },
  {
   "cell_type": "code",
   "execution_count": null,
   "metadata": {},
   "outputs": [],
   "source": [
    "## steps to make inferences\n",
    "## 1. read in a test set row, look at its aids and ops\n",
    "## 2. give time weight and seq weight for each aid it has interaction with\n",
    "## 3. based on the aids, search the similar items of aids in the fullSimMatrix.\n",
    "## 4. get all the sim scores and combine with the seq weights and time weight found in step #2\n",
    "## 5. Find the top 20 items of each user in step 4, use heap_topk to reduce memory overflow."
   ]
  },
  {
   "cell_type": "code",
   "execution_count": 2,
   "metadata": {},
   "outputs": [],
   "source": [
    "fullSimMatrix = nb.typed.Dict.empty(\n",
    "        key_type = nb.types.int64,\n",
    "        value_type = nb.typeof(nb.typed.Dict.empty(key_type = nb.types.int64, value_type = nb.types.float64)))\n",
    "\n",
    "inner_dict_1 = nb.typed.Dict.empty(key_type = nb.types.int64, value_type = nb.types.float64)\n",
    "inner_dict_1[2] = 100.0\n",
    "inner_dict_1[4] = 120.0\n",
    "inner_dict_1[6] = 80.0\n",
    "inner_dict_1[8] = 90.0\n",
    "\n",
    "inner_dict_3 = nb.typed.Dict.empty(key_type = nb.types.int64, value_type = nb.types.float64)\n",
    "inner_dict_3[2] = 102.0\n",
    "inner_dict_3[4] = 800.0\n",
    "inner_dict_3[6] = 400.0\n",
    "inner_dict_3[8] = 600.0\n",
    "\n",
    "itemid_set1 = [1, 3]  # 5, 7, 9, 11]\n",
    "dict_set = [inner_dict_1, inner_dict_3]\n",
    "\n",
    "for idx, item1 in enumerate(itemid_set1):\n",
    "    fullSimMatrix[item1] = dict_set[idx] \n"
   ]
  },
  {
   "cell_type": "code",
   "execution_count": 13,
   "metadata": {},
   "outputs": [
    {
     "data": {
      "text/plain": [
       "DictType[int64,DictType[int64,float64]<iv=None>]<iv=None>({1: {2: 100.0, 4: 120.0, 6: 80.0, 8: 90.0}, 3: {2: 102.0, 4: 800.0, 6: 400.0, 8: 600.0}})"
      ]
     },
     "execution_count": 13,
     "metadata": {},
     "output_type": "execute_result"
    }
   ],
   "source": [
    "fullSimMatrix"
   ]
  },
  {
   "cell_type": "code",
   "execution_count": 7,
   "metadata": {},
   "outputs": [],
   "source": [
    "## create test set data\n",
    "aids = [1, 2, 2, 1]\n",
    "ops = [0, 0, 1, 0]\n",
    "length = 4"
   ]
  },
  {
   "cell_type": "code",
   "execution_count": 18,
   "metadata": {},
   "outputs": [],
   "source": [
    "@nb.jit(nopython = True)\n",
    "def heap_topk(item_cnt_dict, cap):\n",
    "    \"\"\"\n",
    "    get the top cap(k) elements of the cnt dict based on value, using a min-heap structure\n",
    "    \"\"\"\n",
    "    q = [(np.float64(0), np.int64(0)) for _ in range(0)]  ## generate empty queue to implement a heap, \n",
    "    for item_ref, sim_score in item_cnt_dict.items():   ## read in the dict in heap structure\n",
    "        heapq.heappush(q, (sim_score, item_ref))   ## push the <sim_score, item_ref_id> pair into min-heap, using sim_score for order\n",
    "        if len(q) > cap:\n",
    "            heapq.heappop(q)\n",
    "            \n",
    "    res = [heapq.heappop(q)[1] for _ in range(len(q))][::-1]\n",
    "    \n",
    "    return res"
   ]
  },
  {
   "cell_type": "code",
   "execution_count": 27,
   "metadata": {},
   "outputs": [],
   "source": [
    "@nb.jit(nopython=True, parallel=True)\n",
    "def inference_single_session(candidate_aids, ops, result, full_sim_matrix, test_ops_weights):\n",
    "    ## 1. read in a test set row, look at its aids and ops\n",
    "    ## 2. give time weight and seq weight for each aid it has interaction with, \n",
    "    ## in other words, the value of unique_aids_weights shows how important the action is,\n",
    "\n",
    "    ## record all potential aid that might be relevant\n",
    "    potential_to_recommend = nb.typed.Dict.empty(key_type=nb.types.int64, value_type=nb.types.float64)\n",
    "    print(\"hit here\")\n",
    "    for idx, candidate in enumerate(candidate_aids):\n",
    "        action_realtime_weight = test_ops_weights[ops[idx]]  ## replace by some helper function that define the importance of an action, given by ts, ops, seq etc\n",
    "        \n",
    "        ## load the potential items to recommend, ## 3. based on the aids, search the similar items of aids in the fullSimMatrix.\n",
    "        for similar_item in full_sim_matrix[candidate]:\n",
    "            if similar_item not in potential_to_recommend:\n",
    "                potential_to_recommend[similar_item] = 0\n",
    "            ## step 4\n",
    "            potential_to_recommend[similar_item] += full_sim_matrix[candidate][similar_item] * action_realtime_weight\n",
    "        \n",
    "    ## step 5, get the top 20 of potential_to_recommend, and store it as a list and save it in result. \n",
    "    result[0] = heap_topk(potential_to_recommend, 2)  ## TODO: replace with result[session_id] = ...\n"
   ]
  },
  {
   "cell_type": "code",
   "execution_count": 28,
   "metadata": {},
   "outputs": [
    {
     "ename": "TypingError",
     "evalue": "Failed in nopython mode pipeline (step: nopython frontend)\n\u001b[1m\u001b[1mNo implementation of function Function(<built-in function setitem>) found for signature:\n \n >>> setitem(DictType[int64,array(int64, 1d, A)]<iv=None>, Literal[int](0), list(int64)<iv=None>)\n \nThere are 16 candidate implementations:\n\u001b[1m      - Of which 14 did not match due to:\n      Overload of function 'setitem': File: <numerous>: Line N/A.\n        With argument(s): '(DictType[int64,array(int64, 1d, A)]<iv=None>, int64, list(int64)<iv=None>)':\u001b[0m\n\u001b[1m       No match.\u001b[0m\n\u001b[1m      - Of which 2 did not match due to:\n      Overload in function 'impl_setitem': File: numba/typed/dictobject.py: Line 695.\n        With argument(s): '(DictType[int64,array(int64, 1d, A)]<iv=None>, int64, list(int64)<iv=None>)':\u001b[0m\n\u001b[1m       Rejected as the implementation raised a specific error:\n         NumbaNotImplementedError: Failed in nopython mode pipeline (step: native lowering)\n       \u001b[1m\u001b[1mCannot cast list(int64)<iv=None> to array(int64, 1d, A): %\"inserted.parent\" = insertvalue {i8*, i8*} %\"inserted.meminfo.1\", i8* %\"arg.value.1\", 1\u001b[0m\n       \u001b[0m\u001b[1mDuring: lowering \"castedval = call $12load_global.4(value, $16load_deref.6, func=$12load_global.4, args=[Var(value, dictobject.py:704), Var($16load_deref.6, dictobject.py:705)], kws=(), vararg=None, varkwarg=None, target=None)\" at /Users/itong1900/opt/anaconda3/lib/python3.8/site-packages/numba/typed/dictobject.py (705)\u001b[0m\u001b[0m\n  raised from /Users/itong1900/opt/anaconda3/lib/python3.8/site-packages/numba/core/base.py:704\n\u001b[0m\n\u001b[0m\u001b[1mDuring: typing of staticsetitem at <ipython-input-27-e4895f48f1c3> (22)\u001b[0m\n\u001b[1m\nFile \"<ipython-input-27-e4895f48f1c3>\", line 22:\u001b[0m\n\u001b[1mdef inference_single_session(candidate_aids, ops, result, full_sim_matrix, test_ops_weights):\n    <source elided>\n    ## step 5, get the top 20 of potential_to_recommend, and store it as a list and save it in result. \n\u001b[1m    result[0] = heap_topk(potential_to_recommend, 2)  ## TODO: replace with result[session_id] = ...\n\u001b[0m    \u001b[1m^\u001b[0m\u001b[0m\n",
     "output_type": "error",
     "traceback": [
      "\u001b[0;31m---------------------------------------------------------------------------\u001b[0m",
      "\u001b[0;31mTypingError\u001b[0m                               Traceback (most recent call last)",
      "\u001b[0;32m<ipython-input-28-65843b1d5626>\u001b[0m in \u001b[0;36m<module>\u001b[0;34m\u001b[0m\n\u001b[1;32m      3\u001b[0m     value_type = nb.types.int64[:])\n\u001b[1;32m      4\u001b[0m \u001b[0;34m\u001b[0m\u001b[0m\n\u001b[0;32m----> 5\u001b[0;31m \u001b[0minference_single_session\u001b[0m\u001b[0;34m(\u001b[0m\u001b[0maids\u001b[0m\u001b[0;34m,\u001b[0m \u001b[0mops\u001b[0m\u001b[0;34m,\u001b[0m \u001b[0mresult_inf\u001b[0m\u001b[0;34m,\u001b[0m \u001b[0mfullSimMatrix\u001b[0m\u001b[0;34m,\u001b[0m \u001b[0mnp\u001b[0m\u001b[0;34m.\u001b[0m\u001b[0marray\u001b[0m\u001b[0;34m(\u001b[0m\u001b[0;34m[\u001b[0m\u001b[0;36m1.0\u001b[0m\u001b[0;34m,\u001b[0m \u001b[0;36m6.0\u001b[0m\u001b[0;34m,\u001b[0m \u001b[0;36m3.0\u001b[0m\u001b[0;34m]\u001b[0m\u001b[0;34m)\u001b[0m\u001b[0;34m)\u001b[0m\u001b[0;34m\u001b[0m\u001b[0;34m\u001b[0m\u001b[0m\n\u001b[0m",
      "\u001b[0;32m~/opt/anaconda3/lib/python3.8/site-packages/numba/core/dispatcher.py\u001b[0m in \u001b[0;36m_compile_for_args\u001b[0;34m(self, *args, **kws)\u001b[0m\n\u001b[1;32m    466\u001b[0m                 \u001b[0me\u001b[0m\u001b[0;34m.\u001b[0m\u001b[0mpatch_message\u001b[0m\u001b[0;34m(\u001b[0m\u001b[0mmsg\u001b[0m\u001b[0;34m)\u001b[0m\u001b[0;34m\u001b[0m\u001b[0;34m\u001b[0m\u001b[0m\n\u001b[1;32m    467\u001b[0m \u001b[0;34m\u001b[0m\u001b[0m\n\u001b[0;32m--> 468\u001b[0;31m             \u001b[0merror_rewrite\u001b[0m\u001b[0;34m(\u001b[0m\u001b[0me\u001b[0m\u001b[0;34m,\u001b[0m \u001b[0;34m'typing'\u001b[0m\u001b[0;34m)\u001b[0m\u001b[0;34m\u001b[0m\u001b[0;34m\u001b[0m\u001b[0m\n\u001b[0m\u001b[1;32m    469\u001b[0m         \u001b[0;32mexcept\u001b[0m \u001b[0merrors\u001b[0m\u001b[0;34m.\u001b[0m\u001b[0mUnsupportedError\u001b[0m \u001b[0;32mas\u001b[0m \u001b[0me\u001b[0m\u001b[0;34m:\u001b[0m\u001b[0;34m\u001b[0m\u001b[0;34m\u001b[0m\u001b[0m\n\u001b[1;32m    470\u001b[0m             \u001b[0;31m# Something unsupported is present in the user code, add help info\u001b[0m\u001b[0;34m\u001b[0m\u001b[0;34m\u001b[0m\u001b[0;34m\u001b[0m\u001b[0m\n",
      "\u001b[0;32m~/opt/anaconda3/lib/python3.8/site-packages/numba/core/dispatcher.py\u001b[0m in \u001b[0;36merror_rewrite\u001b[0;34m(e, issue_type)\u001b[0m\n\u001b[1;32m    407\u001b[0m                 \u001b[0;32mraise\u001b[0m \u001b[0me\u001b[0m\u001b[0;34m\u001b[0m\u001b[0;34m\u001b[0m\u001b[0m\n\u001b[1;32m    408\u001b[0m             \u001b[0;32melse\u001b[0m\u001b[0;34m:\u001b[0m\u001b[0;34m\u001b[0m\u001b[0;34m\u001b[0m\u001b[0m\n\u001b[0;32m--> 409\u001b[0;31m                 \u001b[0;32mraise\u001b[0m \u001b[0me\u001b[0m\u001b[0;34m.\u001b[0m\u001b[0mwith_traceback\u001b[0m\u001b[0;34m(\u001b[0m\u001b[0;32mNone\u001b[0m\u001b[0;34m)\u001b[0m\u001b[0;34m\u001b[0m\u001b[0;34m\u001b[0m\u001b[0m\n\u001b[0m\u001b[1;32m    410\u001b[0m \u001b[0;34m\u001b[0m\u001b[0m\n\u001b[1;32m    411\u001b[0m         \u001b[0margtypes\u001b[0m \u001b[0;34m=\u001b[0m \u001b[0;34m[\u001b[0m\u001b[0;34m]\u001b[0m\u001b[0;34m\u001b[0m\u001b[0;34m\u001b[0m\u001b[0m\n",
      "\u001b[0;31mTypingError\u001b[0m: Failed in nopython mode pipeline (step: nopython frontend)\n\u001b[1m\u001b[1mNo implementation of function Function(<built-in function setitem>) found for signature:\n \n >>> setitem(DictType[int64,array(int64, 1d, A)]<iv=None>, Literal[int](0), list(int64)<iv=None>)\n \nThere are 16 candidate implementations:\n\u001b[1m      - Of which 14 did not match due to:\n      Overload of function 'setitem': File: <numerous>: Line N/A.\n        With argument(s): '(DictType[int64,array(int64, 1d, A)]<iv=None>, int64, list(int64)<iv=None>)':\u001b[0m\n\u001b[1m       No match.\u001b[0m\n\u001b[1m      - Of which 2 did not match due to:\n      Overload in function 'impl_setitem': File: numba/typed/dictobject.py: Line 695.\n        With argument(s): '(DictType[int64,array(int64, 1d, A)]<iv=None>, int64, list(int64)<iv=None>)':\u001b[0m\n\u001b[1m       Rejected as the implementation raised a specific error:\n         NumbaNotImplementedError: Failed in nopython mode pipeline (step: native lowering)\n       \u001b[1m\u001b[1mCannot cast list(int64)<iv=None> to array(int64, 1d, A): %\"inserted.parent\" = insertvalue {i8*, i8*} %\"inserted.meminfo.1\", i8* %\"arg.value.1\", 1\u001b[0m\n       \u001b[0m\u001b[1mDuring: lowering \"castedval = call $12load_global.4(value, $16load_deref.6, func=$12load_global.4, args=[Var(value, dictobject.py:704), Var($16load_deref.6, dictobject.py:705)], kws=(), vararg=None, varkwarg=None, target=None)\" at /Users/itong1900/opt/anaconda3/lib/python3.8/site-packages/numba/typed/dictobject.py (705)\u001b[0m\u001b[0m\n  raised from /Users/itong1900/opt/anaconda3/lib/python3.8/site-packages/numba/core/base.py:704\n\u001b[0m\n\u001b[0m\u001b[1mDuring: typing of staticsetitem at <ipython-input-27-e4895f48f1c3> (22)\u001b[0m\n\u001b[1m\nFile \"<ipython-input-27-e4895f48f1c3>\", line 22:\u001b[0m\n\u001b[1mdef inference_single_session(candidate_aids, ops, result, full_sim_matrix, test_ops_weights):\n    <source elided>\n    ## step 5, get the top 20 of potential_to_recommend, and store it as a list and save it in result. \n\u001b[1m    result[0] = heap_topk(potential_to_recommend, 2)  ## TODO: replace with result[session_id] = ...\n\u001b[0m    \u001b[1m^\u001b[0m\u001b[0m\n"
     ]
    }
   ],
   "source": [
    "result_inf = nb.typed.Dict.empty(\n",
    "    key_type = nb.types.int64,\n",
    "    value_type = nb.types.int64[:])\n",
    "\n",
    "inference_single_session(aids, ops, result_inf, fullSimMatrix, np.array([1.0, 6.0, 3.0]))"
   ]
  },
  {
   "cell_type": "code",
   "execution_count": 16,
   "metadata": {},
   "outputs": [
    {
     "data": {
      "text/plain": [
       "array([1., 6., 3.])"
      ]
     },
     "execution_count": 16,
     "metadata": {},
     "output_type": "execute_result"
    }
   ],
   "source": [
    "np.array([1.0, 6.0, 3.0])"
   ]
  },
  {
   "cell_type": "markdown",
   "metadata": {},
   "source": []
  }
 ],
 "metadata": {
  "kernelspec": {
   "display_name": "base",
   "language": "python",
   "name": "python3"
  },
  "language_info": {
   "codemirror_mode": {
    "name": "ipython",
    "version": 3
   },
   "file_extension": ".py",
   "mimetype": "text/x-python",
   "name": "python",
   "nbconvert_exporter": "python",
   "pygments_lexer": "ipython3",
   "version": "3.8.3"
  },
  "orig_nbformat": 4,
  "vscode": {
   "interpreter": {
    "hash": "ff58dbd0ec383761c792d0b6d4f0a9690d9c9b1bec648659fb440990235d5b98"
   }
  }
 },
 "nbformat": 4,
 "nbformat_minor": 2
}
