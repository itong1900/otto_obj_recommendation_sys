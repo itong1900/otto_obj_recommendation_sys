{
 "cells": [
  {
   "cell_type": "code",
   "execution_count": 1,
   "id": "ccbe8128",
   "metadata": {
    "execution": {
     "iopub.execute_input": "2023-01-25T01:28:02.090462Z",
     "iopub.status.busy": "2023-01-25T01:28:02.089742Z",
     "iopub.status.idle": "2023-01-25T01:28:02.929315Z",
     "shell.execute_reply": "2023-01-25T01:28:02.928187Z"
    },
    "papermill": {
     "duration": 0.851872,
     "end_time": "2023-01-25T01:28:02.932336",
     "exception": false,
     "start_time": "2023-01-25T01:28:02.080464",
     "status": "completed"
    },
    "tags": []
   },
   "outputs": [],
   "source": [
    "import os\n",
    "import gc\n",
    "import heapq\n",
    "import pickle\n",
    "import numba as nb\n",
    "import numpy as np\n",
    "import pandas as pd\n",
    "from tqdm.auto import tqdm\n",
    "import math\n"
   ]
  },
  {
   "cell_type": "code",
   "execution_count": 2,
   "id": "897c423d",
   "metadata": {
    "execution": {
     "iopub.execute_input": "2023-01-25T01:28:02.949657Z",
     "iopub.status.busy": "2023-01-25T01:28:02.949250Z",
     "iopub.status.idle": "2023-01-25T01:28:40.945526Z",
     "shell.execute_reply": "2023-01-25T01:28:40.944425Z"
    },
    "papermill": {
     "duration": 38.015266,
     "end_time": "2023-01-25T01:28:40.955345",
     "exception": false,
     "start_time": "2023-01-25T01:28:02.940079",
     "status": "completed"
    },
    "tags": []
   },
   "outputs": [
    {
     "name": "stdout",
     "output_type": "stream",
     "text": [
      "CPU times: user 22.8 s, sys: 3.93 s, total: 26.7 s\n",
      "Wall time: 38 s\n"
     ]
    }
   ],
   "source": [
    "%%time\n",
    "## read in all the data\n",
    "df = pd.read_csv(\"../input/otto-data/train.csv\")\n",
    "df_test = pd.read_csv(\"../input/otto-data/test.csv\")\n",
    "df = pd.concat([df, df_test]).reset_index(drop = True)\n",
    "npz = np.load(\"../input/otto-data/train.npz\")\n",
    "npz_test = np.load(\"../input/otto-data/test.npz\")\n",
    "aids = np.concatenate([npz['aids'], npz_test['aids']])\n",
    "ts = np.concatenate([npz['ts'], npz_test['ts']])\n",
    "ops = np.concatenate([npz['ops'], npz_test['ops']])\n",
    "\n",
    "## add a few important attributes to df\n",
    "df[\"start_idx\"] = np.cumsum(df.length) - df.length\n",
    "df[\"end_time\"] = df.start_time + ts[df.start_idx + df.length - 1]"
   ]
  },
  {
   "cell_type": "code",
   "execution_count": 3,
   "id": "eeb4b160",
   "metadata": {
    "execution": {
     "iopub.execute_input": "2023-01-25T01:28:40.972557Z",
     "iopub.status.busy": "2023-01-25T01:28:40.972150Z",
     "iopub.status.idle": "2023-01-25T01:28:40.977451Z",
     "shell.execute_reply": "2023-01-25T01:28:40.976024Z"
    },
    "papermill": {
     "duration": 0.016488,
     "end_time": "2023-01-25T01:28:40.979705",
     "exception": false,
     "start_time": "2023-01-25T01:28:40.963217",
     "status": "completed"
    },
    "tags": []
   },
   "outputs": [],
   "source": [
    "# ## Define constants\n",
    "# PARALLEL = 1024\n",
    "# LOOKBACK_WINDOW = 200   ## only fit the latest LOOKBACK_WINDOW to train the sim matrix\n",
    "# TOPN = 20\n",
    "# ACTION_WEIGHTS = np.array([1.0, 6.0, 3.0])\n",
    "# #OP_WEIGHT = 0; TIME_WEIGHT = 1\n",
    "# #test_ops_weights = np.array([1.0, 6.0, 3.0])\n",
    "\n",
    "# TRAIN_START_TS = 1659304800\n",
    "# TEST_END_TS = 1662328791\n",
    "# TIME_SPAN = TEST_END_TS - TRAIN_START_TS"
   ]
  },
  {
   "cell_type": "code",
   "execution_count": 4,
   "id": "e7ce2fc0",
   "metadata": {
    "execution": {
     "iopub.execute_input": "2023-01-25T01:28:40.998902Z",
     "iopub.status.busy": "2023-01-25T01:28:40.998505Z",
     "iopub.status.idle": "2023-01-25T01:28:41.016821Z",
     "shell.execute_reply": "2023-01-25T01:28:41.015578Z"
    },
    "papermill": {
     "duration": 0.031473,
     "end_time": "2023-01-25T01:28:41.019191",
     "exception": false,
     "start_time": "2023-01-25T01:28:40.987718",
     "status": "completed"
    },
    "tags": []
   },
   "outputs": [
    {
     "data": {
      "text/html": [
       "<div>\n",
       "<style scoped>\n",
       "    .dataframe tbody tr th:only-of-type {\n",
       "        vertical-align: middle;\n",
       "    }\n",
       "\n",
       "    .dataframe tbody tr th {\n",
       "        vertical-align: top;\n",
       "    }\n",
       "\n",
       "    .dataframe thead th {\n",
       "        text-align: right;\n",
       "    }\n",
       "</style>\n",
       "<table border=\"1\" class=\"dataframe\">\n",
       "  <thead>\n",
       "    <tr style=\"text-align: right;\">\n",
       "      <th></th>\n",
       "      <th>session</th>\n",
       "      <th>start_time</th>\n",
       "      <th>length</th>\n",
       "      <th>start_idx</th>\n",
       "      <th>end_time</th>\n",
       "    </tr>\n",
       "  </thead>\n",
       "  <tbody>\n",
       "    <tr>\n",
       "      <th>0</th>\n",
       "      <td>0</td>\n",
       "      <td>1659304800</td>\n",
       "      <td>276</td>\n",
       "      <td>0</td>\n",
       "      <td>1661684983</td>\n",
       "    </tr>\n",
       "    <tr>\n",
       "      <th>1</th>\n",
       "      <td>1</td>\n",
       "      <td>1659304800</td>\n",
       "      <td>32</td>\n",
       "      <td>276</td>\n",
       "      <td>1661714854</td>\n",
       "    </tr>\n",
       "    <tr>\n",
       "      <th>2</th>\n",
       "      <td>2</td>\n",
       "      <td>1659304800</td>\n",
       "      <td>33</td>\n",
       "      <td>308</td>\n",
       "      <td>1661714215</td>\n",
       "    </tr>\n",
       "    <tr>\n",
       "      <th>3</th>\n",
       "      <td>3</td>\n",
       "      <td>1659304800</td>\n",
       "      <td>226</td>\n",
       "      <td>341</td>\n",
       "      <td>1661109666</td>\n",
       "    </tr>\n",
       "    <tr>\n",
       "      <th>4</th>\n",
       "      <td>4</td>\n",
       "      <td>1659304800</td>\n",
       "      <td>19</td>\n",
       "      <td>567</td>\n",
       "      <td>1661586681</td>\n",
       "    </tr>\n",
       "    <tr>\n",
       "      <th>...</th>\n",
       "      <td>...</td>\n",
       "      <td>...</td>\n",
       "      <td>...</td>\n",
       "      <td>...</td>\n",
       "      <td>...</td>\n",
       "    </tr>\n",
       "    <tr>\n",
       "      <th>14571577</th>\n",
       "      <td>14571577</td>\n",
       "      <td>1662328774</td>\n",
       "      <td>1</td>\n",
       "      <td>223644214</td>\n",
       "      <td>1662328774</td>\n",
       "    </tr>\n",
       "    <tr>\n",
       "      <th>14571578</th>\n",
       "      <td>14571578</td>\n",
       "      <td>1662328775</td>\n",
       "      <td>1</td>\n",
       "      <td>223644215</td>\n",
       "      <td>1662328775</td>\n",
       "    </tr>\n",
       "    <tr>\n",
       "      <th>14571579</th>\n",
       "      <td>14571579</td>\n",
       "      <td>1662328775</td>\n",
       "      <td>1</td>\n",
       "      <td>223644216</td>\n",
       "      <td>1662328775</td>\n",
       "    </tr>\n",
       "    <tr>\n",
       "      <th>14571580</th>\n",
       "      <td>14571580</td>\n",
       "      <td>1662328781</td>\n",
       "      <td>1</td>\n",
       "      <td>223644217</td>\n",
       "      <td>1662328781</td>\n",
       "    </tr>\n",
       "    <tr>\n",
       "      <th>14571581</th>\n",
       "      <td>14571581</td>\n",
       "      <td>1662328791</td>\n",
       "      <td>1</td>\n",
       "      <td>223644218</td>\n",
       "      <td>1662328791</td>\n",
       "    </tr>\n",
       "  </tbody>\n",
       "</table>\n",
       "<p>14571582 rows × 5 columns</p>\n",
       "</div>"
      ],
      "text/plain": [
       "           session  start_time  length  start_idx    end_time\n",
       "0                0  1659304800     276          0  1661684983\n",
       "1                1  1659304800      32        276  1661714854\n",
       "2                2  1659304800      33        308  1661714215\n",
       "3                3  1659304800     226        341  1661109666\n",
       "4                4  1659304800      19        567  1661586681\n",
       "...            ...         ...     ...        ...         ...\n",
       "14571577  14571577  1662328774       1  223644214  1662328774\n",
       "14571578  14571578  1662328775       1  223644215  1662328775\n",
       "14571579  14571579  1662328775       1  223644216  1662328775\n",
       "14571580  14571580  1662328781       1  223644217  1662328781\n",
       "14571581  14571581  1662328791       1  223644218  1662328791\n",
       "\n",
       "[14571582 rows x 5 columns]"
      ]
     },
     "execution_count": 4,
     "metadata": {},
     "output_type": "execute_result"
    }
   ],
   "source": [
    "df"
   ]
  },
  {
   "cell_type": "markdown",
   "id": "341f4b9e",
   "metadata": {
    "papermill": {
     "duration": 0.008265,
     "end_time": "2023-01-25T01:28:41.035632",
     "exception": false,
     "start_time": "2023-01-25T01:28:41.027367",
     "status": "completed"
    },
    "tags": []
   },
   "source": [
    "## 1. Training -- Derive ItemCF similarity Matrix"
   ]
  },
  {
   "cell_type": "markdown",
   "id": "bb4f6a38",
   "metadata": {
    "papermill": {
     "duration": 0.007741,
     "end_time": "2023-01-25T01:28:41.051383",
     "exception": false,
     "start_time": "2023-01-25T01:28:41.043642",
     "status": "completed"
    },
    "tags": []
   },
   "source": [
    "#### Constants"
   ]
  },
  {
   "cell_type": "code",
   "execution_count": 5,
   "id": "72512580",
   "metadata": {
    "execution": {
     "iopub.execute_input": "2023-01-25T01:28:41.069221Z",
     "iopub.status.busy": "2023-01-25T01:28:41.068806Z",
     "iopub.status.idle": "2023-01-25T01:28:41.074311Z",
     "shell.execute_reply": "2023-01-25T01:28:41.073229Z"
    },
    "papermill": {
     "duration": 0.017069,
     "end_time": "2023-01-25T01:28:41.076496",
     "exception": false,
     "start_time": "2023-01-25T01:28:41.059427",
     "status": "completed"
    },
    "tags": []
   },
   "outputs": [],
   "source": [
    "## Define constants\n",
    "PARALLEL = 1024\n",
    "LOOKBACK_WINDOW = 260   ## only fit the latest LOOKBACK_WINDOW to train the sim matrix\n",
    "#TOPN = 20\n",
    "ACTION_WEIGHTS = np.array([1.0, 6.0, 3.0])"
   ]
  },
  {
   "cell_type": "markdown",
   "id": "6d90cfda",
   "metadata": {
    "papermill": {
     "duration": 0.00789,
     "end_time": "2023-01-25T01:28:41.092723",
     "exception": false,
     "start_time": "2023-01-25T01:28:41.084833",
     "status": "completed"
    },
    "tags": []
   },
   "source": [
    "#### Section A: Utils Functions \n",
    "1. Count Item Total likes: The similary score will be normalized by \"Item Total Like Scores\". In theory, popular items should have less weight in simiarity score.\n",
    "2. Trimming function: Helpful managing memoery usage. \n",
    "3. Method for normalization: Mostly item total like normalization, and max norm(make all sim score between 0 and 1) of the score. "
   ]
  },
  {
   "cell_type": "code",
   "execution_count": 6,
   "id": "c2744ae9",
   "metadata": {
    "execution": {
     "iopub.execute_input": "2023-01-25T01:28:41.111620Z",
     "iopub.status.busy": "2023-01-25T01:28:41.110855Z",
     "iopub.status.idle": "2023-01-25T01:28:41.360321Z",
     "shell.execute_reply": "2023-01-25T01:28:41.359463Z"
    },
    "papermill": {
     "duration": 0.262063,
     "end_time": "2023-01-25T01:28:41.363144",
     "exception": false,
     "start_time": "2023-01-25T01:28:41.101081",
     "status": "completed"
    },
    "tags": []
   },
   "outputs": [],
   "source": [
    "# ==================================\n",
    "# Methods for counting Item Total Likes\n",
    "# ==================================\n",
    "@nb.jit(nopython=True)\n",
    "def getItemTotalLikesNaive(aids, ops, item_total_likes, action_weights):\n",
    "    \"\"\"\n",
    "    Stores the total like score of itemXXX in item_total_likes, based on action_weights parameter. np.array([X, Y, Z])\n",
    "    \"\"\"\n",
    "    for idx, item in enumerate(aids):\n",
    "        if item not in item_total_likes: \n",
    "            item_total_likes[item] = 0\n",
    "        item_total_likes[item] += action_weights[ops[idx]]   ## TODO: For time decay, consider replace with 1, for iuf keep this. \n",
    "\n",
    "# ==================================\n",
    "# Methods for rank and trim the sim score dict\n",
    "# ==================================\n",
    "@nb.jit(nopython = True)\n",
    "def heap_topk(item_cnt_dict, cap):\n",
    "    \"\"\"\n",
    "    get the top cap(k) elements of the cnt dict based on value, using a min-heap structure\n",
    "    \"\"\"\n",
    "    dic = nb.typed.Dict.empty(key_type = nb.types.int64, value_type = nb.types.float64)\n",
    "    q = [(np.float64(0), np.int64(0)) for _ in range(0)]  ## generate empty queue to implement a heap, \n",
    "    for item_ref, sim_score in item_cnt_dict.items():   ## read in the dict in heap structure\n",
    "        heapq.heappush(q, (sim_score, item_ref))   ## push the <sim_score, item_ref_id> pair into min-heap, using sim_score for order\n",
    "        if len(q) > cap:\n",
    "            heapq.heappop(q)\n",
    "            \n",
    "    res = [heapq.heappop(q) for _ in range(len(q))][::-1]\n",
    "    for i in range(len(res)):\n",
    "        dic[res[i][1]] = res[i][0]\n",
    "    \n",
    "    return dic\n",
    "   \n",
    "@nb.jit(nopython = True)\n",
    "def trim_simMatrix_topk(fullSimMatrix, k = 50):\n",
    "    \"\"\"\n",
    "    trim top k items of each \"itemX: {itemY: score1, ...}\" pair in fullSimMatrix based on sim scores. \n",
    "    \"\"\"\n",
    "    for item, item_cnt_dict in fullSimMatrix.items():\n",
    "        fullSimMatrix[item] = heap_topk(item_cnt_dict, k)\n",
    "\n",
    "# ==================================\n",
    "# Methods for score normalization\n",
    "# ==================================\n",
    "\n",
    "# @nb.jit(nopython=True)\n",
    "# def itemTotalLikeNorm(fullSimMatrix, item_total_likes):\n",
    "#     for aid_1, relations in fullSimMatrix.items():\n",
    "#         for aid_2, sim_score in relations.items():\n",
    "#             fullSimMatrix[aid_1][aid_2] = sim_score / (item_total_likes[aid_1] * item_total_likes[aid_2]) ** 0.1  ## TODO: consider 0.1 or other small number\n",
    "            \n",
    "@nb.jit(nopython=True)\n",
    "def maxNormSimMatrix(fullSimMatrix):\n",
    "    for aid_1, relations in fullSimMatrix.items():\n",
    "        max_num = -np.inf\n",
    "        for _, sim_score in relations.items():\n",
    "            if sim_score > max_num:\n",
    "                max_num = sim_score\n",
    "        ## DEGUG use, delete later\n",
    "        if max_num == 0:\n",
    "            print(aid_1)\n",
    "            print(fullSimMatrix[aid_1])\n",
    "        for aid_2, sim_score in relations.items():\n",
    "#             if max_num == 0:\n",
    "#                 max_num += 0.001\n",
    "            fullSimMatrix[aid_1][aid_2] = sim_score / max_num"
   ]
  },
  {
   "cell_type": "markdown",
   "id": "a781fa90",
   "metadata": {
    "papermill": {
     "duration": 0.008082,
     "end_time": "2023-01-25T01:28:41.379643",
     "exception": false,
     "start_time": "2023-01-25T01:28:41.371561",
     "status": "completed"
    },
    "tags": []
   },
   "source": [
    "#### Section B: Sim Score Computation functions"
   ]
  },
  {
   "cell_type": "code",
   "execution_count": 7,
   "id": "522e481d",
   "metadata": {
    "execution": {
     "iopub.execute_input": "2023-01-25T01:28:41.397845Z",
     "iopub.status.busy": "2023-01-25T01:28:41.397430Z",
     "iopub.status.idle": "2023-01-25T01:28:41.420847Z",
     "shell.execute_reply": "2023-01-25T01:28:41.419679Z"
    },
    "papermill": {
     "duration": 0.035247,
     "end_time": "2023-01-25T01:28:41.423153",
     "exception": false,
     "start_time": "2023-01-25T01:28:41.387906",
     "status": "completed"
    },
    "tags": []
   },
   "outputs": [],
   "source": [
    "@nb.jit(nopython=True)\n",
    "def getSimScoresSingleRow(pairs_this_row, start_time, start_idx, length, aids, ts, ops, action_weights, item_total_likes, mode):\n",
    "    \"\"\"\n",
    "    Get the sim scores of items within single session, can be ran in parallel within each batch. \n",
    "    \"\"\"\n",
    "    max_idx = start_idx + length\n",
    "    min_idx = max(max_idx - LOOKBACK_WINDOW, start_idx)  \n",
    "    for i in range(min_idx, max_idx):\n",
    "        for j in range(i+1, max_idx):\n",
    "            if ts[j] - ts[i] > 1.2 * 60 * 60: continue  #TODO: try 2h only\n",
    "            if aids[i] == aids[j]: continue\n",
    "            \n",
    "            if mode == \"cosine\":\n",
    "                w_ij = action_weights[ops[j]] \n",
    "                w_ji = action_weights[ops[i]] \n",
    "            elif mode == \"iuf\":  ## penalize users that had lots of actions TODO: consider location weight\n",
    "                ## if time span of the session above 24 hours, mildly penalize 0.8 as the interactions tend to be not so related \n",
    "                \n",
    "                loc_weight = 0.5**(abs(i-j))   #math.exp(-0.02 * abs(i-j)) \n",
    "                time_gap_weight = 0.5 ** (abs(ts[i]-ts[j]) / (1.5*60*60))\n",
    "                w_ij = action_weights[ops[j]] * time_gap_weight * loc_weight / math.log1p(length)\n",
    "                w_ji = action_weights[ops[i]] * time_gap_weight * loc_weight / math.log1p(length)\n",
    "            elif mode == \"time_decay\":\n",
    "                ## calculate some time weights of each item, more weights are given when ts is later. #TODO: try adding (i-j) location weight, exponential weight, 0.5 ** (abs(i-j + 1)), \n",
    "                loc_weight = 0.5**(abs(i-j))   #math.exp(-0.02 * abs(i-j)) \n",
    "                #time_i = 1 + 0.1 ** ((1662328791-ts[i])/(1662328791-1659304800)) #1 + 3 * (ts[i] + start_time - 1659304800) / (1662328791 - 1659304800) #  #(1 - 0.8 *(TEST_END_TS - ts[i]) / TIME_SPAN) ** 0.5 # 0.2~1 #   ## time decay weight for item i \n",
    "                #time_j = 1 + 0.1 ** ((1662328791-ts[j])/(1662328791-1659304800))  # 1 + 3 * (ts[j] + start_time - 1659304800) / (1662328791 - 1659304800) # #  #(1 - 0.8 *(TEST_END_TS - ts[j]) / TIME_SPAN) ** 0.5   # \n",
    "                time_i = 1 + 1/(1 + math.exp(10*( ((1662328791-ts[i])/(1662328791-1659304800)) - 0.6  )))\n",
    "                time_j = 1 + 1/(1 + math.exp(10*( ((1662328791-ts[j])/(1662328791-1659304800)) - 0.6  )))\n",
    "                \n",
    "                time_gap_weight = 0.5 ** (abs(ts[i]-ts[j]) / (1.5*60*60))\n",
    "                \n",
    "                w_ij = action_weights[ops[j]] * loc_weight * time_gap_weight * time_i / math.log1p(length)\n",
    "                w_ji = action_weights[ops[i]] * loc_weight * time_gap_weight * time_j / math.log1p(length)\n",
    "                \n",
    "            pairs_this_row[(aids[i], aids[j])] = w_ij / (item_total_likes[aids[i]] * item_total_likes[aids[j]])**0.1\n",
    "            pairs_this_row[(aids[j], aids[i])] = w_ji / (item_total_likes[aids[i]] * item_total_likes[aids[j]])**0.1\n",
    "\n",
    "@nb.jit(nopython=True, parallel=True, cache=True)\n",
    "def getSimScoreBatch(aids, ts, ops, rows, fullSimMatrix, action_weights, item_total_likes, mode=\"cosine\"):\n",
    "    nrows = len(rows)\n",
    "    pairs_this_batch = [{(0, 0): 0.0 for _ in range(0)} for _ in range(nrows)]\n",
    "    ## get the sim scores of each batch in seperate sub dict in pairs_this_batch\n",
    "    for row_i in nb.prange(nrows):  ## run each row of the batch in parallel\n",
    "        _, start_idx, length, start_time = rows[row_i]\n",
    "        getSimScoresSingleRow(pairs_this_batch[row_i], start_time, start_idx, length, aids, ts, ops, action_weights, item_total_likes, mode)\n",
    "    ## merge pairs_this_batch into the fullSimMatrix\n",
    "    for row_i in range(nrows):\n",
    "        for (aid1, aid2), score in pairs_this_batch[row_i].items():\n",
    "            if aid1 not in fullSimMatrix: \n",
    "                fullSimMatrix[aid1] = {0: 0.0 for _ in range(0)}\n",
    "            if aid2 not in fullSimMatrix[aid1]:\n",
    "                fullSimMatrix[aid1][aid2] = 0.0\n",
    "            fullSimMatrix[aid1][aid2] += score\n",
    "    "
   ]
  },
  {
   "cell_type": "markdown",
   "id": "da201141",
   "metadata": {
    "papermill": {
     "duration": 0.007834,
     "end_time": "2023-01-25T01:28:41.439267",
     "exception": false,
     "start_time": "2023-01-25T01:28:41.431433",
     "status": "completed"
    },
    "tags": []
   },
   "source": [
    "#### Section C: Train the similarity matrices\n",
    "1. Derive the total like score first\n",
    "2. Train 2 similarity matrices, one using iuf(Inverse User Frequence), the other using time_decay method. "
   ]
  },
  {
   "cell_type": "code",
   "execution_count": 8,
   "id": "45608523",
   "metadata": {
    "execution": {
     "iopub.execute_input": "2023-01-25T01:28:41.457482Z",
     "iopub.status.busy": "2023-01-25T01:28:41.457075Z",
     "iopub.status.idle": "2023-01-25T01:29:17.777231Z",
     "shell.execute_reply": "2023-01-25T01:29:17.776070Z"
    },
    "papermill": {
     "duration": 36.340167,
     "end_time": "2023-01-25T01:29:17.787600",
     "exception": false,
     "start_time": "2023-01-25T01:28:41.447433",
     "status": "completed"
    },
    "tags": []
   },
   "outputs": [
    {
     "name": "stdout",
     "output_type": "stream",
     "text": [
      "CPU times: user 36.3 s, sys: 419 ms, total: 36.7 s\n",
      "Wall time: 36.3 s\n"
     ]
    }
   ],
   "source": [
    "%%time\n",
    "## get the Total Like matrix\n",
    "item_total_likes = nb.typed.Dict.empty(\n",
    "    key_type = nb.types.int64,\n",
    "    value_type = nb.types.float64)\n",
    "\n",
    "getItemTotalLikesNaive(aids, ops, item_total_likes, ACTION_WEIGHTS)"
   ]
  },
  {
   "cell_type": "code",
   "execution_count": 9,
   "id": "a46fcdf3",
   "metadata": {
    "execution": {
     "iopub.execute_input": "2023-01-25T01:29:17.806532Z",
     "iopub.status.busy": "2023-01-25T01:29:17.806120Z",
     "iopub.status.idle": "2023-01-25T02:33:18.785557Z",
     "shell.execute_reply": "2023-01-25T02:33:18.784712Z"
    },
    "papermill": {
     "duration": 3841.002182,
     "end_time": "2023-01-25T02:33:18.798391",
     "exception": false,
     "start_time": "2023-01-25T01:29:17.796209",
     "status": "completed"
    },
    "tags": []
   },
   "outputs": [
    {
     "data": {
      "application/vnd.jupyter.widget-view+json": {
       "model_id": "7fdc5509adf6450392076e839a408e2d",
       "version_major": 2,
       "version_minor": 0
      },
      "text/plain": [
       "  0%|          | 0/14231 [00:00<?, ?it/s]"
      ]
     },
     "metadata": {},
     "output_type": "display_data"
    },
    {
     "name": "stdout",
     "output_type": "stream",
     "text": [
      "batch_idx:  1000\n",
      "batch_idx:  2000\n",
      "batch_idx:  3000\n",
      "batch_idx:  4000\n",
      "batch_idx:  5000\n",
      "batch_idx:  6000\n",
      "batch_idx:  7000\n",
      "batch_idx:  8000\n",
      "batch_idx:  9000\n",
      "batch_idx:  10000\n",
      "batch_idx:  11000\n",
      "batch_idx:  12000\n",
      "batch_idx:  13000\n",
      "batch_idx:  14000\n"
     ]
    },
    {
     "data": {
      "application/vnd.jupyter.widget-view+json": {
       "model_id": "18f29a0639704e67bf62cfc4ab0ea349",
       "version_major": 2,
       "version_minor": 0
      },
      "text/plain": [
       "  0%|          | 0/14231 [00:00<?, ?it/s]"
      ]
     },
     "metadata": {},
     "output_type": "display_data"
    },
    {
     "name": "stdout",
     "output_type": "stream",
     "text": [
      "batch_idx:  1000\n",
      "batch_idx:  2000\n",
      "batch_idx:  3000\n",
      "batch_idx:  4000\n",
      "batch_idx:  5000\n",
      "batch_idx:  6000\n",
      "batch_idx:  7000\n",
      "batch_idx:  8000\n",
      "batch_idx:  9000\n",
      "batch_idx:  10000\n",
      "batch_idx:  11000\n",
      "batch_idx:  12000\n",
      "batch_idx:  13000\n",
      "batch_idx:  14000\n",
      "CPU times: user 1h 28min 21s, sys: 50.7 s, total: 1h 29min 12s\n",
      "Wall time: 1h 4min\n"
     ]
    }
   ],
   "source": [
    "%%time\n",
    "simMatrices = {}   ## store a few different similarity matrices using different scoring system, for different prediction type\n",
    "TRIM_CYCLES = 1000   ## trim full sim matrix every XX batches. \n",
    "MODES_TO_TRAIN = [\"iuf\", \"time_decay\"]\n",
    "\n",
    "for mode in MODES_TO_TRAIN:\n",
    "    ## the nested dict to store full sim matrix, {itemX: {itemY: score, itemZ: score, ...}}\n",
    "    fullSimMatrix = nb.typed.Dict.empty(\n",
    "            key_type = nb.types.int64,\n",
    "            value_type = nb.typeof(nb.typed.Dict.empty(key_type = nb.types.int64, value_type = nb.types.float64)))\n",
    "    max_idx = len(df)\n",
    "    batch_idx = 1  ## compute sim matrix for PARALLEL # of rows per batch, have a total of max_idx/PARALLEL batches.\n",
    "    for idx in tqdm(range(0, max_idx, PARALLEL)):\n",
    "        rows = df.iloc[idx: min(idx + PARALLEL, max_idx)][['session', 'start_idx', 'length', 'start_time']].values\n",
    "        getSimScoreBatch(aids, ts, ops, rows, fullSimMatrix, ACTION_WEIGHTS, item_total_likes, mode=mode)\n",
    "        batch_idx += 1\n",
    "        if batch_idx % TRIM_CYCLES == 0:\n",
    "            print(\"batch_idx: \", batch_idx)\n",
    "            trim_simMatrix_topk(fullSimMatrix, 100)\n",
    "            gc.collect()\n",
    "#             break\n",
    "\n",
    "    \n",
    "    ## trim top 50 when the training is complete\n",
    "    trim_simMatrix_topk(fullSimMatrix, 80)   ## TODO: make this num small enough to reduce time for normalization\n",
    "#     ## normalize the fullSimMatrix with item popularity\n",
    "#     itemTotalLikeNorm(fullSimMatrix, item_total_likes)\n",
    "    ## max norm of each score\n",
    "    maxNormSimMatrix(fullSimMatrix)\n",
    "    \n",
    "    simMatrices[mode] = fullSimMatrix\n",
    "    \n",
    "    del fullSimMatrix\n",
    "    gc.collect()\n",
    "    "
   ]
  },
  {
   "cell_type": "code",
   "execution_count": 10,
   "id": "372b6ebc",
   "metadata": {
    "execution": {
     "iopub.execute_input": "2023-01-25T02:33:18.821663Z",
     "iopub.status.busy": "2023-01-25T02:33:18.821263Z",
     "iopub.status.idle": "2023-01-25T02:33:19.245739Z",
     "shell.execute_reply": "2023-01-25T02:33:19.244541Z"
    },
    "papermill": {
     "duration": 0.438699,
     "end_time": "2023-01-25T02:33:19.248479",
     "exception": false,
     "start_time": "2023-01-25T02:33:18.809780",
     "status": "completed"
    },
    "tags": []
   },
   "outputs": [
    {
     "data": {
      "text/plain": [
       "DictType[int64,float64]<iv=None>({274783: 1.0, 584027: 0.8837475997822775, 1811984: 0.8549825241318906, 881286: 0.8303973386889333, 508883: 0.8270663250510117, 688602: 0.8030328833541528, 1734305: 0.7938744504909787, 634452: 0.7795223446883154, 1776419: 0.7107466790642787, 390163: 0.6704377996993803, 647522: 0.6532240045811188, 785712: 0.6266994264512172, 1043508: 0.6172977104241515, 147526: 0.41062047017794623, 727928: 0.399371662027946, 1679224: 0.3799638909181456, 615771: 0.3522186085099818, 159361: 0.3168785912245294, 148534: 0.31186203072736485, 423037: 0.2824096828725672, 584064: 0.27719001392107395, 726978: 0.27020746031720294, 1723679: 0.26053273899446666, 1533737: 0.25632112737948853, 713187: 0.2531750782716009, 1811963: 0.23969582917309445, 1217083: 0.23663650886747511, 383364: 0.2316956605391469, 304579: 0.2219577897953293, 1167765: 0.21983267033513199, 206418: 0.2170230280711883, 1354002: 0.21261810524786054, 752756: 0.19774107660263873, 1384129: 0.19732669893425395, 577290: 0.19023021630185366, 982938: 0.18792005875505638, 1580544: 0.18598080033905268, 673435: 0.18310373603270252, 510488: 0.17171701432002986, 1342155: 0.1700828975646825, 1842170: 0.1685953803432205, 1779147: 0.16732337128832392, 1596300: 0.16634770308511151, 214063: 0.16236141433625753, 474743: 0.16032147847104766, 1010579: 0.16023953948339328, 406829: 0.15243491143775464, 309445: 0.15048467495260787, 1460571: 0.149819595292618, 1156699: 0.14035583564466234, 303600: 0.13849223841881142, 1634917: 0.13763596548458368, 1367804: 0.1331116123813031, 569494: 0.1321895725570404, 431720: 0.13044796482302562, 87573: 0.12454211087038872, 1135650: 0.12389623577150931, 837248: 0.12367593222907998, 397795: 0.11639516233034605, 1015737: 0.11482288045323419, 1263355: 0.11380786980169598, 913754: 0.1125924455188846, 102861: 0.1121681138738488, 1263928: 0.10431700268764801, 1578560: 0.10169687943564566, 536830: 0.09836229246372949, 809062: 0.09658223146456026, 824580: 0.0960510444426541, 1068136: 0.09502744723365202, 1464121: 0.09457071937202619, 1792271: 0.09357051127532316, 333066: 0.09272424827126965, 1292042: 0.09205680682329988, 130020: 0.09104615895269258, 1339717: 0.08958755626372054, 783412: 0.08912583447959191, 378227: 0.08866215403539954, 1279878: 0.08859122693526603, 129170: 0.08848437227921215, 829797: 0.08801205735912836})"
      ]
     },
     "execution_count": 10,
     "metadata": {},
     "output_type": "execute_result"
    }
   ],
   "source": [
    "simMatrices[\"iuf\"][986164]"
   ]
  },
  {
   "cell_type": "code",
   "execution_count": 11,
   "id": "6567c827",
   "metadata": {
    "execution": {
     "iopub.execute_input": "2023-01-25T02:33:19.271951Z",
     "iopub.status.busy": "2023-01-25T02:33:19.271565Z",
     "iopub.status.idle": "2023-01-25T02:33:19.276279Z",
     "shell.execute_reply": "2023-01-25T02:33:19.275105Z"
    },
    "papermill": {
     "duration": 0.019639,
     "end_time": "2023-01-25T02:33:19.278698",
     "exception": false,
     "start_time": "2023-01-25T02:33:19.259059",
     "status": "completed"
    },
    "tags": []
   },
   "outputs": [],
   "source": [
    "#simMatrices[\"time_decay\"][1225559]"
   ]
  },
  {
   "cell_type": "code",
   "execution_count": 12,
   "id": "93dbd8b2",
   "metadata": {
    "execution": {
     "iopub.execute_input": "2023-01-25T02:33:19.300891Z",
     "iopub.status.busy": "2023-01-25T02:33:19.300485Z",
     "iopub.status.idle": "2023-01-25T02:33:19.307377Z",
     "shell.execute_reply": "2023-01-25T02:33:19.306314Z"
    },
    "papermill": {
     "duration": 0.020559,
     "end_time": "2023-01-25T02:33:19.309531",
     "exception": false,
     "start_time": "2023-01-25T02:33:19.288972",
     "status": "completed"
    },
    "tags": []
   },
   "outputs": [
    {
     "data": {
      "text/plain": [
       "14571582"
      ]
     },
     "execution_count": 12,
     "metadata": {},
     "output_type": "execute_result"
    }
   ],
   "source": [
    "len(df)"
   ]
  },
  {
   "cell_type": "code",
   "execution_count": 13,
   "id": "3c436093",
   "metadata": {
    "execution": {
     "iopub.execute_input": "2023-01-25T02:33:19.333473Z",
     "iopub.status.busy": "2023-01-25T02:33:19.332895Z",
     "iopub.status.idle": "2023-01-25T02:33:19.336633Z",
     "shell.execute_reply": "2023-01-25T02:33:19.335820Z"
    },
    "papermill": {
     "duration": 0.017921,
     "end_time": "2023-01-25T02:33:19.338722",
     "exception": false,
     "start_time": "2023-01-25T02:33:19.320801",
     "status": "completed"
    },
    "tags": []
   },
   "outputs": [],
   "source": [
    "#simMatrices[\"iuf\"][986164]"
   ]
  },
  {
   "cell_type": "markdown",
   "id": "f058373b",
   "metadata": {
    "papermill": {
     "duration": 0.010245,
     "end_time": "2023-01-25T02:33:19.359631",
     "exception": false,
     "start_time": "2023-01-25T02:33:19.349386",
     "status": "completed"
    },
    "tags": []
   },
   "source": [
    "## 2. Inference -- Make prediction using the matrices derived from above. "
   ]
  },
  {
   "cell_type": "markdown",
   "id": "ed4b0768",
   "metadata": {
    "papermill": {
     "duration": 0.010165,
     "end_time": "2023-01-25T02:33:19.380467",
     "exception": false,
     "start_time": "2023-01-25T02:33:19.370302",
     "status": "completed"
    },
    "tags": []
   },
   "source": [
    "#### Section D: Utils for inference:\n",
    "1. Select top items to recommend in re-ranking\n",
    "2. Compute Real time importance of each action (Not in use currently)."
   ]
  },
  {
   "cell_type": "code",
   "execution_count": 14,
   "id": "a5ed83a0",
   "metadata": {
    "execution": {
     "iopub.execute_input": "2023-01-25T02:33:19.403001Z",
     "iopub.status.busy": "2023-01-25T02:33:19.402606Z",
     "iopub.status.idle": "2023-01-25T02:33:19.410291Z",
     "shell.execute_reply": "2023-01-25T02:33:19.409230Z"
    },
    "papermill": {
     "duration": 0.021683,
     "end_time": "2023-01-25T02:33:19.412462",
     "exception": false,
     "start_time": "2023-01-25T02:33:19.390779",
     "status": "completed"
    },
    "tags": []
   },
   "outputs": [],
   "source": [
    "@nb.jit(nopython = True)\n",
    "def heap_topk_return_list(item_cnt_dict, cap):\n",
    "    \"\"\"\n",
    "    get the top cap(k) elements of the cnt dict based on value, using a min-heap structure, return a list with top \"cap\" elements with highest score\n",
    "    \"\"\"\n",
    "    q = [(np.float64(0), np.int64(0)) for _ in range(0)]  ## generate empty queue to implement a heap, \n",
    "    for item_ref, sim_score in item_cnt_dict.items():   ## read in the dict in heap structure\n",
    "        heapq.heappush(q, (sim_score, item_ref))   ## push the <sim_score, item_ref_id> pair into min-heap, using sim_score for order\n",
    "        if len(q) > cap:\n",
    "            heapq.heappop(q)\n",
    "            \n",
    "    res = [heapq.heappop(q)[1] for _ in range(len(q))][::-1]\n",
    "    \n",
    "    return res"
   ]
  },
  {
   "cell_type": "markdown",
   "id": "440f1a51",
   "metadata": {
    "papermill": {
     "duration": 0.010176,
     "end_time": "2023-01-25T02:33:19.433068",
     "exception": false,
     "start_time": "2023-01-25T02:33:19.422892",
     "status": "completed"
    },
    "tags": []
   },
   "source": [
    "#### Section E: Main Logic in Making Inferences\n",
    "1. clicks_inferences: time_decay sim matrix + regular action weights <1, 6, 3>.\n",
    "2. carts_inferencs: iuf sim matrix + weights <4, 2, 5> (as clicks actions tend to lead to cart action next).\n",
    "3. orders_inferences: iuf sim matrix + regular action weights <1, 6, 3>."
   ]
  },
  {
   "cell_type": "code",
   "execution_count": 15,
   "id": "61a847e4",
   "metadata": {
    "execution": {
     "iopub.execute_input": "2023-01-25T02:33:19.455585Z",
     "iopub.status.busy": "2023-01-25T02:33:19.455179Z",
     "iopub.status.idle": "2023-01-25T02:33:19.473698Z",
     "shell.execute_reply": "2023-01-25T02:33:19.472582Z"
    },
    "papermill": {
     "duration": 0.032913,
     "end_time": "2023-01-25T02:33:19.476362",
     "exception": false,
     "start_time": "2023-01-25T02:33:19.443449",
     "status": "completed"
    },
    "tags": []
   },
   "outputs": [],
   "source": [
    "@nb.jit(nopython=True)\n",
    "def inference_single_session(session, starting_idx, length, start_time, aids, ops, ts, result, full_sim_matrix, test_ops_weights):\n",
    "    PREV_INTERACT_BONUS = 20\n",
    "    NEARBY_ACTION_BONUS = 1.5\n",
    "    \n",
    "    ending_idx = starting_idx + length\n",
    "    end_time = ts[ending_idx-1]\n",
    "    \n",
    "    candidates = aids[starting_idx: ending_idx][::-1]\n",
    "    candidates_ops = ops[starting_idx: ending_idx][::-1]\n",
    "    \n",
    "    ## record all potential aid that might be relevant\n",
    "    potential_to_recommend = nb.typed.Dict.empty(key_type=nb.types.int64, value_type=nb.types.float64)\n",
    "    \n",
    "    ## get unique aid of each session \n",
    "    unique_aids = nb.typed.Dict.empty(key_type = nb.types.int64, value_type = nb.types.float64)\n",
    "    for a in candidates:\n",
    "        unique_aids[a] = 0\n",
    "    \n",
    "    ## Sequence weight to all the candidates, from near to far \n",
    "    sequence_weight = np.power(2, np.linspace(0.3, 1, len(candidates)))[::-1] - 1\n",
    "    \n",
    "    ## Time weight of all candidates, from near to far\n",
    "    time_weights = []\n",
    "    time_lapse = end_time - start_time + 1\n",
    "    for idx in range(starting_idx, ending_idx):\n",
    "        if end_time - ts[idx] < 2 * 60 * 60:   ## apply nearby action bonus\n",
    "            time_weight = (1 + 0.5 ** ((end_time - ts[idx])/time_lapse)) * NEARBY_ACTION_BONUS\n",
    "        else:\n",
    "            time_weight = 1 + 0.5 ** ((end_time - ts[idx])/time_lapse)\n",
    "        time_weights.append(time_weight)\n",
    "    time_weights = time_weights[::-1]\n",
    "    \n",
    "    \n",
    "    ## making inference\n",
    "    if len(unique_aids) >= 20:  \n",
    "        for aid, op, seq_w, time_w in zip(candidates, candidates_ops, sequence_weight, time_weights):\n",
    "            if aid not in potential_to_recommend:\n",
    "                potential_to_recommend[aid] = 0\n",
    "            potential_to_recommend[aid] += seq_w * time_w * test_ops_weights[op] #* PREV_INTERACT_BONUS\n",
    "    else:   ## otherwise, fill the rest with similar items.\n",
    "        for aid, op, seq_w, time_w in zip(candidates, candidates_ops, sequence_weight, time_weights):\n",
    "            if aid not in potential_to_recommend:\n",
    "                potential_to_recommend[aid] = 0\n",
    "            potential_to_recommend[aid] += np.inf #seq_w * time_w * test_ops_weights[op] * PREV_INTERACT_BONUS # np.inf #\n",
    "            ## adding the similar items, if full_sim_matrix don't have such record, skip. \n",
    "            if aid not in full_sim_matrix:\n",
    "                continue\n",
    "            for similar_item in full_sim_matrix[aid]:\n",
    "                ## if sim_item is in candidates, would be included above anyways, skip \n",
    "                if similar_item in candidates:\n",
    "                    continue\n",
    "                if similar_item not in potential_to_recommend:\n",
    "                    potential_to_recommend[similar_item] = 0\n",
    "                potential_to_recommend[similar_item] += seq_w * time_w * test_ops_weights[op] * full_sim_matrix[aid][similar_item]  ## no PREV_INTERACT_BONUS as expected, replaced with sim_matrix scores\n",
    "    result[session] = np.array(heap_topk_return_list(potential_to_recommend, 20))\n",
    "    \n",
    "@nb.jit(nopython=True)\n",
    "def run_inference_parallel(rows, aids, ops, ts, result, full_sim_matrix, test_ops_weights):\n",
    "    for row_idx in nb.prange(len(rows)):\n",
    "        session, starting_idx, length, start_time = rows[row_idx]\n",
    "        inference_single_session(session, starting_idx, length, start_time, aids, ops, ts, result, full_sim_matrix, test_ops_weights)"
   ]
  },
  {
   "cell_type": "code",
   "execution_count": 16,
   "id": "cfd0f808",
   "metadata": {
    "execution": {
     "iopub.execute_input": "2023-01-25T02:33:19.498982Z",
     "iopub.status.busy": "2023-01-25T02:33:19.498576Z",
     "iopub.status.idle": "2023-01-25T02:40:14.309968Z",
     "shell.execute_reply": "2023-01-25T02:40:14.309077Z"
    },
    "papermill": {
     "duration": 414.827705,
     "end_time": "2023-01-25T02:40:14.314630",
     "exception": false,
     "start_time": "2023-01-25T02:33:19.486925",
     "status": "completed"
    },
    "tags": []
   },
   "outputs": [
    {
     "data": {
      "application/vnd.jupyter.widget-view+json": {
       "model_id": "cc8aabc0244a47e193d23aa1e396100e",
       "version_major": 2,
       "version_minor": 0
      },
      "text/plain": [
       "  0%|          | 0/1633 [00:00<?, ?it/s]"
      ]
     },
     "metadata": {},
     "output_type": "display_data"
    },
    {
     "name": "stdout",
     "output_type": "stream",
     "text": [
      "CPU times: user 6min 54s, sys: 2.07 s, total: 6min 56s\n",
      "Wall time: 6min 54s\n"
     ]
    }
   ],
   "source": [
    "%%time\n",
    "result_iuf_orders = nb.typed.Dict.empty(\n",
    "    key_type = nb.types.int64,\n",
    "    value_type = nb.types.int64[:])\n",
    "\n",
    "result_iuf_carts = nb.typed.Dict.empty(\n",
    "    key_type = nb.types.int64,\n",
    "    value_type = nb.types.int64[:])\n",
    "\n",
    "result_time_decay_clicks = nb.typed.Dict.empty(\n",
    "    key_type = nb.types.int64,\n",
    "    value_type = nb.types.int64[:])\n",
    "\n",
    "for row_idx in tqdm(range(len(df) - len(df_test), len(df), PARALLEL)):\n",
    "    start_row = row_idx\n",
    "    end_row = min(row_idx + PARALLEL, len(df))\n",
    "    rows = df.iloc[start_row: end_row][['session', 'start_idx', 'length', 'start_time']].values\n",
    "    run_inference_parallel(rows, aids, ops, ts, result_iuf_orders, simMatrices[\"iuf\"], np.array([2.0, 8.0, 6.0]))   ## further tweak\n",
    "    run_inference_parallel(rows, aids, ops, ts, result_iuf_carts, simMatrices[\"iuf\"], np.array([4.0, 2.0, 5.0]))\n",
    "    run_inference_parallel(rows, aids, ops, ts, result_time_decay_clicks, simMatrices[\"time_decay\"], np.array([3.0, 6.0, 3.0]))"
   ]
  },
  {
   "cell_type": "markdown",
   "id": "cb3382df",
   "metadata": {
    "papermill": {
     "duration": 0.010352,
     "end_time": "2023-01-25T02:40:14.337350",
     "exception": false,
     "start_time": "2023-01-25T02:40:14.326998",
     "status": "completed"
    },
    "tags": []
   },
   "source": [
    "#### Section F: Saving Feature, Run E/F, depends on mode"
   ]
  },
  {
   "cell_type": "code",
   "execution_count": null,
   "id": "35ea120b",
   "metadata": {
    "execution": {
     "iopub.execute_input": "2023-01-21T09:34:13.783188Z",
     "iopub.status.busy": "2023-01-21T09:34:13.782755Z",
     "iopub.status.idle": "2023-01-21T09:34:13.807284Z",
     "shell.execute_reply": "2023-01-21T09:34:13.806089Z",
     "shell.execute_reply.started": "2023-01-21T09:34:13.783157Z"
    },
    "papermill": {
     "duration": 0.010603,
     "end_time": "2023-01-25T02:40:14.358482",
     "exception": false,
     "start_time": "2023-01-25T02:40:14.347879",
     "status": "completed"
    },
    "tags": []
   },
   "outputs": [],
   "source": []
  },
  {
   "cell_type": "code",
   "execution_count": null,
   "id": "b16d7995",
   "metadata": {
    "execution": {
     "iopub.execute_input": "2023-01-21T09:25:13.427265Z",
     "iopub.status.busy": "2023-01-21T09:25:13.426817Z",
     "iopub.status.idle": "2023-01-21T09:25:13.554483Z",
     "shell.execute_reply": "2023-01-21T09:25:13.55322Z",
     "shell.execute_reply.started": "2023-01-21T09:25:13.427232Z"
    },
    "papermill": {
     "duration": 0.010444,
     "end_time": "2023-01-25T02:40:14.379502",
     "exception": false,
     "start_time": "2023-01-25T02:40:14.369058",
     "status": "completed"
    },
    "tags": []
   },
   "outputs": [],
   "source": []
  },
  {
   "cell_type": "code",
   "execution_count": null,
   "id": "860a26a4",
   "metadata": {
    "execution": {
     "iopub.execute_input": "2023-01-21T09:34:16.373189Z",
     "iopub.status.busy": "2023-01-21T09:34:16.372281Z",
     "iopub.status.idle": "2023-01-21T09:34:17.884856Z",
     "shell.execute_reply": "2023-01-21T09:34:17.883493Z",
     "shell.execute_reply.started": "2023-01-21T09:34:16.373134Z"
    },
    "papermill": {
     "duration": 0.010192,
     "end_time": "2023-01-25T02:40:14.400179",
     "exception": false,
     "start_time": "2023-01-25T02:40:14.389987",
     "status": "completed"
    },
    "tags": []
   },
   "outputs": [],
   "source": []
  },
  {
   "cell_type": "code",
   "execution_count": null,
   "id": "ef64e282",
   "metadata": {
    "execution": {
     "iopub.execute_input": "2023-01-21T09:11:17.043281Z",
     "iopub.status.busy": "2023-01-21T09:11:17.042848Z",
     "iopub.status.idle": "2023-01-21T09:11:17.05503Z",
     "shell.execute_reply": "2023-01-21T09:11:17.053553Z",
     "shell.execute_reply.started": "2023-01-21T09:11:17.043249Z"
    },
    "papermill": {
     "duration": 0.010278,
     "end_time": "2023-01-25T02:40:14.421225",
     "exception": false,
     "start_time": "2023-01-25T02:40:14.410947",
     "status": "completed"
    },
    "tags": []
   },
   "outputs": [],
   "source": []
  },
  {
   "cell_type": "code",
   "execution_count": null,
   "id": "a95b1709",
   "metadata": {
    "papermill": {
     "duration": 0.010391,
     "end_time": "2023-01-25T02:40:14.442043",
     "exception": false,
     "start_time": "2023-01-25T02:40:14.431652",
     "status": "completed"
    },
    "tags": []
   },
   "outputs": [],
   "source": []
  },
  {
   "cell_type": "markdown",
   "id": "49770a73",
   "metadata": {
    "papermill": {
     "duration": 0.01027,
     "end_time": "2023-01-25T02:40:14.462874",
     "exception": false,
     "start_time": "2023-01-25T02:40:14.452604",
     "status": "completed"
    },
    "tags": []
   },
   "source": [
    "## 3. Submission"
   ]
  },
  {
   "cell_type": "code",
   "execution_count": 17,
   "id": "73feedc3",
   "metadata": {
    "execution": {
     "iopub.execute_input": "2023-01-25T02:40:14.486068Z",
     "iopub.status.busy": "2023-01-25T02:40:14.485643Z",
     "iopub.status.idle": "2023-01-25T02:42:18.019279Z",
     "shell.execute_reply": "2023-01-25T02:42:18.018141Z"
    },
    "papermill": {
     "duration": 123.555918,
     "end_time": "2023-01-25T02:42:18.029198",
     "exception": false,
     "start_time": "2023-01-25T02:40:14.473280",
     "status": "completed"
    },
    "tags": []
   },
   "outputs": [
    {
     "name": "stdout",
     "output_type": "stream",
     "text": [
      "CPU times: user 2min, sys: 3.09 s, total: 2min 3s\n",
      "Wall time: 2min 3s\n"
     ]
    },
    {
     "data": {
      "text/html": [
       "<div>\n",
       "<style scoped>\n",
       "    .dataframe tbody tr th:only-of-type {\n",
       "        vertical-align: middle;\n",
       "    }\n",
       "\n",
       "    .dataframe tbody tr th {\n",
       "        vertical-align: top;\n",
       "    }\n",
       "\n",
       "    .dataframe thead th {\n",
       "        text-align: right;\n",
       "    }\n",
       "</style>\n",
       "<table border=\"1\" class=\"dataframe\">\n",
       "  <thead>\n",
       "    <tr style=\"text-align: right;\">\n",
       "      <th></th>\n",
       "      <th>session_type</th>\n",
       "      <th>labels</th>\n",
       "    </tr>\n",
       "  </thead>\n",
       "  <tbody>\n",
       "    <tr>\n",
       "      <th>0</th>\n",
       "      <td>12899779_clicks</td>\n",
       "      <td>59625 469285 737445 1340695 1790770 499621 166...</td>\n",
       "    </tr>\n",
       "    <tr>\n",
       "      <th>1</th>\n",
       "      <td>12899780_clicks</td>\n",
       "      <td>1142000 973453 736515 582732 487136 1502122 88...</td>\n",
       "    </tr>\n",
       "    <tr>\n",
       "      <th>2</th>\n",
       "      <td>12899781_clicks</td>\n",
       "      <td>918667 199008 194067 141736 57315 811084 12005...</td>\n",
       "    </tr>\n",
       "    <tr>\n",
       "      <th>3</th>\n",
       "      <td>12899782_clicks</td>\n",
       "      <td>834354 889671 740494 779477 595994 987399 4760...</td>\n",
       "    </tr>\n",
       "    <tr>\n",
       "      <th>4</th>\n",
       "      <td>12899783_clicks</td>\n",
       "      <td>1817895 1754419 1729553 1216820 1114789 607638...</td>\n",
       "    </tr>\n",
       "    <tr>\n",
       "      <th>...</th>\n",
       "      <td>...</td>\n",
       "      <td>...</td>\n",
       "    </tr>\n",
       "    <tr>\n",
       "      <th>5015404</th>\n",
       "      <td>14571577_orders</td>\n",
       "      <td>1141710 86916 367734 1276792 1666114 631085 13...</td>\n",
       "    </tr>\n",
       "    <tr>\n",
       "      <th>5015405</th>\n",
       "      <td>14571578_orders</td>\n",
       "      <td>519105 977826 815460 822641 1811714 735459 167...</td>\n",
       "    </tr>\n",
       "    <tr>\n",
       "      <th>5015406</th>\n",
       "      <td>14571579_orders</td>\n",
       "      <td>739876 1209992 1550479 1750859 785544 770418 7...</td>\n",
       "    </tr>\n",
       "    <tr>\n",
       "      <th>5015407</th>\n",
       "      <td>14571580_orders</td>\n",
       "      <td>202353 1314576 433425 679257 925638 888228 168...</td>\n",
       "    </tr>\n",
       "    <tr>\n",
       "      <th>5015408</th>\n",
       "      <td>14571581_orders</td>\n",
       "      <td>1100210 1684953 462056 1158237 1401429 622489 ...</td>\n",
       "    </tr>\n",
       "  </tbody>\n",
       "</table>\n",
       "<p>5015409 rows × 2 columns</p>\n",
       "</div>"
      ],
      "text/plain": [
       "            session_type                                             labels\n",
       "0        12899779_clicks  59625 469285 737445 1340695 1790770 499621 166...\n",
       "1        12899780_clicks  1142000 973453 736515 582732 487136 1502122 88...\n",
       "2        12899781_clicks  918667 199008 194067 141736 57315 811084 12005...\n",
       "3        12899782_clicks  834354 889671 740494 779477 595994 987399 4760...\n",
       "4        12899783_clicks  1817895 1754419 1729553 1216820 1114789 607638...\n",
       "...                  ...                                                ...\n",
       "5015404  14571577_orders  1141710 86916 367734 1276792 1666114 631085 13...\n",
       "5015405  14571578_orders  519105 977826 815460 822641 1811714 735459 167...\n",
       "5015406  14571579_orders  739876 1209992 1550479 1750859 785544 770418 7...\n",
       "5015407  14571580_orders  202353 1314576 433425 679257 925638 888228 168...\n",
       "5015408  14571581_orders  1100210 1684953 462056 1158237 1401429 622489 ...\n",
       "\n",
       "[5015409 rows x 2 columns]"
      ]
     },
     "execution_count": 17,
     "metadata": {},
     "output_type": "execute_result"
    }
   ],
   "source": [
    "%%time\n",
    "subs = []\n",
    "op_names = [\"clicks\", \"carts\", \"orders\"]\n",
    "\n",
    "for result, op in zip([result_time_decay_clicks, result_iuf_carts, result_iuf_orders], op_names):\n",
    "    sub = pd.DataFrame({\"session_type\": result.keys(), \"labels\": result.values()})\n",
    "    sub.session_type = sub.session_type.astype(str) + f\"_{op}\"\n",
    "    sub.labels = sub.labels.apply(lambda x: \" \".join(x.astype(str)))\n",
    "    subs.append(sub)\n",
    "    \n",
    "submission = pd.concat(subs).reset_index(drop=True)\n",
    "#sub.sort_values(by=[\"session_type\"])  ## optional\n",
    "submission"
   ]
  },
  {
   "cell_type": "code",
   "execution_count": 18,
   "id": "d35e8743",
   "metadata": {
    "execution": {
     "iopub.execute_input": "2023-01-25T02:42:18.084411Z",
     "iopub.status.busy": "2023-01-25T02:42:18.083950Z",
     "iopub.status.idle": "2023-01-25T02:42:38.607146Z",
     "shell.execute_reply": "2023-01-25T02:42:38.606302Z"
    },
    "papermill": {
     "duration": 20.569517,
     "end_time": "2023-01-25T02:42:38.609789",
     "exception": false,
     "start_time": "2023-01-25T02:42:18.040272",
     "status": "completed"
    },
    "tags": []
   },
   "outputs": [],
   "source": [
    "submission.to_csv('submission.csv', index = False)"
   ]
  },
  {
   "cell_type": "code",
   "execution_count": null,
   "id": "39decc62",
   "metadata": {
    "papermill": {
     "duration": 0.010802,
     "end_time": "2023-01-25T02:42:38.632685",
     "exception": false,
     "start_time": "2023-01-25T02:42:38.621883",
     "status": "completed"
    },
    "tags": []
   },
   "outputs": [],
   "source": []
  }
 ],
 "metadata": {
  "kernelspec": {
   "display_name": "Python 3",
   "language": "python",
   "name": "python3"
  },
  "language_info": {
   "codemirror_mode": {
    "name": "ipython",
    "version": 3
   },
   "file_extension": ".py",
   "mimetype": "text/x-python",
   "name": "python",
   "nbconvert_exporter": "python",
   "pygments_lexer": "ipython3",
   "version": "3.7.12"
  },
  "papermill": {
   "default_parameters": {},
   "duration": 4488.229959,
   "end_time": "2023-01-25T02:42:41.807434",
   "environment_variables": {},
   "exception": null,
   "input_path": "__notebook__.ipynb",
   "output_path": "__notebook__.ipynb",
   "parameters": {},
   "start_time": "2023-01-25T01:27:53.577475",
   "version": "2.3.4"
  },
  "widgets": {
   "application/vnd.jupyter.widget-state+json": {
    "state": {
     "0284381ff666468eb7b4c02273f3e04a": {
      "model_module": "@jupyter-widgets/base",
      "model_module_version": "1.2.0",
      "model_name": "LayoutModel",
      "state": {
       "_model_module": "@jupyter-widgets/base",
       "_model_module_version": "1.2.0",
       "_model_name": "LayoutModel",
       "_view_count": null,
       "_view_module": "@jupyter-widgets/base",
       "_view_module_version": "1.2.0",
       "_view_name": "LayoutView",
       "align_content": null,
       "align_items": null,
       "align_self": null,
       "border": null,
       "bottom": null,
       "display": null,
       "flex": null,
       "flex_flow": null,
       "grid_area": null,
       "grid_auto_columns": null,
       "grid_auto_flow": null,
       "grid_auto_rows": null,
       "grid_column": null,
       "grid_gap": null,
       "grid_row": null,
       "grid_template_areas": null,
       "grid_template_columns": null,
       "grid_template_rows": null,
       "height": null,
       "justify_content": null,
       "justify_items": null,
       "left": null,
       "margin": null,
       "max_height": null,
       "max_width": null,
       "min_height": null,
       "min_width": null,
       "object_fit": null,
       "object_position": null,
       "order": null,
       "overflow": null,
       "overflow_x": null,
       "overflow_y": null,
       "padding": null,
       "right": null,
       "top": null,
       "visibility": null,
       "width": null
      }
     },
     "0a958a8c3cb54178a7fa6bc7454d9101": {
      "model_module": "@jupyter-widgets/controls",
      "model_module_version": "1.5.0",
      "model_name": "DescriptionStyleModel",
      "state": {
       "_model_module": "@jupyter-widgets/controls",
       "_model_module_version": "1.5.0",
       "_model_name": "DescriptionStyleModel",
       "_view_count": null,
       "_view_module": "@jupyter-widgets/base",
       "_view_module_version": "1.2.0",
       "_view_name": "StyleView",
       "description_width": ""
      }
     },
     "0f9ce72ff34b49db9b429f11da1871dc": {
      "model_module": "@jupyter-widgets/controls",
      "model_module_version": "1.5.0",
      "model_name": "HTMLModel",
      "state": {
       "_dom_classes": [],
       "_model_module": "@jupyter-widgets/controls",
       "_model_module_version": "1.5.0",
       "_model_name": "HTMLModel",
       "_view_count": null,
       "_view_module": "@jupyter-widgets/controls",
       "_view_module_version": "1.5.0",
       "_view_name": "HTMLView",
       "description": "",
       "description_tooltip": null,
       "layout": "IPY_MODEL_2d0a00be5b5148fe8a432465fb8a1aec",
       "placeholder": "​",
       "style": "IPY_MODEL_b9bd6a94b45e4a2a859f5c60c4778126",
       "value": "100%"
      }
     },
     "13727010ae9143f4bafa132209f22414": {
      "model_module": "@jupyter-widgets/base",
      "model_module_version": "1.2.0",
      "model_name": "LayoutModel",
      "state": {
       "_model_module": "@jupyter-widgets/base",
       "_model_module_version": "1.2.0",
       "_model_name": "LayoutModel",
       "_view_count": null,
       "_view_module": "@jupyter-widgets/base",
       "_view_module_version": "1.2.0",
       "_view_name": "LayoutView",
       "align_content": null,
       "align_items": null,
       "align_self": null,
       "border": null,
       "bottom": null,
       "display": null,
       "flex": null,
       "flex_flow": null,
       "grid_area": null,
       "grid_auto_columns": null,
       "grid_auto_flow": null,
       "grid_auto_rows": null,
       "grid_column": null,
       "grid_gap": null,
       "grid_row": null,
       "grid_template_areas": null,
       "grid_template_columns": null,
       "grid_template_rows": null,
       "height": null,
       "justify_content": null,
       "justify_items": null,
       "left": null,
       "margin": null,
       "max_height": null,
       "max_width": null,
       "min_height": null,
       "min_width": null,
       "object_fit": null,
       "object_position": null,
       "order": null,
       "overflow": null,
       "overflow_x": null,
       "overflow_y": null,
       "padding": null,
       "right": null,
       "top": null,
       "visibility": null,
       "width": null
      }
     },
     "18f29a0639704e67bf62cfc4ab0ea349": {
      "model_module": "@jupyter-widgets/controls",
      "model_module_version": "1.5.0",
      "model_name": "HBoxModel",
      "state": {
       "_dom_classes": [],
       "_model_module": "@jupyter-widgets/controls",
       "_model_module_version": "1.5.0",
       "_model_name": "HBoxModel",
       "_view_count": null,
       "_view_module": "@jupyter-widgets/controls",
       "_view_module_version": "1.5.0",
       "_view_name": "HBoxView",
       "box_style": "",
       "children": [
        "IPY_MODEL_0f9ce72ff34b49db9b429f11da1871dc",
        "IPY_MODEL_bbe9a30edceb4c9abe278ee895040fa9",
        "IPY_MODEL_37b924d896f6415d87918a9a3f337bf7"
       ],
       "layout": "IPY_MODEL_5441c203337743aa8ce0fcf4b573c600"
      }
     },
     "19a2f98e7ee34d53a3d6ed3580f8efc2": {
      "model_module": "@jupyter-widgets/controls",
      "model_module_version": "1.5.0",
      "model_name": "ProgressStyleModel",
      "state": {
       "_model_module": "@jupyter-widgets/controls",
       "_model_module_version": "1.5.0",
       "_model_name": "ProgressStyleModel",
       "_view_count": null,
       "_view_module": "@jupyter-widgets/base",
       "_view_module_version": "1.2.0",
       "_view_name": "StyleView",
       "bar_color": null,
       "description_width": ""
      }
     },
     "1a090d6ce1a943bd8b037216266706e0": {
      "model_module": "@jupyter-widgets/controls",
      "model_module_version": "1.5.0",
      "model_name": "HTMLModel",
      "state": {
       "_dom_classes": [],
       "_model_module": "@jupyter-widgets/controls",
       "_model_module_version": "1.5.0",
       "_model_name": "HTMLModel",
       "_view_count": null,
       "_view_module": "@jupyter-widgets/controls",
       "_view_module_version": "1.5.0",
       "_view_name": "HTMLView",
       "description": "",
       "description_tooltip": null,
       "layout": "IPY_MODEL_b894bcad641044e7a612ba7e1bb2f57d",
       "placeholder": "​",
       "style": "IPY_MODEL_f357c45341284133b23b0851b8da49b7",
       "value": " 1633/1633 [06:54&lt;00:00,  4.75it/s]"
      }
     },
     "1be2f901869545cabd390882a9cdf65f": {
      "model_module": "@jupyter-widgets/controls",
      "model_module_version": "1.5.0",
      "model_name": "DescriptionStyleModel",
      "state": {
       "_model_module": "@jupyter-widgets/controls",
       "_model_module_version": "1.5.0",
       "_model_name": "DescriptionStyleModel",
       "_view_count": null,
       "_view_module": "@jupyter-widgets/base",
       "_view_module_version": "1.2.0",
       "_view_name": "StyleView",
       "description_width": ""
      }
     },
     "2d0a00be5b5148fe8a432465fb8a1aec": {
      "model_module": "@jupyter-widgets/base",
      "model_module_version": "1.2.0",
      "model_name": "LayoutModel",
      "state": {
       "_model_module": "@jupyter-widgets/base",
       "_model_module_version": "1.2.0",
       "_model_name": "LayoutModel",
       "_view_count": null,
       "_view_module": "@jupyter-widgets/base",
       "_view_module_version": "1.2.0",
       "_view_name": "LayoutView",
       "align_content": null,
       "align_items": null,
       "align_self": null,
       "border": null,
       "bottom": null,
       "display": null,
       "flex": null,
       "flex_flow": null,
       "grid_area": null,
       "grid_auto_columns": null,
       "grid_auto_flow": null,
       "grid_auto_rows": null,
       "grid_column": null,
       "grid_gap": null,
       "grid_row": null,
       "grid_template_areas": null,
       "grid_template_columns": null,
       "grid_template_rows": null,
       "height": null,
       "justify_content": null,
       "justify_items": null,
       "left": null,
       "margin": null,
       "max_height": null,
       "max_width": null,
       "min_height": null,
       "min_width": null,
       "object_fit": null,
       "object_position": null,
       "order": null,
       "overflow": null,
       "overflow_x": null,
       "overflow_y": null,
       "padding": null,
       "right": null,
       "top": null,
       "visibility": null,
       "width": null
      }
     },
     "37b924d896f6415d87918a9a3f337bf7": {
      "model_module": "@jupyter-widgets/controls",
      "model_module_version": "1.5.0",
      "model_name": "HTMLModel",
      "state": {
       "_dom_classes": [],
       "_model_module": "@jupyter-widgets/controls",
       "_model_module_version": "1.5.0",
       "_model_name": "HTMLModel",
       "_view_count": null,
       "_view_module": "@jupyter-widgets/controls",
       "_view_module_version": "1.5.0",
       "_view_name": "HTMLView",
       "description": "",
       "description_tooltip": null,
       "layout": "IPY_MODEL_5c36f691150d4374baa2135a370044dd",
       "placeholder": "​",
       "style": "IPY_MODEL_0a958a8c3cb54178a7fa6bc7454d9101",
       "value": " 14231/14231 [30:46&lt;00:00, 61.97it/s]"
      }
     },
     "539c74d6237a4c7faa05a8e4af4de6db": {
      "model_module": "@jupyter-widgets/controls",
      "model_module_version": "1.5.0",
      "model_name": "DescriptionStyleModel",
      "state": {
       "_model_module": "@jupyter-widgets/controls",
       "_model_module_version": "1.5.0",
       "_model_name": "DescriptionStyleModel",
       "_view_count": null,
       "_view_module": "@jupyter-widgets/base",
       "_view_module_version": "1.2.0",
       "_view_name": "StyleView",
       "description_width": ""
      }
     },
     "5441c203337743aa8ce0fcf4b573c600": {
      "model_module": "@jupyter-widgets/base",
      "model_module_version": "1.2.0",
      "model_name": "LayoutModel",
      "state": {
       "_model_module": "@jupyter-widgets/base",
       "_model_module_version": "1.2.0",
       "_model_name": "LayoutModel",
       "_view_count": null,
       "_view_module": "@jupyter-widgets/base",
       "_view_module_version": "1.2.0",
       "_view_name": "LayoutView",
       "align_content": null,
       "align_items": null,
       "align_self": null,
       "border": null,
       "bottom": null,
       "display": null,
       "flex": null,
       "flex_flow": null,
       "grid_area": null,
       "grid_auto_columns": null,
       "grid_auto_flow": null,
       "grid_auto_rows": null,
       "grid_column": null,
       "grid_gap": null,
       "grid_row": null,
       "grid_template_areas": null,
       "grid_template_columns": null,
       "grid_template_rows": null,
       "height": null,
       "justify_content": null,
       "justify_items": null,
       "left": null,
       "margin": null,
       "max_height": null,
       "max_width": null,
       "min_height": null,
       "min_width": null,
       "object_fit": null,
       "object_position": null,
       "order": null,
       "overflow": null,
       "overflow_x": null,
       "overflow_y": null,
       "padding": null,
       "right": null,
       "top": null,
       "visibility": null,
       "width": null
      }
     },
     "59bc4fbdfe7244bbbdab74bca570d964": {
      "model_module": "@jupyter-widgets/controls",
      "model_module_version": "1.5.0",
      "model_name": "HTMLModel",
      "state": {
       "_dom_classes": [],
       "_model_module": "@jupyter-widgets/controls",
       "_model_module_version": "1.5.0",
       "_model_name": "HTMLModel",
       "_view_count": null,
       "_view_module": "@jupyter-widgets/controls",
       "_view_module_version": "1.5.0",
       "_view_name": "HTMLView",
       "description": "",
       "description_tooltip": null,
       "layout": "IPY_MODEL_0284381ff666468eb7b4c02273f3e04a",
       "placeholder": "​",
       "style": "IPY_MODEL_1be2f901869545cabd390882a9cdf65f",
       "value": "100%"
      }
     },
     "5c36f691150d4374baa2135a370044dd": {
      "model_module": "@jupyter-widgets/base",
      "model_module_version": "1.2.0",
      "model_name": "LayoutModel",
      "state": {
       "_model_module": "@jupyter-widgets/base",
       "_model_module_version": "1.2.0",
       "_model_name": "LayoutModel",
       "_view_count": null,
       "_view_module": "@jupyter-widgets/base",
       "_view_module_version": "1.2.0",
       "_view_name": "LayoutView",
       "align_content": null,
       "align_items": null,
       "align_self": null,
       "border": null,
       "bottom": null,
       "display": null,
       "flex": null,
       "flex_flow": null,
       "grid_area": null,
       "grid_auto_columns": null,
       "grid_auto_flow": null,
       "grid_auto_rows": null,
       "grid_column": null,
       "grid_gap": null,
       "grid_row": null,
       "grid_template_areas": null,
       "grid_template_columns": null,
       "grid_template_rows": null,
       "height": null,
       "justify_content": null,
       "justify_items": null,
       "left": null,
       "margin": null,
       "max_height": null,
       "max_width": null,
       "min_height": null,
       "min_width": null,
       "object_fit": null,
       "object_position": null,
       "order": null,
       "overflow": null,
       "overflow_x": null,
       "overflow_y": null,
       "padding": null,
       "right": null,
       "top": null,
       "visibility": null,
       "width": null
      }
     },
     "5cfe510fd1444a92b4d3a8c8d01efdec": {
      "model_module": "@jupyter-widgets/base",
      "model_module_version": "1.2.0",
      "model_name": "LayoutModel",
      "state": {
       "_model_module": "@jupyter-widgets/base",
       "_model_module_version": "1.2.0",
       "_model_name": "LayoutModel",
       "_view_count": null,
       "_view_module": "@jupyter-widgets/base",
       "_view_module_version": "1.2.0",
       "_view_name": "LayoutView",
       "align_content": null,
       "align_items": null,
       "align_self": null,
       "border": null,
       "bottom": null,
       "display": null,
       "flex": null,
       "flex_flow": null,
       "grid_area": null,
       "grid_auto_columns": null,
       "grid_auto_flow": null,
       "grid_auto_rows": null,
       "grid_column": null,
       "grid_gap": null,
       "grid_row": null,
       "grid_template_areas": null,
       "grid_template_columns": null,
       "grid_template_rows": null,
       "height": null,
       "justify_content": null,
       "justify_items": null,
       "left": null,
       "margin": null,
       "max_height": null,
       "max_width": null,
       "min_height": null,
       "min_width": null,
       "object_fit": null,
       "object_position": null,
       "order": null,
       "overflow": null,
       "overflow_x": null,
       "overflow_y": null,
       "padding": null,
       "right": null,
       "top": null,
       "visibility": null,
       "width": null
      }
     },
     "66bc67b7dc0b4219ab2b26a9633854f0": {
      "model_module": "@jupyter-widgets/base",
      "model_module_version": "1.2.0",
      "model_name": "LayoutModel",
      "state": {
       "_model_module": "@jupyter-widgets/base",
       "_model_module_version": "1.2.0",
       "_model_name": "LayoutModel",
       "_view_count": null,
       "_view_module": "@jupyter-widgets/base",
       "_view_module_version": "1.2.0",
       "_view_name": "LayoutView",
       "align_content": null,
       "align_items": null,
       "align_self": null,
       "border": null,
       "bottom": null,
       "display": null,
       "flex": null,
       "flex_flow": null,
       "grid_area": null,
       "grid_auto_columns": null,
       "grid_auto_flow": null,
       "grid_auto_rows": null,
       "grid_column": null,
       "grid_gap": null,
       "grid_row": null,
       "grid_template_areas": null,
       "grid_template_columns": null,
       "grid_template_rows": null,
       "height": null,
       "justify_content": null,
       "justify_items": null,
       "left": null,
       "margin": null,
       "max_height": null,
       "max_width": null,
       "min_height": null,
       "min_width": null,
       "object_fit": null,
       "object_position": null,
       "order": null,
       "overflow": null,
       "overflow_x": null,
       "overflow_y": null,
       "padding": null,
       "right": null,
       "top": null,
       "visibility": null,
       "width": null
      }
     },
     "7fdc5509adf6450392076e839a408e2d": {
      "model_module": "@jupyter-widgets/controls",
      "model_module_version": "1.5.0",
      "model_name": "HBoxModel",
      "state": {
       "_dom_classes": [],
       "_model_module": "@jupyter-widgets/controls",
       "_model_module_version": "1.5.0",
       "_model_name": "HBoxModel",
       "_view_count": null,
       "_view_module": "@jupyter-widgets/controls",
       "_view_module_version": "1.5.0",
       "_view_name": "HBoxView",
       "box_style": "",
       "children": [
        "IPY_MODEL_59bc4fbdfe7244bbbdab74bca570d964",
        "IPY_MODEL_c5fb6377204a4ecebce9fb4476d0ecfe",
        "IPY_MODEL_bb59f9732da943f9ac90a441c867abe2"
       ],
       "layout": "IPY_MODEL_c9a10df4c9794ca2950ce85e4858d887"
      }
     },
     "90d2aa2d8ece4ca9a7ce02fefe236df5": {
      "model_module": "@jupyter-widgets/controls",
      "model_module_version": "1.5.0",
      "model_name": "DescriptionStyleModel",
      "state": {
       "_model_module": "@jupyter-widgets/controls",
       "_model_module_version": "1.5.0",
       "_model_name": "DescriptionStyleModel",
       "_view_count": null,
       "_view_module": "@jupyter-widgets/base",
       "_view_module_version": "1.2.0",
       "_view_name": "StyleView",
       "description_width": ""
      }
     },
     "927ea51b892c44b9ad681a74405c372d": {
      "model_module": "@jupyter-widgets/base",
      "model_module_version": "1.2.0",
      "model_name": "LayoutModel",
      "state": {
       "_model_module": "@jupyter-widgets/base",
       "_model_module_version": "1.2.0",
       "_model_name": "LayoutModel",
       "_view_count": null,
       "_view_module": "@jupyter-widgets/base",
       "_view_module_version": "1.2.0",
       "_view_name": "LayoutView",
       "align_content": null,
       "align_items": null,
       "align_self": null,
       "border": null,
       "bottom": null,
       "display": null,
       "flex": null,
       "flex_flow": null,
       "grid_area": null,
       "grid_auto_columns": null,
       "grid_auto_flow": null,
       "grid_auto_rows": null,
       "grid_column": null,
       "grid_gap": null,
       "grid_row": null,
       "grid_template_areas": null,
       "grid_template_columns": null,
       "grid_template_rows": null,
       "height": null,
       "justify_content": null,
       "justify_items": null,
       "left": null,
       "margin": null,
       "max_height": null,
       "max_width": null,
       "min_height": null,
       "min_width": null,
       "object_fit": null,
       "object_position": null,
       "order": null,
       "overflow": null,
       "overflow_x": null,
       "overflow_y": null,
       "padding": null,
       "right": null,
       "top": null,
       "visibility": null,
       "width": null
      }
     },
     "935a18f3c9634084bdc3dae590449829": {
      "model_module": "@jupyter-widgets/controls",
      "model_module_version": "1.5.0",
      "model_name": "ProgressStyleModel",
      "state": {
       "_model_module": "@jupyter-widgets/controls",
       "_model_module_version": "1.5.0",
       "_model_name": "ProgressStyleModel",
       "_view_count": null,
       "_view_module": "@jupyter-widgets/base",
       "_view_module_version": "1.2.0",
       "_view_name": "StyleView",
       "bar_color": null,
       "description_width": ""
      }
     },
     "b694f5521ca94704a446db789d8e47f6": {
      "model_module": "@jupyter-widgets/controls",
      "model_module_version": "1.5.0",
      "model_name": "ProgressStyleModel",
      "state": {
       "_model_module": "@jupyter-widgets/controls",
       "_model_module_version": "1.5.0",
       "_model_name": "ProgressStyleModel",
       "_view_count": null,
       "_view_module": "@jupyter-widgets/base",
       "_view_module_version": "1.2.0",
       "_view_name": "StyleView",
       "bar_color": null,
       "description_width": ""
      }
     },
     "b894bcad641044e7a612ba7e1bb2f57d": {
      "model_module": "@jupyter-widgets/base",
      "model_module_version": "1.2.0",
      "model_name": "LayoutModel",
      "state": {
       "_model_module": "@jupyter-widgets/base",
       "_model_module_version": "1.2.0",
       "_model_name": "LayoutModel",
       "_view_count": null,
       "_view_module": "@jupyter-widgets/base",
       "_view_module_version": "1.2.0",
       "_view_name": "LayoutView",
       "align_content": null,
       "align_items": null,
       "align_self": null,
       "border": null,
       "bottom": null,
       "display": null,
       "flex": null,
       "flex_flow": null,
       "grid_area": null,
       "grid_auto_columns": null,
       "grid_auto_flow": null,
       "grid_auto_rows": null,
       "grid_column": null,
       "grid_gap": null,
       "grid_row": null,
       "grid_template_areas": null,
       "grid_template_columns": null,
       "grid_template_rows": null,
       "height": null,
       "justify_content": null,
       "justify_items": null,
       "left": null,
       "margin": null,
       "max_height": null,
       "max_width": null,
       "min_height": null,
       "min_width": null,
       "object_fit": null,
       "object_position": null,
       "order": null,
       "overflow": null,
       "overflow_x": null,
       "overflow_y": null,
       "padding": null,
       "right": null,
       "top": null,
       "visibility": null,
       "width": null
      }
     },
     "b9122d15bf664cb9afbd286af7ce5963": {
      "model_module": "@jupyter-widgets/base",
      "model_module_version": "1.2.0",
      "model_name": "LayoutModel",
      "state": {
       "_model_module": "@jupyter-widgets/base",
       "_model_module_version": "1.2.0",
       "_model_name": "LayoutModel",
       "_view_count": null,
       "_view_module": "@jupyter-widgets/base",
       "_view_module_version": "1.2.0",
       "_view_name": "LayoutView",
       "align_content": null,
       "align_items": null,
       "align_self": null,
       "border": null,
       "bottom": null,
       "display": null,
       "flex": null,
       "flex_flow": null,
       "grid_area": null,
       "grid_auto_columns": null,
       "grid_auto_flow": null,
       "grid_auto_rows": null,
       "grid_column": null,
       "grid_gap": null,
       "grid_row": null,
       "grid_template_areas": null,
       "grid_template_columns": null,
       "grid_template_rows": null,
       "height": null,
       "justify_content": null,
       "justify_items": null,
       "left": null,
       "margin": null,
       "max_height": null,
       "max_width": null,
       "min_height": null,
       "min_width": null,
       "object_fit": null,
       "object_position": null,
       "order": null,
       "overflow": null,
       "overflow_x": null,
       "overflow_y": null,
       "padding": null,
       "right": null,
       "top": null,
       "visibility": null,
       "width": null
      }
     },
     "b9bd6a94b45e4a2a859f5c60c4778126": {
      "model_module": "@jupyter-widgets/controls",
      "model_module_version": "1.5.0",
      "model_name": "DescriptionStyleModel",
      "state": {
       "_model_module": "@jupyter-widgets/controls",
       "_model_module_version": "1.5.0",
       "_model_name": "DescriptionStyleModel",
       "_view_count": null,
       "_view_module": "@jupyter-widgets/base",
       "_view_module_version": "1.2.0",
       "_view_name": "StyleView",
       "description_width": ""
      }
     },
     "bb59f9732da943f9ac90a441c867abe2": {
      "model_module": "@jupyter-widgets/controls",
      "model_module_version": "1.5.0",
      "model_name": "HTMLModel",
      "state": {
       "_dom_classes": [],
       "_model_module": "@jupyter-widgets/controls",
       "_model_module_version": "1.5.0",
       "_model_name": "HTMLModel",
       "_view_count": null,
       "_view_module": "@jupyter-widgets/controls",
       "_view_module_version": "1.5.0",
       "_view_name": "HTMLView",
       "description": "",
       "description_tooltip": null,
       "layout": "IPY_MODEL_66bc67b7dc0b4219ab2b26a9633854f0",
       "placeholder": "​",
       "style": "IPY_MODEL_90d2aa2d8ece4ca9a7ce02fefe236df5",
       "value": " 14231/14231 [31:13&lt;00:00, 62.68it/s]"
      }
     },
     "bbe9a30edceb4c9abe278ee895040fa9": {
      "model_module": "@jupyter-widgets/controls",
      "model_module_version": "1.5.0",
      "model_name": "FloatProgressModel",
      "state": {
       "_dom_classes": [],
       "_model_module": "@jupyter-widgets/controls",
       "_model_module_version": "1.5.0",
       "_model_name": "FloatProgressModel",
       "_view_count": null,
       "_view_module": "@jupyter-widgets/controls",
       "_view_module_version": "1.5.0",
       "_view_name": "ProgressView",
       "bar_style": "success",
       "description": "",
       "description_tooltip": null,
       "layout": "IPY_MODEL_927ea51b892c44b9ad681a74405c372d",
       "max": 14231,
       "min": 0,
       "orientation": "horizontal",
       "style": "IPY_MODEL_19a2f98e7ee34d53a3d6ed3580f8efc2",
       "value": 14231
      }
     },
     "c5fb6377204a4ecebce9fb4476d0ecfe": {
      "model_module": "@jupyter-widgets/controls",
      "model_module_version": "1.5.0",
      "model_name": "FloatProgressModel",
      "state": {
       "_dom_classes": [],
       "_model_module": "@jupyter-widgets/controls",
       "_model_module_version": "1.5.0",
       "_model_name": "FloatProgressModel",
       "_view_count": null,
       "_view_module": "@jupyter-widgets/controls",
       "_view_module_version": "1.5.0",
       "_view_name": "ProgressView",
       "bar_style": "success",
       "description": "",
       "description_tooltip": null,
       "layout": "IPY_MODEL_ce52dd952ed940018940ec09ada8bcf2",
       "max": 14231,
       "min": 0,
       "orientation": "horizontal",
       "style": "IPY_MODEL_b694f5521ca94704a446db789d8e47f6",
       "value": 14231
      }
     },
     "c9a10df4c9794ca2950ce85e4858d887": {
      "model_module": "@jupyter-widgets/base",
      "model_module_version": "1.2.0",
      "model_name": "LayoutModel",
      "state": {
       "_model_module": "@jupyter-widgets/base",
       "_model_module_version": "1.2.0",
       "_model_name": "LayoutModel",
       "_view_count": null,
       "_view_module": "@jupyter-widgets/base",
       "_view_module_version": "1.2.0",
       "_view_name": "LayoutView",
       "align_content": null,
       "align_items": null,
       "align_self": null,
       "border": null,
       "bottom": null,
       "display": null,
       "flex": null,
       "flex_flow": null,
       "grid_area": null,
       "grid_auto_columns": null,
       "grid_auto_flow": null,
       "grid_auto_rows": null,
       "grid_column": null,
       "grid_gap": null,
       "grid_row": null,
       "grid_template_areas": null,
       "grid_template_columns": null,
       "grid_template_rows": null,
       "height": null,
       "justify_content": null,
       "justify_items": null,
       "left": null,
       "margin": null,
       "max_height": null,
       "max_width": null,
       "min_height": null,
       "min_width": null,
       "object_fit": null,
       "object_position": null,
       "order": null,
       "overflow": null,
       "overflow_x": null,
       "overflow_y": null,
       "padding": null,
       "right": null,
       "top": null,
       "visibility": null,
       "width": null
      }
     },
     "cc8aabc0244a47e193d23aa1e396100e": {
      "model_module": "@jupyter-widgets/controls",
      "model_module_version": "1.5.0",
      "model_name": "HBoxModel",
      "state": {
       "_dom_classes": [],
       "_model_module": "@jupyter-widgets/controls",
       "_model_module_version": "1.5.0",
       "_model_name": "HBoxModel",
       "_view_count": null,
       "_view_module": "@jupyter-widgets/controls",
       "_view_module_version": "1.5.0",
       "_view_name": "HBoxView",
       "box_style": "",
       "children": [
        "IPY_MODEL_edde1ad0f4b94fd1a88a239e503a9ced",
        "IPY_MODEL_cd666f623f054c3d85d1c05cd30d401c",
        "IPY_MODEL_1a090d6ce1a943bd8b037216266706e0"
       ],
       "layout": "IPY_MODEL_13727010ae9143f4bafa132209f22414"
      }
     },
     "cd666f623f054c3d85d1c05cd30d401c": {
      "model_module": "@jupyter-widgets/controls",
      "model_module_version": "1.5.0",
      "model_name": "FloatProgressModel",
      "state": {
       "_dom_classes": [],
       "_model_module": "@jupyter-widgets/controls",
       "_model_module_version": "1.5.0",
       "_model_name": "FloatProgressModel",
       "_view_count": null,
       "_view_module": "@jupyter-widgets/controls",
       "_view_module_version": "1.5.0",
       "_view_name": "ProgressView",
       "bar_style": "success",
       "description": "",
       "description_tooltip": null,
       "layout": "IPY_MODEL_5cfe510fd1444a92b4d3a8c8d01efdec",
       "max": 1633,
       "min": 0,
       "orientation": "horizontal",
       "style": "IPY_MODEL_935a18f3c9634084bdc3dae590449829",
       "value": 1633
      }
     },
     "ce52dd952ed940018940ec09ada8bcf2": {
      "model_module": "@jupyter-widgets/base",
      "model_module_version": "1.2.0",
      "model_name": "LayoutModel",
      "state": {
       "_model_module": "@jupyter-widgets/base",
       "_model_module_version": "1.2.0",
       "_model_name": "LayoutModel",
       "_view_count": null,
       "_view_module": "@jupyter-widgets/base",
       "_view_module_version": "1.2.0",
       "_view_name": "LayoutView",
       "align_content": null,
       "align_items": null,
       "align_self": null,
       "border": null,
       "bottom": null,
       "display": null,
       "flex": null,
       "flex_flow": null,
       "grid_area": null,
       "grid_auto_columns": null,
       "grid_auto_flow": null,
       "grid_auto_rows": null,
       "grid_column": null,
       "grid_gap": null,
       "grid_row": null,
       "grid_template_areas": null,
       "grid_template_columns": null,
       "grid_template_rows": null,
       "height": null,
       "justify_content": null,
       "justify_items": null,
       "left": null,
       "margin": null,
       "max_height": null,
       "max_width": null,
       "min_height": null,
       "min_width": null,
       "object_fit": null,
       "object_position": null,
       "order": null,
       "overflow": null,
       "overflow_x": null,
       "overflow_y": null,
       "padding": null,
       "right": null,
       "top": null,
       "visibility": null,
       "width": null
      }
     },
     "edde1ad0f4b94fd1a88a239e503a9ced": {
      "model_module": "@jupyter-widgets/controls",
      "model_module_version": "1.5.0",
      "model_name": "HTMLModel",
      "state": {
       "_dom_classes": [],
       "_model_module": "@jupyter-widgets/controls",
       "_model_module_version": "1.5.0",
       "_model_name": "HTMLModel",
       "_view_count": null,
       "_view_module": "@jupyter-widgets/controls",
       "_view_module_version": "1.5.0",
       "_view_name": "HTMLView",
       "description": "",
       "description_tooltip": null,
       "layout": "IPY_MODEL_b9122d15bf664cb9afbd286af7ce5963",
       "placeholder": "​",
       "style": "IPY_MODEL_539c74d6237a4c7faa05a8e4af4de6db",
       "value": "100%"
      }
     },
     "f357c45341284133b23b0851b8da49b7": {
      "model_module": "@jupyter-widgets/controls",
      "model_module_version": "1.5.0",
      "model_name": "DescriptionStyleModel",
      "state": {
       "_model_module": "@jupyter-widgets/controls",
       "_model_module_version": "1.5.0",
       "_model_name": "DescriptionStyleModel",
       "_view_count": null,
       "_view_module": "@jupyter-widgets/base",
       "_view_module_version": "1.2.0",
       "_view_name": "StyleView",
       "description_width": ""
      }
     }
    },
    "version_major": 2,
    "version_minor": 0
   }
  }
 },
 "nbformat": 4,
 "nbformat_minor": 5
}
