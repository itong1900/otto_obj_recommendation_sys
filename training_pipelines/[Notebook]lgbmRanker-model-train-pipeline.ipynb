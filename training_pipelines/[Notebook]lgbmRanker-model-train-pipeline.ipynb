{
 "cells": [
  {
   "cell_type": "code",
   "execution_count": 1,
   "id": "3a09aded",
   "metadata": {
    "_cell_guid": "b1076dfc-b9ad-4769-8c92-a6c4dae69d19",
    "_uuid": "8f2839f25d086af736a60e9eeb907d3b93b6e0e5",
    "execution": {
     "iopub.execute_input": "2023-01-31T20:53:27.052509Z",
     "iopub.status.busy": "2023-01-31T20:53:27.052022Z",
     "iopub.status.idle": "2023-01-31T20:53:30.172904Z",
     "shell.execute_reply": "2023-01-31T20:53:30.171659Z"
    },
    "papermill": {
     "duration": 3.134484,
     "end_time": "2023-01-31T20:53:30.176156",
     "exception": false,
     "start_time": "2023-01-31T20:53:27.041672",
     "status": "completed"
    },
    "tags": []
   },
   "outputs": [
    {
     "data": {
      "text/html": [
       "<style type='text/css'>\n",
       ".datatable table.frame { margin-bottom: 0; }\n",
       ".datatable table.frame thead { border-bottom: none; }\n",
       ".datatable table.frame tr.coltypes td {  color: #FFFFFF;  line-height: 6px;  padding: 0 0.5em;}\n",
       ".datatable .bool    { background: #DDDD99; }\n",
       ".datatable .object  { background: #565656; }\n",
       ".datatable .int     { background: #5D9E5D; }\n",
       ".datatable .float   { background: #4040CC; }\n",
       ".datatable .str     { background: #CC4040; }\n",
       ".datatable .time    { background: #40CC40; }\n",
       ".datatable .row_index {  background: var(--jp-border-color3);  border-right: 1px solid var(--jp-border-color0);  color: var(--jp-ui-font-color3);  font-size: 9px;}\n",
       ".datatable .frame tbody td { text-align: left; }\n",
       ".datatable .frame tr.coltypes .row_index {  background: var(--jp-border-color0);}\n",
       ".datatable th:nth-child(2) { padding-left: 12px; }\n",
       ".datatable .hellipsis {  color: var(--jp-cell-editor-border-color);}\n",
       ".datatable .vellipsis {  background: var(--jp-layout-color0);  color: var(--jp-cell-editor-border-color);}\n",
       ".datatable .na {  color: var(--jp-cell-editor-border-color);  font-size: 80%;}\n",
       ".datatable .sp {  opacity: 0.25;}\n",
       ".datatable .footer { font-size: 9px; }\n",
       ".datatable .frame_dimensions {  background: var(--jp-border-color3);  border-top: 1px solid var(--jp-border-color0);  color: var(--jp-ui-font-color3);  display: inline-block;  opacity: 0.6;  padding: 1px 10px 1px 5px;}\n",
       "</style>\n"
      ],
      "text/plain": [
       "<IPython.core.display.HTML object>"
      ]
     },
     "metadata": {},
     "output_type": "display_data"
    }
   ],
   "source": [
    "import os\n",
    "import gc\n",
    "import heapq\n",
    "import pickle\n",
    "import numba as nb\n",
    "import numpy as np\n",
    "import pandas as pd\n",
    "from tqdm.auto import tqdm\n",
    "import math\n",
    "from numpy import save\n",
    "\n",
    "from lightgbm import LGBMRanker\n",
    "from sklearn.model_selection import train_test_split\n",
    "from sklearn.model_selection import GroupKFold\n",
    "from sklearn.utils import resample\n",
    "\n",
    "import lightgbm\n",
    "\n",
    "from datetime import datetime\n",
    "import pytz"
   ]
  },
  {
   "attachments": {},
   "cell_type": "markdown",
   "id": "298ea2b8",
   "metadata": {},
   "source": [
    "## README\n",
    "This notebook shows the pipeline for training an LGBMRanker model with the data generated from itemCF_feature_generation_pipelines. It's very similar for orders, carts, carts model, basically needs to pick different parameters for downsampling based on the actual data size. This notebook shows the example for carts pediction."
   ]
  },
  {
   "attachments": {},
   "cell_type": "markdown",
   "id": "8295a6d8",
   "metadata": {
    "papermill": {
     "duration": 0.007139,
     "end_time": "2023-01-31T20:53:30.194327",
     "exception": false,
     "start_time": "2023-01-31T20:53:30.187188",
     "status": "completed"
    },
    "tags": []
   },
   "source": [
    "## Load the data "
   ]
  },
  {
   "cell_type": "code",
   "execution_count": 2,
   "id": "30551656",
   "metadata": {
    "execution": {
     "iopub.execute_input": "2023-01-31T20:53:30.210510Z",
     "iopub.status.busy": "2023-01-31T20:53:30.210031Z",
     "iopub.status.idle": "2023-01-31T20:58:21.888259Z",
     "shell.execute_reply": "2023-01-31T20:58:21.885863Z"
    },
    "papermill": {
     "duration": 291.69114,
     "end_time": "2023-01-31T20:58:21.892513",
     "exception": false,
     "start_time": "2023-01-31T20:53:30.201373",
     "status": "completed"
    },
    "tags": []
   },
   "outputs": [
    {
     "name": "stdout",
     "output_type": "stream",
     "text": [
      "start loading batch_0\n",
      "start loading batch_1\n",
      "start loading batch_2\n",
      "start loading batch_3\n",
      "start loading batch_4\n",
      "start loading batch_5\n",
      "start loading batch_6\n",
      "start loading batch_7\n",
      "start loading batch_8\n",
      "start loading batch_9\n",
      "start loading batch_10\n",
      "start loading batch_11\n",
      "start loading batch_12\n",
      "start loading batch_13\n",
      "start loading batch_14\n",
      "start loading batch_15\n",
      "start loading batch_16\n",
      "start loading batch_17\n",
      "start loading batch_18\n",
      "start loading batch_19\n",
      "start loading batch_20\n",
      "start loading batch_21\n",
      "start loading batch_22\n",
      "start loading batch_23\n",
      "start loading batch_24\n",
      "start loading batch_25\n",
      "start loading batch_26\n",
      "start loading batch_27\n",
      "start loading batch_28\n",
      "start loading batch_29\n",
      "start loading batch_30\n",
      "start loading batch_31\n",
      "start loading batch_32\n",
      "start loading batch_33\n",
      "start loading batch_34\n",
      "start loading batch_35\n",
      "start loading batch_36\n",
      "start loading batch_37\n",
      "start loading batch_38\n",
      "start loading batch_39\n",
      "start loading batch_40\n",
      "CPU times: user 2min 12s, sys: 2min 54s, total: 5min 6s\n",
      "Wall time: 4min 51s\n"
     ]
    },
    {
     "data": {
      "text/plain": [
       "30"
      ]
     },
     "execution_count": 2,
     "metadata": {},
     "output_type": "execute_result"
    }
   ],
   "source": [
    "%%time\n",
    "path = '/kaggle/input/cart-feat40-train-dataset'\n",
    "batch_ids = [i for i in range(0, 41)]\n",
    "\n",
    "df = pd.DataFrame()\n",
    "for batch_id in batch_ids:\n",
    "    print(f\"start loading batch_{batch_id}\")\n",
    "    # load the batch\n",
    "    temp = pd.read_parquet(f\"{path}/cart_batch_result_{batch_id}.parquet\").astype(\"float32\")\n",
    "    temp = temp.fillna({'gt': 0})\n",
    "#     temp[\"action_recent_normalized\"] = temp[\"action_recency\"] / (temp[\"time_span\"] + 0.1)\n",
    "    \n",
    "    df = df.append(temp, ignore_index=True).astype(\"float32\")\n",
    "\n",
    "del temp\n",
    "gc.collect()"
   ]
  },
  {
   "attachments": {},
   "cell_type": "markdown",
   "id": "a39d5f96",
   "metadata": {
    "papermill": {
     "duration": 0.009735,
     "end_time": "2023-01-31T20:58:21.912439",
     "exception": false,
     "start_time": "2023-01-31T20:58:21.902704",
     "status": "completed"
    },
    "tags": []
   },
   "source": [
    "### Quick Look at the data"
   ]
  },
  {
   "cell_type": "code",
   "execution_count": 3,
   "id": "d89e170b",
   "metadata": {
    "execution": {
     "iopub.execute_input": "2023-01-31T20:58:21.934573Z",
     "iopub.status.busy": "2023-01-31T20:58:21.934092Z",
     "iopub.status.idle": "2023-01-31T20:58:21.983248Z",
     "shell.execute_reply": "2023-01-31T20:58:21.981409Z"
    },
    "papermill": {
     "duration": 0.06377,
     "end_time": "2023-01-31T20:58:21.986226",
     "exception": false,
     "start_time": "2023-01-31T20:58:21.922456",
     "status": "completed"
    },
    "tags": []
   },
   "outputs": [
    {
     "data": {
      "text/html": [
       "<div>\n",
       "<style scoped>\n",
       "    .dataframe tbody tr th:only-of-type {\n",
       "        vertical-align: middle;\n",
       "    }\n",
       "\n",
       "    .dataframe tbody tr th {\n",
       "        vertical-align: top;\n",
       "    }\n",
       "\n",
       "    .dataframe thead th {\n",
       "        text-align: right;\n",
       "    }\n",
       "</style>\n",
       "<table border=\"1\" class=\"dataframe\">\n",
       "  <thead>\n",
       "    <tr style=\"text-align: right;\">\n",
       "      <th></th>\n",
       "      <th>session</th>\n",
       "      <th>aids</th>\n",
       "      <th>gt</th>\n",
       "      <th>prev_int</th>\n",
       "      <th>seq_w_total</th>\n",
       "      <th>time_w_total</th>\n",
       "      <th>ops_w_total</th>\n",
       "      <th>session_len</th>\n",
       "      <th>num_uniuqe_aids</th>\n",
       "      <th>CF_score</th>\n",
       "      <th>...</th>\n",
       "      <th>cf_incre_mean</th>\n",
       "      <th>cf_incre_min</th>\n",
       "      <th>seqW_max_min_gap</th>\n",
       "      <th>timeW_max_min_gap</th>\n",
       "      <th>opsW_max_min_gap</th>\n",
       "      <th>cf_incre_max_min_gap</th>\n",
       "      <th>last_action_raw_seq</th>\n",
       "      <th>raw_seq_sum</th>\n",
       "      <th>raw_seq_max</th>\n",
       "      <th>raw_seq_mean</th>\n",
       "    </tr>\n",
       "  </thead>\n",
       "  <tbody>\n",
       "    <tr>\n",
       "      <th>0</th>\n",
       "      <td>11098528.0</td>\n",
       "      <td>11830.0</td>\n",
       "      <td>0.0</td>\n",
       "      <td>1.0</td>\n",
       "      <td>0.231144</td>\n",
       "      <td>3.0</td>\n",
       "      <td>4.0</td>\n",
       "      <td>1.0</td>\n",
       "      <td>1.0</td>\n",
       "      <td>83.211990</td>\n",
       "      <td>...</td>\n",
       "      <td>83.211990</td>\n",
       "      <td>83.211990</td>\n",
       "      <td>0.0</td>\n",
       "      <td>0.0</td>\n",
       "      <td>0.0</td>\n",
       "      <td>0.0</td>\n",
       "      <td>1.0</td>\n",
       "      <td>1.0</td>\n",
       "      <td>1.0</td>\n",
       "      <td>1.0</td>\n",
       "    </tr>\n",
       "    <tr>\n",
       "      <th>1</th>\n",
       "      <td>11098528.0</td>\n",
       "      <td>1732105.0</td>\n",
       "      <td>0.0</td>\n",
       "      <td>0.0</td>\n",
       "      <td>0.231144</td>\n",
       "      <td>3.0</td>\n",
       "      <td>4.0</td>\n",
       "      <td>1.0</td>\n",
       "      <td>1.0</td>\n",
       "      <td>2.773733</td>\n",
       "      <td>...</td>\n",
       "      <td>2.773733</td>\n",
       "      <td>2.773733</td>\n",
       "      <td>0.0</td>\n",
       "      <td>0.0</td>\n",
       "      <td>0.0</td>\n",
       "      <td>0.0</td>\n",
       "      <td>1.0</td>\n",
       "      <td>1.0</td>\n",
       "      <td>1.0</td>\n",
       "      <td>1.0</td>\n",
       "    </tr>\n",
       "    <tr>\n",
       "      <th>2</th>\n",
       "      <td>11098528.0</td>\n",
       "      <td>588923.0</td>\n",
       "      <td>0.0</td>\n",
       "      <td>0.0</td>\n",
       "      <td>0.231144</td>\n",
       "      <td>3.0</td>\n",
       "      <td>4.0</td>\n",
       "      <td>1.0</td>\n",
       "      <td>1.0</td>\n",
       "      <td>1.459935</td>\n",
       "      <td>...</td>\n",
       "      <td>1.459935</td>\n",
       "      <td>1.459935</td>\n",
       "      <td>0.0</td>\n",
       "      <td>0.0</td>\n",
       "      <td>0.0</td>\n",
       "      <td>0.0</td>\n",
       "      <td>1.0</td>\n",
       "      <td>1.0</td>\n",
       "      <td>1.0</td>\n",
       "      <td>1.0</td>\n",
       "    </tr>\n",
       "    <tr>\n",
       "      <th>3</th>\n",
       "      <td>11098528.0</td>\n",
       "      <td>571762.0</td>\n",
       "      <td>0.0</td>\n",
       "      <td>0.0</td>\n",
       "      <td>0.231144</td>\n",
       "      <td>3.0</td>\n",
       "      <td>4.0</td>\n",
       "      <td>1.0</td>\n",
       "      <td>1.0</td>\n",
       "      <td>0.755989</td>\n",
       "      <td>...</td>\n",
       "      <td>0.755989</td>\n",
       "      <td>0.755989</td>\n",
       "      <td>0.0</td>\n",
       "      <td>0.0</td>\n",
       "      <td>0.0</td>\n",
       "      <td>0.0</td>\n",
       "      <td>1.0</td>\n",
       "      <td>1.0</td>\n",
       "      <td>1.0</td>\n",
       "      <td>1.0</td>\n",
       "    </tr>\n",
       "    <tr>\n",
       "      <th>4</th>\n",
       "      <td>11098528.0</td>\n",
       "      <td>884502.0</td>\n",
       "      <td>0.0</td>\n",
       "      <td>0.0</td>\n",
       "      <td>0.231144</td>\n",
       "      <td>3.0</td>\n",
       "      <td>4.0</td>\n",
       "      <td>1.0</td>\n",
       "      <td>1.0</td>\n",
       "      <td>0.705126</td>\n",
       "      <td>...</td>\n",
       "      <td>0.705126</td>\n",
       "      <td>0.705126</td>\n",
       "      <td>0.0</td>\n",
       "      <td>0.0</td>\n",
       "      <td>0.0</td>\n",
       "      <td>0.0</td>\n",
       "      <td>1.0</td>\n",
       "      <td>1.0</td>\n",
       "      <td>1.0</td>\n",
       "      <td>1.0</td>\n",
       "    </tr>\n",
       "  </tbody>\n",
       "</table>\n",
       "<p>5 rows × 42 columns</p>\n",
       "</div>"
      ],
      "text/plain": [
       "      session       aids   gt  prev_int  seq_w_total  time_w_total  \\\n",
       "0  11098528.0    11830.0  0.0       1.0     0.231144           3.0   \n",
       "1  11098528.0  1732105.0  0.0       0.0     0.231144           3.0   \n",
       "2  11098528.0   588923.0  0.0       0.0     0.231144           3.0   \n",
       "3  11098528.0   571762.0  0.0       0.0     0.231144           3.0   \n",
       "4  11098528.0   884502.0  0.0       0.0     0.231144           3.0   \n",
       "\n",
       "   ops_w_total  session_len  num_uniuqe_aids   CF_score  ...  cf_incre_mean  \\\n",
       "0          4.0          1.0              1.0  83.211990  ...      83.211990   \n",
       "1          4.0          1.0              1.0   2.773733  ...       2.773733   \n",
       "2          4.0          1.0              1.0   1.459935  ...       1.459935   \n",
       "3          4.0          1.0              1.0   0.755989  ...       0.755989   \n",
       "4          4.0          1.0              1.0   0.705126  ...       0.705126   \n",
       "\n",
       "   cf_incre_min  seqW_max_min_gap  timeW_max_min_gap  opsW_max_min_gap  \\\n",
       "0     83.211990               0.0                0.0               0.0   \n",
       "1      2.773733               0.0                0.0               0.0   \n",
       "2      1.459935               0.0                0.0               0.0   \n",
       "3      0.755989               0.0                0.0               0.0   \n",
       "4      0.705126               0.0                0.0               0.0   \n",
       "\n",
       "   cf_incre_max_min_gap  last_action_raw_seq  raw_seq_sum  raw_seq_max  \\\n",
       "0                   0.0                  1.0          1.0          1.0   \n",
       "1                   0.0                  1.0          1.0          1.0   \n",
       "2                   0.0                  1.0          1.0          1.0   \n",
       "3                   0.0                  1.0          1.0          1.0   \n",
       "4                   0.0                  1.0          1.0          1.0   \n",
       "\n",
       "   raw_seq_mean  \n",
       "0           1.0  \n",
       "1           1.0  \n",
       "2           1.0  \n",
       "3           1.0  \n",
       "4           1.0  \n",
       "\n",
       "[5 rows x 42 columns]"
      ]
     },
     "execution_count": 3,
     "metadata": {},
     "output_type": "execute_result"
    }
   ],
   "source": [
    "df.head()"
   ]
  },
  {
   "cell_type": "code",
   "execution_count": 4,
   "id": "60188d9a",
   "metadata": {
    "execution": {
     "iopub.execute_input": "2023-01-31T20:58:22.009700Z",
     "iopub.status.busy": "2023-01-31T20:58:22.009219Z",
     "iopub.status.idle": "2023-01-31T20:58:43.461183Z",
     "shell.execute_reply": "2023-01-31T20:58:43.459138Z"
    },
    "papermill": {
     "duration": 21.467151,
     "end_time": "2023-01-31T20:58:43.464168",
     "exception": false,
     "start_time": "2023-01-31T20:58:21.997017",
     "status": "completed"
    },
    "tags": []
   },
   "outputs": [
    {
     "name": "stdout",
     "output_type": "stream",
     "text": [
      "df shape: (52530696, 42)\n",
      "class1 shape (302100, 42)\n",
      "class0 shape (52228596, 42)\n",
      "class1/0 ratio 0.00578418765076511\n"
     ]
    }
   ],
   "source": [
    "print(\"df shape:\", df.shape)\n",
    "print(\"class1 shape\", df[df[\"gt\"] == 1].shape)\n",
    "print(\"class0 shape\", df[df[\"gt\"] == 0].shape)\n",
    "print(\"class1/0 ratio\", df[df[\"gt\"] == 1].shape[0]/df[df[\"gt\"] == 0].shape[0])"
   ]
  },
  {
   "cell_type": "code",
   "execution_count": 5,
   "id": "7ad51f54",
   "metadata": {
    "execution": {
     "iopub.execute_input": "2023-01-31T20:58:43.489095Z",
     "iopub.status.busy": "2023-01-31T20:58:43.488626Z",
     "iopub.status.idle": "2023-01-31T20:58:43.665007Z",
     "shell.execute_reply": "2023-01-31T20:58:43.663599Z"
    },
    "papermill": {
     "duration": 0.191192,
     "end_time": "2023-01-31T20:58:43.668087",
     "exception": false,
     "start_time": "2023-01-31T20:58:43.476895",
     "status": "completed"
    },
    "tags": []
   },
   "outputs": [
    {
     "data": {
      "text/plain": [
       "42"
      ]
     },
     "execution_count": 5,
     "metadata": {},
     "output_type": "execute_result"
    }
   ],
   "source": [
    "gc.collect()"
   ]
  },
  {
   "attachments": {},
   "cell_type": "markdown",
   "id": "bd6e6535",
   "metadata": {
    "papermill": {
     "duration": 0.010427,
     "end_time": "2023-01-31T20:58:43.690008",
     "exception": false,
     "start_time": "2023-01-31T20:58:43.679581",
     "status": "completed"
    },
    "tags": []
   },
   "source": [
    "## train / validation / test Split"
   ]
  },
  {
   "cell_type": "code",
   "execution_count": 6,
   "id": "a5653c71",
   "metadata": {
    "execution": {
     "iopub.execute_input": "2023-01-31T20:58:43.714507Z",
     "iopub.status.busy": "2023-01-31T20:58:43.713996Z",
     "iopub.status.idle": "2023-01-31T20:59:06.674462Z",
     "shell.execute_reply": "2023-01-31T20:59:06.672978Z"
    },
    "papermill": {
     "duration": 22.976057,
     "end_time": "2023-01-31T20:59:06.677322",
     "exception": false,
     "start_time": "2023-01-31T20:58:43.701265",
     "status": "completed"
    },
    "tags": []
   },
   "outputs": [
    {
     "name": "stdout",
     "output_type": "stream",
     "text": [
      "Train shape: (42024556, 42)\n",
      "Val shape: (5253070, 42)\n",
      "Test shape: (5253070, 42)\n",
      "CPU times: user 17.1 s, sys: 5.84 s, total: 23 s\n",
      "Wall time: 23 s\n"
     ]
    }
   ],
   "source": [
    "%%time\n",
    "# 8:1:1 split\n",
    "groups_1 = df[\"session\"].values\n",
    "train_temp_split = GroupKFold(n_splits=5)\n",
    "for _, (idx_train, idx_temp) in enumerate(train_temp_split.split(df, groups = groups_1)):\n",
    "    idx_train = idx_train\n",
    "    idx_temp = idx_temp\n",
    "    break\n",
    "\n",
    "train_data = df.iloc[idx_train].astype(\"float32\")  ## take the first 4 fold as train\n",
    "temp_data = df.iloc[idx_temp].astype(\"float32\")   ## the 5th fold as val/test\n",
    "\n",
    "groups_2 = temp_data[\"session\"].values\n",
    "val_test_split = GroupKFold(n_splits=2)\n",
    "for _, (idx_val, idx_test) in enumerate(val_test_split.split(temp_data, groups = groups_2)):\n",
    "    idx_val = idx_val       \n",
    "    idx_test = idx_test     \n",
    "    break\n",
    "    \n",
    "val_data = temp_data.iloc[idx_val].astype(\"float32\")   ## 1st fold as val\n",
    "test_data = temp_data.iloc[idx_test].astype(\"float32\")  ## 2nd fold as test\n",
    "\n",
    "del temp_data, train_temp_split, val_test_split, groups_1, groups_2, df\n",
    "gc.collect()\n",
    "print(\"Train shape:\",train_data.shape)\n",
    "print(\"Val shape:\",val_data.shape)\n",
    "print(\"Test shape:\",test_data.shape)"
   ]
  },
  {
   "attachments": {},
   "cell_type": "markdown",
   "id": "1207b6ff",
   "metadata": {
    "papermill": {
     "duration": 0.009904,
     "end_time": "2023-01-31T20:59:06.697773",
     "exception": false,
     "start_time": "2023-01-31T20:59:06.687869",
     "status": "completed"
    },
    "tags": []
   },
   "source": [
    "## downsample train/validation, comment out if not needed(orders might not need downsample)."
   ]
  },
  {
   "cell_type": "code",
   "execution_count": 7,
   "id": "c7e3973d",
   "metadata": {
    "execution": {
     "iopub.execute_input": "2023-01-31T20:59:06.720915Z",
     "iopub.status.busy": "2023-01-31T20:59:06.720503Z",
     "iopub.status.idle": "2023-01-31T21:00:06.863978Z",
     "shell.execute_reply": "2023-01-31T21:00:06.862603Z"
    },
    "papermill": {
     "duration": 60.168815,
     "end_time": "2023-01-31T21:00:06.877416",
     "exception": false,
     "start_time": "2023-01-31T20:59:06.708601",
     "status": "completed"
    },
    "tags": []
   },
   "outputs": [
    {
     "name": "stdout",
     "output_type": "stream",
     "text": [
      "CPU times: user 48.8 s, sys: 11.3 s, total: 1min\n",
      "Wall time: 1min\n"
     ]
    },
    {
     "data": {
      "text/plain": [
       "16"
      ]
     },
     "execution_count": 7,
     "metadata": {},
     "output_type": "execute_result"
    }
   ],
   "source": [
    "%%time\n",
    "MAINTAIN_RATIO = 0.6\n",
    "\n",
    "train_data = train_data.drop(train_data.query('gt == 0').sample(frac=1-MAINTAIN_RATIO).index).reset_index(drop=True).astype(\"float32\")\n",
    "gc.collect()\n",
    "val_data = val_data.drop(val_data.query('gt == 0').sample(frac=1-MAINTAIN_RATIO).index).reset_index(drop=True).astype(\"float32\")\n",
    "gc.collect()"
   ]
  },
  {
   "attachments": {},
   "cell_type": "markdown",
   "id": "ffa2a30b",
   "metadata": {
    "papermill": {
     "duration": 0.009998,
     "end_time": "2023-01-31T21:00:06.897693",
     "exception": false,
     "start_time": "2023-01-31T21:00:06.887695",
     "status": "completed"
    },
    "tags": []
   },
   "source": [
    "## Declare all features."
   ]
  },
  {
   "cell_type": "code",
   "execution_count": 8,
   "id": "4fc70f1b",
   "metadata": {
    "execution": {
     "iopub.execute_input": "2023-01-31T21:00:06.921469Z",
     "iopub.status.busy": "2023-01-31T21:00:06.920984Z",
     "iopub.status.idle": "2023-01-31T21:00:06.929871Z",
     "shell.execute_reply": "2023-01-31T21:00:06.928320Z"
    },
    "papermill": {
     "duration": 0.024343,
     "end_time": "2023-01-31T21:00:06.932625",
     "exception": false,
     "start_time": "2023-01-31T21:00:06.908282",
     "status": "completed"
    },
    "tags": []
   },
   "outputs": [],
   "source": [
    "all_features = [\"prev_int\", \"seq_w_total\", \"time_w_total\", \"ops_w_total\", \"session_len\", \"num_uniuqe_aids\", \"CF_score\", \"itemTotalLike\", \"ref_time\", \"max_sim_score\",\\\n",
    "    \"mean_sim_score\", \"num_interact\", \"time_span\", \"action_recency\", \"seq_w_max\", \"seq_w_mean\", \"seq_w_min\", \"time_w_max\", \"time_w_mean\", \"time_w_min\", \\\n",
    "        \"ops_w_max\", \"ops_w_mean\", \"ops_w_min\", \"num_clicks\", \"num_carts\", \"num_orders\", \"last_action_type\", \"time_to_now\", \"cf_incre_max\", \"cf_incre_mean\", \\\n",
    "            \"cf_incre_min\", \"seqW_max_min_gap\", \"timeW_max_min_gap\", \"opsW_max_min_gap\", \"cf_incre_max_min_gap\", \"last_action_raw_seq\", \"raw_seq_sum\", \"raw_seq_max\", \"raw_seq_mean\"]# \"action_recent_normalized\"]\n",
    "categorical_cols = [\"prev_int\", \"last_action_type\", \"opsW_max_min_gap\"] \n",
    "target = 'gt'"
   ]
  },
  {
   "cell_type": "code",
   "execution_count": 9,
   "id": "df993dc4",
   "metadata": {
    "execution": {
     "iopub.execute_input": "2023-01-31T21:00:06.956134Z",
     "iopub.status.busy": "2023-01-31T21:00:06.955700Z",
     "iopub.status.idle": "2023-01-31T21:00:16.499361Z",
     "shell.execute_reply": "2023-01-31T21:00:16.497405Z"
    },
    "papermill": {
     "duration": 9.559294,
     "end_time": "2023-01-31T21:00:16.502592",
     "exception": false,
     "start_time": "2023-01-31T21:00:06.943298",
     "status": "completed"
    },
    "tags": []
   },
   "outputs": [
    {
     "name": "stdout",
     "output_type": "stream",
     "text": [
      "CPU times: user 5.28 s, sys: 4.23 s, total: 9.51 s\n",
      "Wall time: 9.54 s\n"
     ]
    }
   ],
   "source": [
    "%%time\n",
    "## convert some variable to categorical type. \n",
    "for c in categorical_cols:\n",
    "    train_data[c] = train_data[c].astype('category')\n",
    "    val_data[c] = val_data[c].astype('category')\n",
    "    test_data[c] = test_data[c].astype('category')"
   ]
  },
  {
   "cell_type": "code",
   "execution_count": 10,
   "id": "365ed445",
   "metadata": {
    "execution": {
     "iopub.execute_input": "2023-01-31T21:00:16.527932Z",
     "iopub.status.busy": "2023-01-31T21:00:16.527427Z",
     "iopub.status.idle": "2023-01-31T21:00:17.708269Z",
     "shell.execute_reply": "2023-01-31T21:00:17.706256Z"
    },
    "papermill": {
     "duration": 1.19822,
     "end_time": "2023-01-31T21:00:17.712229",
     "exception": false,
     "start_time": "2023-01-31T21:00:16.514009",
     "status": "completed"
    },
    "tags": []
   },
   "outputs": [
    {
     "name": "stdout",
     "output_type": "stream",
     "text": [
      "train groups: [102 118 114 ...  97  85  89]\n",
      "val groups: [123  84  17 ...  92 132  87]\n",
      "test groups: [200 200 200 ... 151  93 151]\n"
     ]
    }
   ],
   "source": [
    "def get_session_lengths(df):\n",
    "    return df.groupby('session')[\"aids\"].count().to_numpy()\n",
    "\n",
    "## get the groups\n",
    "train_group = get_session_lengths(train_data)\n",
    "val_group = get_session_lengths(val_data)\n",
    "test_group = get_session_lengths(test_data)\n",
    "print(\"train groups:\", train_group)\n",
    "print(\"val groups:\", val_group)\n",
    "print(\"test groups:\", test_group)"
   ]
  },
  {
   "cell_type": "code",
   "execution_count": 11,
   "id": "3d899625",
   "metadata": {
    "execution": {
     "iopub.execute_input": "2023-01-31T21:00:17.737319Z",
     "iopub.status.busy": "2023-01-31T21:00:17.736072Z",
     "iopub.status.idle": "2023-01-31T21:00:22.939853Z",
     "shell.execute_reply": "2023-01-31T21:00:22.938800Z"
    },
    "papermill": {
     "duration": 5.219694,
     "end_time": "2023-01-31T21:00:22.943152",
     "exception": false,
     "start_time": "2023-01-31T21:00:17.723458",
     "status": "completed"
    },
    "tags": []
   },
   "outputs": [
    {
     "name": "stdout",
     "output_type": "stream",
     "text": [
      "CPU times: user 2.7 s, sys: 2.5 s, total: 5.2 s\n",
      "Wall time: 5.2 s\n"
     ]
    }
   ],
   "source": [
    "%%time\n",
    "X_train, y_train = train_data[all_features].astype(\"float32\"), train_data[target].astype(\"float32\")\n",
    "X_val, y_val = val_data[all_features].astype(\"float32\"), val_data[target].astype(\"float32\")\n",
    "X_test, y_test = test_data[all_features].astype(\"float32\"), test_data[target].astype(\"float32\")"
   ]
  },
  {
   "cell_type": "code",
   "execution_count": 12,
   "id": "50e286e8",
   "metadata": {
    "execution": {
     "iopub.execute_input": "2023-01-31T21:00:22.968619Z",
     "iopub.status.busy": "2023-01-31T21:00:22.968180Z",
     "iopub.status.idle": "2023-01-31T21:00:22.977417Z",
     "shell.execute_reply": "2023-01-31T21:00:22.975749Z"
    },
    "papermill": {
     "duration": 0.024391,
     "end_time": "2023-01-31T21:00:22.980175",
     "exception": false,
     "start_time": "2023-01-31T21:00:22.955784",
     "status": "completed"
    },
    "tags": []
   },
   "outputs": [
    {
     "name": "stdout",
     "output_type": "stream",
     "text": [
      "final check the shape before training\n",
      "train:  (25311408, 39)\n",
      "val:  (3163921, 39)\n",
      "test: (5253070, 39)\n"
     ]
    }
   ],
   "source": [
    "print(\"final check the shape before training\")\n",
    "print(\"train: \", X_train.shape)\n",
    "print(\"val: \", X_val.shape)\n",
    "print(\"test:\", X_test.shape)"
   ]
  },
  {
   "cell_type": "code",
   "execution_count": 13,
   "id": "997d7906",
   "metadata": {
    "execution": {
     "iopub.execute_input": "2023-01-31T21:00:23.006505Z",
     "iopub.status.busy": "2023-01-31T21:00:23.005204Z",
     "iopub.status.idle": "2023-01-31T21:00:23.165768Z",
     "shell.execute_reply": "2023-01-31T21:00:23.164170Z"
    },
    "papermill": {
     "duration": 0.177106,
     "end_time": "2023-01-31T21:00:23.169023",
     "exception": false,
     "start_time": "2023-01-31T21:00:22.991917",
     "status": "completed"
    },
    "tags": []
   },
   "outputs": [
    {
     "data": {
      "text/plain": [
       "42"
      ]
     },
     "execution_count": 13,
     "metadata": {},
     "output_type": "execute_result"
    }
   ],
   "source": [
    "gc.collect()"
   ]
  },
  {
   "attachments": {},
   "cell_type": "markdown",
   "id": "a48f189d",
   "metadata": {
    "papermill": {
     "duration": 0.012994,
     "end_time": "2023-01-31T21:00:23.193883",
     "exception": false,
     "start_time": "2023-01-31T21:00:23.180889",
     "status": "completed"
    },
    "tags": []
   },
   "source": [
    "## Train the model"
   ]
  },
  {
   "cell_type": "code",
   "execution_count": 14,
   "id": "19143986",
   "metadata": {
    "execution": {
     "iopub.execute_input": "2023-01-31T21:00:23.220129Z",
     "iopub.status.busy": "2023-01-31T21:00:23.219205Z",
     "iopub.status.idle": "2023-01-31T21:25:59.782069Z",
     "shell.execute_reply": "2023-01-31T21:25:59.779813Z"
    },
    "papermill": {
     "duration": 1536.579287,
     "end_time": "2023-01-31T21:25:59.785323",
     "exception": false,
     "start_time": "2023-01-31T21:00:23.206036",
     "status": "completed"
    },
    "tags": []
   },
   "outputs": [
    {
     "name": "stderr",
     "output_type": "stream",
     "text": [
      "/opt/conda/lib/python3.7/site-packages/lightgbm/basic.py:2065: UserWarning: Using categorical_feature in Dataset.\n",
      "  _log_warning('Using categorical_feature in Dataset.')\n",
      "/opt/conda/lib/python3.7/site-packages/lightgbm/basic.py:2068: UserWarning: categorical_feature in Dataset is overridden.\n",
      "New categorical_feature is ['last_action_type', 'opsW_max_min_gap', 'prev_int']\n",
      "  _log_warning('categorical_feature in Dataset is overridden.\\n'\n",
      "/opt/conda/lib/python3.7/site-packages/lightgbm/basic.py:1780: UserWarning: Overriding the parameters from Reference Dataset.\n",
      "  _log_warning('Overriding the parameters from Reference Dataset.')\n",
      "/opt/conda/lib/python3.7/site-packages/lightgbm/basic.py:1513: UserWarning: categorical_column in param dict is overridden.\n",
      "  _log_warning(f'{cat_alias} in param dict is overridden.')\n"
     ]
    },
    {
     "name": "stdout",
     "output_type": "stream",
     "text": [
      "Training until validation scores don't improve for 200 rounds\n",
      "[200]\tvalid_0's ndcg@20: 0.767517\n",
      "[400]\tvalid_0's ndcg@20: 0.767392\n",
      "Early stopping, best iteration is:\n",
      "[214]\tvalid_0's ndcg@20: 0.767596\n",
      "CPU times: user 1h 37min 31s, sys: 14.2 s, total: 1h 37min 45s\n",
      "Wall time: 25min 36s\n"
     ]
    },
    {
     "data": {
      "text/plain": [
       "LGBMRanker(colsample_bytree=0.5, importance_type='gain', learning_rate=0.05,\n",
       "           metric='ndcg', n_estimators=5000, num_leaves=127,\n",
       "           objective='lambdarank', subsample=0.5)"
      ]
     },
     "execution_count": 14,
     "metadata": {},
     "output_type": "execute_result"
    }
   ],
   "source": [
    "%%time\n",
    "ranker = LGBMRanker(\n",
    "    objective=\"lambdarank\",\n",
    "    metric=\"ndcg\",\n",
    "    boosting_type=\"gbdt\",\n",
    "    n_estimators=5000,\n",
    "    importance_type='gain',\n",
    "    learning_rate=0.05,\n",
    "    num_leaves=127,\n",
    "    subsample=0.5,\n",
    "    colsample_bytree=0.5\n",
    ")\n",
    "\n",
    "\n",
    "ranker.fit(\n",
    "    X_train, y_train,\n",
    "    group=train_group,\n",
    "    eval_set=[(X_val, y_val)],\n",
    "    eval_group=[val_group],\n",
    "    feature_name=all_features,\n",
    "    categorical_feature=categorical_cols,\n",
    "    eval_at=[20],\n",
    "    callbacks=[lightgbm.early_stopping(200), lightgbm.log_evaluation(200)]\n",
    "          )"
   ]
  },
  {
   "attachments": {},
   "cell_type": "markdown",
   "id": "4b2688c1",
   "metadata": {
    "papermill": {
     "duration": 0.012506,
     "end_time": "2023-01-31T21:25:59.811149",
     "exception": false,
     "start_time": "2023-01-31T21:25:59.798643",
     "status": "completed"
    },
    "tags": []
   },
   "source": [
    "## Model Validation"
   ]
  },
  {
   "cell_type": "code",
   "execution_count": 15,
   "id": "0351f440",
   "metadata": {
    "execution": {
     "iopub.execute_input": "2023-01-31T21:25:59.838646Z",
     "iopub.status.busy": "2023-01-31T21:25:59.838047Z",
     "iopub.status.idle": "2023-01-31T21:26:00.596387Z",
     "shell.execute_reply": "2023-01-31T21:26:00.595165Z"
    },
    "papermill": {
     "duration": 0.77647,
     "end_time": "2023-01-31T21:26:00.599497",
     "exception": false,
     "start_time": "2023-01-31T21:25:59.823027",
     "status": "completed"
    },
    "tags": []
   },
   "outputs": [
    {
     "data": {
      "text/plain": [
       "<AxesSubplot:title={'center':'Feature importance'}, xlabel='Feature importance', ylabel='Features'>"
      ]
     },
     "execution_count": 15,
     "metadata": {},
     "output_type": "execute_result"
    },
    {
     "data": {
      "image/png": "[encoded data removed]",
      "text/plain": [
       "<Figure size 864x576 with 1 Axes>"
      ]
     },
     "metadata": {
      "needs_background": "light"
     },
     "output_type": "display_data"
    }
   ],
   "source": [
    "lightgbm.plot_importance(ranker, figsize = (12,8))"
   ]
  },
  {
   "cell_type": "code",
   "execution_count": 16,
   "id": "6683b259",
   "metadata": {
    "execution": {
     "iopub.execute_input": "2023-01-31T21:26:00.629909Z",
     "iopub.status.busy": "2023-01-31T21:26:00.629249Z",
     "iopub.status.idle": "2023-01-31T21:26:45.290114Z",
     "shell.execute_reply": "2023-01-31T21:26:45.288584Z"
    },
    "papermill": {
     "duration": 44.680284,
     "end_time": "2023-01-31T21:26:45.294391",
     "exception": false,
     "start_time": "2023-01-31T21:26:00.614107",
     "status": "completed"
    },
    "tags": []
   },
   "outputs": [],
   "source": [
    "test_result_df = test_data.copy().astype(\"float32\")\n",
    "test_result_df[\"y_pred\"] = ranker.predict(X_test)\n",
    "test_result_df[\"lgbm_rank\"] = test_result_df.groupby(\"session\")['y_pred'].rank(method=\"first\", ascending=False)\n",
    "test_result_df[\"CFScore_rank\"] = test_result_df.groupby(\"session\")['CF_score'].rank(method=\"first\", ascending=False)"
   ]
  },
  {
   "attachments": {},
   "cell_type": "markdown",
   "id": "709ed49b",
   "metadata": {
    "papermill": {
     "duration": 0.014044,
     "end_time": "2023-01-31T21:26:45.322562",
     "exception": false,
     "start_time": "2023-01-31T21:26:45.308518",
     "status": "completed"
    },
    "tags": []
   },
   "source": [
    "### @20 Recall correct rate comparison"
   ]
  },
  {
   "cell_type": "code",
   "execution_count": 17,
   "id": "6484d153",
   "metadata": {
    "execution": {
     "iopub.execute_input": "2023-01-31T21:26:45.351435Z",
     "iopub.status.busy": "2023-01-31T21:26:45.350993Z",
     "iopub.status.idle": "2023-01-31T21:26:46.319247Z",
     "shell.execute_reply": "2023-01-31T21:26:46.317544Z"
    },
    "papermill": {
     "duration": 0.98711,
     "end_time": "2023-01-31T21:26:46.323140",
     "exception": false,
     "start_time": "2023-01-31T21:26:45.336030",
     "status": "completed"
    },
    "tags": []
   },
   "outputs": [
    {
     "name": "stdout",
     "output_type": "stream",
     "text": [
      "total class 1 that can be predicted\n",
      "(30217, 45)\n",
      "Correct Pred by lgbm ranker by taking top 20\n",
      "(23875, 45)\n",
      "Correct Pred by cf score by taking top 20\n",
      "(23605, 45)\n"
     ]
    }
   ],
   "source": [
    "TOP_K = 20\n",
    "print(\"total class 1 that can be predicted\")\n",
    "print(test_result_df[(test_result_df[\"gt\"] == 1)].shape)\n",
    "print(f\"Correct Pred by lgbm ranker by taking top {TOP_K}\")\n",
    "print(test_result_df[(test_result_df[\"gt\"] == 1) & (test_result_df[\"lgbm_rank\"] <= TOP_K)].shape)\n",
    "print(f\"Correct Pred by cf score by taking top {TOP_K }\")\n",
    "print(test_result_df[(test_result_df[\"gt\"] == 1) & (test_result_df[\"CFScore_rank\"] <= TOP_K)].shape)"
   ]
  },
  {
   "cell_type": "code",
   "execution_count": 18,
   "id": "644e4f2e",
   "metadata": {
    "execution": {
     "iopub.execute_input": "2023-01-31T21:26:46.354976Z",
     "iopub.status.busy": "2023-01-31T21:26:46.354290Z",
     "iopub.status.idle": "2023-01-31T21:26:47.614894Z",
     "shell.execute_reply": "2023-01-31T21:26:47.613387Z"
    },
    "papermill": {
     "duration": 1.279831,
     "end_time": "2023-01-31T21:26:47.618025",
     "exception": false,
     "start_time": "2023-01-31T21:26:46.338194",
     "status": "completed"
    },
    "tags": []
   },
   "outputs": [],
   "source": [
    "recall_limit = [i for i in range(1, 21)]\n",
    "lgbm_ranker_correct_pred = []\n",
    "cf_score_correct_pred = []\n",
    "for limit in recall_limit:\n",
    "    lgbm_ranker_correct_pred.append(test_result_df[(test_result_df[\"gt\"] == 1) & (test_result_df[\"lgbm_rank\"] <= limit)].shape[0])\n",
    "    cf_score_correct_pred.append(test_result_df[(test_result_df[\"gt\"] == 1) & (test_result_df[\"CFScore_rank\"] <= limit)].shape[0])"
   ]
  },
  {
   "cell_type": "code",
   "execution_count": 19,
   "id": "b013e4c9",
   "metadata": {
    "execution": {
     "iopub.execute_input": "2023-01-31T21:26:47.648452Z",
     "iopub.status.busy": "2023-01-31T21:26:47.647259Z",
     "iopub.status.idle": "2023-01-31T21:26:47.910906Z",
     "shell.execute_reply": "2023-01-31T21:26:47.909353Z"
    },
    "papermill": {
     "duration": 0.281534,
     "end_time": "2023-01-31T21:26:47.913731",
     "exception": false,
     "start_time": "2023-01-31T21:26:47.632197",
     "status": "completed"
    },
    "tags": []
   },
   "outputs": [
    {
     "data": {
      "image/png": "[encoded data removed]",
      "text/plain": [
       "<Figure size 432x288 with 1 Axes>"
      ]
     },
     "metadata": {
      "needs_background": "light"
     },
     "output_type": "display_data"
    }
   ],
   "source": [
    "import matplotlib.pyplot as plt\n",
    "\n",
    "plt.plot(recall_limit, lgbm_ranker_correct_pred, label = \"lgbm Ranker\")\n",
    "plt.plot(recall_limit, cf_score_correct_pred, label = \"CF score\")\n",
    "plt.xlabel(\"recall limit per session\")\n",
    "plt.ylabel(\"correct_recall, cap 21782\")\n",
    "plt.legend()\n",
    "plt.show()"
   ]
  },
  {
   "attachments": {},
   "cell_type": "markdown",
   "id": "c045df41",
   "metadata": {
    "papermill": {
     "duration": 0.014317,
     "end_time": "2023-01-31T21:26:47.942304",
     "exception": false,
     "start_time": "2023-01-31T21:26:47.927987",
     "status": "completed"
    },
    "tags": []
   },
   "source": [
    "## Save the model as artifact/txt."
   ]
  },
  {
   "cell_type": "code",
   "execution_count": 20,
   "id": "18a3ca3d",
   "metadata": {
    "execution": {
     "iopub.execute_input": "2023-01-31T21:26:47.974196Z",
     "iopub.status.busy": "2023-01-31T21:26:47.973024Z",
     "iopub.status.idle": "2023-01-31T21:26:48.030664Z",
     "shell.execute_reply": "2023-01-31T21:26:48.029367Z"
    },
    "papermill": {
     "duration": 0.077191,
     "end_time": "2023-01-31T21:26:48.033633",
     "exception": false,
     "start_time": "2023-01-31T21:26:47.956442",
     "status": "completed"
    },
    "tags": []
   },
   "outputs": [
    {
     "data": {
      "text/plain": [
       "<lightgbm.basic.Booster at 0x7fb53c555bd0>"
      ]
     },
     "execution_count": 20,
     "metadata": {},
     "output_type": "execute_result"
    }
   ],
   "source": [
    "model_name = '0_4_downsample_full_batch_read'\n",
    "ranker.booster_.save_model(f'model_cart_{model_name}.txt')"
   ]
  }
 ],
 "metadata": {
  "kernelspec": {
   "display_name": "Python 3",
   "language": "python",
   "name": "python3"
  },
  "language_info": {
   "codemirror_mode": {
    "name": "ipython",
    "version": 3
   },
   "file_extension": ".py",
   "mimetype": "text/x-python",
   "name": "python",
   "nbconvert_exporter": "python",
   "pygments_lexer": "ipython3",
   "version": "3.7.12"
  },
  "papermill": {
   "default_parameters": {},
   "duration": 2013.353971,
   "end_time": "2023-01-31T21:26:49.684626",
   "environment_variables": {},
   "exception": null,
   "input_path": "__notebook__.ipynb",
   "output_path": "__notebook__.ipynb",
   "parameters": {},
   "start_time": "2023-01-31T20:53:16.330655",
   "version": "2.3.4"
  }
 },
 "nbformat": 4,
 "nbformat_minor": 5
}
